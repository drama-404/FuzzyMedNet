{
 "cells": [
  {
   "cell_type": "code",
   "execution_count": 1,
   "metadata": {
    "collapsed": true,
    "ExecuteTime": {
     "end_time": "2023-10-26T14:28:23.133243800Z",
     "start_time": "2023-10-26T14:28:22.953465600Z"
    }
   },
   "outputs": [],
   "source": [
    "from __future__ import print_function, division\n",
    "%load_ext autoreload"
   ]
  },
  {
   "cell_type": "code",
   "execution_count": 2,
   "outputs": [],
   "source": [
    "%autoreload\n",
    "\n",
    "import copy, math, os, pickle, time, pandas as pd, numpy as np, scipy.stats as ss\n",
    "\n",
    "from sklearn.linear_model import LogisticRegression\n",
    "from sklearn.ensemble import RandomForestClassifier\n",
    "from sklearn.metrics import average_precision_score, roc_auc_score, accuracy_score, f1_score\n",
    "\n",
    "import torch, torch.utils.data as utils, torch.nn as nn, torch.nn.functional as F, torch.optim as optim\n",
    "from torch.autograd import Variable\n",
    "from torch.nn.parameter import Parameter\n",
    "\n",
    "\n",
    "from src.model.mmd_grud_utils import *\n",
    "from utils.eda_functions import (load_from_pickle, save_to_pickle)\n",
    "from config import *"
   ],
   "metadata": {
    "collapsed": false,
    "ExecuteTime": {
     "end_time": "2023-10-26T14:28:26.703141400Z",
     "start_time": "2023-10-26T14:28:24.336892400Z"
    }
   }
  },
  {
   "cell_type": "code",
   "execution_count": 3,
   "outputs": [],
   "source": [
    "BLINDED = False\n",
    "RANDOM = 0"
   ],
   "metadata": {
    "collapsed": false,
    "ExecuteTime": {
     "end_time": "2023-10-26T14:28:30.390921600Z",
     "start_time": "2023-10-26T14:28:30.359698700Z"
    }
   }
  },
  {
   "cell_type": "code",
   "execution_count": 4,
   "outputs": [],
   "source": [
    "X_train = load_from_pickle(os.path.join(DATA_DIR, 'X_train.pkl'))\n",
    "X_dev = load_from_pickle(os.path.join(DATA_DIR, 'X_dev.pkl'))\n",
    "X_test = load_from_pickle(os.path.join(DATA_DIR, 'X_test.pkl'))\n",
    "\n",
    "Ys_train = load_from_pickle(os.path.join(DATA_DIR, 'Y_train.pkl'))\n",
    "Ys_dev = load_from_pickle(os.path.join(DATA_DIR, 'Y_dev.pkl'))\n",
    "Ys_test = load_from_pickle(os.path.join(DATA_DIR, 'Y_test.pkl'))"
   ],
   "metadata": {
    "collapsed": false,
    "ExecuteTime": {
     "end_time": "2023-10-26T14:28:37.467182800Z",
     "start_time": "2023-10-26T14:28:33.501306700Z"
    }
   }
  },
  {
   "cell_type": "code",
   "execution_count": 6,
   "outputs": [
    {
     "data": {
      "text/plain": "<torch._C.Generator at 0x1784663e5b0>"
     },
     "execution_count": 6,
     "metadata": {},
     "output_type": "execute_result"
    }
   ],
   "source": [
    "GAP_TIME          = 6  # In hours\n",
    "WINDOW_SIZE       = 24 # In hours\n",
    "SEED              = 1\n",
    "ID_COLS           = ['subject_id', 'hadm_id', 'icustay_id']\n",
    "GPU               = '2'\n",
    "\n",
    "os.environ['CUDA_VISIBLE_DEVICES'] = GPU\n",
    "np.random.seed(SEED)\n",
    "torch.manual_seed(SEED)"
   ],
   "metadata": {
    "collapsed": false,
    "ExecuteTime": {
     "end_time": "2023-10-25T22:12:41.882399Z",
     "start_time": "2023-10-25T22:12:41.819870Z"
    }
   }
  },
  {
   "cell_type": "code",
   "execution_count": 7,
   "outputs": [],
   "source": [
    "class DictDist():\n",
    "    def __init__(self, dict_of_rvs): self.dict_of_rvs = dict_of_rvs\n",
    "    def rvs(self, n):\n",
    "        a = {k: v.rvs(n) for k, v in self.dict_of_rvs.items()}\n",
    "        out = []\n",
    "        for i in range(n): out.append({k: vs[i] for k, vs in a.items()})\n",
    "        return out\n",
    "\n",
    "class Choice():\n",
    "    def __init__(self, options): self.options = options\n",
    "    def rvs(self, n): return [self.options[i] for i in ss.randint(0, len(self.options)).rvs(n)]"
   ],
   "metadata": {
    "collapsed": false,
    "ExecuteTime": {
     "end_time": "2023-10-25T22:13:05.804145400Z",
     "start_time": "2023-10-25T22:13:05.772708500Z"
    }
   }
  },
  {
   "cell_type": "code",
   "execution_count": 6,
   "outputs": [
    {
     "name": "stdout",
     "output_type": "stream",
     "text": [
      "<class 'pandas.core.frame.DataFrame'>\n",
      "MultiIndex: 402240 entries, (3, 211552, 145834, 0) to (99995, 229633, 137810, 23)\n",
      "Columns: 301 entries, absolute_time to nivdurations\n",
      "dtypes: float64(267), int64(16), uint8(18)\n",
      "memory usage: 880.3 MB\n",
      "None\n",
      "Index(['absolute_time', 'albumin_mask', 'albumin_mean',\n",
      "       'albumin_time_since_measured', 'albumin ascites_mask',\n",
      "       'albumin ascites_mean', 'albumin ascites_time_since_measured',\n",
      "       'albumin pleural_mask', 'albumin pleural_mean',\n",
      "       'albumin pleural_time_since_measured',\n",
      "       ...\n",
      "       'dopamine', 'epinephrine', 'isuprel', 'milrinone', 'norepinephrine',\n",
      "       'phenylephrine', 'vasopressin', 'colloid_bolus', 'crystalloid_bolus',\n",
      "       'nivdurations'],\n",
      "      dtype='object', length=301)\n",
      "                                        absolute_time  albumin_mask  \\\n",
      "subject_id icustay_id hadm_id hours_in                                \n",
      "3          211552     145834  0                    19           1.0   \n",
      "                              1                    20           0.0   \n",
      "                              2                    21           0.0   \n",
      "                              3                    22           0.0   \n",
      "                              4                    23           0.0   \n",
      "\n",
      "                                        albumin_mean  \\\n",
      "subject_id icustay_id hadm_id hours_in                 \n",
      "3          211552     145834  0             0.170213   \n",
      "                              1             0.170213   \n",
      "                              2             0.170213   \n",
      "                              3             0.170213   \n",
      "                              4             0.170213   \n",
      "\n",
      "                                        albumin_time_since_measured  \\\n",
      "subject_id icustay_id hadm_id hours_in                                \n",
      "3          211552     145834  0                           -0.966384   \n",
      "                              1                           -0.947027   \n",
      "                              2                           -0.927670   \n",
      "                              3                           -0.908314   \n",
      "                              4                           -0.888957   \n",
      "\n",
      "                                        albumin ascites_mask  \\\n",
      "subject_id icustay_id hadm_id hours_in                         \n",
      "3          211552     145834  0                          0.0   \n",
      "                              1                          0.0   \n",
      "                              2                          0.0   \n",
      "                              3                          0.0   \n",
      "                              4                          0.0   \n",
      "\n",
      "                                        albumin ascites_mean  \\\n",
      "subject_id icustay_id hadm_id hours_in                         \n",
      "3          211552     145834  0                      0.31033   \n",
      "                              1                      0.31033   \n",
      "                              2                      0.31033   \n",
      "                              3                      0.31033   \n",
      "                              4                      0.31033   \n",
      "\n",
      "                                        albumin ascites_time_since_measured  \\\n",
      "subject_id icustay_id hadm_id hours_in                                        \n",
      "3          211552     145834  0                                   -1.186357   \n",
      "                              1                                   -1.186357   \n",
      "                              2                                   -1.186357   \n",
      "                              3                                   -1.186357   \n",
      "                              4                                   -1.186357   \n",
      "\n",
      "                                        albumin pleural_mask  \\\n",
      "subject_id icustay_id hadm_id hours_in                         \n",
      "3          211552     145834  0                          0.0   \n",
      "                              1                          0.0   \n",
      "                              2                          0.0   \n",
      "                              3                          0.0   \n",
      "                              4                          0.0   \n",
      "\n",
      "                                        albumin pleural_mean  \\\n",
      "subject_id icustay_id hadm_id hours_in                         \n",
      "3          211552     145834  0                     0.473643   \n",
      "                              1                     0.473643   \n",
      "                              2                     0.473643   \n",
      "                              3                     0.473643   \n",
      "                              4                     0.473643   \n",
      "\n",
      "                                        albumin pleural_time_since_measured  \\\n",
      "subject_id icustay_id hadm_id hours_in                                        \n",
      "3          211552     145834  0                                   -1.115815   \n",
      "                              1                                   -1.115815   \n",
      "                              2                                   -1.115815   \n",
      "                              3                                   -1.115815   \n",
      "                              4                                   -1.115815   \n",
      "\n",
      "                                        ...  dopamine  epinephrine  isuprel  \\\n",
      "subject_id icustay_id hadm_id hours_in  ...                                   \n",
      "3          211552     145834  0         ...         0            0        0   \n",
      "                              1         ...         1            0        0   \n",
      "                              2         ...         1            0        0   \n",
      "                              3         ...         0            0        0   \n",
      "                              4         ...         0            0        0   \n",
      "\n",
      "                                        milrinone  norepinephrine  \\\n",
      "subject_id icustay_id hadm_id hours_in                              \n",
      "3          211552     145834  0                 0               0   \n",
      "                              1                 0               0   \n",
      "                              2                 0               0   \n",
      "                              3                 0               0   \n",
      "                              4                 0               1   \n",
      "\n",
      "                                        phenylephrine  vasopressin  \\\n",
      "subject_id icustay_id hadm_id hours_in                               \n",
      "3          211552     145834  0                     0            0   \n",
      "                              1                     1            0   \n",
      "                              2                     1            0   \n",
      "                              3                     1            0   \n",
      "                              4                     1            0   \n",
      "\n",
      "                                        colloid_bolus  crystalloid_bolus  \\\n",
      "subject_id icustay_id hadm_id hours_in                                     \n",
      "3          211552     145834  0                     0                  0   \n",
      "                              1                     0                  0   \n",
      "                              2                     0                  0   \n",
      "                              3                     0                  0   \n",
      "                              4                     0                  0   \n",
      "\n",
      "                                        nivdurations  \n",
      "subject_id icustay_id hadm_id hours_in                \n",
      "3          211552     145834  0                    0  \n",
      "                              1                    0  \n",
      "                              2                    0  \n",
      "                              3                    0  \n",
      "                              4                    0  \n",
      "\n",
      "[5 rows x 301 columns]\n"
     ]
    }
   ],
   "source": [
    "print(X_train.info())\n",
    "print(X_train.columns)\n",
    "print(X_train.head())"
   ],
   "metadata": {
    "collapsed": false,
    "ExecuteTime": {
     "end_time": "2023-10-26T14:29:36.493162200Z",
     "start_time": "2023-10-26T14:29:36.461908200Z"
    }
   }
  },
  {
   "cell_type": "code",
   "execution_count": null,
   "outputs": [],
   "source": [],
   "metadata": {
    "collapsed": false
   }
  },
  {
   "cell_type": "code",
   "execution_count": 7,
   "outputs": [
    {
     "name": "stdout",
     "output_type": "stream",
     "text": [
      "<class 'pandas.core.frame.DataFrame'>\n",
      "MultiIndex: 16760 entries, (3, 145834, 211552) to (99995, 137810, 229633)\n",
      "Data columns (total 2 columns):\n",
      " #   Column     Non-Null Count  Dtype\n",
      "---  ------     --------------  -----\n",
      " 0   mort_hosp  16760 non-null  int64\n",
      " 1   mort_icu   16760 non-null  int64\n",
      "dtypes: int64(2)\n",
      "memory usage: 5.0 MB\n",
      "None\n",
      "Index(['mort_hosp', 'mort_icu'], dtype='object')\n",
      "                               mort_hosp  mort_icu\n",
      "subject_id hadm_id icustay_id                     \n",
      "3          145834  211552              0         0\n",
      "4          185777  294638              0         0\n",
      "6          107064  228232              0         0\n",
      "9          150750  220597              1         1\n",
      "11         194540  229441              0         0\n"
     ]
    }
   ],
   "source": [
    "print(Ys_train.info())\n",
    "print(Ys_train.columns)\n",
    "print(Ys_train.head())"
   ],
   "metadata": {
    "collapsed": false,
    "ExecuteTime": {
     "end_time": "2023-10-26T14:30:23.518013600Z",
     "start_time": "2023-10-26T14:30:23.455344900Z"
    }
   }
  },
  {
   "cell_type": "markdown",
   "source": [
    "### Task Prediction"
   ],
   "metadata": {
    "collapsed": false
   }
  },
  {
   "cell_type": "markdown",
   "source": [
    "#### Hyperparameters"
   ],
   "metadata": {
    "collapsed": false
   }
  },
  {
   "cell_type": "code",
   "execution_count": 10,
   "outputs": [
    {
     "ename": "EOFError",
     "evalue": "Ran out of input",
     "output_type": "error",
     "traceback": [
      "\u001B[1;31m---------------------------------------------------------------------------\u001B[0m",
      "\u001B[1;31mEOFError\u001B[0m                                  Traceback (most recent call last)",
      "\u001B[1;32m<ipython-input-10-4d08c982bac5>\u001B[0m in \u001B[0;36m<module>\u001B[1;34m\u001B[0m\n\u001B[0;32m     14\u001B[0m \u001B[0mGRU_D_hyperparams_list\u001B[0m \u001B[1;33m=\u001B[0m \u001B[0mGRU_D_dist\u001B[0m\u001B[1;33m.\u001B[0m\u001B[0mrvs\u001B[0m\u001B[1;33m(\u001B[0m\u001B[0mN\u001B[0m\u001B[1;33m)\u001B[0m\u001B[1;33m\u001B[0m\u001B[1;33m\u001B[0m\u001B[0m\n\u001B[0;32m     15\u001B[0m \u001B[1;33m\u001B[0m\u001B[0m\n\u001B[1;32m---> 16\u001B[1;33m \u001B[1;32mwith\u001B[0m \u001B[0mopen\u001B[0m\u001B[1;33m(\u001B[0m\u001B[1;34m'../src/model/baselines_gru-d.pkl'\u001B[0m\u001B[1;33m,\u001B[0m \u001B[0mmode\u001B[0m\u001B[1;33m=\u001B[0m\u001B[1;34m'rb'\u001B[0m\u001B[1;33m)\u001B[0m \u001B[1;32mas\u001B[0m \u001B[0mf\u001B[0m\u001B[1;33m:\u001B[0m \u001B[0mresults\u001B[0m \u001B[1;33m=\u001B[0m \u001B[0mpickle\u001B[0m\u001B[1;33m.\u001B[0m\u001B[0mload\u001B[0m\u001B[1;33m(\u001B[0m\u001B[0mf\u001B[0m\u001B[1;33m)\u001B[0m\u001B[1;33m\u001B[0m\u001B[1;33m\u001B[0m\u001B[0m\n\u001B[0m",
      "\u001B[1;31mEOFError\u001B[0m: Ran out of input"
     ]
    }
   ],
   "source": [
    "N = 10\n",
    "\n",
    "GRU_D_dist = DictDist({\n",
    "    'cell_size': ss.randint(50, 75),\n",
    "    'hidden_size': ss.randint(65, 95),\n",
    "    'learning_rate': ss.uniform(2e-3, 1e-1),\n",
    "    'num_epochs': ss.randint(15, 150),\n",
    "    'patience': ss.randint(3, 7),\n",
    "    'batch_size': ss.randint(35, 65),\n",
    "    'early_stop_frac': ss.uniform(0.05, 0.1),\n",
    "    'seed': ss.randint(1, 10000),\n",
    "})\n",
    "np.random.seed(SEED)\n",
    "GRU_D_hyperparams_list = GRU_D_dist.rvs(N)\n",
    "\n",
    "# with open('../src/model/baselines_gru-d.pkl', mode='rb') as f: results = pickle.load(f)"
   ],
   "metadata": {
    "collapsed": false,
    "ExecuteTime": {
     "end_time": "2023-10-25T22:13:52.712057Z",
     "start_time": "2023-10-25T22:13:52.712057Z"
    }
   }
  },
  {
   "cell_type": "code",
   "execution_count": 12,
   "outputs": [],
   "source": [
    "results = {}"
   ],
   "metadata": {
    "collapsed": false,
    "ExecuteTime": {
     "end_time": "2023-10-25T22:14:37.745479200Z",
     "start_time": "2023-10-25T22:14:37.728862300Z"
    }
   }
  },
  {
   "cell_type": "code",
   "execution_count": 14,
   "outputs": [
    {
     "data": {
      "text/plain": "                                        absolute_time  albumin_mask  \\\nsubject_id icustay_id hadm_id hours_in                                \n3          211552     145834  0                    19           1.0   \n                              1                    20           0.0   \n                              2                    21           0.0   \n                              3                    22           0.0   \n                              4                    23           0.0   \n...                                               ...           ...   \n99995      229633     137810  19                    8           0.0   \n                              20                    9           0.0   \n                              21                   10           0.0   \n                              22                   11           0.0   \n                              23                   12           0.0   \n\n                                        albumin_mean  \\\nsubject_id icustay_id hadm_id hours_in                 \n3          211552     145834  0             0.170213   \n                              1             0.170213   \n                              2             0.170213   \n                              3             0.170213   \n                              4             0.170213   \n...                                              ...   \n99995      229633     137810  19            0.461151   \n                              20            0.461151   \n                              21            0.461151   \n                              22            0.461151   \n                              23            0.461151   \n\n                                        albumin_time_since_measured  \\\nsubject_id icustay_id hadm_id hours_in                                \n3          211552     145834  0                           -0.966384   \n                              1                           -0.947027   \n                              2                           -0.927670   \n                              3                           -0.908314   \n                              4                           -0.888957   \n...                                                             ...   \n99995      229633     137810  19                           0.272453   \n                              20                           0.291810   \n                              21                           0.311167   \n                              22                           0.330523   \n                              23                           0.349880   \n\n                                        albumin ascites_mask  \\\nsubject_id icustay_id hadm_id hours_in                         \n3          211552     145834  0                          0.0   \n                              1                          0.0   \n                              2                          0.0   \n                              3                          0.0   \n                              4                          0.0   \n...                                                      ...   \n99995      229633     137810  19                         0.0   \n                              20                         0.0   \n                              21                         0.0   \n                              22                         0.0   \n                              23                         0.0   \n\n                                        albumin ascites_mean  \\\nsubject_id icustay_id hadm_id hours_in                         \n3          211552     145834  0                      0.31033   \n                              1                      0.31033   \n                              2                      0.31033   \n                              3                      0.31033   \n                              4                      0.31033   \n...                                                      ...   \n99995      229633     137810  19                     0.31033   \n                              20                     0.31033   \n                              21                     0.31033   \n                              22                     0.31033   \n                              23                     0.31033   \n\n                                        albumin ascites_time_since_measured  \\\nsubject_id icustay_id hadm_id hours_in                                        \n3          211552     145834  0                                   -1.186357   \n                              1                                   -1.186357   \n                              2                                   -1.186357   \n                              3                                   -1.186357   \n                              4                                   -1.186357   \n...                                                                     ...   \n99995      229633     137810  19                                   1.652568   \n                              20                                   1.652722   \n                              21                                   1.652876   \n                              22                                   1.653031   \n                              23                                   1.653185   \n\n                                        albumin pleural_mask  \\\nsubject_id icustay_id hadm_id hours_in                         \n3          211552     145834  0                          0.0   \n                              1                          0.0   \n                              2                          0.0   \n                              3                          0.0   \n                              4                          0.0   \n...                                                      ...   \n99995      229633     137810  19                         0.0   \n                              20                         0.0   \n                              21                         0.0   \n                              22                         0.0   \n                              23                         0.0   \n\n                                        albumin pleural_mean  \\\nsubject_id icustay_id hadm_id hours_in                         \n3          211552     145834  0                     0.473643   \n                              1                     0.473643   \n                              2                     0.473643   \n                              3                     0.473643   \n                              4                     0.473643   \n...                                                      ...   \n99995      229633     137810  19                    0.473643   \n                              20                    0.473643   \n                              21                    0.473643   \n                              22                    0.473643   \n                              23                    0.473643   \n\n                                        albumin pleural_time_since_measured  \\\nsubject_id icustay_id hadm_id hours_in                                        \n3          211552     145834  0                                   -1.115815   \n                              1                                   -1.115815   \n                              2                                   -1.115815   \n                              3                                   -1.115815   \n                              4                                   -1.115815   \n...                                                                     ...   \n99995      229633     137810  19                                   1.340010   \n                              20                                   1.340146   \n                              21                                   1.340282   \n                              22                                   1.340417   \n                              23                                   1.340553   \n\n                                        ...  dopamine  epinephrine  isuprel  \\\nsubject_id icustay_id hadm_id hours_in  ...                                   \n3          211552     145834  0         ...         0            0        0   \n                              1         ...         1            0        0   \n                              2         ...         1            0        0   \n                              3         ...         0            0        0   \n                              4         ...         0            0        0   \n...                                     ...       ...          ...      ...   \n99995      229633     137810  19        ...         0            0        0   \n                              20        ...         0            0        0   \n                              21        ...         0            0        0   \n                              22        ...         0            0        0   \n                              23        ...         0            0        0   \n\n                                        milrinone  norepinephrine  \\\nsubject_id icustay_id hadm_id hours_in                              \n3          211552     145834  0                 0               0   \n                              1                 0               0   \n                              2                 0               0   \n                              3                 0               0   \n                              4                 0               1   \n...                                           ...             ...   \n99995      229633     137810  19                0               0   \n                              20                0               0   \n                              21                0               0   \n                              22                0               0   \n                              23                0               0   \n\n                                        phenylephrine  vasopressin  \\\nsubject_id icustay_id hadm_id hours_in                               \n3          211552     145834  0                     0            0   \n                              1                     1            0   \n                              2                     1            0   \n                              3                     1            0   \n                              4                     1            0   \n...                                               ...          ...   \n99995      229633     137810  19                    0            0   \n                              20                    0            0   \n                              21                    0            0   \n                              22                    0            0   \n                              23                    0            0   \n\n                                        colloid_bolus  crystalloid_bolus  \\\nsubject_id icustay_id hadm_id hours_in                                     \n3          211552     145834  0                     0                  0   \n                              1                     0                  0   \n                              2                     0                  0   \n                              3                     0                  0   \n                              4                     0                  0   \n...                                               ...                ...   \n99995      229633     137810  19                    0                  0   \n                              20                    0                  0   \n                              21                    0                  0   \n                              22                    0                  0   \n                              23                    0                  0   \n\n                                        nivdurations  \nsubject_id icustay_id hadm_id hours_in                \n3          211552     145834  0                    0  \n                              1                    0  \n                              2                    0  \n                              3                    0  \n                              4                    0  \n...                                              ...  \n99995      229633     137810  19                   1  \n                              20                   1  \n                              21                   1  \n                              22                   1  \n                              23                   1  \n\n[402240 rows x 301 columns]",
      "text/html": "<div>\n<style scoped>\n    .dataframe tbody tr th:only-of-type {\n        vertical-align: middle;\n    }\n\n    .dataframe tbody tr th {\n        vertical-align: top;\n    }\n\n    .dataframe thead th {\n        text-align: right;\n    }\n</style>\n<table border=\"1\" class=\"dataframe\">\n  <thead>\n    <tr style=\"text-align: right;\">\n      <th></th>\n      <th></th>\n      <th></th>\n      <th></th>\n      <th>absolute_time</th>\n      <th>albumin_mask</th>\n      <th>albumin_mean</th>\n      <th>albumin_time_since_measured</th>\n      <th>albumin ascites_mask</th>\n      <th>albumin ascites_mean</th>\n      <th>albumin ascites_time_since_measured</th>\n      <th>albumin pleural_mask</th>\n      <th>albumin pleural_mean</th>\n      <th>albumin pleural_time_since_measured</th>\n      <th>...</th>\n      <th>dopamine</th>\n      <th>epinephrine</th>\n      <th>isuprel</th>\n      <th>milrinone</th>\n      <th>norepinephrine</th>\n      <th>phenylephrine</th>\n      <th>vasopressin</th>\n      <th>colloid_bolus</th>\n      <th>crystalloid_bolus</th>\n      <th>nivdurations</th>\n    </tr>\n    <tr>\n      <th>subject_id</th>\n      <th>icustay_id</th>\n      <th>hadm_id</th>\n      <th>hours_in</th>\n      <th></th>\n      <th></th>\n      <th></th>\n      <th></th>\n      <th></th>\n      <th></th>\n      <th></th>\n      <th></th>\n      <th></th>\n      <th></th>\n      <th></th>\n      <th></th>\n      <th></th>\n      <th></th>\n      <th></th>\n      <th></th>\n      <th></th>\n      <th></th>\n      <th></th>\n      <th></th>\n      <th></th>\n    </tr>\n  </thead>\n  <tbody>\n    <tr>\n      <th rowspan=\"5\" valign=\"top\">3</th>\n      <th rowspan=\"5\" valign=\"top\">211552</th>\n      <th rowspan=\"5\" valign=\"top\">145834</th>\n      <th>0</th>\n      <td>19</td>\n      <td>1.0</td>\n      <td>0.170213</td>\n      <td>-0.966384</td>\n      <td>0.0</td>\n      <td>0.31033</td>\n      <td>-1.186357</td>\n      <td>0.0</td>\n      <td>0.473643</td>\n      <td>-1.115815</td>\n      <td>...</td>\n      <td>0</td>\n      <td>0</td>\n      <td>0</td>\n      <td>0</td>\n      <td>0</td>\n      <td>0</td>\n      <td>0</td>\n      <td>0</td>\n      <td>0</td>\n      <td>0</td>\n    </tr>\n    <tr>\n      <th>1</th>\n      <td>20</td>\n      <td>0.0</td>\n      <td>0.170213</td>\n      <td>-0.947027</td>\n      <td>0.0</td>\n      <td>0.31033</td>\n      <td>-1.186357</td>\n      <td>0.0</td>\n      <td>0.473643</td>\n      <td>-1.115815</td>\n      <td>...</td>\n      <td>1</td>\n      <td>0</td>\n      <td>0</td>\n      <td>0</td>\n      <td>0</td>\n      <td>1</td>\n      <td>0</td>\n      <td>0</td>\n      <td>0</td>\n      <td>0</td>\n    </tr>\n    <tr>\n      <th>2</th>\n      <td>21</td>\n      <td>0.0</td>\n      <td>0.170213</td>\n      <td>-0.927670</td>\n      <td>0.0</td>\n      <td>0.31033</td>\n      <td>-1.186357</td>\n      <td>0.0</td>\n      <td>0.473643</td>\n      <td>-1.115815</td>\n      <td>...</td>\n      <td>1</td>\n      <td>0</td>\n      <td>0</td>\n      <td>0</td>\n      <td>0</td>\n      <td>1</td>\n      <td>0</td>\n      <td>0</td>\n      <td>0</td>\n      <td>0</td>\n    </tr>\n    <tr>\n      <th>3</th>\n      <td>22</td>\n      <td>0.0</td>\n      <td>0.170213</td>\n      <td>-0.908314</td>\n      <td>0.0</td>\n      <td>0.31033</td>\n      <td>-1.186357</td>\n      <td>0.0</td>\n      <td>0.473643</td>\n      <td>-1.115815</td>\n      <td>...</td>\n      <td>0</td>\n      <td>0</td>\n      <td>0</td>\n      <td>0</td>\n      <td>0</td>\n      <td>1</td>\n      <td>0</td>\n      <td>0</td>\n      <td>0</td>\n      <td>0</td>\n    </tr>\n    <tr>\n      <th>4</th>\n      <td>23</td>\n      <td>0.0</td>\n      <td>0.170213</td>\n      <td>-0.888957</td>\n      <td>0.0</td>\n      <td>0.31033</td>\n      <td>-1.186357</td>\n      <td>0.0</td>\n      <td>0.473643</td>\n      <td>-1.115815</td>\n      <td>...</td>\n      <td>0</td>\n      <td>0</td>\n      <td>0</td>\n      <td>0</td>\n      <td>1</td>\n      <td>1</td>\n      <td>0</td>\n      <td>0</td>\n      <td>0</td>\n      <td>0</td>\n    </tr>\n    <tr>\n      <th>...</th>\n      <th>...</th>\n      <th>...</th>\n      <th>...</th>\n      <td>...</td>\n      <td>...</td>\n      <td>...</td>\n      <td>...</td>\n      <td>...</td>\n      <td>...</td>\n      <td>...</td>\n      <td>...</td>\n      <td>...</td>\n      <td>...</td>\n      <td>...</td>\n      <td>...</td>\n      <td>...</td>\n      <td>...</td>\n      <td>...</td>\n      <td>...</td>\n      <td>...</td>\n      <td>...</td>\n      <td>...</td>\n      <td>...</td>\n      <td>...</td>\n    </tr>\n    <tr>\n      <th rowspan=\"5\" valign=\"top\">99995</th>\n      <th rowspan=\"5\" valign=\"top\">229633</th>\n      <th rowspan=\"5\" valign=\"top\">137810</th>\n      <th>19</th>\n      <td>8</td>\n      <td>0.0</td>\n      <td>0.461151</td>\n      <td>0.272453</td>\n      <td>0.0</td>\n      <td>0.31033</td>\n      <td>1.652568</td>\n      <td>0.0</td>\n      <td>0.473643</td>\n      <td>1.340010</td>\n      <td>...</td>\n      <td>0</td>\n      <td>0</td>\n      <td>0</td>\n      <td>0</td>\n      <td>0</td>\n      <td>0</td>\n      <td>0</td>\n      <td>0</td>\n      <td>0</td>\n      <td>1</td>\n    </tr>\n    <tr>\n      <th>20</th>\n      <td>9</td>\n      <td>0.0</td>\n      <td>0.461151</td>\n      <td>0.291810</td>\n      <td>0.0</td>\n      <td>0.31033</td>\n      <td>1.652722</td>\n      <td>0.0</td>\n      <td>0.473643</td>\n      <td>1.340146</td>\n      <td>...</td>\n      <td>0</td>\n      <td>0</td>\n      <td>0</td>\n      <td>0</td>\n      <td>0</td>\n      <td>0</td>\n      <td>0</td>\n      <td>0</td>\n      <td>0</td>\n      <td>1</td>\n    </tr>\n    <tr>\n      <th>21</th>\n      <td>10</td>\n      <td>0.0</td>\n      <td>0.461151</td>\n      <td>0.311167</td>\n      <td>0.0</td>\n      <td>0.31033</td>\n      <td>1.652876</td>\n      <td>0.0</td>\n      <td>0.473643</td>\n      <td>1.340282</td>\n      <td>...</td>\n      <td>0</td>\n      <td>0</td>\n      <td>0</td>\n      <td>0</td>\n      <td>0</td>\n      <td>0</td>\n      <td>0</td>\n      <td>0</td>\n      <td>0</td>\n      <td>1</td>\n    </tr>\n    <tr>\n      <th>22</th>\n      <td>11</td>\n      <td>0.0</td>\n      <td>0.461151</td>\n      <td>0.330523</td>\n      <td>0.0</td>\n      <td>0.31033</td>\n      <td>1.653031</td>\n      <td>0.0</td>\n      <td>0.473643</td>\n      <td>1.340417</td>\n      <td>...</td>\n      <td>0</td>\n      <td>0</td>\n      <td>0</td>\n      <td>0</td>\n      <td>0</td>\n      <td>0</td>\n      <td>0</td>\n      <td>0</td>\n      <td>0</td>\n      <td>1</td>\n    </tr>\n    <tr>\n      <th>23</th>\n      <td>12</td>\n      <td>0.0</td>\n      <td>0.461151</td>\n      <td>0.349880</td>\n      <td>0.0</td>\n      <td>0.31033</td>\n      <td>1.653185</td>\n      <td>0.0</td>\n      <td>0.473643</td>\n      <td>1.340553</td>\n      <td>...</td>\n      <td>0</td>\n      <td>0</td>\n      <td>0</td>\n      <td>0</td>\n      <td>0</td>\n      <td>0</td>\n      <td>0</td>\n      <td>0</td>\n      <td>0</td>\n      <td>1</td>\n    </tr>\n  </tbody>\n</table>\n<p>402240 rows × 301 columns</p>\n</div>"
     },
     "execution_count": 14,
     "metadata": {},
     "output_type": "execute_result"
    }
   ],
   "source": [
    "X_train"
   ],
   "metadata": {
    "collapsed": false,
    "ExecuteTime": {
     "end_time": "2023-10-25T22:15:59.186534200Z",
     "start_time": "2023-10-25T22:15:58.889598Z"
    }
   }
  },
  {
   "cell_type": "markdown",
   "source": [
    "#### GRU-D"
   ],
   "metadata": {
    "collapsed": false
   }
  },
  {
   "cell_type": "code",
   "execution_count": 13,
   "outputs": [
    {
     "name": "stdout",
     "output_type": "stream",
     "text": [
      "Running model GRU-D on target mort_hosp with representation full_X\n"
     ]
    },
    {
     "ename": "TypeError",
     "evalue": "unhashable type: 'slice'",
     "output_type": "error",
     "traceback": [
      "\u001B[1;31m---------------------------------------------------------------------------\u001B[0m",
      "\u001B[1;31mTypeError\u001B[0m                                 Traceback (most recent call last)",
      "\u001B[1;32m<ipython-input-13-80e421582349>\u001B[0m in \u001B[0;36m<module>\u001B[1;34m\u001B[0m\n\u001B[0;32m     12\u001B[0m         X_mean = np.nanmean(\n\u001B[0;32m     13\u001B[0m             to_3D_tensor(\n\u001B[1;32m---> 14\u001B[1;33m                 \u001B[0mX_train\u001B[0m\u001B[1;33m.\u001B[0m\u001B[0mloc\u001B[0m\u001B[1;33m[\u001B[0m\u001B[1;33m:\u001B[0m\u001B[1;33m,\u001B[0m \u001B[0mpd\u001B[0m\u001B[1;33m.\u001B[0m\u001B[0mIndexSlice\u001B[0m\u001B[1;33m[\u001B[0m\u001B[1;33m:\u001B[0m\u001B[1;33m,\u001B[0m \u001B[1;34m'mean'\u001B[0m\u001B[1;33m]\u001B[0m\u001B[1;33m]\u001B[0m \u001B[1;33m*\u001B[0m\u001B[1;33m\u001B[0m\u001B[1;33m\u001B[0m\u001B[0m\n\u001B[0m\u001B[0;32m     15\u001B[0m                 \u001B[0mnp\u001B[0m\u001B[1;33m.\u001B[0m\u001B[0mwhere\u001B[0m\u001B[1;33m(\u001B[0m\u001B[1;33m(\u001B[0m\u001B[0mX_train\u001B[0m\u001B[1;33m.\u001B[0m\u001B[0mloc\u001B[0m\u001B[1;33m[\u001B[0m\u001B[1;33m:\u001B[0m\u001B[1;33m,\u001B[0m \u001B[0mpd\u001B[0m\u001B[1;33m.\u001B[0m\u001B[0mIndexSlice\u001B[0m\u001B[1;33m[\u001B[0m\u001B[1;33m:\u001B[0m\u001B[1;33m,\u001B[0m \u001B[1;34m'mask'\u001B[0m\u001B[1;33m]\u001B[0m\u001B[1;33m]\u001B[0m \u001B[1;33m==\u001B[0m \u001B[1;36m1\u001B[0m\u001B[1;33m)\u001B[0m\u001B[1;33m.\u001B[0m\u001B[0mvalues\u001B[0m\u001B[1;33m,\u001B[0m \u001B[1;36m1\u001B[0m\u001B[1;33m,\u001B[0m \u001B[0mnp\u001B[0m\u001B[1;33m.\u001B[0m\u001B[0mNaN\u001B[0m\u001B[1;33m)\u001B[0m\u001B[1;33m\u001B[0m\u001B[1;33m\u001B[0m\u001B[0m\n\u001B[0;32m     16\u001B[0m             ),\n",
      "\u001B[1;32m~\\anaconda3\\envs\\mimic_data_extraction\\lib\\site-packages\\pandas\\core\\indexing.py\u001B[0m in \u001B[0;36m__getitem__\u001B[1;34m(self, key)\u001B[0m\n\u001B[0;32m    871\u001B[0m                     \u001B[1;31m# AttributeError for IntervalTree get_value\u001B[0m\u001B[1;33m\u001B[0m\u001B[1;33m\u001B[0m\u001B[1;33m\u001B[0m\u001B[0m\n\u001B[0;32m    872\u001B[0m                     \u001B[1;32mpass\u001B[0m\u001B[1;33m\u001B[0m\u001B[1;33m\u001B[0m\u001B[0m\n\u001B[1;32m--> 873\u001B[1;33m             \u001B[1;32mreturn\u001B[0m \u001B[0mself\u001B[0m\u001B[1;33m.\u001B[0m\u001B[0m_getitem_tuple\u001B[0m\u001B[1;33m(\u001B[0m\u001B[0mkey\u001B[0m\u001B[1;33m)\u001B[0m\u001B[1;33m\u001B[0m\u001B[1;33m\u001B[0m\u001B[0m\n\u001B[0m\u001B[0;32m    874\u001B[0m         \u001B[1;32melse\u001B[0m\u001B[1;33m:\u001B[0m\u001B[1;33m\u001B[0m\u001B[1;33m\u001B[0m\u001B[0m\n\u001B[0;32m    875\u001B[0m             \u001B[1;31m# we by definition only have the 0th axis\u001B[0m\u001B[1;33m\u001B[0m\u001B[1;33m\u001B[0m\u001B[1;33m\u001B[0m\u001B[0m\n",
      "\u001B[1;32m~\\anaconda3\\envs\\mimic_data_extraction\\lib\\site-packages\\pandas\\core\\indexing.py\u001B[0m in \u001B[0;36m_getitem_tuple\u001B[1;34m(self, tup)\u001B[0m\n\u001B[0;32m   1042\u001B[0m     \u001B[1;32mdef\u001B[0m \u001B[0m_getitem_tuple\u001B[0m\u001B[1;33m(\u001B[0m\u001B[0mself\u001B[0m\u001B[1;33m,\u001B[0m \u001B[0mtup\u001B[0m\u001B[1;33m:\u001B[0m \u001B[0mTuple\u001B[0m\u001B[1;33m)\u001B[0m\u001B[1;33m:\u001B[0m\u001B[1;33m\u001B[0m\u001B[1;33m\u001B[0m\u001B[0m\n\u001B[0;32m   1043\u001B[0m         \u001B[1;32mtry\u001B[0m\u001B[1;33m:\u001B[0m\u001B[1;33m\u001B[0m\u001B[1;33m\u001B[0m\u001B[0m\n\u001B[1;32m-> 1044\u001B[1;33m             \u001B[1;32mreturn\u001B[0m \u001B[0mself\u001B[0m\u001B[1;33m.\u001B[0m\u001B[0m_getitem_lowerdim\u001B[0m\u001B[1;33m(\u001B[0m\u001B[0mtup\u001B[0m\u001B[1;33m)\u001B[0m\u001B[1;33m\u001B[0m\u001B[1;33m\u001B[0m\u001B[0m\n\u001B[0m\u001B[0;32m   1045\u001B[0m         \u001B[1;32mexcept\u001B[0m \u001B[0mIndexingError\u001B[0m\u001B[1;33m:\u001B[0m\u001B[1;33m\u001B[0m\u001B[1;33m\u001B[0m\u001B[0m\n\u001B[0;32m   1046\u001B[0m             \u001B[1;32mpass\u001B[0m\u001B[1;33m\u001B[0m\u001B[1;33m\u001B[0m\u001B[0m\n",
      "\u001B[1;32m~\\anaconda3\\envs\\mimic_data_extraction\\lib\\site-packages\\pandas\\core\\indexing.py\u001B[0m in \u001B[0;36m_getitem_lowerdim\u001B[1;34m(self, tup)\u001B[0m\n\u001B[0;32m    764\u001B[0m         \u001B[1;31m# we may have a nested tuples indexer here\u001B[0m\u001B[1;33m\u001B[0m\u001B[1;33m\u001B[0m\u001B[1;33m\u001B[0m\u001B[0m\n\u001B[0;32m    765\u001B[0m         \u001B[1;32mif\u001B[0m \u001B[0mself\u001B[0m\u001B[1;33m.\u001B[0m\u001B[0m_is_nested_tuple_indexer\u001B[0m\u001B[1;33m(\u001B[0m\u001B[0mtup\u001B[0m\u001B[1;33m)\u001B[0m\u001B[1;33m:\u001B[0m\u001B[1;33m\u001B[0m\u001B[1;33m\u001B[0m\u001B[0m\n\u001B[1;32m--> 766\u001B[1;33m             \u001B[1;32mreturn\u001B[0m \u001B[0mself\u001B[0m\u001B[1;33m.\u001B[0m\u001B[0m_getitem_nested_tuple\u001B[0m\u001B[1;33m(\u001B[0m\u001B[0mtup\u001B[0m\u001B[1;33m)\u001B[0m\u001B[1;33m\u001B[0m\u001B[1;33m\u001B[0m\u001B[0m\n\u001B[0m\u001B[0;32m    767\u001B[0m \u001B[1;33m\u001B[0m\u001B[0m\n\u001B[0;32m    768\u001B[0m         \u001B[1;31m# we maybe be using a tuple to represent multiple dimensions here\u001B[0m\u001B[1;33m\u001B[0m\u001B[1;33m\u001B[0m\u001B[1;33m\u001B[0m\u001B[0m\n",
      "\u001B[1;32m~\\anaconda3\\envs\\mimic_data_extraction\\lib\\site-packages\\pandas\\core\\indexing.py\u001B[0m in \u001B[0;36m_getitem_nested_tuple\u001B[1;34m(self, tup)\u001B[0m\n\u001B[0;32m    845\u001B[0m \u001B[1;33m\u001B[0m\u001B[0m\n\u001B[0;32m    846\u001B[0m             \u001B[0mcurrent_ndim\u001B[0m \u001B[1;33m=\u001B[0m \u001B[0mobj\u001B[0m\u001B[1;33m.\u001B[0m\u001B[0mndim\u001B[0m\u001B[1;33m\u001B[0m\u001B[1;33m\u001B[0m\u001B[0m\n\u001B[1;32m--> 847\u001B[1;33m             \u001B[0mobj\u001B[0m \u001B[1;33m=\u001B[0m \u001B[0mgetattr\u001B[0m\u001B[1;33m(\u001B[0m\u001B[0mobj\u001B[0m\u001B[1;33m,\u001B[0m \u001B[0mself\u001B[0m\u001B[1;33m.\u001B[0m\u001B[0mname\u001B[0m\u001B[1;33m)\u001B[0m\u001B[1;33m.\u001B[0m\u001B[0m_getitem_axis\u001B[0m\u001B[1;33m(\u001B[0m\u001B[0mkey\u001B[0m\u001B[1;33m,\u001B[0m \u001B[0maxis\u001B[0m\u001B[1;33m=\u001B[0m\u001B[0maxis\u001B[0m\u001B[1;33m)\u001B[0m\u001B[1;33m\u001B[0m\u001B[1;33m\u001B[0m\u001B[0m\n\u001B[0m\u001B[0;32m    848\u001B[0m             \u001B[0maxis\u001B[0m \u001B[1;33m+=\u001B[0m \u001B[1;36m1\u001B[0m\u001B[1;33m\u001B[0m\u001B[1;33m\u001B[0m\u001B[0m\n\u001B[0;32m    849\u001B[0m \u001B[1;33m\u001B[0m\u001B[0m\n",
      "\u001B[1;32m~\\anaconda3\\envs\\mimic_data_extraction\\lib\\site-packages\\pandas\\core\\indexing.py\u001B[0m in \u001B[0;36m_getitem_axis\u001B[1;34m(self, key, axis)\u001B[0m\n\u001B[0;32m   1097\u001B[0m                     \u001B[1;32mraise\u001B[0m \u001B[0mValueError\u001B[0m\u001B[1;33m(\u001B[0m\u001B[1;34m\"Cannot index with multidimensional key\"\u001B[0m\u001B[1;33m)\u001B[0m\u001B[1;33m\u001B[0m\u001B[1;33m\u001B[0m\u001B[0m\n\u001B[0;32m   1098\u001B[0m \u001B[1;33m\u001B[0m\u001B[0m\n\u001B[1;32m-> 1099\u001B[1;33m                 \u001B[1;32mreturn\u001B[0m \u001B[0mself\u001B[0m\u001B[1;33m.\u001B[0m\u001B[0m_getitem_iterable\u001B[0m\u001B[1;33m(\u001B[0m\u001B[0mkey\u001B[0m\u001B[1;33m,\u001B[0m \u001B[0maxis\u001B[0m\u001B[1;33m=\u001B[0m\u001B[0maxis\u001B[0m\u001B[1;33m)\u001B[0m\u001B[1;33m\u001B[0m\u001B[1;33m\u001B[0m\u001B[0m\n\u001B[0m\u001B[0;32m   1100\u001B[0m \u001B[1;33m\u001B[0m\u001B[0m\n\u001B[0;32m   1101\u001B[0m             \u001B[1;31m# nested tuple slicing\u001B[0m\u001B[1;33m\u001B[0m\u001B[1;33m\u001B[0m\u001B[1;33m\u001B[0m\u001B[0m\n",
      "\u001B[1;32m~\\anaconda3\\envs\\mimic_data_extraction\\lib\\site-packages\\pandas\\core\\indexing.py\u001B[0m in \u001B[0;36m_getitem_iterable\u001B[1;34m(self, key, axis)\u001B[0m\n\u001B[0;32m   1035\u001B[0m \u001B[1;33m\u001B[0m\u001B[0m\n\u001B[0;32m   1036\u001B[0m         \u001B[1;31m# A collection of keys\u001B[0m\u001B[1;33m\u001B[0m\u001B[1;33m\u001B[0m\u001B[1;33m\u001B[0m\u001B[0m\n\u001B[1;32m-> 1037\u001B[1;33m         \u001B[0mkeyarr\u001B[0m\u001B[1;33m,\u001B[0m \u001B[0mindexer\u001B[0m \u001B[1;33m=\u001B[0m \u001B[0mself\u001B[0m\u001B[1;33m.\u001B[0m\u001B[0m_get_listlike_indexer\u001B[0m\u001B[1;33m(\u001B[0m\u001B[0mkey\u001B[0m\u001B[1;33m,\u001B[0m \u001B[0maxis\u001B[0m\u001B[1;33m,\u001B[0m \u001B[0mraise_missing\u001B[0m\u001B[1;33m=\u001B[0m\u001B[1;32mFalse\u001B[0m\u001B[1;33m)\u001B[0m\u001B[1;33m\u001B[0m\u001B[1;33m\u001B[0m\u001B[0m\n\u001B[0m\u001B[0;32m   1038\u001B[0m         return self.obj._reindex_with_indexers(\n\u001B[0;32m   1039\u001B[0m             \u001B[1;33m{\u001B[0m\u001B[0maxis\u001B[0m\u001B[1;33m:\u001B[0m \u001B[1;33m[\u001B[0m\u001B[0mkeyarr\u001B[0m\u001B[1;33m,\u001B[0m \u001B[0mindexer\u001B[0m\u001B[1;33m]\u001B[0m\u001B[1;33m}\u001B[0m\u001B[1;33m,\u001B[0m \u001B[0mcopy\u001B[0m\u001B[1;33m=\u001B[0m\u001B[1;32mTrue\u001B[0m\u001B[1;33m,\u001B[0m \u001B[0mallow_dups\u001B[0m\u001B[1;33m=\u001B[0m\u001B[1;32mTrue\u001B[0m\u001B[1;33m\u001B[0m\u001B[1;33m\u001B[0m\u001B[0m\n",
      "\u001B[1;32m~\\anaconda3\\envs\\mimic_data_extraction\\lib\\site-packages\\pandas\\core\\indexing.py\u001B[0m in \u001B[0;36m_get_listlike_indexer\u001B[1;34m(self, key, axis, raise_missing)\u001B[0m\n\u001B[0;32m   1247\u001B[0m \u001B[1;33m\u001B[0m\u001B[0m\n\u001B[0;32m   1248\u001B[0m         \u001B[1;32mif\u001B[0m \u001B[0max\u001B[0m\u001B[1;33m.\u001B[0m\u001B[0mis_unique\u001B[0m \u001B[1;32mand\u001B[0m \u001B[1;32mnot\u001B[0m \u001B[0mgetattr\u001B[0m\u001B[1;33m(\u001B[0m\u001B[0max\u001B[0m\u001B[1;33m,\u001B[0m \u001B[1;34m\"is_overlapping\"\u001B[0m\u001B[1;33m,\u001B[0m \u001B[1;32mFalse\u001B[0m\u001B[1;33m)\u001B[0m\u001B[1;33m:\u001B[0m\u001B[1;33m\u001B[0m\u001B[1;33m\u001B[0m\u001B[0m\n\u001B[1;32m-> 1249\u001B[1;33m             \u001B[0mindexer\u001B[0m \u001B[1;33m=\u001B[0m \u001B[0max\u001B[0m\u001B[1;33m.\u001B[0m\u001B[0mget_indexer_for\u001B[0m\u001B[1;33m(\u001B[0m\u001B[0mkeyarr\u001B[0m\u001B[1;33m)\u001B[0m\u001B[1;33m\u001B[0m\u001B[1;33m\u001B[0m\u001B[0m\n\u001B[0m\u001B[0;32m   1250\u001B[0m             \u001B[0mkeyarr\u001B[0m \u001B[1;33m=\u001B[0m \u001B[0max\u001B[0m\u001B[1;33m.\u001B[0m\u001B[0mreindex\u001B[0m\u001B[1;33m(\u001B[0m\u001B[0mkeyarr\u001B[0m\u001B[1;33m)\u001B[0m\u001B[1;33m[\u001B[0m\u001B[1;36m0\u001B[0m\u001B[1;33m]\u001B[0m\u001B[1;33m\u001B[0m\u001B[1;33m\u001B[0m\u001B[0m\n\u001B[0;32m   1251\u001B[0m         \u001B[1;32melse\u001B[0m\u001B[1;33m:\u001B[0m\u001B[1;33m\u001B[0m\u001B[1;33m\u001B[0m\u001B[0m\n",
      "\u001B[1;32m~\\anaconda3\\envs\\mimic_data_extraction\\lib\\site-packages\\pandas\\core\\indexes\\base.py\u001B[0m in \u001B[0;36mget_indexer_for\u001B[1;34m(self, target, **kwargs)\u001B[0m\n\u001B[0;32m   4714\u001B[0m         \"\"\"\n\u001B[0;32m   4715\u001B[0m         \u001B[1;32mif\u001B[0m \u001B[0mself\u001B[0m\u001B[1;33m.\u001B[0m\u001B[0mis_unique\u001B[0m\u001B[1;33m:\u001B[0m\u001B[1;33m\u001B[0m\u001B[1;33m\u001B[0m\u001B[0m\n\u001B[1;32m-> 4716\u001B[1;33m             \u001B[1;32mreturn\u001B[0m \u001B[0mself\u001B[0m\u001B[1;33m.\u001B[0m\u001B[0mget_indexer\u001B[0m\u001B[1;33m(\u001B[0m\u001B[0mtarget\u001B[0m\u001B[1;33m,\u001B[0m \u001B[1;33m**\u001B[0m\u001B[0mkwargs\u001B[0m\u001B[1;33m)\u001B[0m\u001B[1;33m\u001B[0m\u001B[1;33m\u001B[0m\u001B[0m\n\u001B[0m\u001B[0;32m   4717\u001B[0m         \u001B[0mindexer\u001B[0m\u001B[1;33m,\u001B[0m \u001B[0m_\u001B[0m \u001B[1;33m=\u001B[0m \u001B[0mself\u001B[0m\u001B[1;33m.\u001B[0m\u001B[0mget_indexer_non_unique\u001B[0m\u001B[1;33m(\u001B[0m\u001B[0mtarget\u001B[0m\u001B[1;33m,\u001B[0m \u001B[1;33m**\u001B[0m\u001B[0mkwargs\u001B[0m\u001B[1;33m)\u001B[0m\u001B[1;33m\u001B[0m\u001B[1;33m\u001B[0m\u001B[0m\n\u001B[0;32m   4718\u001B[0m         \u001B[1;32mreturn\u001B[0m \u001B[0mindexer\u001B[0m\u001B[1;33m\u001B[0m\u001B[1;33m\u001B[0m\u001B[0m\n",
      "\u001B[1;32m~\\anaconda3\\envs\\mimic_data_extraction\\lib\\site-packages\\pandas\\core\\indexes\\base.py\u001B[0m in \u001B[0;36mget_indexer\u001B[1;34m(self, target, method, limit, tolerance)\u001B[0m\n\u001B[0;32m   3007\u001B[0m                 )\n\u001B[0;32m   3008\u001B[0m \u001B[1;33m\u001B[0m\u001B[0m\n\u001B[1;32m-> 3009\u001B[1;33m             \u001B[0mindexer\u001B[0m \u001B[1;33m=\u001B[0m \u001B[0mself\u001B[0m\u001B[1;33m.\u001B[0m\u001B[0m_engine\u001B[0m\u001B[1;33m.\u001B[0m\u001B[0mget_indexer\u001B[0m\u001B[1;33m(\u001B[0m\u001B[0mtarget\u001B[0m\u001B[1;33m.\u001B[0m\u001B[0m_get_engine_target\u001B[0m\u001B[1;33m(\u001B[0m\u001B[1;33m)\u001B[0m\u001B[1;33m)\u001B[0m\u001B[1;33m\u001B[0m\u001B[1;33m\u001B[0m\u001B[0m\n\u001B[0m\u001B[0;32m   3010\u001B[0m \u001B[1;33m\u001B[0m\u001B[0m\n\u001B[0;32m   3011\u001B[0m         \u001B[1;32mreturn\u001B[0m \u001B[0mensure_platform_int\u001B[0m\u001B[1;33m(\u001B[0m\u001B[0mindexer\u001B[0m\u001B[1;33m)\u001B[0m\u001B[1;33m\u001B[0m\u001B[1;33m\u001B[0m\u001B[0m\n",
      "\u001B[1;32mpandas\\_libs\\index.pyx\u001B[0m in \u001B[0;36mpandas._libs.index.IndexEngine.get_indexer\u001B[1;34m()\u001B[0m\n",
      "\u001B[1;32mpandas\\_libs\\hashtable_class_helper.pxi\u001B[0m in \u001B[0;36mpandas._libs.hashtable.PyObjectHashTable.lookup\u001B[1;34m()\u001B[0m\n",
      "\u001B[1;31mTypeError\u001B[0m: unhashable type: 'slice'"
     ]
    }
   ],
   "source": [
    "model_name       = 'GRU-D'\n",
    "tasks             = ['mort_hosp', 'mort_icu']\n",
    "hyperparams_list = GRU_D_hyperparams_list\n",
    "RERUN            = False\n",
    "\n",
    "if model_name not in results: results[model_name] = {}\n",
    "\n",
    "for t in tasks:\n",
    "    if t not in results[model_name]: results[model_name][t] = {}\n",
    "    for n, X_train, X_dev, X_test in (('full_X', X_train, X_dev, X_test),):\n",
    "        print(\"Running model %s on target %s with representation %s\" % (model_name, t, n))\n",
    "        X_mean = np.nanmean(\n",
    "            to_3D_tensor(\n",
    "                X_train.loc[:, pd.IndexSlice[:, 'mean']] *\n",
    "                np.where((X_train.loc[:, pd.IndexSlice[:, 'mask']] == 1).values, 1, np.NaN)\n",
    "            ),\n",
    "            axis=0, keepdims=True\n",
    "        ).transpose([0, 2, 1])\n",
    "        base_params = {'X_mean': X_mean, 'output_last': True, 'input_size': X_mean.shape[2]}\n",
    "\n",
    "        if n in results[model_name][t]:\n",
    "            if not RERUN:\n",
    "                print(\"Final results for model %s on target %s with representation %s\" % (model_name, t, n))\n",
    "                print(results[model_name][t][n])\n",
    "                continue\n",
    "            best_s, best_hyperparams = results[model_name][t][n][-1], results[model_name][t][n][1]\n",
    "            print(\"Loading best hyperparams\", best_hyperparams)\n",
    "        else:\n",
    "            best_s, best_hyperparams = -np.Inf, None\n",
    "            for i, hyperparams in enumerate(hyperparams_list):\n",
    "                print(\"On sample %d / %d (hyperparams = %s)\" % (i+1, len(hyperparams_list), repr((hyperparams))))\n",
    "\n",
    "                early_stop_frac,batch_size,seed = [hyperparams[k] for k in ('early_stop_frac','batch_size','seed')]\n",
    "\n",
    "                np.random.seed(seed)\n",
    "                all_train_subjects = list(\n",
    "                    np.random.permutation(Ys_train.index.get_level_values('subject_id').values)\n",
    "                )\n",
    "                N_early_stop        = int(len(all_train_subjects) * early_stop_frac)\n",
    "                train_subjects      = all_train_subjects[:-N_early_stop]\n",
    "                early_stop_subjects = all_train_subjects[-N_early_stop:]\n",
    "                X_train_obs         = X_train[X_train.index.get_level_values('subject_id').isin(train_subjects)]\n",
    "                Ys_train_obs        = Ys_train[Ys_train.index.get_level_values('subject_id').isin(train_subjects)]\n",
    "\n",
    "                X_train_early_stop  = X_train[X_train.index.get_level_values('subject_id').isin(early_stop_subjects)]\n",
    "                Ys_train_early_stop = Ys_train[\n",
    "                    Ys_train.index.get_level_values('subject_id').isin(early_stop_subjects)\n",
    "                ]\n",
    "\n",
    "                train_dataloader      = prepare_dataloader(X_train_obs, Ys_train_obs[t], batch_size=batch_size)\n",
    "                early_stop_dataloader = prepare_dataloader(\n",
    "                    X_train_early_stop, Ys_train_early_stop[t], batch_size=batch_size\n",
    "                )\n",
    "                dev_dataloader        = prepare_dataloader(X_dev, Ys_dev[t], batch_size=batch_size)\n",
    "                test_dataloader       = prepare_dataloader(X_test, Ys_test[t], batch_size=batch_size)\n",
    "\n",
    "                model_hyperparams = copy.copy(base_params)\n",
    "                model_hyperparams.update(\n",
    "                    {k: v for k, v in hyperparams.items() if k in ('cell_size', 'hidden_size', 'batch_size')}\n",
    "                )\n",
    "                model = GRUD(**model_hyperparams)\n",
    "\n",
    "                best_model, _ = Train_Model(\n",
    "                    model, train_dataloader, early_stop_dataloader,\n",
    "                    **{k: v for k, v in hyperparams.items() if k in (\n",
    "                        'num_epochs', 'patience', 'learning_rate', 'batch_size'\n",
    "                    )}\n",
    "                )\n",
    "\n",
    "                probabilities_dev, labels_dev = predict_proba(best_model, dev_dataloader)\n",
    "                probabilities_dev = np.concatenate(probabilities_dev)[:, 1]\n",
    "                labels_dev        = np.concatenate(labels_dev)\n",
    "                s = roc_auc_score(labels_dev, probabilities_dev)\n",
    "                if s > best_s:\n",
    "                    best_s, best_hyperparams = s, hyperparams\n",
    "                    print(\"New Best Score: %.2f @ hyperparams = %s\" % (100*best_s, repr((best_hyperparams))))\n",
    "\n",
    "        ## Test\n",
    "        np.random.seed(SEED)\n",
    "        hyperparams = best_hyperparams # In case I forgot a replace below\n",
    "        early_stop_frac,batch_size,seed = [best_hyperparams[k] for k in ('early_stop_frac','batch_size','seed')]\n",
    "\n",
    "        X_train_concat, Ys_train_concat = pd.concat((X_train, X_dev)), pd.concat((Ys_train, Ys_dev))\n",
    "\n",
    "        all_train_subjects = list(np.random.permutation(Ys_train_concat.index.get_level_values('subject_id').values))\n",
    "        N_early_stop = int(len(all_train_subjects) * early_stop_frac)\n",
    "        train_subjects, early_stop_subjects = all_train_subjects[:-N_early_stop], all_train_subjects[-N_early_stop:]\n",
    "        X_train_obs         = X_train_concat[X_train_concat.index.get_level_values('subject_id').isin(train_subjects)]\n",
    "        Ys_train_obs        = Ys_train_concat[Ys_train_concat.index.get_level_values('subject_id').isin(train_subjects)]\n",
    "\n",
    "        X_train_early_stop  = X_train_concat[X_train_concat.index.get_level_values('subject_id').isin(early_stop_subjects)]\n",
    "        Ys_train_early_stop = Ys_train_concat[Ys_train_concat.index.get_level_values('subject_id').isin(early_stop_subjects)]\n",
    "\n",
    "        train_dataloader      = prepare_dataloader(X_train_obs, Ys_train_obs[t], batch_size=batch_size)\n",
    "        early_stop_dataloader = prepare_dataloader(X_train_early_stop, Ys_train_early_stop[t], batch_size=batch_size)\n",
    "        test_dataloader       = prepare_dataloader(X_test, Ys_test[t], batch_size=batch_size)\n",
    "\n",
    "        model_hyperparams = copy.copy(base_params)\n",
    "        model_hyperparams.update(\n",
    "            {k: v for k, v in best_hyperparams.items() if k in ('cell_size', 'hidden_size', 'batch_size')}\n",
    "        )\n",
    "        model = GRUD(**model_hyperparams)\n",
    "\n",
    "        best_model, (losses_train, losses_early_stop, losses_epochs_train, losses_epochs_early_stop) = Train_Model(\n",
    "            model, train_dataloader, early_stop_dataloader,\n",
    "            **{k: v for k, v in best_hyperparams.items() if k in (\n",
    "                'num_epochs', 'patience', 'learning_rate', 'batch_size'\n",
    "            )}\n",
    "        )\n",
    "\n",
    "        probabilities_test, labels_test = predict_proba(best_model, test_dataloader)\n",
    "\n",
    "        y_score = np.concatenate(probabilities_test)[:, 1]\n",
    "        y_pred  = np.argmax(probabilities_test)\n",
    "        y_true  = np.concatenate(labels_test)\n",
    "\n",
    "        auc   = roc_auc_score(y_true, y_score)\n",
    "        auprc = average_precision_score(y_true, y_score)\n",
    "        acc   = accuracy_score(y_true, y_pred)\n",
    "        F1    = f1_score(y_true, y_pred)\n",
    "        print(\"Final results for model %s on target %s with representation %s\" % (model_name, t, n))\n",
    "        print(auc, auprc, acc, F1)\n",
    "\n",
    "        results[model_name][t][n] = None, best_hyperparams, auc, auprc, acc, F1, best_s\n",
    "        with open('../src/model/baselines_gru-d.pkl', mode='wb') as f: pickle.dump(results, f)"
   ],
   "metadata": {
    "collapsed": false,
    "ExecuteTime": {
     "end_time": "2023-10-25T22:15:16.254989900Z",
     "start_time": "2023-10-25T22:15:16.161209Z"
    }
   }
  }
 ],
 "metadata": {
  "kernelspec": {
   "display_name": "Python 3",
   "language": "python",
   "name": "python3"
  },
  "language_info": {
   "codemirror_mode": {
    "name": "ipython",
    "version": 2
   },
   "file_extension": ".py",
   "mimetype": "text/x-python",
   "name": "python",
   "nbconvert_exporter": "python",
   "pygments_lexer": "ipython2",
   "version": "2.7.6"
  }
 },
 "nbformat": 4,
 "nbformat_minor": 0
}
