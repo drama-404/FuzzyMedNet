{
 "cells": [
  {
   "cell_type": "code",
   "execution_count": 2,
   "metadata": {
    "collapsed": true,
    "ExecuteTime": {
     "end_time": "2023-10-20T09:39:57.924251800Z",
     "start_time": "2023-10-20T09:39:57.713083200Z"
    }
   },
   "outputs": [],
   "source": [
    "import pandas as pd\n",
    "import numpy as np\n",
    "import matplotlib.pyplot as plt\n",
    "import seaborn as sns\n",
    "import h5py\n",
    "\n",
    "import os\n",
    "# import wandb\n",
    "import warnings\n",
    "\n",
    "from config import *\n",
    "from utils.eda_functions import *\n",
    "from src.data_preprocessing.vitals_labs import *\n",
    "# from src.data_preprocessing.split_dataset import *\n",
    "from utils.safe_display import blind_display\n",
    "\n",
    "%load_ext autoreload\n",
    "%autoreload 2"
   ]
  },
  {
   "cell_type": "code",
   "execution_count": 3,
   "outputs": [],
   "source": [
    "from sklearn.model_selection import train_test_split\n",
    "from sklearn.metrics import roc_auc_score\n",
    "from sklearn.metrics import log_loss\n",
    "from sklearn.metrics import accuracy_score\n",
    "from sklearn.metrics import f1_score\n",
    "from sklearn.metrics import average_precision_score\n",
    "from sklearn.linear_model import LogisticRegression\n",
    "from sklearn.preprocessing import label_binarize\n",
    "from sklearn.ensemble import RandomForestClassifier\n",
    "import scipy.stats as ss"
   ],
   "metadata": {
    "collapsed": false,
    "ExecuteTime": {
     "end_time": "2023-10-20T09:40:01.142626400Z",
     "start_time": "2023-10-20T09:40:00.707230100Z"
    }
   }
  },
  {
   "cell_type": "code",
   "execution_count": 4,
   "outputs": [],
   "source": [
    "plt.style.use('seaborn-whitegrid')\n",
    "plt.rcParams['figure.figsize'] = (12, 8)\n",
    "\n",
    "warnings.filterwarnings('ignore')"
   ],
   "metadata": {
    "collapsed": false,
    "ExecuteTime": {
     "end_time": "2023-10-20T09:40:04.422165700Z",
     "start_time": "2023-10-20T09:40:04.217110500Z"
    }
   }
  },
  {
   "cell_type": "code",
   "execution_count": 5,
   "outputs": [],
   "source": [
    "BLINDED = False\n",
    "RANDOM = 0"
   ],
   "metadata": {
    "collapsed": false,
    "ExecuteTime": {
     "end_time": "2023-10-20T09:40:06.221869900Z",
     "start_time": "2023-10-20T09:40:06.018973800Z"
    }
   }
  },
  {
   "cell_type": "code",
   "execution_count": 6,
   "outputs": [],
   "source": [
    "patients_train = load_from_pickle(os.path.join(DATA_DIR, 'patients_train.pkl'))\n",
    "patients_dev = load_from_pickle(os.path.join(DATA_DIR, 'patients_dev.pkl'))\n",
    "patients_test = load_from_pickle(os.path.join(DATA_DIR, 'patients_test.pkl'))\n",
    "\n",
    "vitals_train = load_from_pickle(os.path.join(DATA_DIR, 'vitals_train.pkl'))\n",
    "vitals_dev = load_from_pickle(os.path.join(DATA_DIR, 'vitals_dev.pkl'))\n",
    "vitals_test = load_from_pickle(os.path.join(DATA_DIR, 'vitals_test.pkl'))\n",
    "\n",
    "interv_train = load_from_pickle(os.path.join(DATA_DIR, 'interv_train.pkl'))\n",
    "interv_dev = load_from_pickle(os.path.join(DATA_DIR, 'interv_dev.pkl'))\n",
    "interv_test = load_from_pickle(os.path.join(DATA_DIR, 'interv_test.pkl'))\n",
    "\n",
    "Ys_train = load_from_pickle(os.path.join(DATA_DIR, 'Ys_train.pkl'))\n",
    "Ys_dev = load_from_pickle(os.path.join(DATA_DIR, 'Ys_dev.pkl'))\n",
    "Ys_test = load_from_pickle(os.path.join(DATA_DIR, 'Ys_test.pkl'))"
   ],
   "metadata": {
    "collapsed": false,
    "ExecuteTime": {
     "end_time": "2023-10-20T09:40:09.718223Z",
     "start_time": "2023-10-20T09:40:08.125515Z"
    }
   }
  },
  {
   "cell_type": "code",
   "execution_count": 7,
   "outputs": [
    {
     "data": {
      "text/plain": "                              gender              ethnicity        age  \\\nsubject_id hadm_id icustay_id                                            \n3          145834  211552          M                  WHITE  76.526792   \n4          185777  294638          F                  WHITE  47.845047   \n6          107064  228232          F                  WHITE  65.942297   \n9          150750  220597          M  UNKNOWN/NOT SPECIFIED  41.790228   \n11         194540  229441          F                  WHITE  50.148295   \n\n                              insurance           admittime  \\\nsubject_id hadm_id icustay_id                                 \n3          145834  211552      Medicare 2101-10-20 19:08:00   \n4          185777  294638       Private 2191-03-16 00:28:00   \n6          107064  228232      Medicare 2175-05-30 07:15:00   \n9          150750  220597      Medicaid 2149-11-09 13:06:00   \n11         194540  229441       Private 2178-04-16 06:18:00   \n\n                                            diagnosis_at_admission  \\\nsubject_id hadm_id icustay_id                                        \n3          145834  211552                              HYPOTENSION   \n4          185777  294638      FEVER,DEHYDRATION,FAILURE TO THRIVE   \n6          107064  228232                CHRONIC RENAL FAILURE/SDA   \n9          150750  220597                          HEMORRHAGIC CVA   \n11         194540  229441                               BRAIN MASS   \n\n                                        dischtime         discharge_location  \\\nsubject_id hadm_id icustay_id                                                  \n3          145834  211552     2101-10-31 13:58:00                        SNF   \n4          185777  294638     2191-03-23 18:41:00  HOME WITH HOME IV PROVIDR   \n6          107064  228232     2175-06-15 16:00:00           HOME HEALTH CARE   \n9          150750  220597     2149-11-14 10:15:00               DEAD/EXPIRED   \n11         194540  229441     2178-05-11 19:00:00           HOME HEALTH CARE   \n\n                               fullcode_first  dnr_first  ...  \\\nsubject_id hadm_id icustay_id                             ...   \n3          145834  211552                 1.0        0.0  ...   \n4          185777  294638                 1.0        0.0  ...   \n6          107064  228232                 1.0        0.0  ...   \n9          150750  220597                 1.0        0.0  ...   \n11         194540  229441                 1.0        0.0  ...   \n\n                                          outtime   los_icu admission_type  \\\nsubject_id hadm_id icustay_id                                                \n3          145834  211552     2101-10-26 20:43:09  6.064560      EMERGENCY   \n4          185777  294638     2191-03-17 16:46:31  1.678472      EMERGENCY   \n6          107064  228232     2175-06-03 13:39:54  3.672917       ELECTIVE   \n9          150750  220597     2149-11-14 20:52:14  5.323056      EMERGENCY   \n11         194540  229441     2178-04-17 20:21:05  1.584410      EMERGENCY   \n\n                               first_careunit  mort_icu  mort_hosp  \\\nsubject_id hadm_id icustay_id                                        \n3          145834  211552                MICU         0          0   \n4          185777  294638                MICU         0          0   \n6          107064  228232                SICU         0          0   \n9          150750  220597                MICU         1          1   \n11         194540  229441                SICU         0          0   \n\n                              hospital_expire_flag hospstay_seq  \\\nsubject_id hadm_id icustay_id                                     \n3          145834  211552                        0            1   \n4          185777  294638                        0            1   \n6          107064  228232                        0            1   \n9          150750  220597                        1            1   \n11         194540  229441                        0            1   \n\n                              readmission_30  max_hours  \nsubject_id hadm_id icustay_id                            \n3          145834  211552                  0        145  \n4          185777  294638                  0         40  \n6          107064  228232                  0         88  \n9          150750  220597                  0        127  \n11         194540  229441                  0         38  \n\n[5 rows x 28 columns]",
      "text/html": "<div>\n<style scoped>\n    .dataframe tbody tr th:only-of-type {\n        vertical-align: middle;\n    }\n\n    .dataframe tbody tr th {\n        vertical-align: top;\n    }\n\n    .dataframe thead th {\n        text-align: right;\n    }\n</style>\n<table border=\"1\" class=\"dataframe\">\n  <thead>\n    <tr style=\"text-align: right;\">\n      <th></th>\n      <th></th>\n      <th></th>\n      <th>gender</th>\n      <th>ethnicity</th>\n      <th>age</th>\n      <th>insurance</th>\n      <th>admittime</th>\n      <th>diagnosis_at_admission</th>\n      <th>dischtime</th>\n      <th>discharge_location</th>\n      <th>fullcode_first</th>\n      <th>dnr_first</th>\n      <th>...</th>\n      <th>outtime</th>\n      <th>los_icu</th>\n      <th>admission_type</th>\n      <th>first_careunit</th>\n      <th>mort_icu</th>\n      <th>mort_hosp</th>\n      <th>hospital_expire_flag</th>\n      <th>hospstay_seq</th>\n      <th>readmission_30</th>\n      <th>max_hours</th>\n    </tr>\n    <tr>\n      <th>subject_id</th>\n      <th>hadm_id</th>\n      <th>icustay_id</th>\n      <th></th>\n      <th></th>\n      <th></th>\n      <th></th>\n      <th></th>\n      <th></th>\n      <th></th>\n      <th></th>\n      <th></th>\n      <th></th>\n      <th></th>\n      <th></th>\n      <th></th>\n      <th></th>\n      <th></th>\n      <th></th>\n      <th></th>\n      <th></th>\n      <th></th>\n      <th></th>\n      <th></th>\n    </tr>\n  </thead>\n  <tbody>\n    <tr>\n      <th>3</th>\n      <th>145834</th>\n      <th>211552</th>\n      <td>M</td>\n      <td>WHITE</td>\n      <td>76.526792</td>\n      <td>Medicare</td>\n      <td>2101-10-20 19:08:00</td>\n      <td>HYPOTENSION</td>\n      <td>2101-10-31 13:58:00</td>\n      <td>SNF</td>\n      <td>1.0</td>\n      <td>0.0</td>\n      <td>...</td>\n      <td>2101-10-26 20:43:09</td>\n      <td>6.064560</td>\n      <td>EMERGENCY</td>\n      <td>MICU</td>\n      <td>0</td>\n      <td>0</td>\n      <td>0</td>\n      <td>1</td>\n      <td>0</td>\n      <td>145</td>\n    </tr>\n    <tr>\n      <th>4</th>\n      <th>185777</th>\n      <th>294638</th>\n      <td>F</td>\n      <td>WHITE</td>\n      <td>47.845047</td>\n      <td>Private</td>\n      <td>2191-03-16 00:28:00</td>\n      <td>FEVER,DEHYDRATION,FAILURE TO THRIVE</td>\n      <td>2191-03-23 18:41:00</td>\n      <td>HOME WITH HOME IV PROVIDR</td>\n      <td>1.0</td>\n      <td>0.0</td>\n      <td>...</td>\n      <td>2191-03-17 16:46:31</td>\n      <td>1.678472</td>\n      <td>EMERGENCY</td>\n      <td>MICU</td>\n      <td>0</td>\n      <td>0</td>\n      <td>0</td>\n      <td>1</td>\n      <td>0</td>\n      <td>40</td>\n    </tr>\n    <tr>\n      <th>6</th>\n      <th>107064</th>\n      <th>228232</th>\n      <td>F</td>\n      <td>WHITE</td>\n      <td>65.942297</td>\n      <td>Medicare</td>\n      <td>2175-05-30 07:15:00</td>\n      <td>CHRONIC RENAL FAILURE/SDA</td>\n      <td>2175-06-15 16:00:00</td>\n      <td>HOME HEALTH CARE</td>\n      <td>1.0</td>\n      <td>0.0</td>\n      <td>...</td>\n      <td>2175-06-03 13:39:54</td>\n      <td>3.672917</td>\n      <td>ELECTIVE</td>\n      <td>SICU</td>\n      <td>0</td>\n      <td>0</td>\n      <td>0</td>\n      <td>1</td>\n      <td>0</td>\n      <td>88</td>\n    </tr>\n    <tr>\n      <th>9</th>\n      <th>150750</th>\n      <th>220597</th>\n      <td>M</td>\n      <td>UNKNOWN/NOT SPECIFIED</td>\n      <td>41.790228</td>\n      <td>Medicaid</td>\n      <td>2149-11-09 13:06:00</td>\n      <td>HEMORRHAGIC CVA</td>\n      <td>2149-11-14 10:15:00</td>\n      <td>DEAD/EXPIRED</td>\n      <td>1.0</td>\n      <td>0.0</td>\n      <td>...</td>\n      <td>2149-11-14 20:52:14</td>\n      <td>5.323056</td>\n      <td>EMERGENCY</td>\n      <td>MICU</td>\n      <td>1</td>\n      <td>1</td>\n      <td>1</td>\n      <td>1</td>\n      <td>0</td>\n      <td>127</td>\n    </tr>\n    <tr>\n      <th>11</th>\n      <th>194540</th>\n      <th>229441</th>\n      <td>F</td>\n      <td>WHITE</td>\n      <td>50.148295</td>\n      <td>Private</td>\n      <td>2178-04-16 06:18:00</td>\n      <td>BRAIN MASS</td>\n      <td>2178-05-11 19:00:00</td>\n      <td>HOME HEALTH CARE</td>\n      <td>1.0</td>\n      <td>0.0</td>\n      <td>...</td>\n      <td>2178-04-17 20:21:05</td>\n      <td>1.584410</td>\n      <td>EMERGENCY</td>\n      <td>SICU</td>\n      <td>0</td>\n      <td>0</td>\n      <td>0</td>\n      <td>1</td>\n      <td>0</td>\n      <td>38</td>\n    </tr>\n  </tbody>\n</table>\n<p>5 rows × 28 columns</p>\n</div>"
     },
     "execution_count": 7,
     "metadata": {},
     "output_type": "execute_result"
    }
   ],
   "source": [
    "static = pd.read_hdf(DATA_FILE_PATH,'patients')\n",
    "static.head()"
   ],
   "metadata": {
    "collapsed": false,
    "ExecuteTime": {
     "end_time": "2023-10-20T09:40:13.128033800Z",
     "start_time": "2023-10-20T09:40:12.525807600Z"
    }
   }
  },
  {
   "cell_type": "code",
   "execution_count": 8,
   "outputs": [],
   "source": [
    "idx = Ys_train.index.get_level_values('subject_id')"
   ],
   "metadata": {
    "collapsed": false,
    "ExecuteTime": {
     "end_time": "2023-10-20T09:40:16.029144700Z",
     "start_time": "2023-10-20T09:40:15.826190500Z"
    }
   }
  },
  {
   "cell_type": "code",
   "execution_count": 12,
   "outputs": [
    {
     "data": {
      "text/plain": "(34472, 28)"
     },
     "execution_count": 12,
     "metadata": {},
     "output_type": "execute_result"
    }
   ],
   "source": [
    "static.shape"
   ],
   "metadata": {
    "collapsed": false,
    "ExecuteTime": {
     "end_time": "2023-10-20T09:41:17.047782400Z",
     "start_time": "2023-10-20T09:41:16.823596Z"
    }
   }
  },
  {
   "cell_type": "code",
   "execution_count": 11,
   "outputs": [
    {
     "data": {
      "text/plain": "16760"
     },
     "execution_count": 11,
     "metadata": {},
     "output_type": "execute_result"
    }
   ],
   "source": [
    "len(idx)"
   ],
   "metadata": {
    "collapsed": false,
    "ExecuteTime": {
     "end_time": "2023-10-20T09:41:05.612723Z",
     "start_time": "2023-10-20T09:41:05.389662600Z"
    }
   }
  },
  {
   "cell_type": "code",
   "execution_count": 10,
   "outputs": [
    {
     "data": {
      "text/plain": "(16760, 28)"
     },
     "execution_count": 10,
     "metadata": {},
     "output_type": "execute_result"
    }
   ],
   "source": [
    "pat_idx = static.loc[idx]\n",
    "pat_idx.shape"
   ],
   "metadata": {
    "collapsed": false,
    "ExecuteTime": {
     "end_time": "2023-10-20T09:40:57.906935500Z",
     "start_time": "2023-10-20T09:40:57.680691Z"
    }
   }
  }
 ],
 "metadata": {
  "kernelspec": {
   "display_name": "Python 3",
   "language": "python",
   "name": "python3"
  },
  "language_info": {
   "codemirror_mode": {
    "name": "ipython",
    "version": 2
   },
   "file_extension": ".py",
   "mimetype": "text/x-python",
   "name": "python",
   "nbconvert_exporter": "python",
   "pygments_lexer": "ipython2",
   "version": "2.7.6"
  }
 },
 "nbformat": 4,
 "nbformat_minor": 0
}
