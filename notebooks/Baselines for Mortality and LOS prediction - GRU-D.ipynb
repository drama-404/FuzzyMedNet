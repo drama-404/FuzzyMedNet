{
 "cells": [
  {
   "cell_type": "code",
   "execution_count": 1,
   "metadata": {
    "collapsed": true,
    "ExecuteTime": {
     "end_time": "2023-10-27T20:30:58.182947700Z",
     "start_time": "2023-10-27T20:30:58.086606600Z"
    }
   },
   "outputs": [],
   "source": [
    "from __future__ import print_function, division\n",
    "%load_ext autoreload"
   ]
  },
  {
   "cell_type": "code",
   "execution_count": null,
   "metadata": {
    "collapsed": true
   },
   "outputs": [],
   "source": [
    "%autoreload\n",
    "from src.model.mmd_grud_utils import *\n",
    "from utils.eda_functions import (load_from_pickle, save_to_pickle)\n",
    "from config import *"
   ]
  },
  {
   "cell_type": "code",
   "execution_count": null,
   "outputs": [],
   "source": [
    "import copy, math, os, pickle, time, pandas as pd, numpy as np, scipy.stats as ss\n",
    "\n",
    "from sklearn.linear_model import LogisticRegression\n",
    "from sklearn.ensemble import RandomForestClassifier\n",
    "from sklearn.metrics import average_precision_score, roc_auc_score, accuracy_score, f1_score\n",
    "\n",
    "import torch, torch.utils.data as utils, torch.nn as nn, torch.nn.functional as F, torch.optim as optim\n",
    "from torch.autograd import Variable\n",
    "from torch.nn.parameter import Parameter"
   ],
   "metadata": {
    "collapsed": false,
    "ExecuteTime": {
     "start_time": "2023-10-27T20:31:02.428385700Z"
    }
   }
  },
  {
   "cell_type": "code",
   "execution_count": null,
   "outputs": [],
   "source": [
    "# DATA_FILEPATH     = '/scratch/mmd/mimic_data/final/grouping_5/all_hourly_data.h5'\n",
    "# RAW_DATA_FILEPATH = '/scratch/mmd/mimic_data/final/nogrouping_5/all_hourly_data.h5'\n",
    "GAP_TIME          = 6  # In hours\n",
    "WINDOW_SIZE       = 24 # In hours\n",
    "SEED              = 1\n",
    "ID_COLS           = ['subject_id', 'hadm_id', 'icustay_id']\n",
    "GPU               = '2'\n",
    "\n",
    "os.environ['CUDA_VISIBLE_DEVICES'] = GPU\n",
    "np.random.seed(SEED)\n",
    "torch.manual_seed(SEED)"
   ],
   "metadata": {
    "collapsed": false
   }
  },
  {
   "cell_type": "code",
   "execution_count": null,
   "metadata": {
    "collapsed": true
   },
   "outputs": [],
   "source": [
    "class DictDist():\n",
    "    def __init__(self, dict_of_rvs): self.dict_of_rvs = dict_of_rvs\n",
    "    def rvs(self, n):\n",
    "        a = {k: v.rvs(n) for k, v in self.dict_of_rvs.items()}\n",
    "        out = []\n",
    "        for i in range(n): out.append({k: vs[i] for k, vs in a.items()})\n",
    "        return out\n",
    "    \n",
    "class Choice():\n",
    "    def __init__(self, options): self.options = options\n",
    "    def rvs(self, n): return [self.options[i] for i in ss.randint(0, len(self.options)).rvs(n)]"
   ]
  },
  {
   "cell_type": "code",
   "execution_count": null,
   "metadata": {
    "collapsed": true
   },
   "outputs": [],
   "source": [
    "vitals_train = load_from_pickle(os.path.join(DATA_DIR, 'Vitals_train_gru.pkl'))\n",
    "vitals_dev = load_from_pickle(os.path.join(DATA_DIR, 'Vitals_dev_gru.pkl'))\n",
    "vitals_test = load_from_pickle(os.path.join(DATA_DIR, 'Vitals_test_gru.pkl'))\n",
    "\n",
    "Ys_train = load_from_pickle(os.path.join(DATA_DIR, 'Y_train.pkl'))\n",
    "Ys_dev = load_from_pickle(os.path.join(DATA_DIR, 'Y_dev.pkl'))\n",
    "Ys_test = load_from_pickle(os.path.join(DATA_DIR, 'Y_test.pkl'))"
   ]
  },
  {
   "cell_type": "markdown",
   "metadata": {},
   "source": [
    "### Task Prediction"
   ]
  },
  {
   "cell_type": "markdown",
   "metadata": {},
   "source": [
    "#### Hyperparams"
   ]
  },
  {
   "cell_type": "code",
   "execution_count": null,
   "metadata": {
    "collapsed": true
   },
   "outputs": [],
   "source": [
    "N = 10\n",
    "\n",
    "GRU_D_dist = DictDist({\n",
    "    'cell_size': ss.randint(50, 75),\n",
    "    'hidden_size': ss.randint(65, 95), \n",
    "    'learning_rate': ss.uniform(2e-3, 1e-1),\n",
    "    'num_epochs': ss.randint(15, 150),\n",
    "    'patience': ss.randint(3, 7),\n",
    "    'batch_size': ss.randint(35, 65),\n",
    "    'early_stop_frac': ss.uniform(0.05, 0.1),\n",
    "    'seed': ss.randint(1, 10000),\n",
    "})\n",
    "np.random.seed(SEED)\n",
    "GRU_D_hyperparams_list = GRU_D_dist.rvs(N)\n",
    "\n",
    "# with open('/scratch/mmd/extraction_baselines_gru-d.pkl', mode='rb') as f: results = pickle.load(f)"
   ]
  },
  {
   "cell_type": "code",
   "execution_count": null,
   "metadata": {},
   "outputs": [],
   "source": [
    "results = {}"
   ]
  },
  {
   "cell_type": "markdown",
   "metadata": {},
   "source": [
    "### GRU-D"
   ]
  },
  {
   "cell_type": "code",
   "execution_count": null,
   "metadata": {
    "scrolled": false
   },
   "outputs": [],
   "source": [
    "model_name       = 'GRU-D'\n",
    "hyperparams_list = GRU_D_hyperparams_list\n",
    "RERUN            = False\n",
    "if model_name not in results: results[model_name] = {}\n",
    "for t in ['mort_icu', 'mort_hosp']:\n",
    "    if t not in results[model_name]: results[model_name][t] = {}\n",
    "    for n, X_train, X_dev, X_test in (\n",
    "        ('lvl2', vitals_train, vitals_dev, vitals_test),\n",
    "#         ('raw', raw_train, raw_dev, raw_test)\n",
    "    ):\n",
    "        print(\"Running model %s on target %s with representation %s\" % (model_name, t, n))\n",
    "        X_mean = np.nanmean(\n",
    "            to_3D_tensor(\n",
    "                X_train.loc[:, pd.IndexSlice[:, 'mean']] * \n",
    "                np.where((X_train.loc[:, pd.IndexSlice[:, 'mask']] == 1).values, 1, np.NaN)\n",
    "            ),\n",
    "            axis=0, keepdims=True\n",
    "        ).transpose([0, 2, 1])\n",
    "        base_params = {'X_mean': X_mean, 'output_last': True, 'input_size': X_mean.shape[2]}\n",
    "    \n",
    "        if n in results[model_name][t]:\n",
    "            if not RERUN: \n",
    "                print(\"Final results for model %s on target %s with representation %s\" % (model_name, t, n))\n",
    "                print(results[model_name][t][n])\n",
    "                continue\n",
    "            best_s, best_hyperparams = results[model_name][t][n][-1], results[model_name][t][n][1]\n",
    "            print(\"Loading best hyperparams\", best_hyperparams)\n",
    "        else:\n",
    "            best_s, best_hyperparams = -np.Inf, None\n",
    "            for i, hyperparams in enumerate(hyperparams_list):\n",
    "                print(\"On sample %d / %d (hyperparams = %s)\" % (i+1, len(hyperparams_list), repr((hyperparams))))\n",
    "\n",
    "                early_stop_frac,batch_size,seed = [hyperparams[k] for k in ('early_stop_frac','batch_size','seed')]\n",
    "\n",
    "                np.random.seed(seed)\n",
    "                all_train_subjects = list(\n",
    "                    np.random.permutation(Ys_train.index.get_level_values('subject_id').values)\n",
    "                )\n",
    "                N_early_stop        = int(len(all_train_subjects) * early_stop_frac)\n",
    "                train_subjects      = all_train_subjects[:-N_early_stop]\n",
    "                early_stop_subjects = all_train_subjects[-N_early_stop:]\n",
    "                X_train_obs         = X_train[X_train.index.get_level_values('subject_id').isin(train_subjects)]\n",
    "                Ys_train_obs        = Ys_train[Ys_train.index.get_level_values('subject_id').isin(train_subjects)]\n",
    "\n",
    "                X_train_early_stop  = X_train[X_train.index.get_level_values('subject_id').isin(early_stop_subjects)]\n",
    "                Ys_train_early_stop = Ys_train[\n",
    "                    Ys_train.index.get_level_values('subject_id').isin(early_stop_subjects)\n",
    "                ]\n",
    "\n",
    "                train_dataloader      = prepare_dataloader(X_train_obs, Ys_train_obs[t], batch_size=batch_size)\n",
    "                early_stop_dataloader = prepare_dataloader(\n",
    "                    X_train_early_stop, Ys_train_early_stop[t], batch_size=batch_size\n",
    "                )\n",
    "                dev_dataloader        = prepare_dataloader(X_dev, Ys_dev[t], batch_size=batch_size)\n",
    "                test_dataloader       = prepare_dataloader(X_test, Ys_test[t], batch_size=batch_size)\n",
    "\n",
    "                model_hyperparams = copy.copy(base_params)\n",
    "                model_hyperparams.update(\n",
    "                    {k: v for k, v in hyperparams.items() if k in ('cell_size', 'hidden_size', 'batch_size')}\n",
    "                )\n",
    "                model = GRUD(**model_hyperparams)\n",
    "\n",
    "                best_model, _ = Train_Model(\n",
    "                    model, train_dataloader, early_stop_dataloader,\n",
    "                    **{k: v for k, v in hyperparams.items() if k in (\n",
    "                        'num_epochs', 'patience', 'learning_rate', 'batch_size'\n",
    "                    )}\n",
    "                )\n",
    "\n",
    "                probabilities_dev, labels_dev = predict_proba(best_model, dev_dataloader)\n",
    "                probabilities_dev = np.concatenate(probabilities_dev)[:, 1]\n",
    "                labels_dev        = np.concatenate(labels_dev)\n",
    "                s = roc_auc_score(labels_dev, probabilities_dev)\n",
    "                if s > best_s:\n",
    "                    best_s, best_hyperparams = s, hyperparams\n",
    "                    print(\"New Best Score: %.2f @ hyperparams = %s\" % (100*best_s, repr((best_hyperparams))))\n",
    "                \n",
    "        ## Test\n",
    "        np.random.seed(seed)\n",
    "        hyperparams = best_hyperparams # In case I forgot a replace below\n",
    "        early_stop_frac,batch_size,seed = [best_hyperparams[k] for k in ('early_stop_frac','batch_size','seed')]\n",
    "        \n",
    "        X_train_concat, Ys_train_concat = pd.concat((X_train, X_dev)), pd.concat((Ys_train, Ys_dev))\n",
    "        \n",
    "        all_train_subjects = list(np.random.permutation(Ys_train_concat.index.get_level_values('subject_id').values))\n",
    "        N_early_stop = int(len(all_train_subjects) * early_stop_frac)\n",
    "        train_subjects, early_stop_subjects = all_train_subjects[:-N_early_stop], all_train_subjects[-N_early_stop:]\n",
    "        X_train_obs         = X_train_concat[X_train_concat.index.get_level_values('subject_id').isin(train_subjects)]\n",
    "        Ys_train_obs        = Ys_train_concat[Ys_train_concat.index.get_level_values('subject_id').isin(train_subjects)]\n",
    "\n",
    "        X_train_early_stop  = X_train_concat[X_train_concat.index.get_level_values('subject_id').isin(early_stop_subjects)]\n",
    "        Ys_train_early_stop = Ys_train_concat[Ys_train_concat.index.get_level_values('subject_id').isin(early_stop_subjects)]\n",
    "\n",
    "        train_dataloader      = prepare_dataloader(X_train_obs, Ys_train_obs[t], batch_size=batch_size)\n",
    "        early_stop_dataloader = prepare_dataloader(X_train_early_stop, Ys_train_early_stop[t], batch_size=batch_size)\n",
    "        test_dataloader       = prepare_dataloader(X_test, Ys_test[t], batch_size=batch_size)\n",
    "\n",
    "        model_hyperparams = copy.copy(base_params)\n",
    "        model_hyperparams.update(\n",
    "            {k: v for k, v in best_hyperparams.items() if k in ('cell_size', 'hidden_size', 'batch_size')}\n",
    "        )\n",
    "        model = GRUD(**model_hyperparams)\n",
    "\n",
    "        best_model, (losses_train, losses_early_stop, losses_epochs_train, losses_epochs_early_stop) = Train_Model(\n",
    "            model, train_dataloader, early_stop_dataloader,\n",
    "            **{k: v for k, v in best_hyperparams.items() if k in (\n",
    "                'num_epochs', 'patience', 'learning_rate', 'batch_size'\n",
    "            )}\n",
    "        )\n",
    "\n",
    "        probabilities_test, labels_test = predict_proba(best_model, test_dataloader)\n",
    "\n",
    "        y_score = np.concatenate(probabilities_test)[:, 1]\n",
    "        y_pred  = np.argmax(probabilities_test)\n",
    "        y_true  = np.concatenate(labels_test)\n",
    "\n",
    "        auc   = roc_auc_score(y_true, y_score)\n",
    "        auprc = average_precision_score(y_true, y_score)\n",
    "        acc   = accuracy_score(y_true, y_pred)\n",
    "        F1    = f1_score(y_true, y_pred)\n",
    "        print(\"Final results for model %s on target %s with representation %s\" % (model_name, t, n))\n",
    "        print(auc, auprc, acc, F1)\n",
    "        \n",
    "        results[model_name][t][n] = None, best_hyperparams, auc, auprc, acc, F1, best_s\n",
    "        with open('../src/model/baseline_model_gru-d.pkl', mode='wb') as f: pickle.dump(results, f)"
   ]
  },
  {
   "cell_type": "code",
   "execution_count": null,
   "outputs": [],
   "source": [
    "X_mean = np.nanmean(\n",
    "            to_3D_tensor(\n",
    "                vitals_train.loc[:, pd.IndexSlice[:, 'mean']] *\n",
    "                np.where((vitals_train.loc[:, pd.IndexSlice[:, 'mask']] == 1).values, 1, np.NaN)\n",
    "            ),\n",
    "            axis=0, keepdims=True\n",
    "        ).transpose([0, 2, 1])\n",
    "base_params = {'X_mean': X_mean, 'output_last': True, 'input_size': X_mean.shape[2]}"
   ],
   "metadata": {
    "collapsed": false
   }
  },
  {
   "cell_type": "code",
   "execution_count": null,
   "outputs": [],
   "source": [
    "best_s, best_hyperparams = -np.Inf, None\n",
    "for i, hyperparams in enumerate(hyperparams_list):\n",
    "    print(\"On sample %d / %d (hyperparams = %s)\" % (i+1, len(hyperparams_list), repr((hyperparams))))\n",
    "\n",
    "    early_stop_frac,batch_size,seed = [hyperparams[k] for k in ('early_stop_frac','batch_size','seed')]\n",
    "\n",
    "    np.random.seed(seed)\n",
    "    all_train_subjects = list(\n",
    "        np.random.permutation(Ys_train.index.get_level_values('subject_id').values)\n",
    "    )\n",
    "    N_early_stop        = int(len(all_train_subjects) * early_stop_frac)\n",
    "    train_subjects      = all_train_subjects[:-N_early_stop]\n",
    "    early_stop_subjects = all_train_subjects[-N_early_stop:]\n",
    "    X_train_obs         = X_train[X_train.index.get_level_values('subject_id').isin(train_subjects)]\n",
    "    Ys_train_obs        = Ys_train[Ys_train.index.get_level_values('subject_id').isin(train_subjects)]\n",
    "\n",
    "    X_train_early_stop  = X_train[X_train.index.get_level_values('subject_id').isin(early_stop_subjects)]\n",
    "    Ys_train_early_stop = Ys_train[\n",
    "        Ys_train.index.get_level_values('subject_id').isin(early_stop_subjects)\n",
    "    ]\n",
    "\n",
    "    train_dataloader      = prepare_dataloader(X_train_obs, Ys_train_obs[t], batch_size=batch_size)\n",
    "    early_stop_dataloader = prepare_dataloader(\n",
    "        X_train_early_stop, Ys_train_early_stop[t], batch_size=batch_size\n",
    "    )\n",
    "    dev_dataloader        = prepare_dataloader(X_dev, Ys_dev[t], batch_size=batch_size)\n",
    "    test_dataloader       = prepare_dataloader(X_test, Ys_test[t], batch_size=batch_size)\n",
    "\n",
    "    model_hyperparams = copy.copy(base_params)\n",
    "    model_hyperparams.update(\n",
    "        {k: v for k, v in hyperparams.items() if k in ('cell_size', 'hidden_size', 'batch_size')}\n",
    "    )\n",
    "    model = GRUD(**model_hyperparams)\n",
    "    #\n",
    "    # best_model, _ = Train_Model(\n",
    "    #     model, train_dataloader, early_stop_dataloader,\n",
    "    #     **{k: v for k, v in hyperparams.items() if k in (\n",
    "    #         'num_epochs', 'patience', 'learning_rate', 'batch_size'\n",
    "    #     )}\n",
    "    # )\n",
    "    #\n",
    "    # probabilities_dev, labels_dev = predict_proba(best_model, dev_dataloader)\n",
    "    # probabilities_dev = np.concatenate(probabilities_dev)[:, 1]\n",
    "    # labels_dev        = np.concatenate(labels_dev)\n",
    "    # s = roc_auc_score(labels_dev, probabilities_dev)\n",
    "    # if s > best_s:\n",
    "    #     best_s, best_hyperparams = s, hyperparams\n",
    "    #     print(\"New Best Score: %.2f @ hyperparams = %s\" % (100*best_s, repr((best_hyperparams))))"
   ],
   "metadata": {
    "collapsed": false
   }
  },
  {
   "cell_type": "code",
   "execution_count": null,
   "outputs": [],
   "source": [
    "hyperparams_list = GRU_D_hyperparams_list\n",
    "hyperparams = hyperparams_list[0]\n",
    "# print(\"On sample %d / %d (hyperparams = %s)\" % (i+1, len(hyperparams_list), repr((hyperparams))))\n",
    "\n",
    "early_stop_frac,batch_size,seed = [hyperparams[k] for k in ('early_stop_frac','batch_size','seed')]\n",
    "\n",
    "np.random.seed(seed)\n",
    "all_train_subjects = list(\n",
    "    np.random.permutation(Ys_train.index.get_level_values('subject_id').values)\n",
    ")\n",
    "N_early_stop        = int(len(all_train_subjects) * early_stop_frac)\n",
    "train_subjects      = all_train_subjects[:-N_early_stop]\n",
    "early_stop_subjects = all_train_subjects[-N_early_stop:]\n",
    "X_train_obs         = vitals_train[vitals_train.index.get_level_values('subject_id').isin(train_subjects)]\n",
    "Ys_train_obs        = Ys_train[Ys_train.index.get_level_values('subject_id').isin(train_subjects)]\n",
    "\n",
    "X_train_early_stop  = vitals_train[vitals_train.index.get_level_values('subject_id').isin(early_stop_subjects)]\n",
    "Ys_train_early_stop = Ys_train[\n",
    "    Ys_train.index.get_level_values('subject_id').isin(early_stop_subjects)\n",
    "]"
   ],
   "metadata": {
    "collapsed": false
   }
  },
  {
   "cell_type": "code",
   "execution_count": null,
   "outputs": [],
   "source": [
    "train_dataloader      = prepare_dataloader(X_train_obs, Ys_train_obs['mort_hosp'], batch_size=batch_size)\n",
    "early_stop_dataloader = prepare_dataloader(\n",
    "    X_train_early_stop, Ys_train_early_stop['mort_hosp'], batch_size=batch_size\n",
    ")"
   ],
   "metadata": {
    "collapsed": false
   }
  },
  {
   "cell_type": "code",
   "execution_count": null,
   "outputs": [],
   "source": [
    "dev_dataloader        = prepare_dataloader(vitals_dev, Ys_dev['mort_hosp'], batch_size=batch_size)\n",
    "test_dataloader       = prepare_dataloader(vitals_test, Ys_test['mort_hosp'], batch_size=batch_size)"
   ],
   "metadata": {
    "collapsed": false
   }
  },
  {
   "cell_type": "code",
   "execution_count": null,
   "outputs": [],
   "source": [
    "model_hyperparams = copy.copy(base_params)\n",
    "model_hyperparams.update(\n",
    "    {k: v for k, v in hyperparams.items() if k in ('cell_size', 'hidden_size', 'batch_size')}\n",
    ")\n",
    "# model = GRUD(**model_hyperparams)"
   ],
   "metadata": {
    "collapsed": false
   }
  },
  {
   "cell_type": "code",
   "execution_count": null,
   "outputs": [],
   "source": [
    "import torch"
   ],
   "metadata": {
    "collapsed": false,
    "ExecuteTime": {
     "start_time": "2023-10-27T21:06:02.786773700Z"
    }
   }
  },
  {
   "cell_type": "code",
   "execution_count": 2,
   "outputs": [
    {
     "ename": "NameError",
     "evalue": "name 'torch' is not defined",
     "output_type": "error",
     "traceback": [
      "\u001B[1;31m---------------------------------------------------------------------------\u001B[0m",
      "\u001B[1;31mNameError\u001B[0m                                 Traceback (most recent call last)",
      "\u001B[1;32m<ipython-input-2-2eaca526b1e6>\u001B[0m in \u001B[0;36m<module>\u001B[1;34m\u001B[0m\n\u001B[1;32m----> 1\u001B[1;33m \u001B[0mtorch\u001B[0m\u001B[1;33m.\u001B[0m\u001B[0mcuda\u001B[0m\u001B[1;33m.\u001B[0m\u001B[0mis_available\u001B[0m\u001B[1;33m(\u001B[0m\u001B[1;33m)\u001B[0m\u001B[1;33m\u001B[0m\u001B[1;33m\u001B[0m\u001B[0m\n\u001B[0m",
      "\u001B[1;31mNameError\u001B[0m: name 'torch' is not defined"
     ]
    }
   ],
   "source": [
    "torch.cuda.is_available()"
   ],
   "metadata": {
    "collapsed": false,
    "ExecuteTime": {
     "end_time": "2023-10-27T20:36:44.919593100Z",
     "start_time": "2023-10-27T20:36:44.903737200Z"
    }
   }
  }
 ],
 "metadata": {
  "kernelspec": {
   "name": "python3",
   "language": "python",
   "display_name": "Python 3"
  },
  "language_info": {
   "codemirror_mode": {
    "name": "ipython",
    "version": 2
   },
   "file_extension": ".py",
   "mimetype": "text/x-python",
   "name": "python",
   "nbconvert_exporter": "python",
   "pygments_lexer": "ipython2",
   "version": "2.7.13"
  }
 },
 "nbformat": 4,
 "nbformat_minor": 2
}
