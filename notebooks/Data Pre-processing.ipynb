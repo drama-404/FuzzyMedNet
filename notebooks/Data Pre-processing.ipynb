{
 "cells": [
  {
   "cell_type": "code",
   "execution_count": 1,
   "id": "initial_id",
   "metadata": {
    "collapsed": true,
    "ExecuteTime": {
     "end_time": "2023-12-10T14:36:33.059915500Z",
     "start_time": "2023-12-10T14:36:32.186273Z"
    }
   },
   "outputs": [],
   "source": [
    "import pandas as pd\n",
    "import numpy as np\n",
    "import matplotlib.pyplot as plt\n",
    "import seaborn as sns\n",
    "import h5py\n",
    "\n",
    "import os\n",
    "# import wandb\n",
    "import warnings\n",
    "\n",
    "from config import *\n",
    "from utils.eda_functions import *\n",
    "from src.data_preprocessing.demographics import *\n",
    "from src.data_preprocessing.vitals_labs import *\n",
    "from src.data_preprocessing.split_dataset import *\n",
    "from src.data_imputation.new_impute import (calculate_new_values, new_imputer)\n",
    "from src.data_imputation.hybrid_impute import hybrid_imputer\n",
    "from utils.safe_display import blind_display\n",
    "\n",
    "%load_ext autoreload\n",
    "%autoreload 2"
   ]
  },
  {
   "cell_type": "code",
   "execution_count": 2,
   "outputs": [],
   "source": [
    "# Safety flag - when set to True will not display sensitive data\n",
    "BLINDED = False\n",
    "warnings.filterwarnings('ignore')"
   ],
   "metadata": {
    "collapsed": false,
    "ExecuteTime": {
     "end_time": "2023-12-10T14:36:43.196241200Z",
     "start_time": "2023-12-10T14:36:41.322031400Z"
    }
   },
   "id": "408569099e189350"
  },
  {
   "cell_type": "code",
   "execution_count": 3,
   "outputs": [
    {
     "name": "stdout",
     "output_type": "stream",
     "text": [
      "['codes', 'interventions', 'patients', 'vitals_labs', 'vitals_labs_mean']\n"
     ]
    }
   ],
   "source": [
    "# Open the file in read mode\n",
    "with h5py.File(DATA_FILE_PATH, 'r') as file:\n",
    "    # Print the keys at the root of the file\n",
    "    print(list(file.keys()))\n",
    "\n",
    "patients = pd.read_hdf(DATA_FILE_PATH, 'patients')\n",
    "vitals_labs = pd.read_hdf(DATA_FILE_PATH, 'vitals_labs')\n",
    "vitals_labs_mean = pd.read_hdf(DATA_FILE_PATH, 'vitals_labs_mean')\n",
    "interventions = pd .read_hdf(DATA_FILE_PATH, 'interventions')\n",
    "codes = pd.read_hdf(DATA_FILE_PATH, 'codes')"
   ],
   "metadata": {
    "collapsed": false,
    "ExecuteTime": {
     "end_time": "2023-12-10T14:37:26.671801500Z",
     "start_time": "2023-12-10T14:36:44.833673400Z"
    }
   },
   "id": "9db16267ac03f1ea"
  },
  {
   "cell_type": "code",
   "execution_count": 4,
   "outputs": [
    {
     "name": "stdout",
     "output_type": "stream",
     "text": [
      "(34472, 28)\n",
      "(2200954, 104)\n",
      "(2200954, 14)\n"
     ]
    }
   ],
   "source": [
    "print(patients.shape)\n",
    "print(vitals_labs_mean.shape)\n",
    "print(interventions.shape)"
   ],
   "metadata": {
    "collapsed": false,
    "ExecuteTime": {
     "end_time": "2023-12-10T14:37:45.697912100Z",
     "start_time": "2023-12-10T14:37:45.556113800Z"
    }
   },
   "id": "a798fa728049ccb6"
  },
  {
   "cell_type": "code",
   "execution_count": 5,
   "outputs": [
    {
     "data": {
      "text/plain": "17530"
     },
     "execution_count": 5,
     "metadata": {},
     "output_type": "execute_result"
    }
   ],
   "source": [
    "subjects_48 = vitals_labs[vitals_labs.index.get_level_values('hours_in') == 47].index.get_level_values('subject_id')\n",
    "len(subjects_48)"
   ],
   "metadata": {
    "collapsed": false,
    "ExecuteTime": {
     "end_time": "2023-12-10T14:37:53.998648Z",
     "start_time": "2023-12-10T14:37:52.176606200Z"
    }
   },
   "id": "48c41781e9f4b87b"
  },
  {
   "cell_type": "code",
   "execution_count": 6,
   "outputs": [],
   "source": [
    "# Limit vital signs, lab measurements, and interventions to the subjects_48 patients\n",
    "patients = patients[patients.index.get_level_values('subject_id').isin(subjects_48)]\n",
    "vitals_labs = vitals_labs[vitals_labs.index.get_level_values('subject_id').isin(subjects_48)]\n",
    "vitals_labs_mean = vitals_labs_mean[vitals_labs_mean.index.get_level_values('subject_id').isin(subjects_48)]\n",
    "interventions = interventions[interventions.index.get_level_values('subject_id').isin(subjects_48)]"
   ],
   "metadata": {
    "collapsed": false,
    "ExecuteTime": {
     "end_time": "2023-12-10T14:38:13.336295900Z",
     "start_time": "2023-12-10T14:38:03.745820600Z"
    }
   },
   "id": "5f749c29a7fd94a8"
  },
  {
   "cell_type": "code",
   "execution_count": 7,
   "outputs": [],
   "source": [
    "# Limit vital signs, lab measurements, and interventions to the first 48 hours of admission\n",
    "vitals_labs = vitals_labs[vitals_labs.index.get_level_values('hours_in') < 48]\n",
    "vitals_labs_mean = vitals_labs_mean[vitals_labs_mean.index.get_level_values('hours_in') < 48]\n",
    "interventions = interventions[interventions.index.get_level_values('hours_in') < 48]"
   ],
   "metadata": {
    "collapsed": false,
    "ExecuteTime": {
     "end_time": "2023-12-10T14:38:21.831325100Z",
     "start_time": "2023-12-10T14:38:18.334867Z"
    }
   },
   "id": "f5b4b180d0f16445"
  },
  {
   "cell_type": "code",
   "execution_count": 8,
   "outputs": [
    {
     "name": "stdout",
     "output_type": "stream",
     "text": [
      "(17530, 28)\n",
      "(841440, 312)\n",
      "(841440, 104)\n",
      "(841440, 14)\n"
     ]
    }
   ],
   "source": [
    "print(patients.shape)\n",
    "print(vitals_labs.shape)\n",
    "print(vitals_labs_mean.shape)\n",
    "print(interventions.shape)"
   ],
   "metadata": {
    "collapsed": false,
    "ExecuteTime": {
     "end_time": "2023-12-10T14:38:23.795051600Z",
     "start_time": "2023-12-10T14:38:23.643830100Z"
    }
   },
   "id": "e06d85c02c80ca24"
  },
  {
   "cell_type": "markdown",
   "source": [
    "## Patients"
   ],
   "metadata": {
    "collapsed": false
   },
   "id": "4a659875d373b84b"
  },
  {
   "cell_type": "code",
   "execution_count": 9,
   "outputs": [
    {
     "data": {
      "text/plain": "age\n>70      7800\n51-70    6448\n31-50    2502\n<31       780\nName: count, dtype: int64"
     },
     "execution_count": 9,
     "metadata": {},
     "output_type": "execute_result"
    }
   ],
   "source": [
    "# group age\n",
    "patients['age'] = patients['age'].apply(categorize_age)\n",
    "patients['age'].value_counts(dropna=False)"
   ],
   "metadata": {
    "collapsed": false,
    "ExecuteTime": {
     "end_time": "2023-12-10T14:38:27.487037500Z",
     "start_time": "2023-12-10T14:38:27.297278500Z"
    }
   },
   "id": "5b2fe826576f86cd"
  },
  {
   "cell_type": "code",
   "execution_count": 10,
   "outputs": [
    {
     "data": {
      "text/plain": "ethnicity\nWHITE              12416\nOTHER/UNKNOWN       2779\nBLACK               1333\nHISPANIC             538\nASIAN                448\nISLANDER               9\nNATIVE AMERICAN        7\nName: count, dtype: int64"
     },
     "execution_count": 10,
     "metadata": {},
     "output_type": "execute_result"
    }
   ],
   "source": [
    "# Regroup similar categories of ethnicities\n",
    "patients['ethnicity'] = patients['ethnicity'].apply(categorize_ethnicity)\n",
    "patients['ethnicity'].value_counts(dropna=False)"
   ],
   "metadata": {
    "collapsed": false,
    "ExecuteTime": {
     "end_time": "2023-12-10T14:38:30.105283Z",
     "start_time": "2023-12-10T14:38:29.976743200Z"
    }
   },
   "id": "7974b89f9338d51f"
  },
  {
   "cell_type": "code",
   "execution_count": 11,
   "outputs": [
    {
     "data": {
      "text/plain": "admission_type\nEMERGENCY    14815\nELECTIVE      2715\nName: count, dtype: int64"
     },
     "execution_count": 11,
     "metadata": {},
     "output_type": "execute_result"
    }
   ],
   "source": [
    "# regroup admission types into: EMERGENCY & ELECTIVE\n",
    "patients['admission_type'] = patients['admission_type'].apply(group_admission_type)\n",
    "patients['admission_type'].value_counts(dropna=False)"
   ],
   "metadata": {
    "collapsed": false,
    "ExecuteTime": {
     "end_time": "2023-12-10T14:38:32.763216100Z",
     "start_time": "2023-12-10T14:38:32.646718100Z"
    }
   },
   "id": "8a2e3c14cb1fc31c"
  },
  {
   "cell_type": "code",
   "execution_count": 12,
   "outputs": [
    {
     "name": "stdout",
     "output_type": "stream",
     "text": [
      "patients.shape:  (17530, 24)\n"
     ]
    },
    {
     "data": {
      "text/plain": "                               fullcode_first  dnr_first  cmo_first  \\\nsubject_id hadm_id icustay_id                                         \n3          145834  211552                 1.0        0.0        0.0   \n6          107064  228232                 1.0        0.0        0.0   \n9          150750  220597                 1.0        0.0        0.0   \n12         112213  232669                 1.0        0.0        0.0   \n13         143045  263738                 1.0        0.0        0.0   \n\n                               mort_hosp  readmission_30  max_hours  gender_M  \\\nsubject_id hadm_id icustay_id                                                   \n3          145834  211552              0               0        145         1   \n6          107064  228232              0               0         88         0   \n9          150750  220597              1               0        127         1   \n12         112213  232669              1               0        183         1   \n13         143045  263738              0               0         87         0   \n\n                               age_31-50  age_51-70  age_<31  ...  \\\nsubject_id hadm_id icustay_id                                 ...   \n3          145834  211552              0          0        0  ...   \n6          107064  228232              0          1        0  ...   \n9          150750  220597              1          0        0  ...   \n12         112213  232669              0          0        0  ...   \n13         143045  263738              1          0        0  ...   \n\n                               ethnicity_ISLANDER  ethnicity_NATIVE AMERICAN  \\\nsubject_id hadm_id icustay_id                                                  \n3          145834  211552                       0                          0   \n6          107064  228232                       0                          0   \n9          150750  220597                       0                          0   \n12         112213  232669                       0                          0   \n13         143045  263738                       0                          0   \n\n                               ethnicity_OTHER/UNKNOWN  ethnicity_WHITE  \\\nsubject_id hadm_id icustay_id                                             \n3          145834  211552                            0                1   \n6          107064  228232                            0                1   \n9          150750  220597                            1                0   \n12         112213  232669                            0                1   \n13         143045  263738                            0                1   \n\n                               admission_type_EMERGENCY  first_careunit_CCU  \\\nsubject_id hadm_id icustay_id                                                 \n3          145834  211552                             1                   0   \n6          107064  228232                             0                   0   \n9          150750  220597                             1                   0   \n12         112213  232669                             0                   0   \n13         143045  263738                             1                   1   \n\n                               first_careunit_CSRU  first_careunit_MICU  \\\nsubject_id hadm_id icustay_id                                             \n3          145834  211552                        0                    1   \n6          107064  228232                        0                    0   \n9          150750  220597                        0                    1   \n12         112213  232669                        0                    0   \n13         143045  263738                        0                    0   \n\n                               first_careunit_SICU  first_careunit_TSICU  \nsubject_id hadm_id icustay_id                                             \n3          145834  211552                        0                     0  \n6          107064  228232                        1                     0  \n9          150750  220597                        0                     0  \n12         112213  232669                        1                     0  \n13         143045  263738                        0                     0  \n\n[5 rows x 24 columns]",
      "text/html": "<div>\n<style scoped>\n    .dataframe tbody tr th:only-of-type {\n        vertical-align: middle;\n    }\n\n    .dataframe tbody tr th {\n        vertical-align: top;\n    }\n\n    .dataframe thead th {\n        text-align: right;\n    }\n</style>\n<table border=\"1\" class=\"dataframe\">\n  <thead>\n    <tr style=\"text-align: right;\">\n      <th></th>\n      <th></th>\n      <th></th>\n      <th>fullcode_first</th>\n      <th>dnr_first</th>\n      <th>cmo_first</th>\n      <th>mort_hosp</th>\n      <th>readmission_30</th>\n      <th>max_hours</th>\n      <th>gender_M</th>\n      <th>age_31-50</th>\n      <th>age_51-70</th>\n      <th>age_&lt;31</th>\n      <th>...</th>\n      <th>ethnicity_ISLANDER</th>\n      <th>ethnicity_NATIVE AMERICAN</th>\n      <th>ethnicity_OTHER/UNKNOWN</th>\n      <th>ethnicity_WHITE</th>\n      <th>admission_type_EMERGENCY</th>\n      <th>first_careunit_CCU</th>\n      <th>first_careunit_CSRU</th>\n      <th>first_careunit_MICU</th>\n      <th>first_careunit_SICU</th>\n      <th>first_careunit_TSICU</th>\n    </tr>\n    <tr>\n      <th>subject_id</th>\n      <th>hadm_id</th>\n      <th>icustay_id</th>\n      <th></th>\n      <th></th>\n      <th></th>\n      <th></th>\n      <th></th>\n      <th></th>\n      <th></th>\n      <th></th>\n      <th></th>\n      <th></th>\n      <th></th>\n      <th></th>\n      <th></th>\n      <th></th>\n      <th></th>\n      <th></th>\n      <th></th>\n      <th></th>\n      <th></th>\n      <th></th>\n      <th></th>\n    </tr>\n  </thead>\n  <tbody>\n    <tr>\n      <th>3</th>\n      <th>145834</th>\n      <th>211552</th>\n      <td>1.0</td>\n      <td>0.0</td>\n      <td>0.0</td>\n      <td>0</td>\n      <td>0</td>\n      <td>145</td>\n      <td>1</td>\n      <td>0</td>\n      <td>0</td>\n      <td>0</td>\n      <td>...</td>\n      <td>0</td>\n      <td>0</td>\n      <td>0</td>\n      <td>1</td>\n      <td>1</td>\n      <td>0</td>\n      <td>0</td>\n      <td>1</td>\n      <td>0</td>\n      <td>0</td>\n    </tr>\n    <tr>\n      <th>6</th>\n      <th>107064</th>\n      <th>228232</th>\n      <td>1.0</td>\n      <td>0.0</td>\n      <td>0.0</td>\n      <td>0</td>\n      <td>0</td>\n      <td>88</td>\n      <td>0</td>\n      <td>0</td>\n      <td>1</td>\n      <td>0</td>\n      <td>...</td>\n      <td>0</td>\n      <td>0</td>\n      <td>0</td>\n      <td>1</td>\n      <td>0</td>\n      <td>0</td>\n      <td>0</td>\n      <td>0</td>\n      <td>1</td>\n      <td>0</td>\n    </tr>\n    <tr>\n      <th>9</th>\n      <th>150750</th>\n      <th>220597</th>\n      <td>1.0</td>\n      <td>0.0</td>\n      <td>0.0</td>\n      <td>1</td>\n      <td>0</td>\n      <td>127</td>\n      <td>1</td>\n      <td>1</td>\n      <td>0</td>\n      <td>0</td>\n      <td>...</td>\n      <td>0</td>\n      <td>0</td>\n      <td>1</td>\n      <td>0</td>\n      <td>1</td>\n      <td>0</td>\n      <td>0</td>\n      <td>1</td>\n      <td>0</td>\n      <td>0</td>\n    </tr>\n    <tr>\n      <th>12</th>\n      <th>112213</th>\n      <th>232669</th>\n      <td>1.0</td>\n      <td>0.0</td>\n      <td>0.0</td>\n      <td>1</td>\n      <td>0</td>\n      <td>183</td>\n      <td>1</td>\n      <td>0</td>\n      <td>0</td>\n      <td>0</td>\n      <td>...</td>\n      <td>0</td>\n      <td>0</td>\n      <td>0</td>\n      <td>1</td>\n      <td>0</td>\n      <td>0</td>\n      <td>0</td>\n      <td>0</td>\n      <td>1</td>\n      <td>0</td>\n    </tr>\n    <tr>\n      <th>13</th>\n      <th>143045</th>\n      <th>263738</th>\n      <td>1.0</td>\n      <td>0.0</td>\n      <td>0.0</td>\n      <td>0</td>\n      <td>0</td>\n      <td>87</td>\n      <td>0</td>\n      <td>1</td>\n      <td>0</td>\n      <td>0</td>\n      <td>...</td>\n      <td>0</td>\n      <td>0</td>\n      <td>0</td>\n      <td>1</td>\n      <td>1</td>\n      <td>1</td>\n      <td>0</td>\n      <td>0</td>\n      <td>0</td>\n      <td>0</td>\n    </tr>\n  </tbody>\n</table>\n<p>5 rows × 24 columns</p>\n</div>"
     },
     "metadata": {},
     "output_type": "display_data"
    }
   ],
   "source": [
    "# Drop irrelevant or duplicated columns\n",
    "columns_to_drop = ['admittime', 'dischtime', 'intime', 'outtime', 'deathtime', 'discharge_location', 'dnr_first_charttime', 'diagnosis_at_admission', 'insurance', 'hospstay_seq', 'hospital_expire_flag', 'los_icu', 'dnr', 'fullcode', 'cmo', 'cmo_last', 'mort_icu']\n",
    "\n",
    "patients.drop(columns= columns_to_drop, inplace=True)\n",
    "\n",
    "# Select columns to be one-hot encoded\n",
    "categorical_cols = ['gender', 'age', 'ethnicity', 'admission_type', 'first_careunit']\n",
    "\n",
    "patients = pd.get_dummies(patients, columns=categorical_cols)\n",
    "patients.drop(columns=['gender_F', 'admission_type_ELECTIVE'], inplace=True)\n",
    "patients.fillna(0, inplace=True)\n",
    "\n",
    "bool_cols = [col for col in patients.columns if patients[col].dtype == 'bool']\n",
    "patients[bool_cols] = patients[bool_cols].astype(int)\n",
    "\n",
    "blind_display(patients, blinded=BLINDED)"
   ],
   "metadata": {
    "collapsed": false,
    "ExecuteTime": {
     "end_time": "2023-12-10T14:38:38.302534500Z",
     "start_time": "2023-12-10T14:38:38.093127900Z"
    }
   },
   "id": "5b5e0c0ad6aad931"
  },
  {
   "cell_type": "markdown",
   "source": [
    "## Vitals\n"
   ],
   "metadata": {
    "collapsed": false
   },
   "id": "7340eb40efa0b926"
  },
  {
   "cell_type": "code",
   "execution_count": null,
   "outputs": [],
   "source": [
    "reset_df = vitals_labs.reset_index()\n",
    "reduced_df = reset_df.groupby(['subject_id', 'hadm_id', 'icustay_id']).mean().reset_index()\n",
    "reduced_df.drop(columns=['hours_in'], inplace=True)\n",
    "\n",
    "melted_df = pd.melt(reduced_df, id_vars=['subject_id', 'hadm_id', 'icustay_id'], var_name=['LEVEL2', 'Aggregation Function'], value_name='Value')\n",
    "melted_df.drop(columns = ['subject_id', 'hadm_id', 'icustay_id'], inplace=True)\n",
    "\n",
    "vitals_summary = melted_df.groupby(['LEVEL2', 'Aggregation Function']).mean().reset_index()\n",
    "vitals_summary = vitals_summary.pivot_table(index='LEVEL2', columns='Aggregation Function', values='Value')\n",
    "vitals_summary.drop(columns=['count'], inplace=True)\n",
    "\n",
    "vitals_missing = vitals_labs_mean.isnull().sum() / vitals_labs_mean.shape[0] * 100\n",
    "vitals_missing = vitals_missing.reset_index()\n",
    "vitals_missing.drop(columns=['Aggregation Function'], inplace=True)\n",
    "vitals_missing.rename(columns={0: 'missing percent'}, inplace=True)\n",
    "\n",
    "vitals_pivot = pd.merge(vitals_summary, vitals_missing, on=['LEVEL2'])\n",
    "vitals_pivot.rename(columns={'LEVEL2': 'measurement'}, inplace=True)\n",
    "vitals_pivot.sort_values(by='missing percent', ascending=True, inplace=True)\n",
    "vitals_pivot.reset_index(drop=True, inplace=True)\n",
    "\n",
    "vitals_ranges_df = pd.read_csv('../resources/vitals_labs_ranges.csv')\n",
    "vitals_ranges_df.columns = vitals_ranges_df.columns.str.lower()\n",
    "\n",
    "merged_vitals = pd.merge(vitals_pivot, vitals_ranges_df[['measurement', 'valid low', 'valid high']], on=['measurement'], how='left')\n",
    "\n",
    "merged_vitals"
   ],
   "metadata": {
    "collapsed": false
   },
   "id": "b797bb54d1c4b81e"
  },
  {
   "cell_type": "code",
   "execution_count": 14,
   "outputs": [],
   "source": [
    "common_vitals = pd.read_csv('../resources/common_vitals_labs.csv')"
   ],
   "metadata": {
    "collapsed": false,
    "ExecuteTime": {
     "end_time": "2023-11-05T13:53:26.507973900Z",
     "start_time": "2023-11-05T13:53:26.345807700Z"
    }
   },
   "id": "d2ce572f93078275"
  },
  {
   "cell_type": "code",
   "execution_count": 15,
   "outputs": [
    {
     "data": {
      "text/plain": "LEVEL2                                  anion gap  bicarbonate  \\\nsubject_id hadm_id icustay_id hours_in                           \n3          145834  211552     0         20.666667    16.333333   \n                              1               NaN          NaN   \n                              2               NaN          NaN   \n                              3               NaN          NaN   \n                              4               NaN          NaN   \n\nLEVEL2                                  blood urea nitrogen   co2  calcium  \\\nsubject_id hadm_id icustay_id hours_in                                       \n3          145834  211552     0                        44.2  12.0     6.92   \n                              1                         NaN   NaN      NaN   \n                              2                         NaN   NaN      NaN   \n                              3                         NaN   NaN      NaN   \n                              4                         NaN   NaN      NaN   \n\nLEVEL2                                  central venous pressure  chloride  \\\nsubject_id hadm_id icustay_id hours_in                                      \n3          145834  211552     0                             NaN     109.5   \n                              1                             NaN       NaN   \n                              2                             NaN       NaN   \n                              3                            13.0       NaN   \n                              4                            16.0       NaN   \n\nLEVEL2                                  creatinine  diastolic blood pressure  \\\nsubject_id hadm_id icustay_id hours_in                                         \n3          145834  211552     0                2.6                 39.666667   \n                              1                NaN                 44.125000   \n                              2                NaN                 47.333333   \n                              3                NaN                 64.500000   \n                              4                NaN                 63.000000   \n\nLEVEL2                                  fraction inspired oxygen set  ...  \\\nsubject_id hadm_id icustay_id hours_in                                ...   \n3          145834  211552     0                                  1.0  ...   \n                              1                                  NaN  ...   \n                              2                                  NaN  ...   \n                              3                                  NaN  ...   \n                              4                                  0.8  ...   \n\nLEVEL2                                  prothrombin time pt  \\\nsubject_id hadm_id icustay_id hours_in                        \n3          145834  211552     0                       15.22   \n                              1                         NaN   \n                              2                         NaN   \n                              3                         NaN   \n                              4                         NaN   \n\nLEVEL2                                  pulmonary artery pressure systolic  \\\nsubject_id hadm_id icustay_id hours_in                                       \n3          145834  211552     0                                        NaN   \n                              1                                        NaN   \n                              2                                        NaN   \n                              3                                       19.0   \n                              4                                       40.0   \n\nLEVEL2                                  red blood cell count  \\\nsubject_id hadm_id icustay_id hours_in                         \n3          145834  211552     0                        2.884   \n                              1                          NaN   \n                              2                          NaN   \n                              3                          NaN   \n                              4                          NaN   \n\nLEVEL2                                  respiratory rate      sodium  \\\nsubject_id hadm_id icustay_id hours_in                                 \n3          145834  211552     0                16.000000  142.666667   \n                              1                15.500000         NaN   \n                              2                 7.000000  139.000000   \n                              3                 5.250000         NaN   \n                              4                13.666667         NaN   \n\nLEVEL2                                  systolic blood pressure  temperature  \\\nsubject_id hadm_id icustay_id hours_in                                         \n3          145834  211552     0                       95.166667          NaN   \n                              1                       81.000000          NaN   \n                              2                       90.666667          NaN   \n                              3                      117.000000          NaN   \n                              4                      102.000000          NaN   \n\nLEVEL2                                  tidal volume observed  \\\nsubject_id hadm_id icustay_id hours_in                          \n3          145834  211552     0                         690.0   \n                              1                           NaN   \n                              2                         800.0   \n                              3                           NaN   \n                              4                         680.0   \n\nLEVEL2                                  white blood cell count    ph  \nsubject_id hadm_id icustay_id hours_in                                \n3          145834  211552     0                      14.842857  7.40  \n                              1                            NaN   NaN  \n                              2                            NaN  7.26  \n                              3                            NaN   NaN  \n                              4                            NaN   NaN  \n\n[5 rows x 39 columns]",
      "text/html": "<div>\n<style scoped>\n    .dataframe tbody tr th:only-of-type {\n        vertical-align: middle;\n    }\n\n    .dataframe tbody tr th {\n        vertical-align: top;\n    }\n\n    .dataframe thead th {\n        text-align: right;\n    }\n</style>\n<table border=\"1\" class=\"dataframe\">\n  <thead>\n    <tr style=\"text-align: right;\">\n      <th></th>\n      <th></th>\n      <th></th>\n      <th>LEVEL2</th>\n      <th>anion gap</th>\n      <th>bicarbonate</th>\n      <th>blood urea nitrogen</th>\n      <th>co2</th>\n      <th>calcium</th>\n      <th>central venous pressure</th>\n      <th>chloride</th>\n      <th>creatinine</th>\n      <th>diastolic blood pressure</th>\n      <th>fraction inspired oxygen set</th>\n      <th>...</th>\n      <th>prothrombin time pt</th>\n      <th>pulmonary artery pressure systolic</th>\n      <th>red blood cell count</th>\n      <th>respiratory rate</th>\n      <th>sodium</th>\n      <th>systolic blood pressure</th>\n      <th>temperature</th>\n      <th>tidal volume observed</th>\n      <th>white blood cell count</th>\n      <th>ph</th>\n    </tr>\n    <tr>\n      <th>subject_id</th>\n      <th>hadm_id</th>\n      <th>icustay_id</th>\n      <th>hours_in</th>\n      <th></th>\n      <th></th>\n      <th></th>\n      <th></th>\n      <th></th>\n      <th></th>\n      <th></th>\n      <th></th>\n      <th></th>\n      <th></th>\n      <th></th>\n      <th></th>\n      <th></th>\n      <th></th>\n      <th></th>\n      <th></th>\n      <th></th>\n      <th></th>\n      <th></th>\n      <th></th>\n      <th></th>\n    </tr>\n  </thead>\n  <tbody>\n    <tr>\n      <th rowspan=\"5\" valign=\"top\">3</th>\n      <th rowspan=\"5\" valign=\"top\">145834</th>\n      <th rowspan=\"5\" valign=\"top\">211552</th>\n      <th>0</th>\n      <td>20.666667</td>\n      <td>16.333333</td>\n      <td>44.2</td>\n      <td>12.0</td>\n      <td>6.92</td>\n      <td>NaN</td>\n      <td>109.5</td>\n      <td>2.6</td>\n      <td>39.666667</td>\n      <td>1.0</td>\n      <td>...</td>\n      <td>15.22</td>\n      <td>NaN</td>\n      <td>2.884</td>\n      <td>16.000000</td>\n      <td>142.666667</td>\n      <td>95.166667</td>\n      <td>NaN</td>\n      <td>690.0</td>\n      <td>14.842857</td>\n      <td>7.40</td>\n    </tr>\n    <tr>\n      <th>1</th>\n      <td>NaN</td>\n      <td>NaN</td>\n      <td>NaN</td>\n      <td>NaN</td>\n      <td>NaN</td>\n      <td>NaN</td>\n      <td>NaN</td>\n      <td>NaN</td>\n      <td>44.125000</td>\n      <td>NaN</td>\n      <td>...</td>\n      <td>NaN</td>\n      <td>NaN</td>\n      <td>NaN</td>\n      <td>15.500000</td>\n      <td>NaN</td>\n      <td>81.000000</td>\n      <td>NaN</td>\n      <td>NaN</td>\n      <td>NaN</td>\n      <td>NaN</td>\n    </tr>\n    <tr>\n      <th>2</th>\n      <td>NaN</td>\n      <td>NaN</td>\n      <td>NaN</td>\n      <td>NaN</td>\n      <td>NaN</td>\n      <td>NaN</td>\n      <td>NaN</td>\n      <td>NaN</td>\n      <td>47.333333</td>\n      <td>NaN</td>\n      <td>...</td>\n      <td>NaN</td>\n      <td>NaN</td>\n      <td>NaN</td>\n      <td>7.000000</td>\n      <td>139.000000</td>\n      <td>90.666667</td>\n      <td>NaN</td>\n      <td>800.0</td>\n      <td>NaN</td>\n      <td>7.26</td>\n    </tr>\n    <tr>\n      <th>3</th>\n      <td>NaN</td>\n      <td>NaN</td>\n      <td>NaN</td>\n      <td>NaN</td>\n      <td>NaN</td>\n      <td>13.0</td>\n      <td>NaN</td>\n      <td>NaN</td>\n      <td>64.500000</td>\n      <td>NaN</td>\n      <td>...</td>\n      <td>NaN</td>\n      <td>19.0</td>\n      <td>NaN</td>\n      <td>5.250000</td>\n      <td>NaN</td>\n      <td>117.000000</td>\n      <td>NaN</td>\n      <td>NaN</td>\n      <td>NaN</td>\n      <td>NaN</td>\n    </tr>\n    <tr>\n      <th>4</th>\n      <td>NaN</td>\n      <td>NaN</td>\n      <td>NaN</td>\n      <td>NaN</td>\n      <td>NaN</td>\n      <td>16.0</td>\n      <td>NaN</td>\n      <td>NaN</td>\n      <td>63.000000</td>\n      <td>0.8</td>\n      <td>...</td>\n      <td>NaN</td>\n      <td>40.0</td>\n      <td>NaN</td>\n      <td>13.666667</td>\n      <td>NaN</td>\n      <td>102.000000</td>\n      <td>NaN</td>\n      <td>680.0</td>\n      <td>NaN</td>\n      <td>NaN</td>\n    </tr>\n  </tbody>\n</table>\n<p>5 rows × 39 columns</p>\n</div>"
     },
     "execution_count": 15,
     "metadata": {},
     "output_type": "execute_result"
    }
   ],
   "source": [
    "vitals_labs_mean.columns = vitals_labs_mean.columns.droplevel(-1)\n",
    "columns_to_drop = [col for col in vitals_labs_mean.columns if col not in common_vitals['measurement'].values]\n",
    "vitals_labs_mean.drop(columns=columns_to_drop, inplace=True)\n",
    "vitals_labs_mean.head()"
   ],
   "metadata": {
    "collapsed": false,
    "ExecuteTime": {
     "end_time": "2023-11-05T13:53:28.074807300Z",
     "start_time": "2023-11-05T13:53:27.831554700Z"
    }
   },
   "id": "4ef906e031d7eec6"
  },
  {
   "cell_type": "code",
   "execution_count": 26,
   "outputs": [
    {
     "data": {
      "text/plain": "3805"
     },
     "execution_count": 26,
     "metadata": {},
     "output_type": "execute_result"
    }
   ],
   "source": [
    "dead_patients = patients[patients['mort_hosp'] == 1].index.get_level_values('subject_id')\n",
    "len(dead_patients)"
   ],
   "metadata": {
    "collapsed": false,
    "ExecuteTime": {
     "end_time": "2023-11-05T13:56:17.729279Z",
     "start_time": "2023-11-05T13:56:17.603638500Z"
    }
   },
   "id": "5041ad44970e7af1"
  },
  {
   "cell_type": "code",
   "execution_count": 27,
   "outputs": [
    {
     "data": {
      "text/plain": "mort_hosp\n0    0.782944\n1    0.217056\nName: proportion, dtype: float64"
     },
     "execution_count": 27,
     "metadata": {},
     "output_type": "execute_result"
    }
   ],
   "source": [
    "patients['mort_hosp'].value_counts(normalize=True)"
   ],
   "metadata": {
    "collapsed": false,
    "ExecuteTime": {
     "end_time": "2023-11-05T13:56:22.710963200Z",
     "start_time": "2023-11-05T13:56:22.598214600Z"
    }
   },
   "id": "6e7bad1f790981f4"
  },
  {
   "cell_type": "code",
   "execution_count": 13,
   "outputs": [],
   "source": [
    "parameters = [{'mort_hosp': 1,'gender_M': 0, 'age_31-50': 1},\n",
    "              {'mort_hosp': 1,'gender_M': 0, 'age_>70': 1},\n",
    "              {'mort_hosp': 1,'gender_M': 1, 'age_31-50': 1},\n",
    "              {'mort_hosp': 1,'gender_M': 1, 'age_51-70': 1},\n",
    "              {'mort_hosp': 1,'gender_M': 1, 'age_>70': 1}]"
   ],
   "metadata": {
    "collapsed": false,
    "ExecuteTime": {
     "end_time": "2023-12-10T14:39:07.464507700Z",
     "start_time": "2023-12-10T14:39:07.348073900Z"
    }
   },
   "id": "4545ad4f1321ff07"
  },
  {
   "cell_type": "code",
   "execution_count": 14,
   "outputs": [],
   "source": [
    "for p in parameters:\n",
    "    arr = list(p.items())\n",
    "    dead_patients = patients[(patients[arr[0][0]] == arr[0][1]) & (patients[arr[1][0]] == arr[1][1]) & (patients[arr[2][0]] == arr[2][1])]\n",
    "    dead_patients_indices = dead_patients.index.get_level_values('subject_id')\n",
    "    \n",
    "    alive_patients = patients[(patients['mort_hosp'] == 0) & (patients[arr[1][0]] == arr[1][1]) & (patients[arr[2][0]] == arr[2][1])]\n",
    "    alive_patients = alive_patients.iloc[:dead_patients.shape[0]]\n",
    "    alive_patients_indices = alive_patients.index.get_level_values('subject_id')\n",
    "    \n",
    "    # Resample Patients\n",
    "    patients.loc[alive_patients_indices] = dead_patients.values\n",
    "    \n",
    "    # Resample vitals_labs\n",
    "    vitals_labs.loc[alive_patients_indices] = vitals_labs.loc[dead_patients_indices].values\n",
    "    \n",
    "    # Resample vitals_labs_mean\n",
    "    vitals_labs_mean.loc[alive_patients_indices] = vitals_labs_mean.loc[dead_patients_indices].values\n",
    "    \n",
    "    # Resample interventions\n",
    "    interventions.loc[alive_patients_indices] = interventions.loc[dead_patients_indices].values\n"
   ],
   "metadata": {
    "collapsed": false,
    "ExecuteTime": {
     "end_time": "2023-12-10T14:39:16.658638700Z",
     "start_time": "2023-12-10T14:39:13.444011400Z"
    }
   },
   "id": "c1b2b5d2c4f3a90d"
  },
  {
   "cell_type": "code",
   "execution_count": 15,
   "outputs": [
    {
     "name": "stdout",
     "output_type": "stream",
     "text": [
      "(17530, 24)\n",
      "(841440, 312)\n",
      "(841440, 104)\n",
      "(841440, 14)\n"
     ]
    }
   ],
   "source": [
    "print(patients.shape)\n",
    "print(vitals_labs.shape)\n",
    "print(vitals_labs_mean.shape)\n",
    "print(interventions.shape)"
   ],
   "metadata": {
    "collapsed": false,
    "ExecuteTime": {
     "end_time": "2023-12-10T14:39:19.737632900Z",
     "start_time": "2023-12-10T14:39:19.607000100Z"
    }
   },
   "id": "1620add604435627"
  },
  {
   "cell_type": "code",
   "execution_count": 16,
   "outputs": [
    {
     "data": {
      "text/plain": "                               mort_hosp\nsubject_id hadm_id icustay_id           \n3          145834  211552            1.0\n6          107064  228232            0.0\n9          150750  220597            1.0\n12         112213  232669            1.0\n13         143045  263738            1.0\n...                                  ...\n99973      150202  275083            0.0\n99982      151454  221194            0.0\n99991      151118  226241            0.0\n99992      197084  242052            0.0\n99995      137810  229633            0.0\n\n[17530 rows x 1 columns]",
      "text/html": "<div>\n<style scoped>\n    .dataframe tbody tr th:only-of-type {\n        vertical-align: middle;\n    }\n\n    .dataframe tbody tr th {\n        vertical-align: top;\n    }\n\n    .dataframe thead th {\n        text-align: right;\n    }\n</style>\n<table border=\"1\" class=\"dataframe\">\n  <thead>\n    <tr style=\"text-align: right;\">\n      <th></th>\n      <th></th>\n      <th></th>\n      <th>mort_hosp</th>\n    </tr>\n    <tr>\n      <th>subject_id</th>\n      <th>hadm_id</th>\n      <th>icustay_id</th>\n      <th></th>\n    </tr>\n  </thead>\n  <tbody>\n    <tr>\n      <th>3</th>\n      <th>145834</th>\n      <th>211552</th>\n      <td>1.0</td>\n    </tr>\n    <tr>\n      <th>6</th>\n      <th>107064</th>\n      <th>228232</th>\n      <td>0.0</td>\n    </tr>\n    <tr>\n      <th>9</th>\n      <th>150750</th>\n      <th>220597</th>\n      <td>1.0</td>\n    </tr>\n    <tr>\n      <th>12</th>\n      <th>112213</th>\n      <th>232669</th>\n      <td>1.0</td>\n    </tr>\n    <tr>\n      <th>13</th>\n      <th>143045</th>\n      <th>263738</th>\n      <td>1.0</td>\n    </tr>\n    <tr>\n      <th>...</th>\n      <th>...</th>\n      <th>...</th>\n      <td>...</td>\n    </tr>\n    <tr>\n      <th>99973</th>\n      <th>150202</th>\n      <th>275083</th>\n      <td>0.0</td>\n    </tr>\n    <tr>\n      <th>99982</th>\n      <th>151454</th>\n      <th>221194</th>\n      <td>0.0</td>\n    </tr>\n    <tr>\n      <th>99991</th>\n      <th>151118</th>\n      <th>226241</th>\n      <td>0.0</td>\n    </tr>\n    <tr>\n      <th>99992</th>\n      <th>197084</th>\n      <th>242052</th>\n      <td>0.0</td>\n    </tr>\n    <tr>\n      <th>99995</th>\n      <th>137810</th>\n      <th>229633</th>\n      <td>0.0</td>\n    </tr>\n  </tbody>\n</table>\n<p>17530 rows × 1 columns</p>\n</div>"
     },
     "execution_count": 16,
     "metadata": {},
     "output_type": "execute_result"
    }
   ],
   "source": [
    "Ys = patients[['mort_hosp']]\n",
    "Ys.astype(float)  # Convert to float type"
   ],
   "metadata": {
    "collapsed": false,
    "ExecuteTime": {
     "end_time": "2023-12-10T14:39:45.603743700Z",
     "start_time": "2023-12-10T14:39:45.463760300Z"
    }
   },
   "id": "ff11748bd4568992"
  },
  {
   "cell_type": "code",
   "execution_count": 17,
   "outputs": [
    {
     "name": "stdout",
     "output_type": "stream",
     "text": [
      "CPU times: total: 3.22 s\n",
      "Wall time: 3.24 s\n"
     ]
    }
   ],
   "source": [
    "%%time\n",
    "dead_global_means, dead_icustay_means, alive_global_means, alive_icustay_means = calculate_new_values(vitals_labs, Ys)"
   ],
   "metadata": {
    "collapsed": false,
    "ExecuteTime": {
     "end_time": "2023-12-10T14:40:01.641052300Z",
     "start_time": "2023-12-10T14:39:58.279455900Z"
    }
   },
   "id": "e4d726d5e46b9b21"
  },
  {
   "cell_type": "code",
   "execution_count": 18,
   "outputs": [
    {
     "name": "stdout",
     "output_type": "stream",
     "text": [
      "CPU times: total: 27min 30s\n",
      "Wall time: 27min 30s\n"
     ]
    }
   ],
   "source": [
    "%%time\n",
    "vitals_labs_imputed = new_imputer(vitals_labs, Ys, dead_global_means, dead_icustay_means, alive_global_means, alive_icustay_means)"
   ],
   "metadata": {
    "collapsed": false,
    "ExecuteTime": {
     "end_time": "2023-12-10T15:07:36.619430200Z",
     "start_time": "2023-12-10T14:40:06.098343400Z"
    }
   },
   "id": "35d60a3920c95c38"
  },
  {
   "cell_type": "code",
   "execution_count": 19,
   "outputs": [],
   "source": [
    "from src.data_preprocessing.split_dataset import *"
   ],
   "metadata": {
    "collapsed": false,
    "ExecuteTime": {
     "end_time": "2023-12-10T15:09:43.290164500Z",
     "start_time": "2023-12-10T15:09:43.160771100Z"
    }
   },
   "id": "e2088ec20dee07fb"
  },
  {
   "cell_type": "code",
   "execution_count": 20,
   "outputs": [
    {
     "name": "stdout",
     "output_type": "stream",
     "text": [
      "CPU times: total: 1.98 s\n",
      "Wall time: 2.04 s\n"
     ]
    }
   ],
   "source": [
    "%%time\n",
    "datasets = train_test_dev_split(patients, vitals_labs_imputed, interventions, Ys)"
   ],
   "metadata": {
    "collapsed": false,
    "ExecuteTime": {
     "end_time": "2023-12-10T15:10:08.877844500Z",
     "start_time": "2023-12-10T15:10:06.711454200Z"
    }
   },
   "id": "35efe51611ab58d0"
  },
  {
   "cell_type": "code",
   "execution_count": 21,
   "outputs": [
    {
     "name": "stdout",
     "output_type": "stream",
     "text": [
      "\n",
      "Patients:\n",
      "(12271, 22)\n",
      "(1753, 22)\n",
      "(3506, 22)\n",
      "\n",
      "Vitals:\n",
      "(589008, 312)\n",
      "(84144, 312)\n",
      "(168288, 312)\n",
      "\n",
      "Interv:\n",
      "(589008, 14)\n",
      "(84144, 14)\n",
      "(168288, 14)\n",
      "\n",
      "Ys:\n",
      "(12271, 1)\n",
      "(1753, 1)\n",
      "(3506, 1)\n",
      "CPU times: total: 0 ns\n",
      "Wall time: 0 ns\n"
     ]
    }
   ],
   "source": [
    "%%time\n",
    "# Define keys and corresponding variable names\n",
    "keys_varnames = [\n",
    "    ('patients', 'patients_train', 'patients_dev', 'patients_test'),\n",
    "    ('vitals', 'vitals_train', 'vitals_dev', 'vitals_test'),\n",
    "    ('interv', 'interv_train', 'interv_dev', 'interv_test'),\n",
    "    ('Ys', 'Ys_train', 'Ys_dev', 'Ys_test')\n",
    "]\n",
    "\n",
    "# Loop through each key and variable name to extract data and print shapes\n",
    "for key, train_var, dev_var, test_var in keys_varnames:\n",
    "    train_data, dev_data, test_data = datasets[key]\n",
    "    print(f'\\n{key.capitalize()}:')\n",
    "    print(train_data.shape)\n",
    "    print(dev_data.shape)\n",
    "    print(test_data.shape)\n",
    "\n",
    "    # # log the datasets\n",
    "    # save_to_pickle(train_data, os.path.join(LOG_DATA_DIR, f'{train_var}_split.pkl'))\n",
    "    # save_to_pickle(dev_data, os.path.join(LOG_DATA_DIR, f'{dev_var}_split.pkl'))\n",
    "    # save_to_pickle(test_data, os.path.join(LOG_DATA_DIR, f'{test_var}_split.pkl'))\n",
    "\n",
    "    # set the variables\n",
    "    globals()[train_var], globals()[dev_var], globals()[test_var] = train_data, dev_data, test_data"
   ],
   "metadata": {
    "collapsed": false,
    "ExecuteTime": {
     "end_time": "2023-12-10T15:10:17.560288Z",
     "start_time": "2023-12-10T15:10:17.436496300Z"
    }
   },
   "id": "4e8323bad017c29"
  },
  {
   "cell_type": "code",
   "execution_count": 22,
   "outputs": [],
   "source": [
    "def standardize_gru(vitals_train, vitals_dev, vitals_test):\n",
    "    idx = pd.IndexSlice\n",
    "    X_train, X_dev, X_test = vitals_train.copy(), vitals_dev.copy(), vitals_test.copy()\n",
    "\n",
    "    # Min-Max Scaling\n",
    "    train_min = X_train.loc[:, idx[:, 'mean']].min()\n",
    "    train_max = X_train.loc[:, idx[:, 'mean']].max()\n",
    "    for df in [X_train, X_dev, X_test]:\n",
    "        df.loc[:, idx[:, 'mean']] = minmax_scaling(df.loc[:, idx[:, 'mean']], train_min, train_max)\n",
    "\n",
    "    # Standardization\n",
    "    X_train.loc[:, idx[:, 'time_since_measured']] = np.where(X_train.loc[:, idx[:, 'time_since_measured']] == 100, 0, X_train.loc[:, idx[:, 'time_since_measured']])\n",
    "    train_mean = X_train.loc[:, idx[:, 'time_since_measured']].mean()\n",
    "    train_std = X_train.loc[:, idx[:, 'time_since_measured']].std()\n",
    "    for df in [X_train, X_dev, X_test]:\n",
    "        df.loc[:, idx[:, 'time_since_measured']] = standardize_time_since_measured(\n",
    "            df.loc[:, idx[:, 'time_since_measured']], train_mean, train_std)\n",
    "\n",
    "    return X_train, X_dev, X_test, train_min, train_max"
   ],
   "metadata": {
    "collapsed": false,
    "ExecuteTime": {
     "end_time": "2023-12-10T15:11:15.766162500Z",
     "start_time": "2023-12-10T15:11:15.644585700Z"
    }
   },
   "id": "43ea13c9b722a9e9"
  },
  {
   "cell_type": "code",
   "execution_count": 23,
   "outputs": [
    {
     "name": "stdout",
     "output_type": "stream",
     "text": [
      "CPU times: total: 3min 37s\n",
      "Wall time: 3min 34s\n"
     ]
    }
   ],
   "source": [
    "%%time\n",
    "vitals_train_std, vitals_dev_std, vitals_test_std, train_min, train_max = standardize_gru(vitals_train, vitals_dev, vitals_test)"
   ],
   "metadata": {
    "collapsed": false,
    "ExecuteTime": {
     "end_time": "2023-12-10T15:14:55.509371100Z",
     "start_time": "2023-12-10T15:11:20.678411600Z"
    }
   },
   "id": "95bb471296d1fae6"
  },
  {
   "cell_type": "code",
   "execution_count": 24,
   "outputs": [],
   "source": [
    "RESAMPLED_DIR = '../data/resampled/'"
   ],
   "metadata": {
    "collapsed": false,
    "ExecuteTime": {
     "end_time": "2023-12-10T15:15:47.575124200Z",
     "start_time": "2023-12-10T15:15:47.455788400Z"
    }
   },
   "id": "35dd9558453714e8"
  },
  {
   "cell_type": "code",
   "execution_count": 94,
   "outputs": [],
   "source": [
    "save_to_pickle(df=patients_train, filename=os.path.join(RESAMPLED_DIR, 'patients_train.pkl'))\n",
    "save_to_pickle(df=patients_dev, filename=os.path.join(RESAMPLED_DIR, 'patients_dev.pkl'))\n",
    "save_to_pickle(df=patients_test, filename=os.path.join(RESAMPLED_DIR, 'patients_test.pkl'))\n",
    "\n",
    "save_to_pickle(df=vitals_train_std, filename=os.path.join(RESAMPLED_DIR, 'vitals_train.pkl'))\n",
    "save_to_pickle(df=vitals_dev_std, filename=os.path.join(RESAMPLED_DIR, 'vitals_dev.pkl'))\n",
    "save_to_pickle(df=vitals_test_std, filename=os.path.join(RESAMPLED_DIR, 'vitals_test.pkl'))\n",
    "\n",
    "save_to_pickle(df=interv_train, filename=os.path.join(RESAMPLED_DIR, 'interv_train.pkl'))\n",
    "save_to_pickle(df=interv_dev, filename=os.path.join(RESAMPLED_DIR, 'interv_dev.pkl'))\n",
    "save_to_pickle(df=interv_test, filename=os.path.join(RESAMPLED_DIR, 'interv_test.pkl'))\n",
    "\n",
    "save_to_pickle(df=Ys_train, filename=os.path.join(RESAMPLED_DIR, 'Ys_train.pkl'))\n",
    "save_to_pickle(df=Ys_dev, filename=os.path.join(RESAMPLED_DIR, 'Ys_dev.pkl'))\n",
    "save_to_pickle(df=Ys_test, filename=os.path.join(RESAMPLED_DIR, 'Ys_test.pkl'))"
   ],
   "metadata": {
    "collapsed": false,
    "ExecuteTime": {
     "end_time": "2023-11-05T15:32:43.606032800Z",
     "start_time": "2023-11-05T15:32:40.710184700Z"
    }
   },
   "id": "59bbf33adba5e8f2"
  },
  {
   "cell_type": "code",
   "execution_count": 25,
   "outputs": [],
   "source": [
    "save_to_pickle(df=train_min, filename=os.path.join(RESAMPLED_DIR, 'train_min.pkl'))\n",
    "save_to_pickle(df=train_max, filename=os.path.join(RESAMPLED_DIR, 'train_max.pkl'))"
   ],
   "metadata": {
    "collapsed": false,
    "ExecuteTime": {
     "end_time": "2023-12-10T15:15:50.317742200Z",
     "start_time": "2023-12-10T15:15:50.194433200Z"
    }
   },
   "id": "68c46f07f4748bf"
  },
  {
   "cell_type": "code",
   "execution_count": 26,
   "outputs": [
    {
     "data": {
      "text/plain": "LEVEL2                        Aggregation Function\nalanine aminotransferase      mean                    2.00\nalbumin                       mean                    1.00\nalbumin ascites               mean                    0.20\nalbumin pleural               mean                    0.80\nalbumin urine                 mean                    0.40\n                                                      ... \ntroponin-t                    mean                    0.01\nvenous pvo2                   mean                    0.00\nweight                        mean                    0.00\nwhite blood cell count        mean                    0.10\nwhite blood cell count urine  mean                    0.10\nLength: 104, dtype: float64"
     },
     "execution_count": 26,
     "metadata": {},
     "output_type": "execute_result"
    }
   ],
   "source": [
    "train_min"
   ],
   "metadata": {
    "collapsed": false,
    "ExecuteTime": {
     "end_time": "2023-12-10T15:15:56.217078100Z",
     "start_time": "2023-12-10T15:15:56.082877700Z"
    }
   },
   "id": "59debc2ac6e96fce"
  }
 ],
 "metadata": {
  "kernelspec": {
   "display_name": "Python 3",
   "language": "python",
   "name": "python3"
  },
  "language_info": {
   "codemirror_mode": {
    "name": "ipython",
    "version": 2
   },
   "file_extension": ".py",
   "mimetype": "text/x-python",
   "name": "python",
   "nbconvert_exporter": "python",
   "pygments_lexer": "ipython2",
   "version": "2.7.6"
  }
 },
 "nbformat": 4,
 "nbformat_minor": 5
}
