{
 "cells": [
  {
   "cell_type": "code",
   "execution_count": 1,
   "id": "initial_id",
   "metadata": {
    "collapsed": true,
    "ExecuteTime": {
     "end_time": "2023-11-05T13:50:29.812433500Z",
     "start_time": "2023-11-05T13:50:28.966266600Z"
    }
   },
   "outputs": [],
   "source": [
    "import pandas as pd\n",
    "import numpy as np\n",
    "import matplotlib.pyplot as plt\n",
    "import seaborn as sns\n",
    "import h5py\n",
    "\n",
    "import os\n",
    "# import wandb\n",
    "import warnings\n",
    "\n",
    "from config import *\n",
    "from utils.eda_functions import *\n",
    "from src.data_preprocessing.demographics import *\n",
    "from src.data_preprocessing.vitals_labs import *\n",
    "from src.data_preprocessing.split_dataset import *\n",
    "from src.data_imputation.new_impute import (calculate_new_values, new_imputer)\n",
    "from src.data_imputation.hybrid_impute import hybrid_imputer\n",
    "from utils.safe_display import blind_display\n",
    "\n",
    "%load_ext autoreload\n",
    "%autoreload 2"
   ]
  },
  {
   "cell_type": "code",
   "execution_count": 2,
   "outputs": [],
   "source": [
    "# Safety flag - when set to True will not display sensitive data\n",
    "BLINDED = False\n",
    "warnings.filterwarnings('ignore')"
   ],
   "metadata": {
    "collapsed": false,
    "ExecuteTime": {
     "end_time": "2023-11-05T13:51:14.321196Z",
     "start_time": "2023-11-05T13:51:13.135471200Z"
    }
   },
   "id": "408569099e189350"
  },
  {
   "cell_type": "code",
   "execution_count": 3,
   "outputs": [
    {
     "name": "stdout",
     "output_type": "stream",
     "text": [
      "['codes', 'interventions', 'patients', 'vitals_labs', 'vitals_labs_mean']\n"
     ]
    }
   ],
   "source": [
    "# Open the file in read mode\n",
    "with h5py.File(DATA_FILE_PATH, 'r') as file:\n",
    "    # Print the keys at the root of the file\n",
    "    print(list(file.keys()))\n",
    "\n",
    "patients = pd.read_hdf(DATA_FILE_PATH, 'patients')\n",
    "vitals_labs = pd.read_hdf(DATA_FILE_PATH, 'vitals_labs')\n",
    "vitals_labs_mean = pd.read_hdf(DATA_FILE_PATH, 'vitals_labs_mean')\n",
    "interventions = pd .read_hdf(DATA_FILE_PATH, 'interventions')\n",
    "codes = pd.read_hdf(DATA_FILE_PATH, 'codes')"
   ],
   "metadata": {
    "collapsed": false,
    "ExecuteTime": {
     "end_time": "2023-11-05T13:51:58.101370200Z",
     "start_time": "2023-11-05T13:51:15.498194200Z"
    }
   },
   "id": "9db16267ac03f1ea"
  },
  {
   "cell_type": "code",
   "execution_count": 4,
   "outputs": [
    {
     "name": "stdout",
     "output_type": "stream",
     "text": [
      "(34472, 28)\n",
      "(2200954, 104)\n",
      "(2200954, 14)\n"
     ]
    }
   ],
   "source": [
    "print(patients.shape)\n",
    "print(vitals_labs_mean.shape)\n",
    "print(interventions.shape)"
   ],
   "metadata": {
    "collapsed": false,
    "ExecuteTime": {
     "end_time": "2023-11-05T13:52:21.564433Z",
     "start_time": "2023-11-05T13:52:21.446635500Z"
    }
   },
   "id": "a798fa728049ccb6"
  },
  {
   "cell_type": "code",
   "execution_count": 5,
   "outputs": [
    {
     "data": {
      "text/plain": "17530"
     },
     "execution_count": 5,
     "metadata": {},
     "output_type": "execute_result"
    }
   ],
   "source": [
    "subjects_48 = vitals_labs[vitals_labs.index.get_level_values('hours_in') == 47].index.get_level_values('subject_id')\n",
    "len(subjects_48)"
   ],
   "metadata": {
    "collapsed": false,
    "ExecuteTime": {
     "end_time": "2023-11-05T13:52:29.433278Z",
     "start_time": "2023-11-05T13:52:24.087223900Z"
    }
   },
   "id": "48c41781e9f4b87b"
  },
  {
   "cell_type": "code",
   "execution_count": 6,
   "outputs": [],
   "source": [
    "# Limit vital signs, lab measurements, and interventions to the subjects_48 patients\n",
    "patients = patients[patients.index.get_level_values('subject_id').isin(subjects_48)]\n",
    "vitals_labs = vitals_labs[vitals_labs.index.get_level_values('subject_id').isin(subjects_48)]\n",
    "vitals_labs_mean = vitals_labs_mean[vitals_labs_mean.index.get_level_values('subject_id').isin(subjects_48)]\n",
    "interventions = interventions[interventions.index.get_level_values('subject_id').isin(subjects_48)]"
   ],
   "metadata": {
    "collapsed": false,
    "ExecuteTime": {
     "end_time": "2023-11-05T13:52:45.757160200Z",
     "start_time": "2023-11-05T13:52:31.495324400Z"
    }
   },
   "id": "5f749c29a7fd94a8"
  },
  {
   "cell_type": "code",
   "execution_count": 7,
   "outputs": [],
   "source": [
    "# Limit vital signs, lab measurements, and interventions to the first 48 hours of admission\n",
    "vitals_labs = vitals_labs[vitals_labs.index.get_level_values('hours_in') < 48]\n",
    "vitals_labs_mean = vitals_labs_mean[vitals_labs_mean.index.get_level_values('hours_in') < 48]\n",
    "interventions = interventions[interventions.index.get_level_values('hours_in') < 48]"
   ],
   "metadata": {
    "collapsed": false,
    "ExecuteTime": {
     "end_time": "2023-11-05T13:52:50.563258400Z",
     "start_time": "2023-11-05T13:52:46.965567300Z"
    }
   },
   "id": "f5b4b180d0f16445"
  },
  {
   "cell_type": "code",
   "execution_count": 9,
   "outputs": [
    {
     "name": "stdout",
     "output_type": "stream",
     "text": [
      "(17530, 28)\n",
      "(841440, 312)\n",
      "(841440, 104)\n",
      "(841440, 14)\n"
     ]
    }
   ],
   "source": [
    "print(patients.shape)\n",
    "print(vitals_labs.shape)\n",
    "print(vitals_labs_mean.shape)\n",
    "print(interventions.shape)"
   ],
   "metadata": {
    "collapsed": false,
    "ExecuteTime": {
     "end_time": "2023-11-05T13:53:10.548305500Z",
     "start_time": "2023-11-05T13:53:10.431056Z"
    }
   },
   "id": "e06d85c02c80ca24"
  },
  {
   "cell_type": "markdown",
   "source": [
    "## Patients"
   ],
   "metadata": {
    "collapsed": false
   },
   "id": "4a659875d373b84b"
  },
  {
   "cell_type": "code",
   "execution_count": 10,
   "outputs": [
    {
     "data": {
      "text/plain": "age\n>70      7800\n51-70    6448\n31-50    2502\n<31       780\nName: count, dtype: int64"
     },
     "execution_count": 10,
     "metadata": {},
     "output_type": "execute_result"
    }
   ],
   "source": [
    "# group age\n",
    "patients['age'] = patients['age'].apply(categorize_age)\n",
    "patients['age'].value_counts(dropna=False)"
   ],
   "metadata": {
    "collapsed": false,
    "ExecuteTime": {
     "end_time": "2023-11-05T13:53:16.500870200Z",
     "start_time": "2023-11-05T13:53:16.341265300Z"
    }
   },
   "id": "5b2fe826576f86cd"
  },
  {
   "cell_type": "code",
   "execution_count": 11,
   "outputs": [
    {
     "data": {
      "text/plain": "ethnicity\nWHITE              12416\nOTHER/UNKNOWN       2779\nBLACK               1333\nHISPANIC             538\nASIAN                448\nISLANDER               9\nNATIVE AMERICAN        7\nName: count, dtype: int64"
     },
     "execution_count": 11,
     "metadata": {},
     "output_type": "execute_result"
    }
   ],
   "source": [
    "# Regroup similar categories of ethnicities\n",
    "patients['ethnicity'] = patients['ethnicity'].apply(categorize_ethnicity)\n",
    "patients['ethnicity'].value_counts(dropna=False)"
   ],
   "metadata": {
    "collapsed": false,
    "ExecuteTime": {
     "end_time": "2023-11-05T13:53:18.383116600Z",
     "start_time": "2023-11-05T13:53:18.256926Z"
    }
   },
   "id": "7974b89f9338d51f"
  },
  {
   "cell_type": "code",
   "execution_count": 12,
   "outputs": [
    {
     "data": {
      "text/plain": "admission_type\nEMERGENCY    14815\nELECTIVE      2715\nName: count, dtype: int64"
     },
     "execution_count": 12,
     "metadata": {},
     "output_type": "execute_result"
    }
   ],
   "source": [
    "# regroup admission types into: EMERGENCY & ELECTIVE\n",
    "patients['admission_type'] = patients['admission_type'].apply(group_admission_type)\n",
    "patients['admission_type'].value_counts(dropna=False)"
   ],
   "metadata": {
    "collapsed": false,
    "ExecuteTime": {
     "end_time": "2023-11-05T13:53:20.089282900Z",
     "start_time": "2023-11-05T13:53:19.937966300Z"
    }
   },
   "id": "8a2e3c14cb1fc31c"
  },
  {
   "cell_type": "code",
   "execution_count": 13,
   "outputs": [
    {
     "name": "stdout",
     "output_type": "stream",
     "text": [
      "patients.shape:  (17530, 24)\n"
     ]
    },
    {
     "data": {
      "text/plain": "                               fullcode_first  dnr_first  cmo_first  \\\nsubject_id hadm_id icustay_id                                         \n3          145834  211552                 1.0        0.0        0.0   \n6          107064  228232                 1.0        0.0        0.0   \n9          150750  220597                 1.0        0.0        0.0   \n12         112213  232669                 1.0        0.0        0.0   \n13         143045  263738                 1.0        0.0        0.0   \n\n                               mort_hosp  readmission_30  max_hours  gender_M  \\\nsubject_id hadm_id icustay_id                                                   \n3          145834  211552              0               0        145         1   \n6          107064  228232              0               0         88         0   \n9          150750  220597              1               0        127         1   \n12         112213  232669              1               0        183         1   \n13         143045  263738              0               0         87         0   \n\n                               age_31-50  age_51-70  age_<31  ...  \\\nsubject_id hadm_id icustay_id                                 ...   \n3          145834  211552              0          0        0  ...   \n6          107064  228232              0          1        0  ...   \n9          150750  220597              1          0        0  ...   \n12         112213  232669              0          0        0  ...   \n13         143045  263738              1          0        0  ...   \n\n                               ethnicity_ISLANDER  ethnicity_NATIVE AMERICAN  \\\nsubject_id hadm_id icustay_id                                                  \n3          145834  211552                       0                          0   \n6          107064  228232                       0                          0   \n9          150750  220597                       0                          0   \n12         112213  232669                       0                          0   \n13         143045  263738                       0                          0   \n\n                               ethnicity_OTHER/UNKNOWN  ethnicity_WHITE  \\\nsubject_id hadm_id icustay_id                                             \n3          145834  211552                            0                1   \n6          107064  228232                            0                1   \n9          150750  220597                            1                0   \n12         112213  232669                            0                1   \n13         143045  263738                            0                1   \n\n                               admission_type_EMERGENCY  first_careunit_CCU  \\\nsubject_id hadm_id icustay_id                                                 \n3          145834  211552                             1                   0   \n6          107064  228232                             0                   0   \n9          150750  220597                             1                   0   \n12         112213  232669                             0                   0   \n13         143045  263738                             1                   1   \n\n                               first_careunit_CSRU  first_careunit_MICU  \\\nsubject_id hadm_id icustay_id                                             \n3          145834  211552                        0                    1   \n6          107064  228232                        0                    0   \n9          150750  220597                        0                    1   \n12         112213  232669                        0                    0   \n13         143045  263738                        0                    0   \n\n                               first_careunit_SICU  first_careunit_TSICU  \nsubject_id hadm_id icustay_id                                             \n3          145834  211552                        0                     0  \n6          107064  228232                        1                     0  \n9          150750  220597                        0                     0  \n12         112213  232669                        1                     0  \n13         143045  263738                        0                     0  \n\n[5 rows x 24 columns]",
      "text/html": "<div>\n<style scoped>\n    .dataframe tbody tr th:only-of-type {\n        vertical-align: middle;\n    }\n\n    .dataframe tbody tr th {\n        vertical-align: top;\n    }\n\n    .dataframe thead th {\n        text-align: right;\n    }\n</style>\n<table border=\"1\" class=\"dataframe\">\n  <thead>\n    <tr style=\"text-align: right;\">\n      <th></th>\n      <th></th>\n      <th></th>\n      <th>fullcode_first</th>\n      <th>dnr_first</th>\n      <th>cmo_first</th>\n      <th>mort_hosp</th>\n      <th>readmission_30</th>\n      <th>max_hours</th>\n      <th>gender_M</th>\n      <th>age_31-50</th>\n      <th>age_51-70</th>\n      <th>age_&lt;31</th>\n      <th>...</th>\n      <th>ethnicity_ISLANDER</th>\n      <th>ethnicity_NATIVE AMERICAN</th>\n      <th>ethnicity_OTHER/UNKNOWN</th>\n      <th>ethnicity_WHITE</th>\n      <th>admission_type_EMERGENCY</th>\n      <th>first_careunit_CCU</th>\n      <th>first_careunit_CSRU</th>\n      <th>first_careunit_MICU</th>\n      <th>first_careunit_SICU</th>\n      <th>first_careunit_TSICU</th>\n    </tr>\n    <tr>\n      <th>subject_id</th>\n      <th>hadm_id</th>\n      <th>icustay_id</th>\n      <th></th>\n      <th></th>\n      <th></th>\n      <th></th>\n      <th></th>\n      <th></th>\n      <th></th>\n      <th></th>\n      <th></th>\n      <th></th>\n      <th></th>\n      <th></th>\n      <th></th>\n      <th></th>\n      <th></th>\n      <th></th>\n      <th></th>\n      <th></th>\n      <th></th>\n      <th></th>\n      <th></th>\n    </tr>\n  </thead>\n  <tbody>\n    <tr>\n      <th>3</th>\n      <th>145834</th>\n      <th>211552</th>\n      <td>1.0</td>\n      <td>0.0</td>\n      <td>0.0</td>\n      <td>0</td>\n      <td>0</td>\n      <td>145</td>\n      <td>1</td>\n      <td>0</td>\n      <td>0</td>\n      <td>0</td>\n      <td>...</td>\n      <td>0</td>\n      <td>0</td>\n      <td>0</td>\n      <td>1</td>\n      <td>1</td>\n      <td>0</td>\n      <td>0</td>\n      <td>1</td>\n      <td>0</td>\n      <td>0</td>\n    </tr>\n    <tr>\n      <th>6</th>\n      <th>107064</th>\n      <th>228232</th>\n      <td>1.0</td>\n      <td>0.0</td>\n      <td>0.0</td>\n      <td>0</td>\n      <td>0</td>\n      <td>88</td>\n      <td>0</td>\n      <td>0</td>\n      <td>1</td>\n      <td>0</td>\n      <td>...</td>\n      <td>0</td>\n      <td>0</td>\n      <td>0</td>\n      <td>1</td>\n      <td>0</td>\n      <td>0</td>\n      <td>0</td>\n      <td>0</td>\n      <td>1</td>\n      <td>0</td>\n    </tr>\n    <tr>\n      <th>9</th>\n      <th>150750</th>\n      <th>220597</th>\n      <td>1.0</td>\n      <td>0.0</td>\n      <td>0.0</td>\n      <td>1</td>\n      <td>0</td>\n      <td>127</td>\n      <td>1</td>\n      <td>1</td>\n      <td>0</td>\n      <td>0</td>\n      <td>...</td>\n      <td>0</td>\n      <td>0</td>\n      <td>1</td>\n      <td>0</td>\n      <td>1</td>\n      <td>0</td>\n      <td>0</td>\n      <td>1</td>\n      <td>0</td>\n      <td>0</td>\n    </tr>\n    <tr>\n      <th>12</th>\n      <th>112213</th>\n      <th>232669</th>\n      <td>1.0</td>\n      <td>0.0</td>\n      <td>0.0</td>\n      <td>1</td>\n      <td>0</td>\n      <td>183</td>\n      <td>1</td>\n      <td>0</td>\n      <td>0</td>\n      <td>0</td>\n      <td>...</td>\n      <td>0</td>\n      <td>0</td>\n      <td>0</td>\n      <td>1</td>\n      <td>0</td>\n      <td>0</td>\n      <td>0</td>\n      <td>0</td>\n      <td>1</td>\n      <td>0</td>\n    </tr>\n    <tr>\n      <th>13</th>\n      <th>143045</th>\n      <th>263738</th>\n      <td>1.0</td>\n      <td>0.0</td>\n      <td>0.0</td>\n      <td>0</td>\n      <td>0</td>\n      <td>87</td>\n      <td>0</td>\n      <td>1</td>\n      <td>0</td>\n      <td>0</td>\n      <td>...</td>\n      <td>0</td>\n      <td>0</td>\n      <td>0</td>\n      <td>1</td>\n      <td>1</td>\n      <td>1</td>\n      <td>0</td>\n      <td>0</td>\n      <td>0</td>\n      <td>0</td>\n    </tr>\n  </tbody>\n</table>\n<p>5 rows × 24 columns</p>\n</div>"
     },
     "metadata": {},
     "output_type": "display_data"
    }
   ],
   "source": [
    "# Drop irrelevant or duplicated columns\n",
    "columns_to_drop = ['admittime', 'dischtime', 'intime', 'outtime', 'deathtime', 'discharge_location', 'dnr_first_charttime', 'diagnosis_at_admission', 'insurance', 'hospstay_seq', 'hospital_expire_flag', 'los_icu', 'dnr', 'fullcode', 'cmo', 'cmo_last', 'mort_icu']\n",
    "\n",
    "patients.drop(columns= columns_to_drop, inplace=True)\n",
    "\n",
    "# Select columns to be one-hot encoded\n",
    "categorical_cols = ['gender', 'age', 'ethnicity', 'admission_type', 'first_careunit']\n",
    "\n",
    "patients = pd.get_dummies(patients, columns=categorical_cols)\n",
    "patients.drop(columns=['gender_F', 'admission_type_ELECTIVE'], inplace=True)\n",
    "patients.fillna(0, inplace=True)\n",
    "\n",
    "bool_cols = [col for col in patients.columns if patients[col].dtype == 'bool']\n",
    "patients[bool_cols] = patients[bool_cols].astype(int)\n",
    "\n",
    "blind_display(patients, blinded=BLINDED)"
   ],
   "metadata": {
    "collapsed": false,
    "ExecuteTime": {
     "end_time": "2023-11-05T13:53:22.106880600Z",
     "start_time": "2023-11-05T13:53:21.920466900Z"
    }
   },
   "id": "5b5e0c0ad6aad931"
  },
  {
   "cell_type": "markdown",
   "source": [
    "## Vitals\n"
   ],
   "metadata": {
    "collapsed": false
   },
   "id": "7340eb40efa0b926"
  },
  {
   "cell_type": "code",
   "execution_count": null,
   "outputs": [],
   "source": [
    "reset_df = vitals_labs.reset_index()\n",
    "reduced_df = reset_df.groupby(['subject_id', 'hadm_id', 'icustay_id']).mean().reset_index()\n",
    "reduced_df.drop(columns=['hours_in'], inplace=True)\n",
    "\n",
    "melted_df = pd.melt(reduced_df, id_vars=['subject_id', 'hadm_id', 'icustay_id'], var_name=['LEVEL2', 'Aggregation Function'], value_name='Value')\n",
    "melted_df.drop(columns = ['subject_id', 'hadm_id', 'icustay_id'], inplace=True)\n",
    "\n",
    "vitals_summary = melted_df.groupby(['LEVEL2', 'Aggregation Function']).mean().reset_index()\n",
    "vitals_summary = vitals_summary.pivot_table(index='LEVEL2', columns='Aggregation Function', values='Value')\n",
    "vitals_summary.drop(columns=['count'], inplace=True)\n",
    "\n",
    "vitals_missing = vitals_labs_mean.isnull().sum() / vitals_labs_mean.shape[0] * 100\n",
    "vitals_missing = vitals_missing.reset_index()\n",
    "vitals_missing.drop(columns=['Aggregation Function'], inplace=True)\n",
    "vitals_missing.rename(columns={0: 'missing percent'}, inplace=True)\n",
    "\n",
    "vitals_pivot = pd.merge(vitals_summary, vitals_missing, on=['LEVEL2'])\n",
    "vitals_pivot.rename(columns={'LEVEL2': 'measurement'}, inplace=True)\n",
    "vitals_pivot.sort_values(by='missing percent', ascending=True, inplace=True)\n",
    "vitals_pivot.reset_index(drop=True, inplace=True)\n",
    "\n",
    "vitals_ranges_df = pd.read_csv('../resources/vitals_labs_ranges.csv')\n",
    "vitals_ranges_df.columns = vitals_ranges_df.columns.str.lower()\n",
    "\n",
    "merged_vitals = pd.merge(vitals_pivot, vitals_ranges_df[['measurement', 'valid low', 'valid high']], on=['measurement'], how='left')\n",
    "\n",
    "merged_vitals"
   ],
   "metadata": {
    "collapsed": false
   },
   "id": "b797bb54d1c4b81e"
  },
  {
   "cell_type": "code",
   "execution_count": 14,
   "outputs": [],
   "source": [
    "common_vitals = pd.read_csv('../resources/common_vitals_labs.csv')"
   ],
   "metadata": {
    "collapsed": false,
    "ExecuteTime": {
     "end_time": "2023-11-05T13:53:26.507973900Z",
     "start_time": "2023-11-05T13:53:26.345807700Z"
    }
   },
   "id": "d2ce572f93078275"
  },
  {
   "cell_type": "code",
   "execution_count": 15,
   "outputs": [
    {
     "data": {
      "text/plain": "LEVEL2                                  anion gap  bicarbonate  \\\nsubject_id hadm_id icustay_id hours_in                           \n3          145834  211552     0         20.666667    16.333333   \n                              1               NaN          NaN   \n                              2               NaN          NaN   \n                              3               NaN          NaN   \n                              4               NaN          NaN   \n\nLEVEL2                                  blood urea nitrogen   co2  calcium  \\\nsubject_id hadm_id icustay_id hours_in                                       \n3          145834  211552     0                        44.2  12.0     6.92   \n                              1                         NaN   NaN      NaN   \n                              2                         NaN   NaN      NaN   \n                              3                         NaN   NaN      NaN   \n                              4                         NaN   NaN      NaN   \n\nLEVEL2                                  central venous pressure  chloride  \\\nsubject_id hadm_id icustay_id hours_in                                      \n3          145834  211552     0                             NaN     109.5   \n                              1                             NaN       NaN   \n                              2                             NaN       NaN   \n                              3                            13.0       NaN   \n                              4                            16.0       NaN   \n\nLEVEL2                                  creatinine  diastolic blood pressure  \\\nsubject_id hadm_id icustay_id hours_in                                         \n3          145834  211552     0                2.6                 39.666667   \n                              1                NaN                 44.125000   \n                              2                NaN                 47.333333   \n                              3                NaN                 64.500000   \n                              4                NaN                 63.000000   \n\nLEVEL2                                  fraction inspired oxygen set  ...  \\\nsubject_id hadm_id icustay_id hours_in                                ...   \n3          145834  211552     0                                  1.0  ...   \n                              1                                  NaN  ...   \n                              2                                  NaN  ...   \n                              3                                  NaN  ...   \n                              4                                  0.8  ...   \n\nLEVEL2                                  prothrombin time pt  \\\nsubject_id hadm_id icustay_id hours_in                        \n3          145834  211552     0                       15.22   \n                              1                         NaN   \n                              2                         NaN   \n                              3                         NaN   \n                              4                         NaN   \n\nLEVEL2                                  pulmonary artery pressure systolic  \\\nsubject_id hadm_id icustay_id hours_in                                       \n3          145834  211552     0                                        NaN   \n                              1                                        NaN   \n                              2                                        NaN   \n                              3                                       19.0   \n                              4                                       40.0   \n\nLEVEL2                                  red blood cell count  \\\nsubject_id hadm_id icustay_id hours_in                         \n3          145834  211552     0                        2.884   \n                              1                          NaN   \n                              2                          NaN   \n                              3                          NaN   \n                              4                          NaN   \n\nLEVEL2                                  respiratory rate      sodium  \\\nsubject_id hadm_id icustay_id hours_in                                 \n3          145834  211552     0                16.000000  142.666667   \n                              1                15.500000         NaN   \n                              2                 7.000000  139.000000   \n                              3                 5.250000         NaN   \n                              4                13.666667         NaN   \n\nLEVEL2                                  systolic blood pressure  temperature  \\\nsubject_id hadm_id icustay_id hours_in                                         \n3          145834  211552     0                       95.166667          NaN   \n                              1                       81.000000          NaN   \n                              2                       90.666667          NaN   \n                              3                      117.000000          NaN   \n                              4                      102.000000          NaN   \n\nLEVEL2                                  tidal volume observed  \\\nsubject_id hadm_id icustay_id hours_in                          \n3          145834  211552     0                         690.0   \n                              1                           NaN   \n                              2                         800.0   \n                              3                           NaN   \n                              4                         680.0   \n\nLEVEL2                                  white blood cell count    ph  \nsubject_id hadm_id icustay_id hours_in                                \n3          145834  211552     0                      14.842857  7.40  \n                              1                            NaN   NaN  \n                              2                            NaN  7.26  \n                              3                            NaN   NaN  \n                              4                            NaN   NaN  \n\n[5 rows x 39 columns]",
      "text/html": "<div>\n<style scoped>\n    .dataframe tbody tr th:only-of-type {\n        vertical-align: middle;\n    }\n\n    .dataframe tbody tr th {\n        vertical-align: top;\n    }\n\n    .dataframe thead th {\n        text-align: right;\n    }\n</style>\n<table border=\"1\" class=\"dataframe\">\n  <thead>\n    <tr style=\"text-align: right;\">\n      <th></th>\n      <th></th>\n      <th></th>\n      <th>LEVEL2</th>\n      <th>anion gap</th>\n      <th>bicarbonate</th>\n      <th>blood urea nitrogen</th>\n      <th>co2</th>\n      <th>calcium</th>\n      <th>central venous pressure</th>\n      <th>chloride</th>\n      <th>creatinine</th>\n      <th>diastolic blood pressure</th>\n      <th>fraction inspired oxygen set</th>\n      <th>...</th>\n      <th>prothrombin time pt</th>\n      <th>pulmonary artery pressure systolic</th>\n      <th>red blood cell count</th>\n      <th>respiratory rate</th>\n      <th>sodium</th>\n      <th>systolic blood pressure</th>\n      <th>temperature</th>\n      <th>tidal volume observed</th>\n      <th>white blood cell count</th>\n      <th>ph</th>\n    </tr>\n    <tr>\n      <th>subject_id</th>\n      <th>hadm_id</th>\n      <th>icustay_id</th>\n      <th>hours_in</th>\n      <th></th>\n      <th></th>\n      <th></th>\n      <th></th>\n      <th></th>\n      <th></th>\n      <th></th>\n      <th></th>\n      <th></th>\n      <th></th>\n      <th></th>\n      <th></th>\n      <th></th>\n      <th></th>\n      <th></th>\n      <th></th>\n      <th></th>\n      <th></th>\n      <th></th>\n      <th></th>\n      <th></th>\n    </tr>\n  </thead>\n  <tbody>\n    <tr>\n      <th rowspan=\"5\" valign=\"top\">3</th>\n      <th rowspan=\"5\" valign=\"top\">145834</th>\n      <th rowspan=\"5\" valign=\"top\">211552</th>\n      <th>0</th>\n      <td>20.666667</td>\n      <td>16.333333</td>\n      <td>44.2</td>\n      <td>12.0</td>\n      <td>6.92</td>\n      <td>NaN</td>\n      <td>109.5</td>\n      <td>2.6</td>\n      <td>39.666667</td>\n      <td>1.0</td>\n      <td>...</td>\n      <td>15.22</td>\n      <td>NaN</td>\n      <td>2.884</td>\n      <td>16.000000</td>\n      <td>142.666667</td>\n      <td>95.166667</td>\n      <td>NaN</td>\n      <td>690.0</td>\n      <td>14.842857</td>\n      <td>7.40</td>\n    </tr>\n    <tr>\n      <th>1</th>\n      <td>NaN</td>\n      <td>NaN</td>\n      <td>NaN</td>\n      <td>NaN</td>\n      <td>NaN</td>\n      <td>NaN</td>\n      <td>NaN</td>\n      <td>NaN</td>\n      <td>44.125000</td>\n      <td>NaN</td>\n      <td>...</td>\n      <td>NaN</td>\n      <td>NaN</td>\n      <td>NaN</td>\n      <td>15.500000</td>\n      <td>NaN</td>\n      <td>81.000000</td>\n      <td>NaN</td>\n      <td>NaN</td>\n      <td>NaN</td>\n      <td>NaN</td>\n    </tr>\n    <tr>\n      <th>2</th>\n      <td>NaN</td>\n      <td>NaN</td>\n      <td>NaN</td>\n      <td>NaN</td>\n      <td>NaN</td>\n      <td>NaN</td>\n      <td>NaN</td>\n      <td>NaN</td>\n      <td>47.333333</td>\n      <td>NaN</td>\n      <td>...</td>\n      <td>NaN</td>\n      <td>NaN</td>\n      <td>NaN</td>\n      <td>7.000000</td>\n      <td>139.000000</td>\n      <td>90.666667</td>\n      <td>NaN</td>\n      <td>800.0</td>\n      <td>NaN</td>\n      <td>7.26</td>\n    </tr>\n    <tr>\n      <th>3</th>\n      <td>NaN</td>\n      <td>NaN</td>\n      <td>NaN</td>\n      <td>NaN</td>\n      <td>NaN</td>\n      <td>13.0</td>\n      <td>NaN</td>\n      <td>NaN</td>\n      <td>64.500000</td>\n      <td>NaN</td>\n      <td>...</td>\n      <td>NaN</td>\n      <td>19.0</td>\n      <td>NaN</td>\n      <td>5.250000</td>\n      <td>NaN</td>\n      <td>117.000000</td>\n      <td>NaN</td>\n      <td>NaN</td>\n      <td>NaN</td>\n      <td>NaN</td>\n    </tr>\n    <tr>\n      <th>4</th>\n      <td>NaN</td>\n      <td>NaN</td>\n      <td>NaN</td>\n      <td>NaN</td>\n      <td>NaN</td>\n      <td>16.0</td>\n      <td>NaN</td>\n      <td>NaN</td>\n      <td>63.000000</td>\n      <td>0.8</td>\n      <td>...</td>\n      <td>NaN</td>\n      <td>40.0</td>\n      <td>NaN</td>\n      <td>13.666667</td>\n      <td>NaN</td>\n      <td>102.000000</td>\n      <td>NaN</td>\n      <td>680.0</td>\n      <td>NaN</td>\n      <td>NaN</td>\n    </tr>\n  </tbody>\n</table>\n<p>5 rows × 39 columns</p>\n</div>"
     },
     "execution_count": 15,
     "metadata": {},
     "output_type": "execute_result"
    }
   ],
   "source": [
    "vitals_labs_mean.columns = vitals_labs_mean.columns.droplevel(-1)\n",
    "columns_to_drop = [col for col in vitals_labs_mean.columns if col not in common_vitals['measurement'].values]\n",
    "vitals_labs_mean.drop(columns=columns_to_drop, inplace=True)\n",
    "vitals_labs_mean.head()"
   ],
   "metadata": {
    "collapsed": false,
    "ExecuteTime": {
     "end_time": "2023-11-05T13:53:28.074807300Z",
     "start_time": "2023-11-05T13:53:27.831554700Z"
    }
   },
   "id": "4ef906e031d7eec6"
  },
  {
   "cell_type": "code",
   "execution_count": 26,
   "outputs": [
    {
     "data": {
      "text/plain": "3805"
     },
     "execution_count": 26,
     "metadata": {},
     "output_type": "execute_result"
    }
   ],
   "source": [
    "dead_patients = patients[patients['mort_hosp'] == 1].index.get_level_values('subject_id')\n",
    "len(dead_patients)"
   ],
   "metadata": {
    "collapsed": false,
    "ExecuteTime": {
     "end_time": "2023-11-05T13:56:17.729279Z",
     "start_time": "2023-11-05T13:56:17.603638500Z"
    }
   },
   "id": "5041ad44970e7af1"
  },
  {
   "cell_type": "code",
   "execution_count": 27,
   "outputs": [
    {
     "data": {
      "text/plain": "mort_hosp\n0    0.782944\n1    0.217056\nName: proportion, dtype: float64"
     },
     "execution_count": 27,
     "metadata": {},
     "output_type": "execute_result"
    }
   ],
   "source": [
    "patients['mort_8hosp'].value_counts(normalize=True)"
   ],
   "metadata": {
    "collapsed": false,
    "ExecuteTime": {
     "end_time": "2023-11-05T13:56:22.710963200Z",
     "start_time": "2023-11-05T13:56:22.598214600Z"
    }
   },
   "id": "6e7bad1f790981f4"
  },
  {
   "cell_type": "code",
   "execution_count": 23,
   "outputs": [],
   "source": [
    "parameters = [{'mort_hosp': 1,'gender_M': 0, 'age_31-50': 1},\n",
    "              {'mort_hosp': 1,'gender_M': 0, 'age_>70': 1},\n",
    "              {'mort_hosp': 1,'gender_M': 1, 'age_31-50': 1},\n",
    "              {'mort_hosp': 1,'gender_M': 1, 'age_51-70': 1},\n",
    "              {'mort_hosp': 1,'gender_M': 1, 'age_>70': 1}]"
   ],
   "metadata": {
    "collapsed": false,
    "ExecuteTime": {
     "end_time": "2023-11-05T13:56:02.729293800Z",
     "start_time": "2023-11-05T13:56:02.619631200Z"
    }
   },
   "id": "4545ad4f1321ff07"
  },
  {
   "cell_type": "code",
   "execution_count": 24,
   "outputs": [],
   "source": [
    "for p in parameters:\n",
    "    arr = list(p.items())\n",
    "    dead_patients = patients[(patients[arr[0][0]] == arr[0][1]) & (patients[arr[1][0]] == arr[1][1]) & (patients[arr[2][0]] == arr[2][1])]\n",
    "    dead_patients_indices = dead_patients.index.get_level_values('subject_id')\n",
    "    \n",
    "    alive_patients = patients[(patients['mort_hosp'] == 0) & (patients[arr[1][0]] == arr[1][1]) & (patients[arr[2][0]] == arr[2][1])]\n",
    "    alive_patients = alive_patients.iloc[:dead_patients.shape[0]]\n",
    "    alive_patients_indices = alive_patients.index.get_level_values('subject_id')\n",
    "    \n",
    "    # Resample Patients\n",
    "    patients.loc[alive_patients_indices] = dead_patients.values\n",
    "    \n",
    "    # Resample vitals_labs\n",
    "    vitals_labs.loc[alive_patients_indices] = vitals_labs.loc[dead_patients_indices].values\n",
    "    \n",
    "    # Resample vitals_labs_mean\n",
    "    vitals_labs_mean.loc[alive_patients_indices] = vitals_labs_mean.loc[dead_patients_indices].values\n",
    "    \n",
    "    # Resample interventions\n",
    "    interventions.loc[alive_patients_indices] = interventions.loc[dead_patients_indices].values\n"
   ],
   "metadata": {
    "collapsed": false,
    "ExecuteTime": {
     "end_time": "2023-11-05T13:56:10.640360900Z",
     "start_time": "2023-11-05T13:56:09.702885100Z"
    }
   },
   "id": "c1b2b5d2c4f3a90d"
  },
  {
   "cell_type": "code",
   "execution_count": 25,
   "outputs": [
    {
     "name": "stdout",
     "output_type": "stream",
     "text": [
      "(17530, 24)\n",
      "(841440, 312)\n",
      "(841440, 39)\n",
      "(841440, 14)\n"
     ]
    }
   ],
   "source": [
    "print(patients.shape)\n",
    "print(vitals_labs.shape)\n",
    "print(vitals_labs_mean.shape)\n",
    "print(interventions.shape)"
   ],
   "metadata": {
    "collapsed": false,
    "ExecuteTime": {
     "end_time": "2023-11-05T13:56:13.803271Z",
     "start_time": "2023-11-05T13:56:13.697426100Z"
    }
   },
   "id": "1620add604435627"
  },
  {
   "cell_type": "code",
   "execution_count": 28,
   "outputs": [
    {
     "data": {
      "text/plain": "                                  measurement  normal min  normal high  \\\n0                                  heart rate       60.00       100.00   \n1                            respiratory rate       12.00        16.00   \n2                     systolic blood pressure       90.00       120.00   \n3                    diastolic blood pressure       60.00        80.00   \n4                         mean blood pressure       70.00       100.00   \n5                           oxygen saturation       95.00       100.00   \n6                                 temperature       36.10        37.20   \n7                                     glucose       70.00       100.00   \n8                     central venous pressure        2.00         6.00   \n9                    glasgow coma scale total       13.00        15.00   \n10                                 hematocrit       35.50        48.60   \n11                                  potassium        3.60         5.20   \n12                                     sodium      135.00       145.00   \n13                                   chloride       96.00       106.00   \n14         pulmonary artery pressure systolic       18.00        25.00   \n15                                 hemoglobin       12.10        17.20   \n16                                         ph        7.35         7.45   \n17                                 creatinine        0.84         1.21   \n18                        blood urea nitrogen        7.00        20.00   \n19                                bicarbonate       22.00        28.00   \n20                                  platelets   150000.00    450000.00   \n21                                  anion gap        3.00        11.00   \n22                                        co2       35.00        45.00   \n23         partial pressure of carbon dioxide       35.00        45.00   \n24                                  magnesium        1.70         2.20   \n25                     white blood cell count     4500.00     11000.00   \n26       positive end-expiratory pressure set        5.00        20.00   \n27                                    calcium        8.50        10.20   \n28               fraction inspired oxygen set       21.00        60.00   \n29                       red blood cell count        4.20         6.10   \n30  mean corpuscular hemoglobin concentration       33.40        35.50   \n31                mean corpuscular hemoglobin       27.00        34.00   \n32                    mean corpuscular volume       80.00       100.00   \n33                      tidal volume observed        6.00         8.00   \n34                partial thromboplastin time       25.00        35.00   \n35                       prothrombin time inr        0.80         1.10   \n36                        prothrombin time pt       11.00        13.50   \n37                                  phosphate        2.50         4.50   \n38                                phosphorous        2.50         4.50   \n39                  peak inspiratory pressure       10.00        20.00   \n\n    risk min  risk high   unit of measurement  \n0          0     100.00                   bpm  \n1          0      20.00    breaths per minute  \n2          0     140.00                  mmHg  \n3          0      90.00                  mmHg  \n4          0     110.00                  mmHg  \n5          0      90.00                     %  \n6          0      37.50                    °C  \n7          0     200.00                 mg/dL  \n8          0       6.00                  mmHg  \n9          0      13.00                   NaN  \n10         0      52.00                     %  \n11         0       5.20                mmol/L  \n12         0     145.00                mmol/L  \n13         0     106.00                mmol/L  \n14         0      30.00                  mmHg  \n15         0      18.00                  g/dL  \n16         0       7.45                   NaN  \n17         0       1.50                 mg/dL  \n18         0      20.00                 mg/dL  \n19         0      28.00                 mEq/L  \n20         0  450000.00                  /mcL  \n21         0      11.00                 mEq/L  \n22         0      45.00                  mmHg  \n23         0      45.00                  mmHg  \n24         0       2.20                 mg/dL  \n25         0   11000.00             cells/mcL  \n26         0      20.00                cm H2O  \n27         0      10.20                 mg/dL  \n28         0      60.00                     %  \n29         0       6.10     million cells/mcL  \n30         0      35.50                  g/dL  \n31         0      34.00                    pg  \n32         0     100.00                    fL  \n33         0       8.00  mL/kg of body weight  \n34         0      35.00               seconds  \n35         0       1.10                   NaN  \n36         0      13.50               seconds  \n37         0       4.50                 mg/dL  \n38         0       4.50                 mg/dL  \n39         0      20.00                cm H2O  ",
      "text/html": "<div>\n<style scoped>\n    .dataframe tbody tr th:only-of-type {\n        vertical-align: middle;\n    }\n\n    .dataframe tbody tr th {\n        vertical-align: top;\n    }\n\n    .dataframe thead th {\n        text-align: right;\n    }\n</style>\n<table border=\"1\" class=\"dataframe\">\n  <thead>\n    <tr style=\"text-align: right;\">\n      <th></th>\n      <th>measurement</th>\n      <th>normal min</th>\n      <th>normal high</th>\n      <th>risk min</th>\n      <th>risk high</th>\n      <th>unit of measurement</th>\n    </tr>\n  </thead>\n  <tbody>\n    <tr>\n      <th>0</th>\n      <td>heart rate</td>\n      <td>60.00</td>\n      <td>100.00</td>\n      <td>0</td>\n      <td>100.00</td>\n      <td>bpm</td>\n    </tr>\n    <tr>\n      <th>1</th>\n      <td>respiratory rate</td>\n      <td>12.00</td>\n      <td>16.00</td>\n      <td>0</td>\n      <td>20.00</td>\n      <td>breaths per minute</td>\n    </tr>\n    <tr>\n      <th>2</th>\n      <td>systolic blood pressure</td>\n      <td>90.00</td>\n      <td>120.00</td>\n      <td>0</td>\n      <td>140.00</td>\n      <td>mmHg</td>\n    </tr>\n    <tr>\n      <th>3</th>\n      <td>diastolic blood pressure</td>\n      <td>60.00</td>\n      <td>80.00</td>\n      <td>0</td>\n      <td>90.00</td>\n      <td>mmHg</td>\n    </tr>\n    <tr>\n      <th>4</th>\n      <td>mean blood pressure</td>\n      <td>70.00</td>\n      <td>100.00</td>\n      <td>0</td>\n      <td>110.00</td>\n      <td>mmHg</td>\n    </tr>\n    <tr>\n      <th>5</th>\n      <td>oxygen saturation</td>\n      <td>95.00</td>\n      <td>100.00</td>\n      <td>0</td>\n      <td>90.00</td>\n      <td>%</td>\n    </tr>\n    <tr>\n      <th>6</th>\n      <td>temperature</td>\n      <td>36.10</td>\n      <td>37.20</td>\n      <td>0</td>\n      <td>37.50</td>\n      <td>°C</td>\n    </tr>\n    <tr>\n      <th>7</th>\n      <td>glucose</td>\n      <td>70.00</td>\n      <td>100.00</td>\n      <td>0</td>\n      <td>200.00</td>\n      <td>mg/dL</td>\n    </tr>\n    <tr>\n      <th>8</th>\n      <td>central venous pressure</td>\n      <td>2.00</td>\n      <td>6.00</td>\n      <td>0</td>\n      <td>6.00</td>\n      <td>mmHg</td>\n    </tr>\n    <tr>\n      <th>9</th>\n      <td>glasgow coma scale total</td>\n      <td>13.00</td>\n      <td>15.00</td>\n      <td>0</td>\n      <td>13.00</td>\n      <td>NaN</td>\n    </tr>\n    <tr>\n      <th>10</th>\n      <td>hematocrit</td>\n      <td>35.50</td>\n      <td>48.60</td>\n      <td>0</td>\n      <td>52.00</td>\n      <td>%</td>\n    </tr>\n    <tr>\n      <th>11</th>\n      <td>potassium</td>\n      <td>3.60</td>\n      <td>5.20</td>\n      <td>0</td>\n      <td>5.20</td>\n      <td>mmol/L</td>\n    </tr>\n    <tr>\n      <th>12</th>\n      <td>sodium</td>\n      <td>135.00</td>\n      <td>145.00</td>\n      <td>0</td>\n      <td>145.00</td>\n      <td>mmol/L</td>\n    </tr>\n    <tr>\n      <th>13</th>\n      <td>chloride</td>\n      <td>96.00</td>\n      <td>106.00</td>\n      <td>0</td>\n      <td>106.00</td>\n      <td>mmol/L</td>\n    </tr>\n    <tr>\n      <th>14</th>\n      <td>pulmonary artery pressure systolic</td>\n      <td>18.00</td>\n      <td>25.00</td>\n      <td>0</td>\n      <td>30.00</td>\n      <td>mmHg</td>\n    </tr>\n    <tr>\n      <th>15</th>\n      <td>hemoglobin</td>\n      <td>12.10</td>\n      <td>17.20</td>\n      <td>0</td>\n      <td>18.00</td>\n      <td>g/dL</td>\n    </tr>\n    <tr>\n      <th>16</th>\n      <td>ph</td>\n      <td>7.35</td>\n      <td>7.45</td>\n      <td>0</td>\n      <td>7.45</td>\n      <td>NaN</td>\n    </tr>\n    <tr>\n      <th>17</th>\n      <td>creatinine</td>\n      <td>0.84</td>\n      <td>1.21</td>\n      <td>0</td>\n      <td>1.50</td>\n      <td>mg/dL</td>\n    </tr>\n    <tr>\n      <th>18</th>\n      <td>blood urea nitrogen</td>\n      <td>7.00</td>\n      <td>20.00</td>\n      <td>0</td>\n      <td>20.00</td>\n      <td>mg/dL</td>\n    </tr>\n    <tr>\n      <th>19</th>\n      <td>bicarbonate</td>\n      <td>22.00</td>\n      <td>28.00</td>\n      <td>0</td>\n      <td>28.00</td>\n      <td>mEq/L</td>\n    </tr>\n    <tr>\n      <th>20</th>\n      <td>platelets</td>\n      <td>150000.00</td>\n      <td>450000.00</td>\n      <td>0</td>\n      <td>450000.00</td>\n      <td>/mcL</td>\n    </tr>\n    <tr>\n      <th>21</th>\n      <td>anion gap</td>\n      <td>3.00</td>\n      <td>11.00</td>\n      <td>0</td>\n      <td>11.00</td>\n      <td>mEq/L</td>\n    </tr>\n    <tr>\n      <th>22</th>\n      <td>co2</td>\n      <td>35.00</td>\n      <td>45.00</td>\n      <td>0</td>\n      <td>45.00</td>\n      <td>mmHg</td>\n    </tr>\n    <tr>\n      <th>23</th>\n      <td>partial pressure of carbon dioxide</td>\n      <td>35.00</td>\n      <td>45.00</td>\n      <td>0</td>\n      <td>45.00</td>\n      <td>mmHg</td>\n    </tr>\n    <tr>\n      <th>24</th>\n      <td>magnesium</td>\n      <td>1.70</td>\n      <td>2.20</td>\n      <td>0</td>\n      <td>2.20</td>\n      <td>mg/dL</td>\n    </tr>\n    <tr>\n      <th>25</th>\n      <td>white blood cell count</td>\n      <td>4500.00</td>\n      <td>11000.00</td>\n      <td>0</td>\n      <td>11000.00</td>\n      <td>cells/mcL</td>\n    </tr>\n    <tr>\n      <th>26</th>\n      <td>positive end-expiratory pressure set</td>\n      <td>5.00</td>\n      <td>20.00</td>\n      <td>0</td>\n      <td>20.00</td>\n      <td>cm H2O</td>\n    </tr>\n    <tr>\n      <th>27</th>\n      <td>calcium</td>\n      <td>8.50</td>\n      <td>10.20</td>\n      <td>0</td>\n      <td>10.20</td>\n      <td>mg/dL</td>\n    </tr>\n    <tr>\n      <th>28</th>\n      <td>fraction inspired oxygen set</td>\n      <td>21.00</td>\n      <td>60.00</td>\n      <td>0</td>\n      <td>60.00</td>\n      <td>%</td>\n    </tr>\n    <tr>\n      <th>29</th>\n      <td>red blood cell count</td>\n      <td>4.20</td>\n      <td>6.10</td>\n      <td>0</td>\n      <td>6.10</td>\n      <td>million cells/mcL</td>\n    </tr>\n    <tr>\n      <th>30</th>\n      <td>mean corpuscular hemoglobin concentration</td>\n      <td>33.40</td>\n      <td>35.50</td>\n      <td>0</td>\n      <td>35.50</td>\n      <td>g/dL</td>\n    </tr>\n    <tr>\n      <th>31</th>\n      <td>mean corpuscular hemoglobin</td>\n      <td>27.00</td>\n      <td>34.00</td>\n      <td>0</td>\n      <td>34.00</td>\n      <td>pg</td>\n    </tr>\n    <tr>\n      <th>32</th>\n      <td>mean corpuscular volume</td>\n      <td>80.00</td>\n      <td>100.00</td>\n      <td>0</td>\n      <td>100.00</td>\n      <td>fL</td>\n    </tr>\n    <tr>\n      <th>33</th>\n      <td>tidal volume observed</td>\n      <td>6.00</td>\n      <td>8.00</td>\n      <td>0</td>\n      <td>8.00</td>\n      <td>mL/kg of body weight</td>\n    </tr>\n    <tr>\n      <th>34</th>\n      <td>partial thromboplastin time</td>\n      <td>25.00</td>\n      <td>35.00</td>\n      <td>0</td>\n      <td>35.00</td>\n      <td>seconds</td>\n    </tr>\n    <tr>\n      <th>35</th>\n      <td>prothrombin time inr</td>\n      <td>0.80</td>\n      <td>1.10</td>\n      <td>0</td>\n      <td>1.10</td>\n      <td>NaN</td>\n    </tr>\n    <tr>\n      <th>36</th>\n      <td>prothrombin time pt</td>\n      <td>11.00</td>\n      <td>13.50</td>\n      <td>0</td>\n      <td>13.50</td>\n      <td>seconds</td>\n    </tr>\n    <tr>\n      <th>37</th>\n      <td>phosphate</td>\n      <td>2.50</td>\n      <td>4.50</td>\n      <td>0</td>\n      <td>4.50</td>\n      <td>mg/dL</td>\n    </tr>\n    <tr>\n      <th>38</th>\n      <td>phosphorous</td>\n      <td>2.50</td>\n      <td>4.50</td>\n      <td>0</td>\n      <td>4.50</td>\n      <td>mg/dL</td>\n    </tr>\n    <tr>\n      <th>39</th>\n      <td>peak inspiratory pressure</td>\n      <td>10.00</td>\n      <td>20.00</td>\n      <td>0</td>\n      <td>20.00</td>\n      <td>cm H2O</td>\n    </tr>\n  </tbody>\n</table>\n</div>"
     },
     "execution_count": 28,
     "metadata": {},
     "output_type": "execute_result"
    }
   ],
   "source": [
    "common_vitals"
   ],
   "metadata": {
    "collapsed": false,
    "ExecuteTime": {
     "end_time": "2023-11-05T13:59:35.866199500Z",
     "start_time": "2023-11-05T13:59:35.740549900Z"
    }
   },
   "id": "d92dfe90ace9b6b8"
  },
  {
   "cell_type": "code",
   "execution_count": 29,
   "outputs": [
    {
     "data": {
      "text/plain": "LEVEL2                                  anion gap  bicarbonate  \\\nsubject_id hadm_id icustay_id hours_in                           \n3          145834  211552     0               NaN         10.0   \n                              1               NaN          NaN   \n                              2              28.0         11.0   \n                              3               NaN          NaN   \n                              4               NaN          NaN   \n...                                           ...          ...   \n99995      137810  229633     43              NaN          NaN   \n                              44              NaN          NaN   \n                              45              NaN          NaN   \n                              46              NaN          NaN   \n                              47              NaN          NaN   \n\nLEVEL2                                  blood urea nitrogen   co2  calcium  \\\nsubject_id hadm_id icustay_id hours_in                                       \n3          145834  211552     0                         NaN   NaN      NaN   \n                              1                         NaN   NaN      NaN   \n                              2                        28.0  11.0      8.3   \n                              3                         NaN   NaN      NaN   \n                              4                         NaN   NaN      NaN   \n...                                                     ...   ...      ...   \n99995      137810  229633     43                        NaN   NaN      NaN   \n                              44                        NaN   NaN      NaN   \n                              45                        NaN   NaN      NaN   \n                              46                        NaN   NaN      NaN   \n                              47                        NaN   NaN      NaN   \n\nLEVEL2                                  central venous pressure  chloride  \\\nsubject_id hadm_id icustay_id hours_in                                      \n3          145834  211552     0                             NaN     112.0   \n                              1                             NaN       NaN   \n                              2                             NaN     111.0   \n                              3                            15.0       NaN   \n                              4                            13.0       NaN   \n...                                                         ...       ...   \n99995      137810  229633     43                            NaN       NaN   \n                              44                            NaN       NaN   \n                              45                            NaN       NaN   \n                              46                            NaN       NaN   \n                              47                            NaN       NaN   \n\nLEVEL2                                  creatinine  diastolic blood pressure  \\\nsubject_id hadm_id icustay_id hours_in                                         \n3          145834  211552     0                NaN                       NaN   \n                              1                NaN                       NaN   \n                              2                1.3                      72.5   \n                              3                NaN                      61.0   \n                              4                NaN                      68.0   \n...                                            ...                       ...   \n99995      137810  229633     43               NaN                      55.0   \n                              44               NaN                      60.0   \n                              45               NaN                      51.5   \n                              46               NaN                      60.0   \n                              47               NaN                      49.0   \n\nLEVEL2                                  fraction inspired oxygen set  ...  \\\nsubject_id hadm_id icustay_id hours_in                                ...   \n3          145834  211552     0                                  NaN  ...   \n                              1                                  NaN  ...   \n                              2                                  0.6  ...   \n                              3                                  0.5  ...   \n                              4                                  0.5  ...   \n...                                                              ...  ...   \n99995      137810  229633     43                                 NaN  ...   \n                              44                                 NaN  ...   \n                              45                                 NaN  ...   \n                              46                                 NaN  ...   \n                              47                                 NaN  ...   \n\nLEVEL2                                  prothrombin time pt  \\\nsubject_id hadm_id icustay_id hours_in                        \n3          145834  211552     0                        16.4   \n                              1                         NaN   \n                              2                        15.5   \n                              3                         NaN   \n                              4                         NaN   \n...                                                     ...   \n99995      137810  229633     43                        NaN   \n                              44                        NaN   \n                              45                        NaN   \n                              46                        NaN   \n                              47                        NaN   \n\nLEVEL2                                  pulmonary artery pressure systolic  \\\nsubject_id hadm_id icustay_id hours_in                                       \n3          145834  211552     0                                        NaN   \n                              1                                        NaN   \n                              2                                        NaN   \n                              3                                        NaN   \n                              4                                        NaN   \n...                                                                    ...   \n99995      137810  229633     43                                       NaN   \n                              44                                       NaN   \n                              45                                       NaN   \n                              46                                       NaN   \n                              47                                       NaN   \n\nLEVEL2                                  red blood cell count  \\\nsubject_id hadm_id icustay_id hours_in                         \n3          145834  211552     0                          NaN   \n                              1                          NaN   \n                              2                          4.4   \n                              3                          NaN   \n                              4                          NaN   \n...                                                      ...   \n99995      137810  229633     43                         NaN   \n                              44                         NaN   \n                              45                         NaN   \n                              46                         NaN   \n                              47                         NaN   \n\nLEVEL2                                  respiratory rate  sodium  \\\nsubject_id hadm_id icustay_id hours_in                             \n3          145834  211552     0                      NaN   139.0   \n                              1                      NaN     NaN   \n                              2                10.000000   145.0   \n                              3                12.666667     NaN   \n                              4                12.800000     NaN   \n...                                                  ...     ...   \n99995      137810  229633     43               23.000000     NaN   \n                              44               23.000000     NaN   \n                              45               19.000000     NaN   \n                              46               22.000000     NaN   \n                              47               20.000000     NaN   \n\nLEVEL2                                  systolic blood pressure  temperature  \\\nsubject_id hadm_id icustay_id hours_in                                         \n3          145834  211552     0                             NaN          NaN   \n                              1                             NaN          NaN   \n                              2                          136.25    35.648141   \n                              3                          105.75    35.500000   \n                              4                          127.00    36.166682   \n...                                                         ...          ...   \n99995      137810  229633     43                         150.00          NaN   \n                              44                         151.00          NaN   \n                              45                         122.50          NaN   \n                              46                         124.00    36.777778   \n                              47                         136.00          NaN   \n\nLEVEL2                                  tidal volume observed  \\\nsubject_id hadm_id icustay_id hours_in                          \n3          145834  211552     0                           NaN   \n                              1                           NaN   \n                              2                         776.0   \n                              3                         576.0   \n                              4                         586.0   \n...                                                       ...   \n99995      137810  229633     43                          NaN   \n                              44                          NaN   \n                              45                          NaN   \n                              46                          NaN   \n                              47                          NaN   \n\nLEVEL2                                  white blood cell count       ph  \nsubject_id hadm_id icustay_id hours_in                                   \n3          145834  211552     0                            NaN  7.08375  \n                              1                            NaN  7.22000  \n                              2                            8.4  7.18000  \n                              3                            NaN      NaN  \n                              4                            NaN  7.26000  \n...                                                        ...      ...  \n99995      137810  229633     43                           NaN      NaN  \n                              44                           NaN      NaN  \n                              45                           NaN      NaN  \n                              46                           NaN      NaN  \n                              47                           NaN      NaN  \n\n[841440 rows x 39 columns]",
      "text/html": "<div>\n<style scoped>\n    .dataframe tbody tr th:only-of-type {\n        vertical-align: middle;\n    }\n\n    .dataframe tbody tr th {\n        vertical-align: top;\n    }\n\n    .dataframe thead th {\n        text-align: right;\n    }\n</style>\n<table border=\"1\" class=\"dataframe\">\n  <thead>\n    <tr style=\"text-align: right;\">\n      <th></th>\n      <th></th>\n      <th></th>\n      <th>LEVEL2</th>\n      <th>anion gap</th>\n      <th>bicarbonate</th>\n      <th>blood urea nitrogen</th>\n      <th>co2</th>\n      <th>calcium</th>\n      <th>central venous pressure</th>\n      <th>chloride</th>\n      <th>creatinine</th>\n      <th>diastolic blood pressure</th>\n      <th>fraction inspired oxygen set</th>\n      <th>...</th>\n      <th>prothrombin time pt</th>\n      <th>pulmonary artery pressure systolic</th>\n      <th>red blood cell count</th>\n      <th>respiratory rate</th>\n      <th>sodium</th>\n      <th>systolic blood pressure</th>\n      <th>temperature</th>\n      <th>tidal volume observed</th>\n      <th>white blood cell count</th>\n      <th>ph</th>\n    </tr>\n    <tr>\n      <th>subject_id</th>\n      <th>hadm_id</th>\n      <th>icustay_id</th>\n      <th>hours_in</th>\n      <th></th>\n      <th></th>\n      <th></th>\n      <th></th>\n      <th></th>\n      <th></th>\n      <th></th>\n      <th></th>\n      <th></th>\n      <th></th>\n      <th></th>\n      <th></th>\n      <th></th>\n      <th></th>\n      <th></th>\n      <th></th>\n      <th></th>\n      <th></th>\n      <th></th>\n      <th></th>\n      <th></th>\n    </tr>\n  </thead>\n  <tbody>\n    <tr>\n      <th rowspan=\"5\" valign=\"top\">3</th>\n      <th rowspan=\"5\" valign=\"top\">145834</th>\n      <th rowspan=\"5\" valign=\"top\">211552</th>\n      <th>0</th>\n      <td>NaN</td>\n      <td>10.0</td>\n      <td>NaN</td>\n      <td>NaN</td>\n      <td>NaN</td>\n      <td>NaN</td>\n      <td>112.0</td>\n      <td>NaN</td>\n      <td>NaN</td>\n      <td>NaN</td>\n      <td>...</td>\n      <td>16.4</td>\n      <td>NaN</td>\n      <td>NaN</td>\n      <td>NaN</td>\n      <td>139.0</td>\n      <td>NaN</td>\n      <td>NaN</td>\n      <td>NaN</td>\n      <td>NaN</td>\n      <td>7.08375</td>\n    </tr>\n    <tr>\n      <th>1</th>\n      <td>NaN</td>\n      <td>NaN</td>\n      <td>NaN</td>\n      <td>NaN</td>\n      <td>NaN</td>\n      <td>NaN</td>\n      <td>NaN</td>\n      <td>NaN</td>\n      <td>NaN</td>\n      <td>NaN</td>\n      <td>...</td>\n      <td>NaN</td>\n      <td>NaN</td>\n      <td>NaN</td>\n      <td>NaN</td>\n      <td>NaN</td>\n      <td>NaN</td>\n      <td>NaN</td>\n      <td>NaN</td>\n      <td>NaN</td>\n      <td>7.22000</td>\n    </tr>\n    <tr>\n      <th>2</th>\n      <td>28.0</td>\n      <td>11.0</td>\n      <td>28.0</td>\n      <td>11.0</td>\n      <td>8.3</td>\n      <td>NaN</td>\n      <td>111.0</td>\n      <td>1.3</td>\n      <td>72.5</td>\n      <td>0.6</td>\n      <td>...</td>\n      <td>15.5</td>\n      <td>NaN</td>\n      <td>4.4</td>\n      <td>10.000000</td>\n      <td>145.0</td>\n      <td>136.25</td>\n      <td>35.648141</td>\n      <td>776.0</td>\n      <td>8.4</td>\n      <td>7.18000</td>\n    </tr>\n    <tr>\n      <th>3</th>\n      <td>NaN</td>\n      <td>NaN</td>\n      <td>NaN</td>\n      <td>NaN</td>\n      <td>NaN</td>\n      <td>15.0</td>\n      <td>NaN</td>\n      <td>NaN</td>\n      <td>61.0</td>\n      <td>0.5</td>\n      <td>...</td>\n      <td>NaN</td>\n      <td>NaN</td>\n      <td>NaN</td>\n      <td>12.666667</td>\n      <td>NaN</td>\n      <td>105.75</td>\n      <td>35.500000</td>\n      <td>576.0</td>\n      <td>NaN</td>\n      <td>NaN</td>\n    </tr>\n    <tr>\n      <th>4</th>\n      <td>NaN</td>\n      <td>NaN</td>\n      <td>NaN</td>\n      <td>NaN</td>\n      <td>NaN</td>\n      <td>13.0</td>\n      <td>NaN</td>\n      <td>NaN</td>\n      <td>68.0</td>\n      <td>0.5</td>\n      <td>...</td>\n      <td>NaN</td>\n      <td>NaN</td>\n      <td>NaN</td>\n      <td>12.800000</td>\n      <td>NaN</td>\n      <td>127.00</td>\n      <td>36.166682</td>\n      <td>586.0</td>\n      <td>NaN</td>\n      <td>7.26000</td>\n    </tr>\n    <tr>\n      <th>...</th>\n      <th>...</th>\n      <th>...</th>\n      <th>...</th>\n      <td>...</td>\n      <td>...</td>\n      <td>...</td>\n      <td>...</td>\n      <td>...</td>\n      <td>...</td>\n      <td>...</td>\n      <td>...</td>\n      <td>...</td>\n      <td>...</td>\n      <td>...</td>\n      <td>...</td>\n      <td>...</td>\n      <td>...</td>\n      <td>...</td>\n      <td>...</td>\n      <td>...</td>\n      <td>...</td>\n      <td>...</td>\n      <td>...</td>\n      <td>...</td>\n    </tr>\n    <tr>\n      <th rowspan=\"5\" valign=\"top\">99995</th>\n      <th rowspan=\"5\" valign=\"top\">137810</th>\n      <th rowspan=\"5\" valign=\"top\">229633</th>\n      <th>43</th>\n      <td>NaN</td>\n      <td>NaN</td>\n      <td>NaN</td>\n      <td>NaN</td>\n      <td>NaN</td>\n      <td>NaN</td>\n      <td>NaN</td>\n      <td>NaN</td>\n      <td>55.0</td>\n      <td>NaN</td>\n      <td>...</td>\n      <td>NaN</td>\n      <td>NaN</td>\n      <td>NaN</td>\n      <td>23.000000</td>\n      <td>NaN</td>\n      <td>150.00</td>\n      <td>NaN</td>\n      <td>NaN</td>\n      <td>NaN</td>\n      <td>NaN</td>\n    </tr>\n    <tr>\n      <th>44</th>\n      <td>NaN</td>\n      <td>NaN</td>\n      <td>NaN</td>\n      <td>NaN</td>\n      <td>NaN</td>\n      <td>NaN</td>\n      <td>NaN</td>\n      <td>NaN</td>\n      <td>60.0</td>\n      <td>NaN</td>\n      <td>...</td>\n      <td>NaN</td>\n      <td>NaN</td>\n      <td>NaN</td>\n      <td>23.000000</td>\n      <td>NaN</td>\n      <td>151.00</td>\n      <td>NaN</td>\n      <td>NaN</td>\n      <td>NaN</td>\n      <td>NaN</td>\n    </tr>\n    <tr>\n      <th>45</th>\n      <td>NaN</td>\n      <td>NaN</td>\n      <td>NaN</td>\n      <td>NaN</td>\n      <td>NaN</td>\n      <td>NaN</td>\n      <td>NaN</td>\n      <td>NaN</td>\n      <td>51.5</td>\n      <td>NaN</td>\n      <td>...</td>\n      <td>NaN</td>\n      <td>NaN</td>\n      <td>NaN</td>\n      <td>19.000000</td>\n      <td>NaN</td>\n      <td>122.50</td>\n      <td>NaN</td>\n      <td>NaN</td>\n      <td>NaN</td>\n      <td>NaN</td>\n    </tr>\n    <tr>\n      <th>46</th>\n      <td>NaN</td>\n      <td>NaN</td>\n      <td>NaN</td>\n      <td>NaN</td>\n      <td>NaN</td>\n      <td>NaN</td>\n      <td>NaN</td>\n      <td>NaN</td>\n      <td>60.0</td>\n      <td>NaN</td>\n      <td>...</td>\n      <td>NaN</td>\n      <td>NaN</td>\n      <td>NaN</td>\n      <td>22.000000</td>\n      <td>NaN</td>\n      <td>124.00</td>\n      <td>36.777778</td>\n      <td>NaN</td>\n      <td>NaN</td>\n      <td>NaN</td>\n    </tr>\n    <tr>\n      <th>47</th>\n      <td>NaN</td>\n      <td>NaN</td>\n      <td>NaN</td>\n      <td>NaN</td>\n      <td>NaN</td>\n      <td>NaN</td>\n      <td>NaN</td>\n      <td>NaN</td>\n      <td>49.0</td>\n      <td>NaN</td>\n      <td>...</td>\n      <td>NaN</td>\n      <td>NaN</td>\n      <td>NaN</td>\n      <td>20.000000</td>\n      <td>NaN</td>\n      <td>136.00</td>\n      <td>NaN</td>\n      <td>NaN</td>\n      <td>NaN</td>\n      <td>NaN</td>\n    </tr>\n  </tbody>\n</table>\n<p>841440 rows × 39 columns</p>\n</div>"
     },
     "execution_count": 29,
     "metadata": {},
     "output_type": "execute_result"
    }
   ],
   "source": [
    "vitals_labs_mean"
   ],
   "metadata": {
    "collapsed": false,
    "ExecuteTime": {
     "end_time": "2023-11-05T14:00:03.096672400Z",
     "start_time": "2023-11-05T14:00:02.860564100Z"
    }
   },
   "id": "77b4009eaaea68c5"
  },
  {
   "cell_type": "code",
   "execution_count": 31,
   "outputs": [],
   "source": [
    "Ys = patients[['mort_hosp']]\n",
    "Ys.astype(float)  # Convert to float type"
   ],
   "metadata": {
    "collapsed": false,
    "ExecuteTime": {
     "end_time": "2023-11-05T14:16:44.604313600Z",
     "start_time": "2023-11-05T14:16:44.482230100Z"
    }
   },
   "id": "ff11748bd4568992"
  },
  {
   "cell_type": "code",
   "execution_count": 53,
   "outputs": [
    {
     "name": "stdout",
     "output_type": "stream",
     "text": [
      "CPU times: total: 938 ms\n",
      "Wall time: 1.48 s\n"
     ]
    }
   ],
   "source": [
    "%%time\n",
    "dead_global_means, dead_icustay_means, alive_global_means, alive_icustay_means = calculate_new_values(vitals_labs, Ys)"
   ],
   "metadata": {
    "collapsed": false,
    "ExecuteTime": {
     "end_time": "2023-11-05T14:44:06.314521900Z",
     "start_time": "2023-11-05T14:44:04.712355Z"
    }
   },
   "id": "e4d726d5e46b9b21"
  },
  {
   "cell_type": "code",
   "execution_count": null,
   "outputs": [],
   "source": [
    "%%time\n",
    "vitals_labs_imputed = new_imputer(vitals_labs, Ys, dead_global_means, dead_icustay_means, alive_global_means, alive_icustay_means)"
   ],
   "metadata": {
    "collapsed": false
   },
   "id": "35d60a3920c95c38"
  },
  {
   "cell_type": "code",
   "execution_count": 84,
   "outputs": [],
   "source": [
    "from src.data_preprocessing.split_dataset import *"
   ],
   "metadata": {
    "collapsed": false,
    "ExecuteTime": {
     "end_time": "2023-11-05T15:19:35.362811700Z",
     "start_time": "2023-11-05T15:19:35.249941300Z"
    }
   },
   "id": "e2088ec20dee07fb"
  },
  {
   "cell_type": "code",
   "execution_count": 88,
   "outputs": [
    {
     "name": "stdout",
     "output_type": "stream",
     "text": [
      "CPU times: total: 812 ms\n",
      "Wall time: 1.21 s\n"
     ]
    }
   ],
   "source": [
    "%%time\n",
    "datasets = train_test_dev_split(patients, vitals_labs_imputed, interventions, Ys)"
   ],
   "metadata": {
    "collapsed": false,
    "ExecuteTime": {
     "end_time": "2023-11-05T15:23:20.629523500Z",
     "start_time": "2023-11-05T15:23:19.314780700Z"
    }
   },
   "id": "35efe51611ab58d0"
  },
  {
   "cell_type": "code",
   "execution_count": 89,
   "outputs": [
    {
     "name": "stdout",
     "output_type": "stream",
     "text": [
      "\n",
      "Patients:\n",
      "(12271, 22)\n",
      "(1753, 22)\n",
      "(3506, 22)\n",
      "\n",
      "Vitals:\n",
      "(589008, 117)\n",
      "(84144, 117)\n",
      "(168288, 117)\n",
      "\n",
      "Interv:\n",
      "(589008, 14)\n",
      "(84144, 14)\n",
      "(168288, 14)\n",
      "\n",
      "Ys:\n",
      "(12271, 1)\n",
      "(1753, 1)\n",
      "(3506, 1)\n",
      "CPU times: total: 15.6 ms\n",
      "Wall time: 15.6 ms\n"
     ]
    }
   ],
   "source": [
    "%%time\n",
    "# Define keys and corresponding variable names\n",
    "keys_varnames = [\n",
    "    ('patients', 'patients_train', 'patients_dev', 'patients_test'),\n",
    "    ('vitals', 'vitals_train', 'vitals_dev', 'vitals_test'),\n",
    "    ('interv', 'interv_train', 'interv_dev', 'interv_test'),\n",
    "    ('Ys', 'Ys_train', 'Ys_dev', 'Ys_test')\n",
    "]\n",
    "\n",
    "# Loop through each key and variable name to extract data and print shapes\n",
    "for key, train_var, dev_var, test_var in keys_varnames:\n",
    "    train_data, dev_data, test_data = datasets[key]\n",
    "    print(f'\\n{key.capitalize()}:')\n",
    "    print(train_data.shape)\n",
    "    print(dev_data.shape)\n",
    "    print(test_data.shape)\n",
    "\n",
    "    # # log the datasets\n",
    "    # save_to_pickle(train_data, os.path.join(LOG_DATA_DIR, f'{train_var}_split.pkl'))\n",
    "    # save_to_pickle(dev_data, os.path.join(LOG_DATA_DIR, f'{dev_var}_split.pkl'))\n",
    "    # save_to_pickle(test_data, os.path.join(LOG_DATA_DIR, f'{test_var}_split.pkl'))\n",
    "\n",
    "    # set the variables\n",
    "    globals()[train_var], globals()[dev_var], globals()[test_var] = train_data, dev_data, test_data"
   ],
   "metadata": {
    "collapsed": false,
    "ExecuteTime": {
     "end_time": "2023-11-05T15:23:24.081896100Z",
     "start_time": "2023-11-05T15:23:23.953467Z"
    }
   },
   "id": "4e8323bad017c29"
  },
  {
   "cell_type": "code",
   "execution_count": 91,
   "outputs": [],
   "source": [
    "def standardize_gru(vitals_train, vitals_dev, vitals_test):\n",
    "    idx = pd.IndexSlice\n",
    "    X_train, X_dev, X_test = vitals_train.copy(), vitals_dev.copy(), vitals_test.copy()\n",
    "\n",
    "    # Min-Max Scaling\n",
    "    train_min = X_train.loc[:, idx[:, 'mean']].min()\n",
    "    train_max = X_train.loc[:, idx[:, 'mean']].max()\n",
    "    for df in [X_train, X_dev, X_test]:\n",
    "        df.loc[:, idx[:, 'mean']] = minmax_scaling(df.loc[:, idx[:, 'mean']], train_min, train_max)\n",
    "\n",
    "    # Standardization\n",
    "    X_train.loc[:, idx[:, 'time_since_measured']] = np.where(X_train.loc[:, idx[:, 'time_since_measured']] == 100, 0, X_train.loc[:, idx[:, 'time_since_measured']])\n",
    "    train_mean = X_train.loc[:, idx[:, 'time_since_measured']].mean()\n",
    "    train_std = X_train.loc[:, idx[:, 'time_since_measured']].std()\n",
    "    for df in [X_train, X_dev, X_test]:\n",
    "        df.loc[:, idx[:, 'time_since_measured']] = standardize_time_since_measured(\n",
    "            df.loc[:, idx[:, 'time_since_measured']], train_mean, train_std)\n",
    "\n",
    "    return X_train, X_dev, X_test"
   ],
   "metadata": {
    "collapsed": false,
    "ExecuteTime": {
     "end_time": "2023-11-05T15:26:08.759022100Z",
     "start_time": "2023-11-05T15:26:08.647845100Z"
    }
   },
   "id": "43ea13c9b722a9e9"
  },
  {
   "cell_type": "code",
   "execution_count": 92,
   "outputs": [
    {
     "name": "stdout",
     "output_type": "stream",
     "text": [
      "CPU times: total: 1min 54s\n",
      "Wall time: 2min 8s\n"
     ]
    }
   ],
   "source": [
    "%%time\n",
    "vitals_train_std, vitals_dev_std, vitals_test_std = standardize_gru(vitals_train, vitals_dev, vitals_test)"
   ],
   "metadata": {
    "collapsed": false,
    "ExecuteTime": {
     "end_time": "2023-11-05T15:28:32.898726200Z",
     "start_time": "2023-11-05T15:26:24.231306100Z"
    }
   },
   "id": "95bb471296d1fae6"
  },
  {
   "cell_type": "code",
   "execution_count": 93,
   "outputs": [],
   "source": [
    "RESAMPLED_DIR = '../data/resampled/'"
   ],
   "metadata": {
    "collapsed": false,
    "ExecuteTime": {
     "end_time": "2023-11-05T15:28:50.802634600Z",
     "start_time": "2023-11-05T15:28:50.693213300Z"
    }
   },
   "id": "35dd9558453714e8"
  },
  {
   "cell_type": "code",
   "execution_count": 94,
   "outputs": [],
   "source": [
    "save_to_pickle(df=patients_train, filename=os.path.join(RESAMPLED_DIR, 'patients_train.pkl'))\n",
    "save_to_pickle(df=patients_dev, filename=os.path.join(RESAMPLED_DIR, 'patients_dev.pkl'))\n",
    "save_to_pickle(df=patients_test, filename=os.path.join(RESAMPLED_DIR, 'patients_test.pkl'))\n",
    "\n",
    "save_to_pickle(df=vitals_train_std, filename=os.path.join(RESAMPLED_DIR, 'vitals_train.pkl'))\n",
    "save_to_pickle(df=vitals_dev_std, filename=os.path.join(RESAMPLED_DIR, 'vitals_dev.pkl'))\n",
    "save_to_pickle(df=vitals_test_std, filename=os.path.join(RESAMPLED_DIR, 'vitals_test.pkl'))\n",
    "\n",
    "save_to_pickle(df=interv_train, filename=os.path.join(RESAMPLED_DIR, 'interv_train.pkl'))\n",
    "save_to_pickle(df=interv_dev, filename=os.path.join(RESAMPLED_DIR, 'interv_dev.pkl'))\n",
    "save_to_pickle(df=interv_test, filename=os.path.join(RESAMPLED_DIR, 'interv_test.pkl'))\n",
    "\n",
    "save_to_pickle(df=Ys_train, filename=os.path.join(RESAMPLED_DIR, 'Ys_train.pkl'))\n",
    "save_to_pickle(df=Ys_dev, filename=os.path.join(RESAMPLED_DIR, 'Ys_dev.pkl'))\n",
    "save_to_pickle(df=Ys_test, filename=os.path.join(RESAMPLED_DIR, 'Ys_test.pkl'))"
   ],
   "metadata": {
    "collapsed": false,
    "ExecuteTime": {
     "end_time": "2023-11-05T15:32:43.606032800Z",
     "start_time": "2023-11-05T15:32:40.710184700Z"
    }
   },
   "id": "59bbf33adba5e8f2"
  }
 ],
 "metadata": {
  "kernelspec": {
   "display_name": "Python 3",
   "language": "python",
   "name": "python3"
  },
  "language_info": {
   "codemirror_mode": {
    "name": "ipython",
    "version": 2
   },
   "file_extension": ".py",
   "mimetype": "text/x-python",
   "name": "python",
   "nbconvert_exporter": "python",
   "pygments_lexer": "ipython2",
   "version": "2.7.6"
  }
 },
 "nbformat": 4,
 "nbformat_minor": 5
}
