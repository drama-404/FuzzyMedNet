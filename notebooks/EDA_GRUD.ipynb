{
 "cells": [
  {
   "cell_type": "markdown",
   "source": [
    "# Comprehensive Exploratory Data Analysis: Step by Step"
   ],
   "metadata": {
    "collapsed": false
   }
  },
  {
   "cell_type": "markdown",
   "source": [
    "<a name='1'></a>\n",
    "## 1 - Packages"
   ],
   "metadata": {
    "collapsed": false
   }
  },
  {
   "cell_type": "code",
   "execution_count": 1,
   "outputs": [],
   "source": [
    "import pandas as pd\n",
    "import numpy as np\n",
    "import matplotlib.pyplot as plt\n",
    "import seaborn as sns\n",
    "import h5py\n",
    "\n",
    "import os\n",
    "# import wandb\n",
    "import warnings\n",
    "\n",
    "from config import *\n",
    "from utils.eda_functions import *\n",
    "from src.data_preprocessing.demographics import *\n",
    "from src.data_preprocessing.vitals_labs import *\n",
    "from src.data_preprocessing.split_dataset import *\n",
    "from src.data_imputation.simple_impute import *\n",
    "from src.data_imputation.hybrid_impute import hybrid_imputer\n",
    "from utils.safe_display import blind_display\n",
    "\n",
    "%load_ext autoreload\n",
    "%autoreload 2"
   ],
   "metadata": {
    "collapsed": false,
    "ExecuteTime": {
     "end_time": "2023-10-26T19:49:24.402094800Z",
     "start_time": "2023-10-26T19:49:23.218345600Z"
    }
   }
  },
  {
   "cell_type": "code",
   "execution_count": 2,
   "outputs": [],
   "source": [
    "# Configuration & Settings:\n",
    "\n",
    "plt.style.use('seaborn-whitegrid')\n",
    "plt.rcParams['figure.figsize'] = (12, 8)\n",
    "\n",
    "warnings.filterwarnings('ignore')\n",
    "os.environ['WANDB_SILENT'] = 'true'\n",
    "sns.set_theme(style=\"whitegrid\")\n",
    "\n",
    "# # Login and initialize a new wandb run\n",
    "# wandb_key = os.environ.get(\"WANDB_API_KEY\")\n",
    "# ! wandb login $wandb_key\n",
    "#\n",
    "# run = wandb.init(\n",
    "#     project='FuzzyMedNet',\n",
    "#     name='patient_eda',\n",
    "#     job_type='eda'\n",
    "# )"
   ],
   "metadata": {
    "collapsed": false,
    "ExecuteTime": {
     "end_time": "2023-10-26T19:49:24.605258500Z",
     "start_time": "2023-10-26T19:49:24.402094800Z"
    }
   }
  },
  {
   "cell_type": "code",
   "execution_count": 3,
   "outputs": [],
   "source": [
    "# Safety flag - when set to True will not display sensitive data\n",
    "BLINDED = False"
   ],
   "metadata": {
    "collapsed": false,
    "ExecuteTime": {
     "end_time": "2023-10-26T19:49:24.792753700Z",
     "start_time": "2023-10-26T19:49:24.605258500Z"
    }
   }
  },
  {
   "cell_type": "markdown",
   "source": [
    "<a name='2'></a>\n",
    "## 2 - Data Overview\n",
    "\n",
    "<a name='2-1'></a>\n",
    "### 2.1 - Loading the Data"
   ],
   "metadata": {
    "collapsed": false
   }
  },
  {
   "cell_type": "code",
   "execution_count": 4,
   "outputs": [
    {
     "name": "stdout",
     "output_type": "stream",
     "text": [
      "['codes', 'interventions', 'patients', 'vitals_labs', 'vitals_labs_mean']\n"
     ]
    }
   ],
   "source": [
    "# Open the file in read mode\n",
    "with h5py.File(DATA_FILE_PATH, 'r') as file:\n",
    "    # Print the keys at the root of the file\n",
    "    print(list(file.keys()))\n",
    "\n",
    "patients = pd.read_hdf(DATA_FILE_PATH, 'patients')\n",
    "vitals_labs = pd.read_hdf(DATA_FILE_PATH, 'vitals_labs')\n",
    "vitals_labs_mean = pd.read_hdf(DATA_FILE_PATH, 'vitals_labs_mean')\n",
    "interventions = pd.read_hdf(DATA_FILE_PATH, 'interventions')\n",
    "codes = pd.read_hdf(DATA_FILE_PATH, 'codes')"
   ],
   "metadata": {
    "collapsed": false,
    "ExecuteTime": {
     "end_time": "2023-10-26T19:50:26.167100800Z",
     "start_time": "2023-10-26T19:49:24.792753700Z"
    }
   }
  },
  {
   "cell_type": "markdown",
   "source": [
    "<a name='2-2'></a>\n",
    "### 2.2 - Basic Information"
   ],
   "metadata": {
    "collapsed": false
   }
  },
  {
   "cell_type": "code",
   "execution_count": 5,
   "outputs": [
    {
     "name": "stdout",
     "output_type": "stream",
     "text": [
      "patients.shape: (34472, 28)\n",
      "<class 'pandas.core.frame.DataFrame'>\n",
      "MultiIndex: 34472 entries, (3, 145834, 211552) to (99999, 113369, 246512)\n",
      "Data columns (total 28 columns):\n",
      " #   Column                  Non-Null Count  Dtype         \n",
      "---  ------                  --------------  -----         \n",
      " 0   gender                  34472 non-null  category      \n",
      " 1   ethnicity               34472 non-null  category      \n",
      " 2   age                     34472 non-null  float64       \n",
      " 3   insurance               34472 non-null  object        \n",
      " 4   admittime               34472 non-null  datetime64[ns]\n",
      " 5   diagnosis_at_admission  34471 non-null  object        \n",
      " 6   dischtime               34472 non-null  datetime64[ns]\n",
      " 7   discharge_location      34472 non-null  object        \n",
      " 8   fullcode_first          28162 non-null  float64       \n",
      " 9   dnr_first               28162 non-null  float64       \n",
      " 10  fullcode                28162 non-null  float64       \n",
      " 11  dnr                     28162 non-null  float64       \n",
      " 12  dnr_first_charttime     3119 non-null   datetime64[ns]\n",
      " 13  cmo_first               28162 non-null  float64       \n",
      " 14  cmo_last                28162 non-null  float64       \n",
      " 15  cmo                     28162 non-null  float64       \n",
      " 16  deathtime               3350 non-null   datetime64[ns]\n",
      " 17  intime                  34472 non-null  datetime64[ns]\n",
      " 18  outtime                 34472 non-null  datetime64[ns]\n",
      " 19  los_icu                 34472 non-null  float64       \n",
      " 20  admission_type          34472 non-null  category      \n",
      " 21  first_careunit          34472 non-null  category      \n",
      " 22  mort_icu                34472 non-null  int64         \n",
      " 23  mort_hosp               34472 non-null  int64         \n",
      " 24  hospital_expire_flag    34472 non-null  int64         \n",
      " 25  hospstay_seq            34472 non-null  int64         \n",
      " 26  readmission_30          34472 non-null  int64         \n",
      " 27  max_hours               34472 non-null  int64         \n",
      "dtypes: category(4), datetime64[ns](6), float64(9), int64(6), object(3)\n",
      "memory usage: 11.4+ MB\n",
      "None\n"
     ]
    }
   ],
   "source": [
    "print(f'patients.shape: {patients.shape}')\n",
    "print(patients.info())"
   ],
   "metadata": {
    "collapsed": false,
    "ExecuteTime": {
     "end_time": "2023-10-26T19:50:26.527864800Z",
     "start_time": "2023-10-26T19:50:26.167100800Z"
    }
   }
  },
  {
   "cell_type": "code",
   "execution_count": 6,
   "outputs": [
    {
     "name": "stdout",
     "output_type": "stream",
     "text": [
      "vitals_labs_mean.shape: (2200954, 104)\n",
      "<class 'pandas.core.frame.DataFrame'>\n",
      "MultiIndex: 2200954 entries, (3, 145834, 211552, 0) to (99999, 113369, 246512, 26)\n",
      "Columns: 104 entries, ('alanine aminotransferase', 'mean') to ('ph urine', 'mean')\n",
      "dtypes: float64(104)\n",
      "memory usage: 1.7 GB\n",
      "None\n"
     ]
    }
   ],
   "source": [
    "print(f'vitals_labs_mean.shape: {vitals_labs_mean.shape}')\n",
    "print(vitals_labs_mean.info())"
   ],
   "metadata": {
    "collapsed": false,
    "ExecuteTime": {
     "end_time": "2023-10-26T19:50:26.954731400Z",
     "start_time": "2023-10-26T19:50:26.527864800Z"
    }
   }
  },
  {
   "cell_type": "code",
   "execution_count": 7,
   "outputs": [
    {
     "name": "stdout",
     "output_type": "stream",
     "text": [
      "interventions.shape: (2200954, 14)\n",
      "<class 'pandas.core.frame.DataFrame'>\n",
      "MultiIndex: 2200954 entries, (3, 145834, 211552, 0) to (99999, 113369, 246512, 26)\n",
      "Data columns (total 14 columns):\n",
      " #   Column             Dtype\n",
      "---  ------             -----\n",
      " 0   vent               int64\n",
      " 1   vaso               int64\n",
      " 2   adenosine          int64\n",
      " 3   dobutamine         int64\n",
      " 4   dopamine           int64\n",
      " 5   epinephrine        int64\n",
      " 6   isuprel            int64\n",
      " 7   milrinone          int64\n",
      " 8   norepinephrine     int64\n",
      " 9   phenylephrine      int64\n",
      " 10  vasopressin        int64\n",
      " 11  colloid_bolus      int64\n",
      " 12  crystalloid_bolus  int64\n",
      " 13  nivdurations       int64\n",
      "dtypes: int64(14)\n",
      "memory usage: 269.0 MB\n",
      "None\n"
     ]
    }
   ],
   "source": [
    "print(f'interventions.shape: {interventions.shape}')\n",
    "print(interventions.info())"
   ],
   "metadata": {
    "collapsed": false,
    "ExecuteTime": {
     "end_time": "2023-10-26T19:50:27.347759600Z",
     "start_time": "2023-10-26T19:50:26.954731400Z"
    }
   }
  },
  {
   "cell_type": "code",
   "execution_count": 8,
   "outputs": [
    {
     "name": "stdout",
     "output_type": "stream",
     "text": [
      "patients.shape:  (34472, 28)\n"
     ]
    },
    {
     "data": {
      "text/plain": "                              gender              ethnicity        age  \\\nsubject_id hadm_id icustay_id                                            \n3          145834  211552          M                  WHITE  76.526792   \n4          185777  294638          F                  WHITE  47.845047   \n6          107064  228232          F                  WHITE  65.942297   \n9          150750  220597          M  UNKNOWN/NOT SPECIFIED  41.790228   \n11         194540  229441          F                  WHITE  50.148295   \n\n                              insurance           admittime  \\\nsubject_id hadm_id icustay_id                                 \n3          145834  211552      Medicare 2101-10-20 19:08:00   \n4          185777  294638       Private 2191-03-16 00:28:00   \n6          107064  228232      Medicare 2175-05-30 07:15:00   \n9          150750  220597      Medicaid 2149-11-09 13:06:00   \n11         194540  229441       Private 2178-04-16 06:18:00   \n\n                                            diagnosis_at_admission  \\\nsubject_id hadm_id icustay_id                                        \n3          145834  211552                              HYPOTENSION   \n4          185777  294638      FEVER,DEHYDRATION,FAILURE TO THRIVE   \n6          107064  228232                CHRONIC RENAL FAILURE/SDA   \n9          150750  220597                          HEMORRHAGIC CVA   \n11         194540  229441                               BRAIN MASS   \n\n                                        dischtime         discharge_location  \\\nsubject_id hadm_id icustay_id                                                  \n3          145834  211552     2101-10-31 13:58:00                        SNF   \n4          185777  294638     2191-03-23 18:41:00  HOME WITH HOME IV PROVIDR   \n6          107064  228232     2175-06-15 16:00:00           HOME HEALTH CARE   \n9          150750  220597     2149-11-14 10:15:00               DEAD/EXPIRED   \n11         194540  229441     2178-05-11 19:00:00           HOME HEALTH CARE   \n\n                               fullcode_first  dnr_first  ...  \\\nsubject_id hadm_id icustay_id                             ...   \n3          145834  211552                 1.0        0.0  ...   \n4          185777  294638                 1.0        0.0  ...   \n6          107064  228232                 1.0        0.0  ...   \n9          150750  220597                 1.0        0.0  ...   \n11         194540  229441                 1.0        0.0  ...   \n\n                                          outtime   los_icu admission_type  \\\nsubject_id hadm_id icustay_id                                                \n3          145834  211552     2101-10-26 20:43:09  6.064560      EMERGENCY   \n4          185777  294638     2191-03-17 16:46:31  1.678472      EMERGENCY   \n6          107064  228232     2175-06-03 13:39:54  3.672917       ELECTIVE   \n9          150750  220597     2149-11-14 20:52:14  5.323056      EMERGENCY   \n11         194540  229441     2178-04-17 20:21:05  1.584410      EMERGENCY   \n\n                               first_careunit  mort_icu  mort_hosp  \\\nsubject_id hadm_id icustay_id                                        \n3          145834  211552                MICU         0          0   \n4          185777  294638                MICU         0          0   \n6          107064  228232                SICU         0          0   \n9          150750  220597                MICU         1          1   \n11         194540  229441                SICU         0          0   \n\n                              hospital_expire_flag hospstay_seq  \\\nsubject_id hadm_id icustay_id                                     \n3          145834  211552                        0            1   \n4          185777  294638                        0            1   \n6          107064  228232                        0            1   \n9          150750  220597                        1            1   \n11         194540  229441                        0            1   \n\n                              readmission_30  max_hours  \nsubject_id hadm_id icustay_id                            \n3          145834  211552                  0        145  \n4          185777  294638                  0         40  \n6          107064  228232                  0         88  \n9          150750  220597                  0        127  \n11         194540  229441                  0         38  \n\n[5 rows x 28 columns]",
      "text/html": "<div>\n<style scoped>\n    .dataframe tbody tr th:only-of-type {\n        vertical-align: middle;\n    }\n\n    .dataframe tbody tr th {\n        vertical-align: top;\n    }\n\n    .dataframe thead th {\n        text-align: right;\n    }\n</style>\n<table border=\"1\" class=\"dataframe\">\n  <thead>\n    <tr style=\"text-align: right;\">\n      <th></th>\n      <th></th>\n      <th></th>\n      <th>gender</th>\n      <th>ethnicity</th>\n      <th>age</th>\n      <th>insurance</th>\n      <th>admittime</th>\n      <th>diagnosis_at_admission</th>\n      <th>dischtime</th>\n      <th>discharge_location</th>\n      <th>fullcode_first</th>\n      <th>dnr_first</th>\n      <th>...</th>\n      <th>outtime</th>\n      <th>los_icu</th>\n      <th>admission_type</th>\n      <th>first_careunit</th>\n      <th>mort_icu</th>\n      <th>mort_hosp</th>\n      <th>hospital_expire_flag</th>\n      <th>hospstay_seq</th>\n      <th>readmission_30</th>\n      <th>max_hours</th>\n    </tr>\n    <tr>\n      <th>subject_id</th>\n      <th>hadm_id</th>\n      <th>icustay_id</th>\n      <th></th>\n      <th></th>\n      <th></th>\n      <th></th>\n      <th></th>\n      <th></th>\n      <th></th>\n      <th></th>\n      <th></th>\n      <th></th>\n      <th></th>\n      <th></th>\n      <th></th>\n      <th></th>\n      <th></th>\n      <th></th>\n      <th></th>\n      <th></th>\n      <th></th>\n      <th></th>\n      <th></th>\n    </tr>\n  </thead>\n  <tbody>\n    <tr>\n      <th>3</th>\n      <th>145834</th>\n      <th>211552</th>\n      <td>M</td>\n      <td>WHITE</td>\n      <td>76.526792</td>\n      <td>Medicare</td>\n      <td>2101-10-20 19:08:00</td>\n      <td>HYPOTENSION</td>\n      <td>2101-10-31 13:58:00</td>\n      <td>SNF</td>\n      <td>1.0</td>\n      <td>0.0</td>\n      <td>...</td>\n      <td>2101-10-26 20:43:09</td>\n      <td>6.064560</td>\n      <td>EMERGENCY</td>\n      <td>MICU</td>\n      <td>0</td>\n      <td>0</td>\n      <td>0</td>\n      <td>1</td>\n      <td>0</td>\n      <td>145</td>\n    </tr>\n    <tr>\n      <th>4</th>\n      <th>185777</th>\n      <th>294638</th>\n      <td>F</td>\n      <td>WHITE</td>\n      <td>47.845047</td>\n      <td>Private</td>\n      <td>2191-03-16 00:28:00</td>\n      <td>FEVER,DEHYDRATION,FAILURE TO THRIVE</td>\n      <td>2191-03-23 18:41:00</td>\n      <td>HOME WITH HOME IV PROVIDR</td>\n      <td>1.0</td>\n      <td>0.0</td>\n      <td>...</td>\n      <td>2191-03-17 16:46:31</td>\n      <td>1.678472</td>\n      <td>EMERGENCY</td>\n      <td>MICU</td>\n      <td>0</td>\n      <td>0</td>\n      <td>0</td>\n      <td>1</td>\n      <td>0</td>\n      <td>40</td>\n    </tr>\n    <tr>\n      <th>6</th>\n      <th>107064</th>\n      <th>228232</th>\n      <td>F</td>\n      <td>WHITE</td>\n      <td>65.942297</td>\n      <td>Medicare</td>\n      <td>2175-05-30 07:15:00</td>\n      <td>CHRONIC RENAL FAILURE/SDA</td>\n      <td>2175-06-15 16:00:00</td>\n      <td>HOME HEALTH CARE</td>\n      <td>1.0</td>\n      <td>0.0</td>\n      <td>...</td>\n      <td>2175-06-03 13:39:54</td>\n      <td>3.672917</td>\n      <td>ELECTIVE</td>\n      <td>SICU</td>\n      <td>0</td>\n      <td>0</td>\n      <td>0</td>\n      <td>1</td>\n      <td>0</td>\n      <td>88</td>\n    </tr>\n    <tr>\n      <th>9</th>\n      <th>150750</th>\n      <th>220597</th>\n      <td>M</td>\n      <td>UNKNOWN/NOT SPECIFIED</td>\n      <td>41.790228</td>\n      <td>Medicaid</td>\n      <td>2149-11-09 13:06:00</td>\n      <td>HEMORRHAGIC CVA</td>\n      <td>2149-11-14 10:15:00</td>\n      <td>DEAD/EXPIRED</td>\n      <td>1.0</td>\n      <td>0.0</td>\n      <td>...</td>\n      <td>2149-11-14 20:52:14</td>\n      <td>5.323056</td>\n      <td>EMERGENCY</td>\n      <td>MICU</td>\n      <td>1</td>\n      <td>1</td>\n      <td>1</td>\n      <td>1</td>\n      <td>0</td>\n      <td>127</td>\n    </tr>\n    <tr>\n      <th>11</th>\n      <th>194540</th>\n      <th>229441</th>\n      <td>F</td>\n      <td>WHITE</td>\n      <td>50.148295</td>\n      <td>Private</td>\n      <td>2178-04-16 06:18:00</td>\n      <td>BRAIN MASS</td>\n      <td>2178-05-11 19:00:00</td>\n      <td>HOME HEALTH CARE</td>\n      <td>1.0</td>\n      <td>0.0</td>\n      <td>...</td>\n      <td>2178-04-17 20:21:05</td>\n      <td>1.584410</td>\n      <td>EMERGENCY</td>\n      <td>SICU</td>\n      <td>0</td>\n      <td>0</td>\n      <td>0</td>\n      <td>1</td>\n      <td>0</td>\n      <td>38</td>\n    </tr>\n  </tbody>\n</table>\n<p>5 rows × 28 columns</p>\n</div>"
     },
     "metadata": {},
     "output_type": "display_data"
    },
    {
     "name": "stdout",
     "output_type": "stream",
     "text": [
      "vitals_labs_mean.shape:  (971296, 104)\n"
     ]
    },
    {
     "data": {
      "text/plain": "LEVEL2                                 alanine aminotransferase albumin  \\\nAggregation Function                                       mean    mean   \nsubject_id hadm_id icustay_id hours_in                                    \n3          145834  211552     0                            25.0     1.8   \n                              1                             NaN     NaN   \n                              2                             NaN     NaN   \n                              3                             NaN     NaN   \n                              4                             NaN     NaN   \n\nLEVEL2                                 albumin ascites albumin pleural  \\\nAggregation Function                              mean            mean   \nsubject_id hadm_id icustay_id hours_in                                   \n3          145834  211552     0                    NaN             NaN   \n                              1                    NaN             NaN   \n                              2                    NaN             NaN   \n                              3                    NaN             NaN   \n                              4                    NaN             NaN   \n\nLEVEL2                                 albumin urine alkaline phosphate  \\\nAggregation Function                            mean               mean   \nsubject_id hadm_id icustay_id hours_in                                    \n3          145834  211552     0                  NaN               73.0   \n                              1                  NaN                NaN   \n                              2                  NaN                NaN   \n                              3                  NaN                NaN   \n                              4                  NaN                NaN   \n\nLEVEL2                                  anion gap asparate aminotransferase  \\\nAggregation Function                         mean                      mean   \nsubject_id hadm_id icustay_id hours_in                                        \n3          145834  211552     0         20.666667                      69.0   \n                              1               NaN                       NaN   \n                              2               NaN                       NaN   \n                              3               NaN                       NaN   \n                              4               NaN                       NaN   \n\nLEVEL2                                 basophils bicarbonate  ...  \\\nAggregation Function                        mean        mean  ...   \nsubject_id hadm_id icustay_id hours_in                        ...   \n3          145834  211552     0              NaN   16.333333  ...   \n                              1              NaN         NaN  ...   \n                              2              NaN         NaN  ...   \n                              3              NaN         NaN  ...   \n                              4              NaN         NaN  ...   \n\nLEVEL2                                 total protein total protein urine  \\\nAggregation Function                            mean                mean   \nsubject_id hadm_id icustay_id hours_in                                     \n3          145834  211552     0                  NaN                 NaN   \n                              1                  NaN                 NaN   \n                              2                  NaN                 NaN   \n                              3                  NaN                 NaN   \n                              4                  NaN                 NaN   \n\nLEVEL2                                 troponin-i troponin-t venous pvo2  \\\nAggregation Function                         mean       mean        mean   \nsubject_id hadm_id icustay_id hours_in                                     \n3          145834  211552     0               NaN        NaN         NaN   \n                              1               NaN        NaN         NaN   \n                              2               NaN        NaN         NaN   \n                              3               NaN        NaN         NaN   \n                              4               NaN        NaN         NaN   \n\nLEVEL2                                 weight white blood cell count  \\\nAggregation Function                     mean                   mean   \nsubject_id hadm_id icustay_id hours_in                                 \n3          145834  211552     0           NaN              14.842857   \n                              1           NaN                    NaN   \n                              2           NaN                    NaN   \n                              3           NaN                    NaN   \n                              4           NaN                    NaN   \n\nLEVEL2                                 white blood cell count urine    ph  \\\nAggregation Function                                           mean  mean   \nsubject_id hadm_id icustay_id hours_in                                      \n3          145834  211552     0                                 NaN  7.40   \n                              1                                 NaN   NaN   \n                              2                                 NaN  7.26   \n                              3                                 NaN   NaN   \n                              4                                 NaN   NaN   \n\nLEVEL2                                 ph urine  \nAggregation Function                       mean  \nsubject_id hadm_id icustay_id hours_in           \n3          145834  211552     0             5.0  \n                              1             NaN  \n                              2             NaN  \n                              3             NaN  \n                              4             NaN  \n\n[5 rows x 104 columns]",
      "text/html": "<div>\n<style scoped>\n    .dataframe tbody tr th:only-of-type {\n        vertical-align: middle;\n    }\n\n    .dataframe tbody tr th {\n        vertical-align: top;\n    }\n\n    .dataframe thead tr th {\n        text-align: left;\n    }\n\n    .dataframe thead tr:last-of-type th {\n        text-align: right;\n    }\n</style>\n<table border=\"1\" class=\"dataframe\">\n  <thead>\n    <tr>\n      <th></th>\n      <th></th>\n      <th></th>\n      <th>LEVEL2</th>\n      <th>alanine aminotransferase</th>\n      <th>albumin</th>\n      <th>albumin ascites</th>\n      <th>albumin pleural</th>\n      <th>albumin urine</th>\n      <th>alkaline phosphate</th>\n      <th>anion gap</th>\n      <th>asparate aminotransferase</th>\n      <th>basophils</th>\n      <th>bicarbonate</th>\n      <th>...</th>\n      <th>total protein</th>\n      <th>total protein urine</th>\n      <th>troponin-i</th>\n      <th>troponin-t</th>\n      <th>venous pvo2</th>\n      <th>weight</th>\n      <th>white blood cell count</th>\n      <th>white blood cell count urine</th>\n      <th>ph</th>\n      <th>ph urine</th>\n    </tr>\n    <tr>\n      <th></th>\n      <th></th>\n      <th></th>\n      <th>Aggregation Function</th>\n      <th>mean</th>\n      <th>mean</th>\n      <th>mean</th>\n      <th>mean</th>\n      <th>mean</th>\n      <th>mean</th>\n      <th>mean</th>\n      <th>mean</th>\n      <th>mean</th>\n      <th>mean</th>\n      <th>...</th>\n      <th>mean</th>\n      <th>mean</th>\n      <th>mean</th>\n      <th>mean</th>\n      <th>mean</th>\n      <th>mean</th>\n      <th>mean</th>\n      <th>mean</th>\n      <th>mean</th>\n      <th>mean</th>\n    </tr>\n    <tr>\n      <th>subject_id</th>\n      <th>hadm_id</th>\n      <th>icustay_id</th>\n      <th>hours_in</th>\n      <th></th>\n      <th></th>\n      <th></th>\n      <th></th>\n      <th></th>\n      <th></th>\n      <th></th>\n      <th></th>\n      <th></th>\n      <th></th>\n      <th></th>\n      <th></th>\n      <th></th>\n      <th></th>\n      <th></th>\n      <th></th>\n      <th></th>\n      <th></th>\n      <th></th>\n      <th></th>\n      <th></th>\n    </tr>\n  </thead>\n  <tbody>\n    <tr>\n      <th rowspan=\"5\" valign=\"top\">3</th>\n      <th rowspan=\"5\" valign=\"top\">145834</th>\n      <th rowspan=\"5\" valign=\"top\">211552</th>\n      <th>0</th>\n      <td>25.0</td>\n      <td>1.8</td>\n      <td>NaN</td>\n      <td>NaN</td>\n      <td>NaN</td>\n      <td>73.0</td>\n      <td>20.666667</td>\n      <td>69.0</td>\n      <td>NaN</td>\n      <td>16.333333</td>\n      <td>...</td>\n      <td>NaN</td>\n      <td>NaN</td>\n      <td>NaN</td>\n      <td>NaN</td>\n      <td>NaN</td>\n      <td>NaN</td>\n      <td>14.842857</td>\n      <td>NaN</td>\n      <td>7.40</td>\n      <td>5.0</td>\n    </tr>\n    <tr>\n      <th>1</th>\n      <td>NaN</td>\n      <td>NaN</td>\n      <td>NaN</td>\n      <td>NaN</td>\n      <td>NaN</td>\n      <td>NaN</td>\n      <td>NaN</td>\n      <td>NaN</td>\n      <td>NaN</td>\n      <td>NaN</td>\n      <td>...</td>\n      <td>NaN</td>\n      <td>NaN</td>\n      <td>NaN</td>\n      <td>NaN</td>\n      <td>NaN</td>\n      <td>NaN</td>\n      <td>NaN</td>\n      <td>NaN</td>\n      <td>NaN</td>\n      <td>NaN</td>\n    </tr>\n    <tr>\n      <th>2</th>\n      <td>NaN</td>\n      <td>NaN</td>\n      <td>NaN</td>\n      <td>NaN</td>\n      <td>NaN</td>\n      <td>NaN</td>\n      <td>NaN</td>\n      <td>NaN</td>\n      <td>NaN</td>\n      <td>NaN</td>\n      <td>...</td>\n      <td>NaN</td>\n      <td>NaN</td>\n      <td>NaN</td>\n      <td>NaN</td>\n      <td>NaN</td>\n      <td>NaN</td>\n      <td>NaN</td>\n      <td>NaN</td>\n      <td>7.26</td>\n      <td>NaN</td>\n    </tr>\n    <tr>\n      <th>3</th>\n      <td>NaN</td>\n      <td>NaN</td>\n      <td>NaN</td>\n      <td>NaN</td>\n      <td>NaN</td>\n      <td>NaN</td>\n      <td>NaN</td>\n      <td>NaN</td>\n      <td>NaN</td>\n      <td>NaN</td>\n      <td>...</td>\n      <td>NaN</td>\n      <td>NaN</td>\n      <td>NaN</td>\n      <td>NaN</td>\n      <td>NaN</td>\n      <td>NaN</td>\n      <td>NaN</td>\n      <td>NaN</td>\n      <td>NaN</td>\n      <td>NaN</td>\n    </tr>\n    <tr>\n      <th>4</th>\n      <td>NaN</td>\n      <td>NaN</td>\n      <td>NaN</td>\n      <td>NaN</td>\n      <td>NaN</td>\n      <td>NaN</td>\n      <td>NaN</td>\n      <td>NaN</td>\n      <td>NaN</td>\n      <td>NaN</td>\n      <td>...</td>\n      <td>NaN</td>\n      <td>NaN</td>\n      <td>NaN</td>\n      <td>NaN</td>\n      <td>NaN</td>\n      <td>NaN</td>\n      <td>NaN</td>\n      <td>NaN</td>\n      <td>NaN</td>\n      <td>NaN</td>\n    </tr>\n  </tbody>\n</table>\n<p>5 rows × 104 columns</p>\n</div>"
     },
     "metadata": {},
     "output_type": "display_data"
    },
    {
     "name": "stdout",
     "output_type": "stream",
     "text": [
      "interventions.shape:  (971296, 14)\n"
     ]
    },
    {
     "data": {
      "text/plain": "                                        vent  vaso  adenosine  dobutamine  \\\nsubject_id hadm_id icustay_id hours_in                                      \n3          145834  211552     0            1     0          0           0   \n                              1            1     1          0           0   \n                              2            1     1          0           0   \n                              3            1     1          0           0   \n                              4            1     1          0           0   \n\n                                        dopamine  epinephrine  isuprel  \\\nsubject_id hadm_id icustay_id hours_in                                   \n3          145834  211552     0                0            0        0   \n                              1                1            0        0   \n                              2                1            0        0   \n                              3                0            0        0   \n                              4                0            0        0   \n\n                                        milrinone  norepinephrine  \\\nsubject_id hadm_id icustay_id hours_in                              \n3          145834  211552     0                 0               0   \n                              1                 0               0   \n                              2                 0               0   \n                              3                 0               0   \n                              4                 0               1   \n\n                                        phenylephrine  vasopressin  \\\nsubject_id hadm_id icustay_id hours_in                               \n3          145834  211552     0                     0            0   \n                              1                     1            0   \n                              2                     1            0   \n                              3                     1            0   \n                              4                     1            0   \n\n                                        colloid_bolus  crystalloid_bolus  \\\nsubject_id hadm_id icustay_id hours_in                                     \n3          145834  211552     0                     0                  0   \n                              1                     0                  0   \n                              2                     0                  0   \n                              3                     0                  0   \n                              4                     0                  0   \n\n                                        nivdurations  \nsubject_id hadm_id icustay_id hours_in                \n3          145834  211552     0                    0  \n                              1                    0  \n                              2                    0  \n                              3                    0  \n                              4                    0  ",
      "text/html": "<div>\n<style scoped>\n    .dataframe tbody tr th:only-of-type {\n        vertical-align: middle;\n    }\n\n    .dataframe tbody tr th {\n        vertical-align: top;\n    }\n\n    .dataframe thead th {\n        text-align: right;\n    }\n</style>\n<table border=\"1\" class=\"dataframe\">\n  <thead>\n    <tr style=\"text-align: right;\">\n      <th></th>\n      <th></th>\n      <th></th>\n      <th></th>\n      <th>vent</th>\n      <th>vaso</th>\n      <th>adenosine</th>\n      <th>dobutamine</th>\n      <th>dopamine</th>\n      <th>epinephrine</th>\n      <th>isuprel</th>\n      <th>milrinone</th>\n      <th>norepinephrine</th>\n      <th>phenylephrine</th>\n      <th>vasopressin</th>\n      <th>colloid_bolus</th>\n      <th>crystalloid_bolus</th>\n      <th>nivdurations</th>\n    </tr>\n    <tr>\n      <th>subject_id</th>\n      <th>hadm_id</th>\n      <th>icustay_id</th>\n      <th>hours_in</th>\n      <th></th>\n      <th></th>\n      <th></th>\n      <th></th>\n      <th></th>\n      <th></th>\n      <th></th>\n      <th></th>\n      <th></th>\n      <th></th>\n      <th></th>\n      <th></th>\n      <th></th>\n      <th></th>\n    </tr>\n  </thead>\n  <tbody>\n    <tr>\n      <th rowspan=\"5\" valign=\"top\">3</th>\n      <th rowspan=\"5\" valign=\"top\">145834</th>\n      <th rowspan=\"5\" valign=\"top\">211552</th>\n      <th>0</th>\n      <td>1</td>\n      <td>0</td>\n      <td>0</td>\n      <td>0</td>\n      <td>0</td>\n      <td>0</td>\n      <td>0</td>\n      <td>0</td>\n      <td>0</td>\n      <td>0</td>\n      <td>0</td>\n      <td>0</td>\n      <td>0</td>\n      <td>0</td>\n    </tr>\n    <tr>\n      <th>1</th>\n      <td>1</td>\n      <td>1</td>\n      <td>0</td>\n      <td>0</td>\n      <td>1</td>\n      <td>0</td>\n      <td>0</td>\n      <td>0</td>\n      <td>0</td>\n      <td>1</td>\n      <td>0</td>\n      <td>0</td>\n      <td>0</td>\n      <td>0</td>\n    </tr>\n    <tr>\n      <th>2</th>\n      <td>1</td>\n      <td>1</td>\n      <td>0</td>\n      <td>0</td>\n      <td>1</td>\n      <td>0</td>\n      <td>0</td>\n      <td>0</td>\n      <td>0</td>\n      <td>1</td>\n      <td>0</td>\n      <td>0</td>\n      <td>0</td>\n      <td>0</td>\n    </tr>\n    <tr>\n      <th>3</th>\n      <td>1</td>\n      <td>1</td>\n      <td>0</td>\n      <td>0</td>\n      <td>0</td>\n      <td>0</td>\n      <td>0</td>\n      <td>0</td>\n      <td>0</td>\n      <td>1</td>\n      <td>0</td>\n      <td>0</td>\n      <td>0</td>\n      <td>0</td>\n    </tr>\n    <tr>\n      <th>4</th>\n      <td>1</td>\n      <td>1</td>\n      <td>0</td>\n      <td>0</td>\n      <td>0</td>\n      <td>0</td>\n      <td>0</td>\n      <td>0</td>\n      <td>1</td>\n      <td>1</td>\n      <td>0</td>\n      <td>0</td>\n      <td>0</td>\n      <td>0</td>\n    </tr>\n  </tbody>\n</table>\n</div>"
     },
     "metadata": {},
     "output_type": "display_data"
    }
   ],
   "source": [
    "# Limit vital signs, lab measurements, and interventions to the first 30 hours of admission\n",
    "vitals_labs = vitals_labs[vitals_labs.index.get_level_values('hours_in') < 30]\n",
    "vitals_labs_mean = vitals_labs_mean[vitals_labs_mean.index.get_level_values('hours_in') < 30]\n",
    "interventions = interventions[interventions.index.get_level_values('hours_in') < 30]\n",
    "blind_display(patients, vitals_labs_mean, interventions, blinded=BLINDED)"
   ],
   "metadata": {
    "collapsed": false,
    "ExecuteTime": {
     "end_time": "2023-10-26T19:50:36.967469900Z",
     "start_time": "2023-10-26T19:50:27.347759600Z"
    }
   }
  },
  {
   "cell_type": "markdown",
   "source": [
    "<a name='3'></a>\n",
    "## 3 - Univariate Analysis\n",
    "\n",
    "<a name='3-1'></a>\n",
    "### 3.1 - Categorical Variables"
   ],
   "metadata": {
    "collapsed": false
   }
  },
  {
   "cell_type": "markdown",
   "source": [
    "<a name='3-1-1'></a>\n",
    "`patients` data"
   ],
   "metadata": {
    "collapsed": false
   }
  },
  {
   "cell_type": "code",
   "execution_count": 9,
   "outputs": [
    {
     "data": {
      "text/plain": "<Figure size 720x432 with 1 Axes>",
      "image/png": "[encoded data removed]"
     },
     "metadata": {},
     "output_type": "display_data"
    },
    {
     "data": {
      "text/plain": "<Figure size 720x432 with 1 Axes>",
      "image/png": "[encoded data removed]"
     },
     "metadata": {},
     "output_type": "display_data"
    },
    {
     "data": {
      "text/plain": "<Figure size 720x432 with 1 Axes>",
      "image/png": "[encoded data removed]"
     },
     "metadata": {},
     "output_type": "display_data"
    },
    {
     "data": {
      "text/plain": "<Figure size 720x432 with 1 Axes>",
      "image/png": "[encoded data removed]"
     },
     "metadata": {},
     "output_type": "display_data"
    }
   ],
   "source": [
    "patient_categorical_vars = [\"gender\", \"insurance\", \"admission_type\", \"first_careunit\"]\n",
    "plot_categorical_columns(patients, patient_categorical_vars)"
   ],
   "metadata": {
    "collapsed": false,
    "ExecuteTime": {
     "end_time": "2023-10-26T19:50:38.412181600Z",
     "start_time": "2023-10-26T19:50:36.764361200Z"
    }
   }
  },
  {
   "cell_type": "markdown",
   "source": [
    "<a name='3-1-1-1'></a>\n",
    "#### Transforming Static Features"
   ],
   "metadata": {
    "collapsed": false
   }
  },
  {
   "cell_type": "code",
   "execution_count": 10,
   "outputs": [
    {
     "data": {
      "text/plain": ">70      14213\n51-70    12938\n31-50     5489\n<31       1832\nName: age, dtype: int64"
     },
     "execution_count": 10,
     "metadata": {},
     "output_type": "execute_result"
    }
   ],
   "source": [
    "# group age\n",
    "patients['age'] = patients['age'].apply(categorize_age)\n",
    "patients['age'].value_counts(dropna=False)"
   ],
   "metadata": {
    "collapsed": false,
    "ExecuteTime": {
     "end_time": "2023-10-26T19:50:38.802776900Z",
     "start_time": "2023-10-26T19:50:38.349653600Z"
    }
   }
  },
  {
   "cell_type": "code",
   "execution_count": 11,
   "outputs": [
    {
     "data": {
      "text/plain": "WHITE                                                       24429\nUNKNOWN/NOT SPECIFIED                                        3221\nBLACK/AFRICAN AMERICAN                                       2456\nHISPANIC OR LATINO                                            881\nOTHER                                                         785\nUNABLE TO OBTAIN                                              652\nASIAN                                                         545\nPATIENT DECLINED TO ANSWER                                    351\nASIAN - CHINESE                                               166\nHISPANIC/LATINO - PUERTO RICAN                                124\nBLACK/CAPE VERDEAN                                            122\nWHITE - RUSSIAN                                                99\nMULTI RACE ETHNICITY                                           77\nBLACK/HAITIAN                                                  64\nWHITE - OTHER EUROPEAN                                         59\nHISPANIC/LATINO - DOMINICAN                                    56\nASIAN - ASIAN INDIAN                                           49\nWHITE - BRAZILIAN                                              35\nASIAN - VIETNAMESE                                             33\nPORTUGUESE                                                     32\nBLACK/AFRICAN                                                  25\nHISPANIC/LATINO - GUATEMALAN                                   24\nMIDDLE EASTERN                                                 23\nWHITE - EASTERN EUROPEAN                                       21\nHISPANIC/LATINO - CUBAN                                        16\nAMERICAN INDIAN/ALASKA NATIVE                                  15\nASIAN - FILIPINO                                               13\nHISPANIC/LATINO - SALVADORAN                                   12\nNATIVE HAWAIIAN OR OTHER PACIFIC ISLANDER                      11\nASIAN - KOREAN                                                 10\nASIAN - CAMBODIAN                                              10\nHISPANIC/LATINO - MEXICAN                                       8\nCARIBBEAN ISLAND                                                7\nHISPANIC/LATINO - CENTRAL AMERICAN (OTHER)                      7\nASIAN - OTHER                                                   7\nSOUTH AMERICAN                                                  7\nHISPANIC/LATINO - COLOMBIAN                                     6\nASIAN - JAPANESE                                                6\nHISPANIC/LATINO - HONDURAN                                      3\nASIAN - THAI                                                    3\nAMERICAN INDIAN/ALASKA NATIVE FEDERALLY RECOGNIZED TRIBE        2\nName: ethnicity, dtype: int64"
     },
     "execution_count": 11,
     "metadata": {},
     "output_type": "execute_result"
    }
   ],
   "source": [
    "# check ethnicity categories\n",
    "patients['ethnicity'].value_counts(dropna=False)"
   ],
   "metadata": {
    "collapsed": false,
    "ExecuteTime": {
     "end_time": "2023-10-26T19:50:38.967774400Z",
     "start_time": "2023-10-26T19:50:38.802776900Z"
    }
   }
  },
  {
   "cell_type": "code",
   "execution_count": 12,
   "outputs": [
    {
     "data": {
      "text/plain": "WHITE              24675\nOTHER/UNKNOWN       5086\nBLACK               2667\nHISPANIC            1137\nASIAN                865\nISLANDER              25\nNATIVE AMERICAN       17\nName: ethnicity, dtype: int64"
     },
     "execution_count": 12,
     "metadata": {},
     "output_type": "execute_result"
    }
   ],
   "source": [
    "# Regroup similar categories of ethnicities\n",
    "patients['ethnicity'] = patients['ethnicity'].apply(categorize_ethnicity)\n",
    "patients['ethnicity'].value_counts(dropna=False)"
   ],
   "metadata": {
    "collapsed": false,
    "ExecuteTime": {
     "end_time": "2023-10-26T19:50:39.250229Z",
     "start_time": "2023-10-26T19:50:38.967774400Z"
    }
   }
  },
  {
   "cell_type": "code",
   "execution_count": 13,
   "outputs": [
    {
     "data": {
      "text/plain": "EMERGENCY    28767\nELECTIVE      5705\nName: admission_type, dtype: int64"
     },
     "execution_count": 13,
     "metadata": {},
     "output_type": "execute_result"
    }
   ],
   "source": [
    "# regroup admission types into: EMERGENCY & ELECTIVE\n",
    "patients['admission_type'] = patients['admission_type'].apply(group_admission_type)\n",
    "patients['admission_type'].value_counts(dropna=False)"
   ],
   "metadata": {
    "collapsed": false,
    "ExecuteTime": {
     "end_time": "2023-10-26T19:50:39.475567400Z",
     "start_time": "2023-10-26T19:50:39.250229Z"
    }
   }
  },
  {
   "cell_type": "markdown",
   "source": [
    "<a name='3-1-2'></a>\n",
    "`interventions` data"
   ],
   "metadata": {
    "collapsed": false
   }
  },
  {
   "cell_type": "code",
   "execution_count": 14,
   "outputs": [
    {
     "data": {
      "text/plain": "          vent  vaso  adenosine  dobutamine  dopamine  epinephrine  isuprel  \\\nhours_in                                                                      \n0         3341  1700          2          58       455           73        2   \n1         6207  3383          0         103       705          201        3   \n2         8056  4685          2         133       794          362        3   \n3         9120  5403          2         154       808          499        4   \n4         9599  5863          2         164       794          606        4   \n5         9552  5978          2         165       763          649        3   \n6         9191  6007          0         180       747          672        3   \n7         8734  5974          2         184       735          687        3   \n8         8305  5913          1         192       735          676        2   \n9         7899  5794          0         199       706          654        2   \n10        7510  5731          0         197       701          644        5   \n11        7188  5657          1         195       686          627        5   \n12        6895  5607          0         196       657          620        5   \n13        6612  5514          0         194       629          594        4   \n14        6363  5458          1         190       616          582        3   \n15        6132  5363          0         191       605          574        4   \n16        5917  5298          0         191       593          564        4   \n17        5714  5154          1         184       568          527        4   \n18        5464  5013          2         183       547          501        7   \n19        5266  4800          0         172       520          476        8   \n20        5085  4568          0         162       497          438        7   \n21        4870  4397          1         159       476          403        7   \n22        4690  4223          0         152       449          355        7   \n23        4534  4030          0         154       438          324        7   \n24        4414  3873          1         160       420          284        6   \n25        4295  3742          0         159       407          258        6   \n26        4208  3621          1         152       401          234        5   \n27        4107  3501          1         140       395          222        4   \n28        4032  3389          0         135       384          205        3   \n29        3946  3296          0         127       384          193        3   \n\n          milrinone  norepinephrine  phenylephrine  vasopressin  \\\nhours_in                                                          \n0                42             386            952           34   \n1                93             898           1923           65   \n2               178            1318           2707          109   \n3               240            1526           3176          153   \n4               300            1613           3519          197   \n5               357            1674           3592          227   \n6               398            1721           3563          253   \n7               429            1740           3492          281   \n8               440            1746           3417          306   \n9               458            1745           3313          333   \n10              461            1722           3257          347   \n11              462            1709           3203          360   \n12              465            1693           3202          375   \n13              465            1663           3161          385   \n14              468            1629           3148          392   \n15              468            1598           3096          390   \n16              472            1587           3049          403   \n17              472            1562           2939          404   \n18              470            1526           2843          409   \n19              460            1477           2717          407   \n20              457            1421           2556          413   \n21              439            1400           2419          408   \n22              420            1364           2308          399   \n23              406            1310           2179          400   \n24              401            1282           2061          397   \n25              396            1252           1973          395   \n26              383            1215           1887          388   \n27              378            1184           1802          376   \n28              373            1153           1726          374   \n29              358            1135           1666          378   \n\n          colloid_bolus  crystalloid_bolus  nivdurations  \nhours_in                                                  \n0                    27               1280          4903  \n1                    31               2397          7978  \n2                    36               3523          9467  \n3                   100               4219         10173  \n4                   149               4213         10641  \n5                   195               3952         11147  \n6                   200               3629         11648  \n7                   243               3260         12125  \n8                   231               2954         12478  \n9                   212               2560         12818  \n10                  202               2347         13030  \n11                  220               2055         13238  \n12                  177               1885         13405  \n13                  149               1736         13484  \n14                  148               1591         13523  \n15                  151               1489         13520  \n16                  117               1312         13444  \n17                  108               1273         13375  \n18                  105               1197         13168  \n19                  104               1044         12998  \n20                   89                921         12873  \n21                  117                973         12682  \n22                  106                927         12350  \n23                  112                867         12067  \n24                   95                846         11811  \n25                   87                781         11535  \n26                   68                760         11207  \n27                   76                697         10925  \n28                   74                628         10747  \n29                   65                616         10555  ",
      "text/html": "<div>\n<style scoped>\n    .dataframe tbody tr th:only-of-type {\n        vertical-align: middle;\n    }\n\n    .dataframe tbody tr th {\n        vertical-align: top;\n    }\n\n    .dataframe thead th {\n        text-align: right;\n    }\n</style>\n<table border=\"1\" class=\"dataframe\">\n  <thead>\n    <tr style=\"text-align: right;\">\n      <th></th>\n      <th>vent</th>\n      <th>vaso</th>\n      <th>adenosine</th>\n      <th>dobutamine</th>\n      <th>dopamine</th>\n      <th>epinephrine</th>\n      <th>isuprel</th>\n      <th>milrinone</th>\n      <th>norepinephrine</th>\n      <th>phenylephrine</th>\n      <th>vasopressin</th>\n      <th>colloid_bolus</th>\n      <th>crystalloid_bolus</th>\n      <th>nivdurations</th>\n    </tr>\n    <tr>\n      <th>hours_in</th>\n      <th></th>\n      <th></th>\n      <th></th>\n      <th></th>\n      <th></th>\n      <th></th>\n      <th></th>\n      <th></th>\n      <th></th>\n      <th></th>\n      <th></th>\n      <th></th>\n      <th></th>\n      <th></th>\n    </tr>\n  </thead>\n  <tbody>\n    <tr>\n      <th>0</th>\n      <td>3341</td>\n      <td>1700</td>\n      <td>2</td>\n      <td>58</td>\n      <td>455</td>\n      <td>73</td>\n      <td>2</td>\n      <td>42</td>\n      <td>386</td>\n      <td>952</td>\n      <td>34</td>\n      <td>27</td>\n      <td>1280</td>\n      <td>4903</td>\n    </tr>\n    <tr>\n      <th>1</th>\n      <td>6207</td>\n      <td>3383</td>\n      <td>0</td>\n      <td>103</td>\n      <td>705</td>\n      <td>201</td>\n      <td>3</td>\n      <td>93</td>\n      <td>898</td>\n      <td>1923</td>\n      <td>65</td>\n      <td>31</td>\n      <td>2397</td>\n      <td>7978</td>\n    </tr>\n    <tr>\n      <th>2</th>\n      <td>8056</td>\n      <td>4685</td>\n      <td>2</td>\n      <td>133</td>\n      <td>794</td>\n      <td>362</td>\n      <td>3</td>\n      <td>178</td>\n      <td>1318</td>\n      <td>2707</td>\n      <td>109</td>\n      <td>36</td>\n      <td>3523</td>\n      <td>9467</td>\n    </tr>\n    <tr>\n      <th>3</th>\n      <td>9120</td>\n      <td>5403</td>\n      <td>2</td>\n      <td>154</td>\n      <td>808</td>\n      <td>499</td>\n      <td>4</td>\n      <td>240</td>\n      <td>1526</td>\n      <td>3176</td>\n      <td>153</td>\n      <td>100</td>\n      <td>4219</td>\n      <td>10173</td>\n    </tr>\n    <tr>\n      <th>4</th>\n      <td>9599</td>\n      <td>5863</td>\n      <td>2</td>\n      <td>164</td>\n      <td>794</td>\n      <td>606</td>\n      <td>4</td>\n      <td>300</td>\n      <td>1613</td>\n      <td>3519</td>\n      <td>197</td>\n      <td>149</td>\n      <td>4213</td>\n      <td>10641</td>\n    </tr>\n    <tr>\n      <th>5</th>\n      <td>9552</td>\n      <td>5978</td>\n      <td>2</td>\n      <td>165</td>\n      <td>763</td>\n      <td>649</td>\n      <td>3</td>\n      <td>357</td>\n      <td>1674</td>\n      <td>3592</td>\n      <td>227</td>\n      <td>195</td>\n      <td>3952</td>\n      <td>11147</td>\n    </tr>\n    <tr>\n      <th>6</th>\n      <td>9191</td>\n      <td>6007</td>\n      <td>0</td>\n      <td>180</td>\n      <td>747</td>\n      <td>672</td>\n      <td>3</td>\n      <td>398</td>\n      <td>1721</td>\n      <td>3563</td>\n      <td>253</td>\n      <td>200</td>\n      <td>3629</td>\n      <td>11648</td>\n    </tr>\n    <tr>\n      <th>7</th>\n      <td>8734</td>\n      <td>5974</td>\n      <td>2</td>\n      <td>184</td>\n      <td>735</td>\n      <td>687</td>\n      <td>3</td>\n      <td>429</td>\n      <td>1740</td>\n      <td>3492</td>\n      <td>281</td>\n      <td>243</td>\n      <td>3260</td>\n      <td>12125</td>\n    </tr>\n    <tr>\n      <th>8</th>\n      <td>8305</td>\n      <td>5913</td>\n      <td>1</td>\n      <td>192</td>\n      <td>735</td>\n      <td>676</td>\n      <td>2</td>\n      <td>440</td>\n      <td>1746</td>\n      <td>3417</td>\n      <td>306</td>\n      <td>231</td>\n      <td>2954</td>\n      <td>12478</td>\n    </tr>\n    <tr>\n      <th>9</th>\n      <td>7899</td>\n      <td>5794</td>\n      <td>0</td>\n      <td>199</td>\n      <td>706</td>\n      <td>654</td>\n      <td>2</td>\n      <td>458</td>\n      <td>1745</td>\n      <td>3313</td>\n      <td>333</td>\n      <td>212</td>\n      <td>2560</td>\n      <td>12818</td>\n    </tr>\n    <tr>\n      <th>10</th>\n      <td>7510</td>\n      <td>5731</td>\n      <td>0</td>\n      <td>197</td>\n      <td>701</td>\n      <td>644</td>\n      <td>5</td>\n      <td>461</td>\n      <td>1722</td>\n      <td>3257</td>\n      <td>347</td>\n      <td>202</td>\n      <td>2347</td>\n      <td>13030</td>\n    </tr>\n    <tr>\n      <th>11</th>\n      <td>7188</td>\n      <td>5657</td>\n      <td>1</td>\n      <td>195</td>\n      <td>686</td>\n      <td>627</td>\n      <td>5</td>\n      <td>462</td>\n      <td>1709</td>\n      <td>3203</td>\n      <td>360</td>\n      <td>220</td>\n      <td>2055</td>\n      <td>13238</td>\n    </tr>\n    <tr>\n      <th>12</th>\n      <td>6895</td>\n      <td>5607</td>\n      <td>0</td>\n      <td>196</td>\n      <td>657</td>\n      <td>620</td>\n      <td>5</td>\n      <td>465</td>\n      <td>1693</td>\n      <td>3202</td>\n      <td>375</td>\n      <td>177</td>\n      <td>1885</td>\n      <td>13405</td>\n    </tr>\n    <tr>\n      <th>13</th>\n      <td>6612</td>\n      <td>5514</td>\n      <td>0</td>\n      <td>194</td>\n      <td>629</td>\n      <td>594</td>\n      <td>4</td>\n      <td>465</td>\n      <td>1663</td>\n      <td>3161</td>\n      <td>385</td>\n      <td>149</td>\n      <td>1736</td>\n      <td>13484</td>\n    </tr>\n    <tr>\n      <th>14</th>\n      <td>6363</td>\n      <td>5458</td>\n      <td>1</td>\n      <td>190</td>\n      <td>616</td>\n      <td>582</td>\n      <td>3</td>\n      <td>468</td>\n      <td>1629</td>\n      <td>3148</td>\n      <td>392</td>\n      <td>148</td>\n      <td>1591</td>\n      <td>13523</td>\n    </tr>\n    <tr>\n      <th>15</th>\n      <td>6132</td>\n      <td>5363</td>\n      <td>0</td>\n      <td>191</td>\n      <td>605</td>\n      <td>574</td>\n      <td>4</td>\n      <td>468</td>\n      <td>1598</td>\n      <td>3096</td>\n      <td>390</td>\n      <td>151</td>\n      <td>1489</td>\n      <td>13520</td>\n    </tr>\n    <tr>\n      <th>16</th>\n      <td>5917</td>\n      <td>5298</td>\n      <td>0</td>\n      <td>191</td>\n      <td>593</td>\n      <td>564</td>\n      <td>4</td>\n      <td>472</td>\n      <td>1587</td>\n      <td>3049</td>\n      <td>403</td>\n      <td>117</td>\n      <td>1312</td>\n      <td>13444</td>\n    </tr>\n    <tr>\n      <th>17</th>\n      <td>5714</td>\n      <td>5154</td>\n      <td>1</td>\n      <td>184</td>\n      <td>568</td>\n      <td>527</td>\n      <td>4</td>\n      <td>472</td>\n      <td>1562</td>\n      <td>2939</td>\n      <td>404</td>\n      <td>108</td>\n      <td>1273</td>\n      <td>13375</td>\n    </tr>\n    <tr>\n      <th>18</th>\n      <td>5464</td>\n      <td>5013</td>\n      <td>2</td>\n      <td>183</td>\n      <td>547</td>\n      <td>501</td>\n      <td>7</td>\n      <td>470</td>\n      <td>1526</td>\n      <td>2843</td>\n      <td>409</td>\n      <td>105</td>\n      <td>1197</td>\n      <td>13168</td>\n    </tr>\n    <tr>\n      <th>19</th>\n      <td>5266</td>\n      <td>4800</td>\n      <td>0</td>\n      <td>172</td>\n      <td>520</td>\n      <td>476</td>\n      <td>8</td>\n      <td>460</td>\n      <td>1477</td>\n      <td>2717</td>\n      <td>407</td>\n      <td>104</td>\n      <td>1044</td>\n      <td>12998</td>\n    </tr>\n    <tr>\n      <th>20</th>\n      <td>5085</td>\n      <td>4568</td>\n      <td>0</td>\n      <td>162</td>\n      <td>497</td>\n      <td>438</td>\n      <td>7</td>\n      <td>457</td>\n      <td>1421</td>\n      <td>2556</td>\n      <td>413</td>\n      <td>89</td>\n      <td>921</td>\n      <td>12873</td>\n    </tr>\n    <tr>\n      <th>21</th>\n      <td>4870</td>\n      <td>4397</td>\n      <td>1</td>\n      <td>159</td>\n      <td>476</td>\n      <td>403</td>\n      <td>7</td>\n      <td>439</td>\n      <td>1400</td>\n      <td>2419</td>\n      <td>408</td>\n      <td>117</td>\n      <td>973</td>\n      <td>12682</td>\n    </tr>\n    <tr>\n      <th>22</th>\n      <td>4690</td>\n      <td>4223</td>\n      <td>0</td>\n      <td>152</td>\n      <td>449</td>\n      <td>355</td>\n      <td>7</td>\n      <td>420</td>\n      <td>1364</td>\n      <td>2308</td>\n      <td>399</td>\n      <td>106</td>\n      <td>927</td>\n      <td>12350</td>\n    </tr>\n    <tr>\n      <th>23</th>\n      <td>4534</td>\n      <td>4030</td>\n      <td>0</td>\n      <td>154</td>\n      <td>438</td>\n      <td>324</td>\n      <td>7</td>\n      <td>406</td>\n      <td>1310</td>\n      <td>2179</td>\n      <td>400</td>\n      <td>112</td>\n      <td>867</td>\n      <td>12067</td>\n    </tr>\n    <tr>\n      <th>24</th>\n      <td>4414</td>\n      <td>3873</td>\n      <td>1</td>\n      <td>160</td>\n      <td>420</td>\n      <td>284</td>\n      <td>6</td>\n      <td>401</td>\n      <td>1282</td>\n      <td>2061</td>\n      <td>397</td>\n      <td>95</td>\n      <td>846</td>\n      <td>11811</td>\n    </tr>\n    <tr>\n      <th>25</th>\n      <td>4295</td>\n      <td>3742</td>\n      <td>0</td>\n      <td>159</td>\n      <td>407</td>\n      <td>258</td>\n      <td>6</td>\n      <td>396</td>\n      <td>1252</td>\n      <td>1973</td>\n      <td>395</td>\n      <td>87</td>\n      <td>781</td>\n      <td>11535</td>\n    </tr>\n    <tr>\n      <th>26</th>\n      <td>4208</td>\n      <td>3621</td>\n      <td>1</td>\n      <td>152</td>\n      <td>401</td>\n      <td>234</td>\n      <td>5</td>\n      <td>383</td>\n      <td>1215</td>\n      <td>1887</td>\n      <td>388</td>\n      <td>68</td>\n      <td>760</td>\n      <td>11207</td>\n    </tr>\n    <tr>\n      <th>27</th>\n      <td>4107</td>\n      <td>3501</td>\n      <td>1</td>\n      <td>140</td>\n      <td>395</td>\n      <td>222</td>\n      <td>4</td>\n      <td>378</td>\n      <td>1184</td>\n      <td>1802</td>\n      <td>376</td>\n      <td>76</td>\n      <td>697</td>\n      <td>10925</td>\n    </tr>\n    <tr>\n      <th>28</th>\n      <td>4032</td>\n      <td>3389</td>\n      <td>0</td>\n      <td>135</td>\n      <td>384</td>\n      <td>205</td>\n      <td>3</td>\n      <td>373</td>\n      <td>1153</td>\n      <td>1726</td>\n      <td>374</td>\n      <td>74</td>\n      <td>628</td>\n      <td>10747</td>\n    </tr>\n    <tr>\n      <th>29</th>\n      <td>3946</td>\n      <td>3296</td>\n      <td>0</td>\n      <td>127</td>\n      <td>384</td>\n      <td>193</td>\n      <td>3</td>\n      <td>358</td>\n      <td>1135</td>\n      <td>1666</td>\n      <td>378</td>\n      <td>65</td>\n      <td>616</td>\n      <td>10555</td>\n    </tr>\n  </tbody>\n</table>\n</div>"
     },
     "execution_count": 14,
     "metadata": {},
     "output_type": "execute_result"
    }
   ],
   "source": [
    "inter_reset = interventions.reset_index()\n",
    "inter_grouped = interventions.groupby(['hours_in']).sum().reset_index()\n",
    "inter_grouped.set_index('hours_in', inplace=True)\n",
    "inter_grouped"
   ],
   "metadata": {
    "collapsed": false,
    "ExecuteTime": {
     "end_time": "2023-10-26T19:50:40.225328600Z",
     "start_time": "2023-10-26T19:50:39.475567400Z"
    }
   }
  },
  {
   "cell_type": "code",
   "execution_count": 15,
   "outputs": [],
   "source": [
    "# plot_hourly_counts(df=inter_grouped, features=inter_grouped.columns)"
   ],
   "metadata": {
    "collapsed": false,
    "ExecuteTime": {
     "end_time": "2023-10-26T19:50:40.506585100Z",
     "start_time": "2023-10-26T19:50:40.225328600Z"
    }
   }
  },
  {
   "cell_type": "markdown",
   "source": [
    "<a name='3-2'></a>\n",
    "### 3.2 - Continuous Variables"
   ],
   "metadata": {
    "collapsed": false
   }
  },
  {
   "cell_type": "markdown",
   "source": [
    "<a name='3-2-1'></a>\n",
    "`patients` data"
   ],
   "metadata": {
    "collapsed": false
   }
  },
  {
   "cell_type": "code",
   "execution_count": 16,
   "outputs": [],
   "source": [
    "# # Calculate length of stay in ICU\n",
    "# patients['icu_stay_length'] = calculate_duration(patients, 'intime', 'outtime', 'h')  # in hours\n",
    "#\n",
    "# # Plot distribution of times\n",
    "# time_columns = ['admittime', 'dischtime', 'intime', 'outtime']\n",
    "# plot_time_analysis(patients, time_columns)"
   ],
   "metadata": {
    "collapsed": false,
    "ExecuteTime": {
     "end_time": "2023-10-26T19:50:40.710595100Z",
     "start_time": "2023-10-26T19:50:40.475332800Z"
    }
   }
  },
  {
   "cell_type": "code",
   "execution_count": 17,
   "outputs": [
    {
     "data": {
      "text/plain": "<Figure size 720x432 with 1 Axes>",
      "image/png": "[encoded data removed]"
     },
     "metadata": {},
     "output_type": "display_data"
    }
   ],
   "source": [
    "# Plot distribution of length of stay in ICU\n",
    "plt.figure(figsize=(10,6))\n",
    "sns.histplot(data=patients, x='los_icu', bins=50, kde=True)\n",
    "plt.title('Length of Stay in ICU (in days)')\n",
    "plt.xlabel('Duration (days)')\n",
    "plt.ylabel('Frequency')\n",
    "plt.show()"
   ],
   "metadata": {
    "collapsed": false,
    "ExecuteTime": {
     "end_time": "2023-10-26T19:50:41.842217700Z",
     "start_time": "2023-10-26T19:50:40.710595100Z"
    }
   }
  },
  {
   "cell_type": "markdown",
   "source": [
    "<a name='3-2-2'></a>\n",
    "`vitals_labs` data\n",
    "1. **Descriptive Statistics**\n",
    "We'll start by calculating summary statistics for the DataFrame. This will help us understand the central tendency, spread, and shape of the distribution of the dataset.\n",
    "<br></br>\n",
    "2. **Time-Series Plots**\n",
    "For selected vital signs and lab measurements, we'll plot time-series graphs.\n",
    "<br></br>\n",
    "3. **Distribution Plots**\n",
    "We'll visualize the distribution of selected columns to understand their shape, center, and spread."
   ],
   "metadata": {
    "collapsed": false
   }
  },
  {
   "cell_type": "code",
   "execution_count": 18,
   "outputs": [
    {
     "data": {
      "text/plain": "LEVEL2               alanine aminotransferase       albumin albumin ascites  \\\nAggregation Function                     mean          mean            mean   \ncount                            28187.000000  19048.000000       84.000000   \nmean                               254.246624      3.191946        1.729762   \nstd                                887.214474      0.694316        0.836484   \nmin                                  2.000000      1.000000        0.200000   \n25%                                 19.000000      2.700000        1.175000   \n50%                                 36.000000      3.200000        1.500000   \n75%                                 97.000000      3.700000        2.200000   \nmax                              10000.000000      6.000000        5.000000   \n\nLEVEL2               albumin pleural albumin urine alkaline phosphate  \\\nAggregation Function            mean          mean               mean   \ncount                      81.000000    104.000000       27370.000000   \nmean                        1.830864     48.900962         119.145695   \nstd                         0.614744     99.112651         143.607969   \nmin                         0.300000      0.400000          20.000000   \n25%                         1.400000      3.575000          60.000000   \n50%                         1.900000     10.050000          82.000000   \n75%                         2.300000     41.925000         123.000000   \nmax                         3.400000    589.000000        3625.000000   \n\nLEVEL2                    anion gap asparate aminotransferase     basophils  \\\nAggregation Function           mean                      mean          mean   \ncount                 102004.000000              28201.000000  15390.000000   \nmean                      14.141292                351.607153      0.402308   \nstd                        4.127999               1266.383225      0.510932   \nmin                        5.000000                  6.000000      0.100000   \n25%                       11.500000                 25.333333      0.200000   \n50%                       14.000000                 49.000000      0.300000   \n75%                       16.000000                137.000000      0.500000   \nmax                       50.000000              20000.000000     40.000000   \n\nLEVEL2                  bicarbonate  ... total protein total protein urine  \\\nAggregation Function           mean  ...          mean                mean   \ncount                 109235.000000  ...    271.000000          592.000000   \nmean                      23.494447  ...      5.804428          151.905405   \nstd                        4.570154  ...      1.129855          316.335636   \nmin                        0.000000  ...      3.500000            6.000000   \n25%                       21.000000  ...      5.100000           23.000000   \n50%                       24.000000  ...      5.700000           56.000000   \n75%                       26.000000  ...      6.300000          134.500000   \nmax                       53.000000  ...     13.200000         3790.000000   \n\nLEVEL2                 troponin-i    troponin-t venous pvo2        weight  \\\nAggregation Function         mean          mean        mean          mean   \ncount                 1572.000000  23325.000000  540.000000  39158.000000   \nmean                     7.681408      0.813436   44.958333     81.895170   \nstd                     10.861260      2.162117   15.608904     23.033320   \nmin                      0.010000      0.010000    0.000000      0.000000   \n25%                      0.700000      0.020000   34.000000     66.360564   \n50%                      2.700000      0.090000   42.000000     79.242587   \n75%                     10.100000      0.440000   51.000000     94.092170   \nmax                     49.600000     20.850000  100.000000    250.000000   \n\nLEVEL2               white blood cell count white blood cell count urine  \\\nAggregation Function                   mean                         mean   \ncount                         104235.000000                  3971.000000   \nmean                              12.196923                    22.460766   \nstd                               11.223541                    71.403553   \nmin                                0.000000                     0.100000   \n25%                                7.800000                     2.000000   \n50%                               10.800000                     4.000000   \n75%                               14.500000                    14.000000   \nmax                              939.000000                   929.000000   \n\nLEVEL2                           ph      ph urine  \nAggregation Function           mean          mean  \ncount                 124655.000000  17800.000000  \nmean                       7.370512      5.810323  \nstd                        0.078753      0.928963  \nmin                        6.500000      1.000000  \n25%                        7.330000      5.000000  \n50%                        7.380000      5.500000  \n75%                        7.420000      6.500000  \nmax                        8.400000      9.000000  \n\n[8 rows x 104 columns]",
      "text/html": "<div>\n<style scoped>\n    .dataframe tbody tr th:only-of-type {\n        vertical-align: middle;\n    }\n\n    .dataframe tbody tr th {\n        vertical-align: top;\n    }\n\n    .dataframe thead tr th {\n        text-align: left;\n    }\n</style>\n<table border=\"1\" class=\"dataframe\">\n  <thead>\n    <tr>\n      <th>LEVEL2</th>\n      <th>alanine aminotransferase</th>\n      <th>albumin</th>\n      <th>albumin ascites</th>\n      <th>albumin pleural</th>\n      <th>albumin urine</th>\n      <th>alkaline phosphate</th>\n      <th>anion gap</th>\n      <th>asparate aminotransferase</th>\n      <th>basophils</th>\n      <th>bicarbonate</th>\n      <th>...</th>\n      <th>total protein</th>\n      <th>total protein urine</th>\n      <th>troponin-i</th>\n      <th>troponin-t</th>\n      <th>venous pvo2</th>\n      <th>weight</th>\n      <th>white blood cell count</th>\n      <th>white blood cell count urine</th>\n      <th>ph</th>\n      <th>ph urine</th>\n    </tr>\n    <tr>\n      <th>Aggregation Function</th>\n      <th>mean</th>\n      <th>mean</th>\n      <th>mean</th>\n      <th>mean</th>\n      <th>mean</th>\n      <th>mean</th>\n      <th>mean</th>\n      <th>mean</th>\n      <th>mean</th>\n      <th>mean</th>\n      <th>...</th>\n      <th>mean</th>\n      <th>mean</th>\n      <th>mean</th>\n      <th>mean</th>\n      <th>mean</th>\n      <th>mean</th>\n      <th>mean</th>\n      <th>mean</th>\n      <th>mean</th>\n      <th>mean</th>\n    </tr>\n  </thead>\n  <tbody>\n    <tr>\n      <th>count</th>\n      <td>28187.000000</td>\n      <td>19048.000000</td>\n      <td>84.000000</td>\n      <td>81.000000</td>\n      <td>104.000000</td>\n      <td>27370.000000</td>\n      <td>102004.000000</td>\n      <td>28201.000000</td>\n      <td>15390.000000</td>\n      <td>109235.000000</td>\n      <td>...</td>\n      <td>271.000000</td>\n      <td>592.000000</td>\n      <td>1572.000000</td>\n      <td>23325.000000</td>\n      <td>540.000000</td>\n      <td>39158.000000</td>\n      <td>104235.000000</td>\n      <td>3971.000000</td>\n      <td>124655.000000</td>\n      <td>17800.000000</td>\n    </tr>\n    <tr>\n      <th>mean</th>\n      <td>254.246624</td>\n      <td>3.191946</td>\n      <td>1.729762</td>\n      <td>1.830864</td>\n      <td>48.900962</td>\n      <td>119.145695</td>\n      <td>14.141292</td>\n      <td>351.607153</td>\n      <td>0.402308</td>\n      <td>23.494447</td>\n      <td>...</td>\n      <td>5.804428</td>\n      <td>151.905405</td>\n      <td>7.681408</td>\n      <td>0.813436</td>\n      <td>44.958333</td>\n      <td>81.895170</td>\n      <td>12.196923</td>\n      <td>22.460766</td>\n      <td>7.370512</td>\n      <td>5.810323</td>\n    </tr>\n    <tr>\n      <th>std</th>\n      <td>887.214474</td>\n      <td>0.694316</td>\n      <td>0.836484</td>\n      <td>0.614744</td>\n      <td>99.112651</td>\n      <td>143.607969</td>\n      <td>4.127999</td>\n      <td>1266.383225</td>\n      <td>0.510932</td>\n      <td>4.570154</td>\n      <td>...</td>\n      <td>1.129855</td>\n      <td>316.335636</td>\n      <td>10.861260</td>\n      <td>2.162117</td>\n      <td>15.608904</td>\n      <td>23.033320</td>\n      <td>11.223541</td>\n      <td>71.403553</td>\n      <td>0.078753</td>\n      <td>0.928963</td>\n    </tr>\n    <tr>\n      <th>min</th>\n      <td>2.000000</td>\n      <td>1.000000</td>\n      <td>0.200000</td>\n      <td>0.300000</td>\n      <td>0.400000</td>\n      <td>20.000000</td>\n      <td>5.000000</td>\n      <td>6.000000</td>\n      <td>0.100000</td>\n      <td>0.000000</td>\n      <td>...</td>\n      <td>3.500000</td>\n      <td>6.000000</td>\n      <td>0.010000</td>\n      <td>0.010000</td>\n      <td>0.000000</td>\n      <td>0.000000</td>\n      <td>0.000000</td>\n      <td>0.100000</td>\n      <td>6.500000</td>\n      <td>1.000000</td>\n    </tr>\n    <tr>\n      <th>25%</th>\n      <td>19.000000</td>\n      <td>2.700000</td>\n      <td>1.175000</td>\n      <td>1.400000</td>\n      <td>3.575000</td>\n      <td>60.000000</td>\n      <td>11.500000</td>\n      <td>25.333333</td>\n      <td>0.200000</td>\n      <td>21.000000</td>\n      <td>...</td>\n      <td>5.100000</td>\n      <td>23.000000</td>\n      <td>0.700000</td>\n      <td>0.020000</td>\n      <td>34.000000</td>\n      <td>66.360564</td>\n      <td>7.800000</td>\n      <td>2.000000</td>\n      <td>7.330000</td>\n      <td>5.000000</td>\n    </tr>\n    <tr>\n      <th>50%</th>\n      <td>36.000000</td>\n      <td>3.200000</td>\n      <td>1.500000</td>\n      <td>1.900000</td>\n      <td>10.050000</td>\n      <td>82.000000</td>\n      <td>14.000000</td>\n      <td>49.000000</td>\n      <td>0.300000</td>\n      <td>24.000000</td>\n      <td>...</td>\n      <td>5.700000</td>\n      <td>56.000000</td>\n      <td>2.700000</td>\n      <td>0.090000</td>\n      <td>42.000000</td>\n      <td>79.242587</td>\n      <td>10.800000</td>\n      <td>4.000000</td>\n      <td>7.380000</td>\n      <td>5.500000</td>\n    </tr>\n    <tr>\n      <th>75%</th>\n      <td>97.000000</td>\n      <td>3.700000</td>\n      <td>2.200000</td>\n      <td>2.300000</td>\n      <td>41.925000</td>\n      <td>123.000000</td>\n      <td>16.000000</td>\n      <td>137.000000</td>\n      <td>0.500000</td>\n      <td>26.000000</td>\n      <td>...</td>\n      <td>6.300000</td>\n      <td>134.500000</td>\n      <td>10.100000</td>\n      <td>0.440000</td>\n      <td>51.000000</td>\n      <td>94.092170</td>\n      <td>14.500000</td>\n      <td>14.000000</td>\n      <td>7.420000</td>\n      <td>6.500000</td>\n    </tr>\n    <tr>\n      <th>max</th>\n      <td>10000.000000</td>\n      <td>6.000000</td>\n      <td>5.000000</td>\n      <td>3.400000</td>\n      <td>589.000000</td>\n      <td>3625.000000</td>\n      <td>50.000000</td>\n      <td>20000.000000</td>\n      <td>40.000000</td>\n      <td>53.000000</td>\n      <td>...</td>\n      <td>13.200000</td>\n      <td>3790.000000</td>\n      <td>49.600000</td>\n      <td>20.850000</td>\n      <td>100.000000</td>\n      <td>250.000000</td>\n      <td>939.000000</td>\n      <td>929.000000</td>\n      <td>8.400000</td>\n      <td>9.000000</td>\n    </tr>\n  </tbody>\n</table>\n<p>8 rows × 104 columns</p>\n</div>"
     },
     "execution_count": 18,
     "metadata": {},
     "output_type": "execute_result"
    }
   ],
   "source": [
    "vitals_labs_mean.describe()"
   ],
   "metadata": {
    "collapsed": false,
    "ExecuteTime": {
     "end_time": "2023-10-26T19:50:49.163606800Z",
     "start_time": "2023-10-26T19:50:41.842217700Z"
    }
   }
  },
  {
   "cell_type": "code",
   "execution_count": 19,
   "outputs": [
    {
     "data": {
      "text/plain": "                  measurement        mean       std  missing percent  \\\n0                  heart rate   84.291265  3.914012         9.968537   \n1            respiratory rate   18.414436  3.602833        11.397247   \n2     systolic blood pressure  119.559474  9.476804        12.205239   \n3    diastolic blood pressure   60.592006  6.219356        12.227375   \n4         mean blood pressure   78.276220  7.047384        12.610780   \n..                        ...         ...       ...              ...   \n99            albumin pleural    1.837500       NaN        99.991661   \n100        creatinine ascites    2.187879       NaN        99.996602   \n101  lymphocytes atypical csl    1.685185  1.060660        99.997220   \n102        creatinine pleural    2.269231       NaN        99.997323   \n103     creatinine body fluid    5.473333       NaN        99.998147   \n\n     valid low  valid high  \n0          0.0       350.0  \n1          0.0       300.0  \n2          0.0       375.0  \n3          0.0       375.0  \n4         14.0       330.0  \n..         ...         ...  \n99         NaN         NaN  \n100        NaN         NaN  \n101        NaN         NaN  \n102        NaN         NaN  \n103        NaN         NaN  \n\n[104 rows x 6 columns]",
      "text/html": "<div>\n<style scoped>\n    .dataframe tbody tr th:only-of-type {\n        vertical-align: middle;\n    }\n\n    .dataframe tbody tr th {\n        vertical-align: top;\n    }\n\n    .dataframe thead th {\n        text-align: right;\n    }\n</style>\n<table border=\"1\" class=\"dataframe\">\n  <thead>\n    <tr style=\"text-align: right;\">\n      <th></th>\n      <th>measurement</th>\n      <th>mean</th>\n      <th>std</th>\n      <th>missing percent</th>\n      <th>valid low</th>\n      <th>valid high</th>\n    </tr>\n  </thead>\n  <tbody>\n    <tr>\n      <th>0</th>\n      <td>heart rate</td>\n      <td>84.291265</td>\n      <td>3.914012</td>\n      <td>9.968537</td>\n      <td>0.0</td>\n      <td>350.0</td>\n    </tr>\n    <tr>\n      <th>1</th>\n      <td>respiratory rate</td>\n      <td>18.414436</td>\n      <td>3.602833</td>\n      <td>11.397247</td>\n      <td>0.0</td>\n      <td>300.0</td>\n    </tr>\n    <tr>\n      <th>2</th>\n      <td>systolic blood pressure</td>\n      <td>119.559474</td>\n      <td>9.476804</td>\n      <td>12.205239</td>\n      <td>0.0</td>\n      <td>375.0</td>\n    </tr>\n    <tr>\n      <th>3</th>\n      <td>diastolic blood pressure</td>\n      <td>60.592006</td>\n      <td>6.219356</td>\n      <td>12.227375</td>\n      <td>0.0</td>\n      <td>375.0</td>\n    </tr>\n    <tr>\n      <th>4</th>\n      <td>mean blood pressure</td>\n      <td>78.276220</td>\n      <td>7.047384</td>\n      <td>12.610780</td>\n      <td>14.0</td>\n      <td>330.0</td>\n    </tr>\n    <tr>\n      <th>...</th>\n      <td>...</td>\n      <td>...</td>\n      <td>...</td>\n      <td>...</td>\n      <td>...</td>\n      <td>...</td>\n    </tr>\n    <tr>\n      <th>99</th>\n      <td>albumin pleural</td>\n      <td>1.837500</td>\n      <td>NaN</td>\n      <td>99.991661</td>\n      <td>NaN</td>\n      <td>NaN</td>\n    </tr>\n    <tr>\n      <th>100</th>\n      <td>creatinine ascites</td>\n      <td>2.187879</td>\n      <td>NaN</td>\n      <td>99.996602</td>\n      <td>NaN</td>\n      <td>NaN</td>\n    </tr>\n    <tr>\n      <th>101</th>\n      <td>lymphocytes atypical csl</td>\n      <td>1.685185</td>\n      <td>1.060660</td>\n      <td>99.997220</td>\n      <td>NaN</td>\n      <td>NaN</td>\n    </tr>\n    <tr>\n      <th>102</th>\n      <td>creatinine pleural</td>\n      <td>2.269231</td>\n      <td>NaN</td>\n      <td>99.997323</td>\n      <td>NaN</td>\n      <td>NaN</td>\n    </tr>\n    <tr>\n      <th>103</th>\n      <td>creatinine body fluid</td>\n      <td>5.473333</td>\n      <td>NaN</td>\n      <td>99.998147</td>\n      <td>NaN</td>\n      <td>NaN</td>\n    </tr>\n  </tbody>\n</table>\n<p>104 rows × 6 columns</p>\n</div>"
     },
     "execution_count": 19,
     "metadata": {},
     "output_type": "execute_result"
    }
   ],
   "source": [
    "reset_df = vitals_labs.reset_index()\n",
    "reduced_df = reset_df.groupby(['subject_id', 'hadm_id', 'icustay_id']).mean().reset_index()\n",
    "reduced_df.drop(columns=['hours_in'], inplace=True)\n",
    "\n",
    "melted_df = pd.melt(reduced_df, id_vars=['subject_id', 'hadm_id', 'icustay_id'], var_name=['LEVEL2', 'Aggregation Function'], value_name='Value')\n",
    "melted_df.drop(columns = ['subject_id', 'hadm_id', 'icustay_id'], inplace=True)\n",
    "\n",
    "vitals_summary = melted_df.groupby(['LEVEL2', 'Aggregation Function']).mean().reset_index()\n",
    "vitals_summary = vitals_summary.pivot_table(index='LEVEL2', columns='Aggregation Function', values='Value')\n",
    "vitals_summary.drop(columns=['count'], inplace=True)\n",
    "\n",
    "vitals_missing = vitals_labs_mean.isnull().sum() / vitals_labs_mean.shape[0] * 100\n",
    "vitals_missing = vitals_missing.reset_index()\n",
    "vitals_missing.drop(columns=['Aggregation Function'], inplace=True)\n",
    "vitals_missing.rename(columns={0: 'missing percent'}, inplace=True)\n",
    "\n",
    "vitals_pivot = pd.merge(vitals_summary, vitals_missing, on=['LEVEL2'])\n",
    "vitals_pivot.rename(columns={'LEVEL2': 'measurement'}, inplace=True)\n",
    "vitals_pivot.sort_values(by='missing percent', ascending=True, inplace=True)\n",
    "vitals_pivot.reset_index(drop=True, inplace=True)\n",
    "\n",
    "vitals_ranges_df = pd.read_csv('../resources/vitals_labs_ranges.csv')\n",
    "vitals_ranges_df.columns = vitals_ranges_df.columns.str.lower()\n",
    "\n",
    "merged_vitals = pd.merge(vitals_pivot, vitals_ranges_df[['measurement', 'valid low', 'valid high']], on=['measurement'], how='left')\n",
    "merged_vitals.to_csv('../resources/vitals_labs_stats.csv')\n",
    "merged_vitals"
   ],
   "metadata": {
    "collapsed": false,
    "ExecuteTime": {
     "end_time": "2023-10-26T19:50:55.303753300Z",
     "start_time": "2023-10-26T19:50:49.163606800Z"
    }
   }
  },
  {
   "cell_type": "markdown",
   "source": [
    "#### Hourly Measurements Spread across first 30 hours - Vital Signs"
   ],
   "metadata": {
    "collapsed": false
   }
  },
  {
   "cell_type": "code",
   "execution_count": 20,
   "outputs": [
    {
     "data": {
      "text/plain": "LEVEL2    alanine aminotransferase  albumin  albumin ascites  albumin pleural  \\\nhours_in                                                                        \n0                             8297     5847               24               19   \n1                             1821     1356                4                3   \n2                             1449     1070                3                0   \n3                             1174      864                4                2   \n4                              994      743                3                4   \n5                              961      680                1                3   \n6                              965      642                4                3   \n7                             1018      656                2                0   \n8                              959      636                2                4   \n9                              862      566                2                1   \n10                             884      559                4                3   \n11                             730      479                2                1   \n12                             693      462                3                7   \n13                             623      405                2                2   \n14                             577      375                1                3   \n15                             578      336                1                2   \n16                             514      303                1                3   \n17                             448      256                2                0   \n18                             375      226                3                4   \n19                             357      196                2                2   \n20                             366      202                1                1   \n21                             353      202                7                3   \n22                             343      226                4                0   \n23                             372      231                0                3   \n24                             374      224                1                1   \n25                             368      234                0                0   \n26                             402      266                0                1   \n27                             416      255                0                5   \n28                             441      252                1                0   \n29                             473      299                0                1   \n\nLEVEL2    albumin urine  alkaline phosphate  anion gap  \\\nhours_in                                                 \n0                    23                8080      19605   \n1                     7                1776       5243   \n2                     3                1425       4692   \n3                     7                1154       4045   \n4                     5                 961       3684   \n5                     8                 925       3520   \n6                     2                 934       3592   \n7                     4                 979       3727   \n8                     2                 921       3693   \n9                     3                 841       3536   \n10                    2                 862       3518   \n11                    3                 711       3244   \n12                    7                 670       3079   \n13                    3                 606       3029   \n14                    3                 560       3188   \n15                    2                 553       3494   \n16                    3                 487       3195   \n17                    3                 437       2598   \n18                    1                 365       2044   \n19                    1                 341       1715   \n20                    3                 357       1622   \n21                    0                 347       1640   \n22                    0                 330       1651   \n23                    1                 357       1643   \n24                    2                 360       1660   \n25                    0                 363       1719   \n26                    1                 394       1791   \n27                    1                 406       1909   \n28                    3                 419       1963   \n29                    1                 449       1965   \n\nLEVEL2    asparate aminotransferase  basophils  bicarbonate  ...  \\\nhours_in                                                     ...   \n0                              8288      10133        21935  ...   \n1                              1824        807         6087  ...   \n2                              1450        520         5594  ...   \n3                              1179        436         4716  ...   \n4                               998        297         4114  ...   \n5                               961        290         3794  ...   \n6                               965        243         3762  ...   \n7                              1016        232         3839  ...   \n8                               954        208         3776  ...   \n9                               862        240         3591  ...   \n10                              887        215         3581  ...   \n11                              732        178         3326  ...   \n12                              696        165         3163  ...   \n13                              622        138         3115  ...   \n14                              578        136         3340  ...   \n15                              579        117         3692  ...   \n16                              515        102         3368  ...   \n17                              451         86         2699  ...   \n18                              377         73         2105  ...   \n19                              357         59         1762  ...   \n20                              368         59         1670  ...   \n21                              351         68         1681  ...   \n22                              343         59         1691  ...   \n23                              372         66         1676  ...   \n24                              373         65         1686  ...   \n25                              371         66         1755  ...   \n26                              403         71         1812  ...   \n27                              416         92         1929  ...   \n28                              440         85         1985  ...   \n29                              473         84         1991  ...   \n\nLEVEL2    total protein  total protein urine  troponin-i  troponin-t  \\\nhours_in                                                               \n0                    14                  119         402        4957   \n1                    14                   21          83        1229   \n2                    13                   42          64        1170   \n3                    10                   31          79        1038   \n4                    14                   33          50         987   \n5                    16                   27          45        1035   \n6                    16                   24          55        1061   \n7                    12                   20          70        1011   \n8                    18                   23          63         948   \n9                    16                   16          61         916   \n10                   12                   11          53         881   \n11                    9                   15          51         770   \n12                    9                   22          51         734   \n13                   11                   17          41         707   \n14                    8                   15          45         695   \n15                    4                   11          30         633   \n16                    8                   14          37         594   \n17                    6                    7          40         513   \n18                    5                   14          27         436   \n19                    2                   16          28         382   \n20                    5                   19          24         351   \n21                    6                    6          24         292   \n22                    3                    8          21         270   \n23                    7                   12          18         278   \n24                    8                   13          16         285   \n25                    5                    7          20         242   \n26                    5                    6          13         230   \n27                    4                    7          23         234   \n28                    3                   11          25         226   \n29                    8                    5          13         220   \n\nLEVEL2    venous pvo2  weight  white blood cell count  \\\nhours_in                                                \n0                  37    8250                   22832   \n1                  51    6753                    6488   \n2                  43    3876                    5653   \n3                  34    1963                    4642   \n4                  28    1203                    3966   \n5                  23     946                    3593   \n6                  16     723                    3544   \n7                  15     636                    3552   \n8                  18     664                    3512   \n9                  23     609                    3345   \n10                 20     644                    3359   \n11                 20     647                    3060   \n12                 20     734                    2921   \n13                 23     782                    2888   \n14                 10     755                    3060   \n15                 16     859                    3419   \n16                 15     954                    3126   \n17                 14    1129                    2359   \n18                 15    1190                    1757   \n19                 13    1088                    1477   \n20                 11     868                    1389   \n21                  8     675                    1403   \n22                 11     545                    1431   \n23                  9     425                    1435   \n24                 10     434                    1447   \n25                 10     360                    1564   \n26                  5     375                    1599   \n27                  8     348                    1735   \n28                  6     352                    1837   \n29                  8     371                    1842   \n\nLEVEL2    white blood cell count urine     ph  ph urine  \nhours_in                                                 \n0                                 1438  16695      9746  \n1                                  257   8227       822  \n2                                  229   7697       732  \n3                                  215   7031       662  \n4                                  185   6380       565  \n5                                  173   5962       460  \n6                                  111   5579       403  \n7                                  110   5172       352  \n8                                  113   4678       301  \n9                                   87   4229       291  \n10                                  83   4079       264  \n11                                  69   3780       242  \n12                                  69   3445       209  \n13                                  68   3267       216  \n14                                  84   3216       233  \n15                                  69   3275       205  \n16                                  53   3282       189  \n17                                  59   2913       174  \n18                                  64   2673       172  \n19                                  48   2484       177  \n20                                  38   2379       148  \n21                                  42   2313       158  \n22                                  41   2276       154  \n23                                  43   2195       159  \n24                                  28   2112       133  \n25                                  41   1998       131  \n26                                  36   1959       116  \n27                                  37   1868       136  \n28                                  47   1732       142  \n29                                  34   1759       108  \n\n[30 rows x 104 columns]",
      "text/html": "<div>\n<style scoped>\n    .dataframe tbody tr th:only-of-type {\n        vertical-align: middle;\n    }\n\n    .dataframe tbody tr th {\n        vertical-align: top;\n    }\n\n    .dataframe thead th {\n        text-align: right;\n    }\n</style>\n<table border=\"1\" class=\"dataframe\">\n  <thead>\n    <tr style=\"text-align: right;\">\n      <th>LEVEL2</th>\n      <th>alanine aminotransferase</th>\n      <th>albumin</th>\n      <th>albumin ascites</th>\n      <th>albumin pleural</th>\n      <th>albumin urine</th>\n      <th>alkaline phosphate</th>\n      <th>anion gap</th>\n      <th>asparate aminotransferase</th>\n      <th>basophils</th>\n      <th>bicarbonate</th>\n      <th>...</th>\n      <th>total protein</th>\n      <th>total protein urine</th>\n      <th>troponin-i</th>\n      <th>troponin-t</th>\n      <th>venous pvo2</th>\n      <th>weight</th>\n      <th>white blood cell count</th>\n      <th>white blood cell count urine</th>\n      <th>ph</th>\n      <th>ph urine</th>\n    </tr>\n    <tr>\n      <th>hours_in</th>\n      <th></th>\n      <th></th>\n      <th></th>\n      <th></th>\n      <th></th>\n      <th></th>\n      <th></th>\n      <th></th>\n      <th></th>\n      <th></th>\n      <th></th>\n      <th></th>\n      <th></th>\n      <th></th>\n      <th></th>\n      <th></th>\n      <th></th>\n      <th></th>\n      <th></th>\n      <th></th>\n      <th></th>\n    </tr>\n  </thead>\n  <tbody>\n    <tr>\n      <th>0</th>\n      <td>8297</td>\n      <td>5847</td>\n      <td>24</td>\n      <td>19</td>\n      <td>23</td>\n      <td>8080</td>\n      <td>19605</td>\n      <td>8288</td>\n      <td>10133</td>\n      <td>21935</td>\n      <td>...</td>\n      <td>14</td>\n      <td>119</td>\n      <td>402</td>\n      <td>4957</td>\n      <td>37</td>\n      <td>8250</td>\n      <td>22832</td>\n      <td>1438</td>\n      <td>16695</td>\n      <td>9746</td>\n    </tr>\n    <tr>\n      <th>1</th>\n      <td>1821</td>\n      <td>1356</td>\n      <td>4</td>\n      <td>3</td>\n      <td>7</td>\n      <td>1776</td>\n      <td>5243</td>\n      <td>1824</td>\n      <td>807</td>\n      <td>6087</td>\n      <td>...</td>\n      <td>14</td>\n      <td>21</td>\n      <td>83</td>\n      <td>1229</td>\n      <td>51</td>\n      <td>6753</td>\n      <td>6488</td>\n      <td>257</td>\n      <td>8227</td>\n      <td>822</td>\n    </tr>\n    <tr>\n      <th>2</th>\n      <td>1449</td>\n      <td>1070</td>\n      <td>3</td>\n      <td>0</td>\n      <td>3</td>\n      <td>1425</td>\n      <td>4692</td>\n      <td>1450</td>\n      <td>520</td>\n      <td>5594</td>\n      <td>...</td>\n      <td>13</td>\n      <td>42</td>\n      <td>64</td>\n      <td>1170</td>\n      <td>43</td>\n      <td>3876</td>\n      <td>5653</td>\n      <td>229</td>\n      <td>7697</td>\n      <td>732</td>\n    </tr>\n    <tr>\n      <th>3</th>\n      <td>1174</td>\n      <td>864</td>\n      <td>4</td>\n      <td>2</td>\n      <td>7</td>\n      <td>1154</td>\n      <td>4045</td>\n      <td>1179</td>\n      <td>436</td>\n      <td>4716</td>\n      <td>...</td>\n      <td>10</td>\n      <td>31</td>\n      <td>79</td>\n      <td>1038</td>\n      <td>34</td>\n      <td>1963</td>\n      <td>4642</td>\n      <td>215</td>\n      <td>7031</td>\n      <td>662</td>\n    </tr>\n    <tr>\n      <th>4</th>\n      <td>994</td>\n      <td>743</td>\n      <td>3</td>\n      <td>4</td>\n      <td>5</td>\n      <td>961</td>\n      <td>3684</td>\n      <td>998</td>\n      <td>297</td>\n      <td>4114</td>\n      <td>...</td>\n      <td>14</td>\n      <td>33</td>\n      <td>50</td>\n      <td>987</td>\n      <td>28</td>\n      <td>1203</td>\n      <td>3966</td>\n      <td>185</td>\n      <td>6380</td>\n      <td>565</td>\n    </tr>\n    <tr>\n      <th>5</th>\n      <td>961</td>\n      <td>680</td>\n      <td>1</td>\n      <td>3</td>\n      <td>8</td>\n      <td>925</td>\n      <td>3520</td>\n      <td>961</td>\n      <td>290</td>\n      <td>3794</td>\n      <td>...</td>\n      <td>16</td>\n      <td>27</td>\n      <td>45</td>\n      <td>1035</td>\n      <td>23</td>\n      <td>946</td>\n      <td>3593</td>\n      <td>173</td>\n      <td>5962</td>\n      <td>460</td>\n    </tr>\n    <tr>\n      <th>6</th>\n      <td>965</td>\n      <td>642</td>\n      <td>4</td>\n      <td>3</td>\n      <td>2</td>\n      <td>934</td>\n      <td>3592</td>\n      <td>965</td>\n      <td>243</td>\n      <td>3762</td>\n      <td>...</td>\n      <td>16</td>\n      <td>24</td>\n      <td>55</td>\n      <td>1061</td>\n      <td>16</td>\n      <td>723</td>\n      <td>3544</td>\n      <td>111</td>\n      <td>5579</td>\n      <td>403</td>\n    </tr>\n    <tr>\n      <th>7</th>\n      <td>1018</td>\n      <td>656</td>\n      <td>2</td>\n      <td>0</td>\n      <td>4</td>\n      <td>979</td>\n      <td>3727</td>\n      <td>1016</td>\n      <td>232</td>\n      <td>3839</td>\n      <td>...</td>\n      <td>12</td>\n      <td>20</td>\n      <td>70</td>\n      <td>1011</td>\n      <td>15</td>\n      <td>636</td>\n      <td>3552</td>\n      <td>110</td>\n      <td>5172</td>\n      <td>352</td>\n    </tr>\n    <tr>\n      <th>8</th>\n      <td>959</td>\n      <td>636</td>\n      <td>2</td>\n      <td>4</td>\n      <td>2</td>\n      <td>921</td>\n      <td>3693</td>\n      <td>954</td>\n      <td>208</td>\n      <td>3776</td>\n      <td>...</td>\n      <td>18</td>\n      <td>23</td>\n      <td>63</td>\n      <td>948</td>\n      <td>18</td>\n      <td>664</td>\n      <td>3512</td>\n      <td>113</td>\n      <td>4678</td>\n      <td>301</td>\n    </tr>\n    <tr>\n      <th>9</th>\n      <td>862</td>\n      <td>566</td>\n      <td>2</td>\n      <td>1</td>\n      <td>3</td>\n      <td>841</td>\n      <td>3536</td>\n      <td>862</td>\n      <td>240</td>\n      <td>3591</td>\n      <td>...</td>\n      <td>16</td>\n      <td>16</td>\n      <td>61</td>\n      <td>916</td>\n      <td>23</td>\n      <td>609</td>\n      <td>3345</td>\n      <td>87</td>\n      <td>4229</td>\n      <td>291</td>\n    </tr>\n    <tr>\n      <th>10</th>\n      <td>884</td>\n      <td>559</td>\n      <td>4</td>\n      <td>3</td>\n      <td>2</td>\n      <td>862</td>\n      <td>3518</td>\n      <td>887</td>\n      <td>215</td>\n      <td>3581</td>\n      <td>...</td>\n      <td>12</td>\n      <td>11</td>\n      <td>53</td>\n      <td>881</td>\n      <td>20</td>\n      <td>644</td>\n      <td>3359</td>\n      <td>83</td>\n      <td>4079</td>\n      <td>264</td>\n    </tr>\n    <tr>\n      <th>11</th>\n      <td>730</td>\n      <td>479</td>\n      <td>2</td>\n      <td>1</td>\n      <td>3</td>\n      <td>711</td>\n      <td>3244</td>\n      <td>732</td>\n      <td>178</td>\n      <td>3326</td>\n      <td>...</td>\n      <td>9</td>\n      <td>15</td>\n      <td>51</td>\n      <td>770</td>\n      <td>20</td>\n      <td>647</td>\n      <td>3060</td>\n      <td>69</td>\n      <td>3780</td>\n      <td>242</td>\n    </tr>\n    <tr>\n      <th>12</th>\n      <td>693</td>\n      <td>462</td>\n      <td>3</td>\n      <td>7</td>\n      <td>7</td>\n      <td>670</td>\n      <td>3079</td>\n      <td>696</td>\n      <td>165</td>\n      <td>3163</td>\n      <td>...</td>\n      <td>9</td>\n      <td>22</td>\n      <td>51</td>\n      <td>734</td>\n      <td>20</td>\n      <td>734</td>\n      <td>2921</td>\n      <td>69</td>\n      <td>3445</td>\n      <td>209</td>\n    </tr>\n    <tr>\n      <th>13</th>\n      <td>623</td>\n      <td>405</td>\n      <td>2</td>\n      <td>2</td>\n      <td>3</td>\n      <td>606</td>\n      <td>3029</td>\n      <td>622</td>\n      <td>138</td>\n      <td>3115</td>\n      <td>...</td>\n      <td>11</td>\n      <td>17</td>\n      <td>41</td>\n      <td>707</td>\n      <td>23</td>\n      <td>782</td>\n      <td>2888</td>\n      <td>68</td>\n      <td>3267</td>\n      <td>216</td>\n    </tr>\n    <tr>\n      <th>14</th>\n      <td>577</td>\n      <td>375</td>\n      <td>1</td>\n      <td>3</td>\n      <td>3</td>\n      <td>560</td>\n      <td>3188</td>\n      <td>578</td>\n      <td>136</td>\n      <td>3340</td>\n      <td>...</td>\n      <td>8</td>\n      <td>15</td>\n      <td>45</td>\n      <td>695</td>\n      <td>10</td>\n      <td>755</td>\n      <td>3060</td>\n      <td>84</td>\n      <td>3216</td>\n      <td>233</td>\n    </tr>\n    <tr>\n      <th>15</th>\n      <td>578</td>\n      <td>336</td>\n      <td>1</td>\n      <td>2</td>\n      <td>2</td>\n      <td>553</td>\n      <td>3494</td>\n      <td>579</td>\n      <td>117</td>\n      <td>3692</td>\n      <td>...</td>\n      <td>4</td>\n      <td>11</td>\n      <td>30</td>\n      <td>633</td>\n      <td>16</td>\n      <td>859</td>\n      <td>3419</td>\n      <td>69</td>\n      <td>3275</td>\n      <td>205</td>\n    </tr>\n    <tr>\n      <th>16</th>\n      <td>514</td>\n      <td>303</td>\n      <td>1</td>\n      <td>3</td>\n      <td>3</td>\n      <td>487</td>\n      <td>3195</td>\n      <td>515</td>\n      <td>102</td>\n      <td>3368</td>\n      <td>...</td>\n      <td>8</td>\n      <td>14</td>\n      <td>37</td>\n      <td>594</td>\n      <td>15</td>\n      <td>954</td>\n      <td>3126</td>\n      <td>53</td>\n      <td>3282</td>\n      <td>189</td>\n    </tr>\n    <tr>\n      <th>17</th>\n      <td>448</td>\n      <td>256</td>\n      <td>2</td>\n      <td>0</td>\n      <td>3</td>\n      <td>437</td>\n      <td>2598</td>\n      <td>451</td>\n      <td>86</td>\n      <td>2699</td>\n      <td>...</td>\n      <td>6</td>\n      <td>7</td>\n      <td>40</td>\n      <td>513</td>\n      <td>14</td>\n      <td>1129</td>\n      <td>2359</td>\n      <td>59</td>\n      <td>2913</td>\n      <td>174</td>\n    </tr>\n    <tr>\n      <th>18</th>\n      <td>375</td>\n      <td>226</td>\n      <td>3</td>\n      <td>4</td>\n      <td>1</td>\n      <td>365</td>\n      <td>2044</td>\n      <td>377</td>\n      <td>73</td>\n      <td>2105</td>\n      <td>...</td>\n      <td>5</td>\n      <td>14</td>\n      <td>27</td>\n      <td>436</td>\n      <td>15</td>\n      <td>1190</td>\n      <td>1757</td>\n      <td>64</td>\n      <td>2673</td>\n      <td>172</td>\n    </tr>\n    <tr>\n      <th>19</th>\n      <td>357</td>\n      <td>196</td>\n      <td>2</td>\n      <td>2</td>\n      <td>1</td>\n      <td>341</td>\n      <td>1715</td>\n      <td>357</td>\n      <td>59</td>\n      <td>1762</td>\n      <td>...</td>\n      <td>2</td>\n      <td>16</td>\n      <td>28</td>\n      <td>382</td>\n      <td>13</td>\n      <td>1088</td>\n      <td>1477</td>\n      <td>48</td>\n      <td>2484</td>\n      <td>177</td>\n    </tr>\n    <tr>\n      <th>20</th>\n      <td>366</td>\n      <td>202</td>\n      <td>1</td>\n      <td>1</td>\n      <td>3</td>\n      <td>357</td>\n      <td>1622</td>\n      <td>368</td>\n      <td>59</td>\n      <td>1670</td>\n      <td>...</td>\n      <td>5</td>\n      <td>19</td>\n      <td>24</td>\n      <td>351</td>\n      <td>11</td>\n      <td>868</td>\n      <td>1389</td>\n      <td>38</td>\n      <td>2379</td>\n      <td>148</td>\n    </tr>\n    <tr>\n      <th>21</th>\n      <td>353</td>\n      <td>202</td>\n      <td>7</td>\n      <td>3</td>\n      <td>0</td>\n      <td>347</td>\n      <td>1640</td>\n      <td>351</td>\n      <td>68</td>\n      <td>1681</td>\n      <td>...</td>\n      <td>6</td>\n      <td>6</td>\n      <td>24</td>\n      <td>292</td>\n      <td>8</td>\n      <td>675</td>\n      <td>1403</td>\n      <td>42</td>\n      <td>2313</td>\n      <td>158</td>\n    </tr>\n    <tr>\n      <th>22</th>\n      <td>343</td>\n      <td>226</td>\n      <td>4</td>\n      <td>0</td>\n      <td>0</td>\n      <td>330</td>\n      <td>1651</td>\n      <td>343</td>\n      <td>59</td>\n      <td>1691</td>\n      <td>...</td>\n      <td>3</td>\n      <td>8</td>\n      <td>21</td>\n      <td>270</td>\n      <td>11</td>\n      <td>545</td>\n      <td>1431</td>\n      <td>41</td>\n      <td>2276</td>\n      <td>154</td>\n    </tr>\n    <tr>\n      <th>23</th>\n      <td>372</td>\n      <td>231</td>\n      <td>0</td>\n      <td>3</td>\n      <td>1</td>\n      <td>357</td>\n      <td>1643</td>\n      <td>372</td>\n      <td>66</td>\n      <td>1676</td>\n      <td>...</td>\n      <td>7</td>\n      <td>12</td>\n      <td>18</td>\n      <td>278</td>\n      <td>9</td>\n      <td>425</td>\n      <td>1435</td>\n      <td>43</td>\n      <td>2195</td>\n      <td>159</td>\n    </tr>\n    <tr>\n      <th>24</th>\n      <td>374</td>\n      <td>224</td>\n      <td>1</td>\n      <td>1</td>\n      <td>2</td>\n      <td>360</td>\n      <td>1660</td>\n      <td>373</td>\n      <td>65</td>\n      <td>1686</td>\n      <td>...</td>\n      <td>8</td>\n      <td>13</td>\n      <td>16</td>\n      <td>285</td>\n      <td>10</td>\n      <td>434</td>\n      <td>1447</td>\n      <td>28</td>\n      <td>2112</td>\n      <td>133</td>\n    </tr>\n    <tr>\n      <th>25</th>\n      <td>368</td>\n      <td>234</td>\n      <td>0</td>\n      <td>0</td>\n      <td>0</td>\n      <td>363</td>\n      <td>1719</td>\n      <td>371</td>\n      <td>66</td>\n      <td>1755</td>\n      <td>...</td>\n      <td>5</td>\n      <td>7</td>\n      <td>20</td>\n      <td>242</td>\n      <td>10</td>\n      <td>360</td>\n      <td>1564</td>\n      <td>41</td>\n      <td>1998</td>\n      <td>131</td>\n    </tr>\n    <tr>\n      <th>26</th>\n      <td>402</td>\n      <td>266</td>\n      <td>0</td>\n      <td>1</td>\n      <td>1</td>\n      <td>394</td>\n      <td>1791</td>\n      <td>403</td>\n      <td>71</td>\n      <td>1812</td>\n      <td>...</td>\n      <td>5</td>\n      <td>6</td>\n      <td>13</td>\n      <td>230</td>\n      <td>5</td>\n      <td>375</td>\n      <td>1599</td>\n      <td>36</td>\n      <td>1959</td>\n      <td>116</td>\n    </tr>\n    <tr>\n      <th>27</th>\n      <td>416</td>\n      <td>255</td>\n      <td>0</td>\n      <td>5</td>\n      <td>1</td>\n      <td>406</td>\n      <td>1909</td>\n      <td>416</td>\n      <td>92</td>\n      <td>1929</td>\n      <td>...</td>\n      <td>4</td>\n      <td>7</td>\n      <td>23</td>\n      <td>234</td>\n      <td>8</td>\n      <td>348</td>\n      <td>1735</td>\n      <td>37</td>\n      <td>1868</td>\n      <td>136</td>\n    </tr>\n    <tr>\n      <th>28</th>\n      <td>441</td>\n      <td>252</td>\n      <td>1</td>\n      <td>0</td>\n      <td>3</td>\n      <td>419</td>\n      <td>1963</td>\n      <td>440</td>\n      <td>85</td>\n      <td>1985</td>\n      <td>...</td>\n      <td>3</td>\n      <td>11</td>\n      <td>25</td>\n      <td>226</td>\n      <td>6</td>\n      <td>352</td>\n      <td>1837</td>\n      <td>47</td>\n      <td>1732</td>\n      <td>142</td>\n    </tr>\n    <tr>\n      <th>29</th>\n      <td>473</td>\n      <td>299</td>\n      <td>0</td>\n      <td>1</td>\n      <td>1</td>\n      <td>449</td>\n      <td>1965</td>\n      <td>473</td>\n      <td>84</td>\n      <td>1991</td>\n      <td>...</td>\n      <td>8</td>\n      <td>5</td>\n      <td>13</td>\n      <td>220</td>\n      <td>8</td>\n      <td>371</td>\n      <td>1842</td>\n      <td>34</td>\n      <td>1759</td>\n      <td>108</td>\n    </tr>\n  </tbody>\n</table>\n<p>30 rows × 104 columns</p>\n</div>"
     },
     "execution_count": 20,
     "metadata": {},
     "output_type": "execute_result"
    }
   ],
   "source": [
    "# Check at which hours is data most gathered\n",
    "reset_df = vitals_labs_mean.reset_index()\n",
    "hourly_vitals_df = reset_df.groupby(['hours_in']).count().reset_index()\n",
    "hourly_vitals_df.drop(columns=['subject_id', 'hadm_id', 'icustay_id'], inplace=True)\n",
    "hourly_vitals_df.columns = hourly_vitals_df.columns.droplevel(1)\n",
    "hourly_vitals_df.set_index('hours_in', inplace=True)\n",
    "hourly_vitals_df"
   ],
   "metadata": {
    "collapsed": false,
    "ExecuteTime": {
     "end_time": "2023-10-26T19:50:57.636338600Z",
     "start_time": "2023-10-26T19:50:55.303753300Z"
    }
   }
  },
  {
   "cell_type": "code",
   "execution_count": 21,
   "outputs": [],
   "source": [
    "# plot_hourly_counts(df=hourly_vitals_df, features=VITAL_SIGNS)"
   ],
   "metadata": {
    "collapsed": false,
    "ExecuteTime": {
     "end_time": "2023-10-26T19:50:57.917552100Z",
     "start_time": "2023-10-26T19:50:57.636338600Z"
    }
   }
  },
  {
   "cell_type": "markdown",
   "source": [
    "#### Hourly Measurements Spread across first 30 hours - Labs"
   ],
   "metadata": {
    "collapsed": false
   }
  },
  {
   "cell_type": "code",
   "execution_count": 22,
   "outputs": [
    {
     "data": {
      "text/plain": "['glucose',\n 'central venous pressure',\n 'hematocrit',\n 'potassium',\n 'sodium',\n 'hemoglobin',\n 'chloride',\n 'partial pressure of carbon dioxide',\n 'creatinine',\n 'blood urea nitrogen',\n 'platelets',\n 'bicarbonate',\n 'white blood cell count',\n 'anion gap',\n 'magnesium',\n 'partial thromboplastin time',\n 'red blood cell count',\n 'mean corpuscular hemoglobin concentration',\n 'mean corpuscular volume',\n 'mean corpuscular hemoglobin',\n 'prothrombin time inr',\n 'prothrombin time pt',\n 'calcium',\n 'calcium ionized',\n 'phosphate',\n 'phosphorous',\n 'partial pressure of oxygen']"
     },
     "execution_count": 22,
     "metadata": {},
     "output_type": "execute_result"
    }
   ],
   "source": [
    "lab_features = list(merged_vitals[merged_vitals['missing percent'] < 95]['measurement'])\n",
    "lab_features = [feat for feat in lab_features if feat not in VITAL_SIGNS]\n",
    "lab_features"
   ],
   "metadata": {
    "collapsed": false,
    "ExecuteTime": {
     "end_time": "2023-10-26T19:50:58.140767600Z",
     "start_time": "2023-10-26T19:50:57.839473800Z"
    }
   }
  },
  {
   "cell_type": "code",
   "execution_count": 23,
   "outputs": [],
   "source": [
    "# plot_hourly_counts(df=hourly_vitals_df, features=lab_features)"
   ],
   "metadata": {
    "collapsed": false,
    "ExecuteTime": {
     "end_time": "2023-10-26T19:50:58.323803500Z",
     "start_time": "2023-10-26T19:50:58.078317800Z"
    }
   }
  },
  {
   "cell_type": "markdown",
   "source": [
    "<a name='4'></a>\n",
    "## 4 - Data Pre-processing\n",
    "\n",
    "<a name='4-1'></a>\n",
    "### 4.1 - Identifying Missing Data\n",
    "\n",
    "In the preceding examination, it was identified that missing data exists solely within the `vitals_labs` dataframe."
   ],
   "metadata": {
    "collapsed": false
   }
  },
  {
   "cell_type": "markdown",
   "source": [
    "<a name='4-2'></a>\n",
    "### 4.2 - Train/Dev/Test Split\n",
    "\n",
    "When imputing missing values, it's a best practice to calculate the mean (or any other statistic you're using for imputation) from the training set only. Then, use this calculated mean to impute missing values in both the training set and the dev/test sets.\n",
    "This approach helps in preventing data leakage from the dev/test set into the training set.\n",
    "\n",
    "The function `train_test_dev_split` performs the data splitting operation for the project. It takes three dataframes (`patients`, `vitals_labs`, and `interventions`) and returns a dictionary containing the train, dev, and test splits for each dataframe.\n",
    "\n",
    "Steps:\n",
    "**Filter Targets**: Only consider patients with sufficient data for the target variables `mort_hosp` and `mort_icu`.\n",
    "\n",
    "**Extract Static Features**: Remove the target variables and other non-static features from the `patients` dataframe.\n",
    "\n",
    "**Filter Time-Series Data**: Trim the time-series data to only include instances within a specified observation window.\n",
    "\n",
    "**Subject ID Validation**: Check that the subject IDs are consistent across all dataframes.\n",
    "\n",
    "**Random Split**: Randomly shuffle the subject IDs and allocate them into train, dev, and test sets based on predefined fractions.\n",
    "\n",
    "**Dataframe Splits**: Create train, dev, and test dataframes for each of the input dataframes (`patients`, `vitals_labs`, `interventions`), based on the shuffled subject IDs.\n",
    "\n",
    "**Return Data**: A dictionary containing the train, dev, and test splits for each dataframe is returned."
   ],
   "metadata": {
    "collapsed": false
   }
  },
  {
   "cell_type": "markdown",
   "source": [
    "### Encoding full `patient` categorical data before splitting"
   ],
   "metadata": {
    "collapsed": false
   }
  },
  {
   "cell_type": "code",
   "execution_count": 24,
   "outputs": [
    {
     "name": "stdout",
     "output_type": "stream",
     "text": [
      "patients_encoded.shape:  (34472, 30)\n"
     ]
    },
    {
     "data": {
      "text/plain": "                               fullcode_first  dnr_first  fullcode  dnr  \\\nsubject_id hadm_id icustay_id                                             \n3          145834  211552                 1.0        0.0       1.0  1.0   \n4          185777  294638                 1.0        0.0       1.0  0.0   \n6          107064  228232                 1.0        0.0       1.0  0.0   \n9          150750  220597                 1.0        0.0       1.0  0.0   \n11         194540  229441                 1.0        0.0       1.0  0.0   \n\n                               cmo_first  cmo_last  cmo  intime  mort_icu  \\\nsubject_id hadm_id icustay_id                                               \n3          145834  211552            0.0       0.0  0.0      19         0   \n4          185777  294638            0.0       0.0  0.0       0         0   \n6          107064  228232            0.0       0.0  0.0      21         0   \n9          150750  220597            0.0       0.0  0.0      13         1   \n11         194540  229441            0.0       0.0  0.0       6         0   \n\n                               mort_hosp  ...  ethnicity_ISLANDER  \\\nsubject_id hadm_id icustay_id             ...                       \n3          145834  211552              0  ...                   0   \n4          185777  294638              0  ...                   0   \n6          107064  228232              0  ...                   0   \n9          150750  220597              1  ...                   0   \n11         194540  229441              0  ...                   0   \n\n                               ethnicity_NATIVE AMERICAN  \\\nsubject_id hadm_id icustay_id                              \n3          145834  211552                              0   \n4          185777  294638                              0   \n6          107064  228232                              0   \n9          150750  220597                              0   \n11         194540  229441                              0   \n\n                               ethnicity_OTHER/UNKNOWN  ethnicity_WHITE  \\\nsubject_id hadm_id icustay_id                                             \n3          145834  211552                            0                1   \n4          185777  294638                            0                1   \n6          107064  228232                            0                1   \n9          150750  220597                            1                0   \n11         194540  229441                            0                1   \n\n                               admission_type_EMERGENCY  first_careunit_CCU  \\\nsubject_id hadm_id icustay_id                                                 \n3          145834  211552                             1                   0   \n4          185777  294638                             1                   0   \n6          107064  228232                             0                   0   \n9          150750  220597                             1                   0   \n11         194540  229441                             1                   0   \n\n                               first_careunit_CSRU  first_careunit_MICU  \\\nsubject_id hadm_id icustay_id                                             \n3          145834  211552                        0                    1   \n4          185777  294638                        0                    1   \n6          107064  228232                        0                    0   \n9          150750  220597                        0                    1   \n11         194540  229441                        0                    0   \n\n                               first_careunit_SICU  first_careunit_TSICU  \nsubject_id hadm_id icustay_id                                             \n3          145834  211552                        0                     0  \n4          185777  294638                        0                     0  \n6          107064  228232                        1                     0  \n9          150750  220597                        0                     0  \n11         194540  229441                        1                     0  \n\n[5 rows x 30 columns]",
      "text/html": "<div>\n<style scoped>\n    .dataframe tbody tr th:only-of-type {\n        vertical-align: middle;\n    }\n\n    .dataframe tbody tr th {\n        vertical-align: top;\n    }\n\n    .dataframe thead th {\n        text-align: right;\n    }\n</style>\n<table border=\"1\" class=\"dataframe\">\n  <thead>\n    <tr style=\"text-align: right;\">\n      <th></th>\n      <th></th>\n      <th></th>\n      <th>fullcode_first</th>\n      <th>dnr_first</th>\n      <th>fullcode</th>\n      <th>dnr</th>\n      <th>cmo_first</th>\n      <th>cmo_last</th>\n      <th>cmo</th>\n      <th>intime</th>\n      <th>mort_icu</th>\n      <th>mort_hosp</th>\n      <th>...</th>\n      <th>ethnicity_ISLANDER</th>\n      <th>ethnicity_NATIVE AMERICAN</th>\n      <th>ethnicity_OTHER/UNKNOWN</th>\n      <th>ethnicity_WHITE</th>\n      <th>admission_type_EMERGENCY</th>\n      <th>first_careunit_CCU</th>\n      <th>first_careunit_CSRU</th>\n      <th>first_careunit_MICU</th>\n      <th>first_careunit_SICU</th>\n      <th>first_careunit_TSICU</th>\n    </tr>\n    <tr>\n      <th>subject_id</th>\n      <th>hadm_id</th>\n      <th>icustay_id</th>\n      <th></th>\n      <th></th>\n      <th></th>\n      <th></th>\n      <th></th>\n      <th></th>\n      <th></th>\n      <th></th>\n      <th></th>\n      <th></th>\n      <th></th>\n      <th></th>\n      <th></th>\n      <th></th>\n      <th></th>\n      <th></th>\n      <th></th>\n      <th></th>\n      <th></th>\n      <th></th>\n      <th></th>\n    </tr>\n  </thead>\n  <tbody>\n    <tr>\n      <th>3</th>\n      <th>145834</th>\n      <th>211552</th>\n      <td>1.0</td>\n      <td>0.0</td>\n      <td>1.0</td>\n      <td>1.0</td>\n      <td>0.0</td>\n      <td>0.0</td>\n      <td>0.0</td>\n      <td>19</td>\n      <td>0</td>\n      <td>0</td>\n      <td>...</td>\n      <td>0</td>\n      <td>0</td>\n      <td>0</td>\n      <td>1</td>\n      <td>1</td>\n      <td>0</td>\n      <td>0</td>\n      <td>1</td>\n      <td>0</td>\n      <td>0</td>\n    </tr>\n    <tr>\n      <th>4</th>\n      <th>185777</th>\n      <th>294638</th>\n      <td>1.0</td>\n      <td>0.0</td>\n      <td>1.0</td>\n      <td>0.0</td>\n      <td>0.0</td>\n      <td>0.0</td>\n      <td>0.0</td>\n      <td>0</td>\n      <td>0</td>\n      <td>0</td>\n      <td>...</td>\n      <td>0</td>\n      <td>0</td>\n      <td>0</td>\n      <td>1</td>\n      <td>1</td>\n      <td>0</td>\n      <td>0</td>\n      <td>1</td>\n      <td>0</td>\n      <td>0</td>\n    </tr>\n    <tr>\n      <th>6</th>\n      <th>107064</th>\n      <th>228232</th>\n      <td>1.0</td>\n      <td>0.0</td>\n      <td>1.0</td>\n      <td>0.0</td>\n      <td>0.0</td>\n      <td>0.0</td>\n      <td>0.0</td>\n      <td>21</td>\n      <td>0</td>\n      <td>0</td>\n      <td>...</td>\n      <td>0</td>\n      <td>0</td>\n      <td>0</td>\n      <td>1</td>\n      <td>0</td>\n      <td>0</td>\n      <td>0</td>\n      <td>0</td>\n      <td>1</td>\n      <td>0</td>\n    </tr>\n    <tr>\n      <th>9</th>\n      <th>150750</th>\n      <th>220597</th>\n      <td>1.0</td>\n      <td>0.0</td>\n      <td>1.0</td>\n      <td>0.0</td>\n      <td>0.0</td>\n      <td>0.0</td>\n      <td>0.0</td>\n      <td>13</td>\n      <td>1</td>\n      <td>1</td>\n      <td>...</td>\n      <td>0</td>\n      <td>0</td>\n      <td>1</td>\n      <td>0</td>\n      <td>1</td>\n      <td>0</td>\n      <td>0</td>\n      <td>1</td>\n      <td>0</td>\n      <td>0</td>\n    </tr>\n    <tr>\n      <th>11</th>\n      <th>194540</th>\n      <th>229441</th>\n      <td>1.0</td>\n      <td>0.0</td>\n      <td>1.0</td>\n      <td>0.0</td>\n      <td>0.0</td>\n      <td>0.0</td>\n      <td>0.0</td>\n      <td>6</td>\n      <td>0</td>\n      <td>0</td>\n      <td>...</td>\n      <td>0</td>\n      <td>0</td>\n      <td>0</td>\n      <td>1</td>\n      <td>1</td>\n      <td>0</td>\n      <td>0</td>\n      <td>0</td>\n      <td>1</td>\n      <td>0</td>\n    </tr>\n  </tbody>\n</table>\n<p>5 rows × 30 columns</p>\n</div>"
     },
     "metadata": {},
     "output_type": "display_data"
    }
   ],
   "source": [
    "# Drop irrelevant or duplicated columns\n",
    "columns_to_drop = ['admittime', 'dischtime', 'outtime', 'deathtime', 'discharge_location', 'dnr_first_charttime', 'diagnosis_at_admission', 'insurance', 'hospstay_seq', 'hospital_expire_flag', 'los_icu']\n",
    "\n",
    "patients.drop(columns= columns_to_drop, inplace=True)\n",
    "\n",
    "# Select columns to be one-hot encoded\n",
    "categorical_cols = ['gender', 'age', 'ethnicity', 'admission_type', 'first_careunit']\n",
    "\n",
    "patients_encoded = pd.get_dummies(patients, columns=categorical_cols)\n",
    "patients_encoded.drop(columns=['gender_F', 'admission_type_ELECTIVE'], inplace=True)\n",
    "patients_encoded.fillna(0, inplace=True)\n",
    "\n",
    "patients_encoded.loc[:, 'intime'] = patients_encoded['intime'].astype('datetime64').apply(lambda x : x.hour)\n",
    "\n",
    "blind_display(patients_encoded, blinded=BLINDED)"
   ],
   "metadata": {
    "collapsed": false,
    "ExecuteTime": {
     "end_time": "2023-10-26T19:50:58.942579900Z",
     "start_time": "2023-10-26T19:50:58.323803500Z"
    }
   }
  },
  {
   "cell_type": "code",
   "execution_count": 25,
   "outputs": [],
   "source": [
    "datasets = train_test_dev_split(patients_encoded, vitals_labs, interventions)"
   ],
   "metadata": {
    "collapsed": false,
    "ExecuteTime": {
     "end_time": "2023-10-26T19:51:02.224661200Z",
     "start_time": "2023-10-26T19:50:58.942579900Z"
    }
   }
  },
  {
   "cell_type": "code",
   "execution_count": 26,
   "outputs": [
    {
     "name": "stdout",
     "output_type": "stream",
     "text": [
      "\n",
      "Patients:\n",
      "(16760, 27)\n",
      "(2395, 27)\n",
      "(4789, 27)\n",
      "\n",
      "Vitals:\n",
      "(402240, 312)\n",
      "(57480, 312)\n",
      "(114936, 312)\n",
      "\n",
      "Interv:\n",
      "(402240, 14)\n",
      "(57480, 14)\n",
      "(114936, 14)\n",
      "\n",
      "Ys:\n",
      "(16760, 2)\n",
      "(2395, 2)\n",
      "(4789, 2)\n"
     ]
    }
   ],
   "source": [
    "# Define keys and corresponding variable names\n",
    "keys_varnames = [\n",
    "    ('patients', 'patients_train', 'patients_dev', 'patients_test'),\n",
    "    ('vitals', 'vitals_train', 'vitals_dev', 'vitals_test'),\n",
    "    ('interv', 'interv_train', 'interv_dev', 'interv_test'),\n",
    "    ('Ys', 'Ys_train', 'Ys_dev', 'Ys_test')\n",
    "]\n",
    "\n",
    "# Loop through each key and variable name to extract data and print shapes\n",
    "for key, train_var, dev_var, test_var in keys_varnames:\n",
    "    train_data, dev_data, test_data = datasets[key]\n",
    "    print(f'\\n{key.capitalize()}:')\n",
    "    print(train_data.shape)\n",
    "    print(dev_data.shape)\n",
    "    print(test_data.shape)\n",
    "\n",
    "    # log the datasets\n",
    "    save_to_pickle(train_data, os.path.join(LOG_DATA_DIR, f'{train_var}_gru_split.pkl'))\n",
    "    save_to_pickle(dev_data, os.path.join(LOG_DATA_DIR, f'{dev_var}_gru_split.pkl'))\n",
    "    save_to_pickle(test_data, os.path.join(LOG_DATA_DIR, f'{test_var}_gru_split.pkl'))\n",
    "\n",
    "    # set the variables\n",
    "    globals()[train_var], globals()[dev_var], globals()[test_var] = train_data, dev_data, test_data"
   ],
   "metadata": {
    "collapsed": false,
    "ExecuteTime": {
     "end_time": "2023-10-26T19:51:08.720188100Z",
     "start_time": "2023-10-26T19:51:02.209037800Z"
    }
   }
  },
  {
   "cell_type": "markdown",
   "source": [
    "<a name='4-3'></a>\n",
    "### 4.3 Data Imputation\n",
    "The strategy for handling the missing values in `vitals_labs` is as follows:\n",
    "\n",
    "- Initial imputation employs **forward-filling** to propagate the last valid observation to succeeding `NaN` entries.\n",
    "\n",
    "- Subsequently, any residual missing values within each `icustay_id` group are replaced by the **group's mean**.\n",
    "\n",
    "- Finally, any remaining `NaN`s are filled with **zeros**.\n",
    "\n",
    "- A binary mask is generated to indicate the presence of data.\n",
    "\n",
    "- Time deltas are computed to represent the duration since the last available measurement for each column."
   ],
   "metadata": {
    "collapsed": false
   }
  },
  {
   "cell_type": "markdown",
   "source": [
    "#### Simple Impute"
   ],
   "metadata": {
    "collapsed": false
   }
  },
  {
   "cell_type": "code",
   "execution_count": 27,
   "outputs": [
    {
     "name": "stdout",
     "output_type": "stream",
     "text": [
      "Wall time: 6min 7s\n"
     ]
    }
   ],
   "source": [
    "%%time\n",
    "global_means, icustay_means = calculate_impute_values(vitals_train)\n",
    "\n",
    "vitals_train_imputed, vitals_dev_imputed, vitals_test_imputed = [\n",
    "    simple_imputer(df, global_means, icustay_means) for df in (vitals_train, vitals_dev, vitals_test)\n",
    "]\n",
    "# vitals_train_flat, vitals_dev_flat, vitals_test_flat = [\n",
    "#     df.pivot_table(index=['subject_id', 'hadm_id', 'icustay_id'], columns=['hours_in']) for df in (\n",
    "#         vitals_train_imputed, vitals_dev_imputed, vitals_test_imputed\n",
    "#     )\n",
    "# ]\n",
    "\n",
    "# log the datasets\n",
    "save_to_pickle(vitals_train_imputed, os.path.join(LOG_DATA_DIR, f'vitals_train_gru_imputed.pkl'))\n",
    "save_to_pickle(vitals_dev_imputed, os.path.join(LOG_DATA_DIR, f'vitals_dev_gru_imputed.pkl'))\n",
    "save_to_pickle(vitals_test_imputed, os.path.join(LOG_DATA_DIR, f'vitals_test_gru_imputed.pkl'))\n",
    "\n",
    "for df in vitals_train_imputed, vitals_dev_imputed, vitals_test_imputed: assert not df.isnull().any().any()"
   ],
   "metadata": {
    "collapsed": false,
    "ExecuteTime": {
     "end_time": "2023-10-26T19:57:16.479756300Z",
     "start_time": "2023-10-26T19:51:08.704558500Z"
    }
   }
  },
  {
   "cell_type": "code",
   "execution_count": 28,
   "outputs": [],
   "source": [
    "# vitals_train_imputed = load_from_pickle(os.path.join(DATA_DIR, 'vitals_train.pkl'))\n",
    "# vitals_dev_imputed = load_from_pickle(os.path.join(DATA_DIR, 'vitals_dev.pkl'))\n",
    "# vitals_test_imputed = load_from_pickle(os.path.join(DATA_DIR, 'vitals_test.pkl'))"
   ],
   "metadata": {
    "collapsed": false,
    "ExecuteTime": {
     "end_time": "2023-10-26T19:57:16.704406400Z",
     "start_time": "2023-10-26T19:57:16.479756300Z"
    }
   }
  },
  {
   "cell_type": "markdown",
   "source": [
    "#### Hybrid Impute"
   ],
   "metadata": {
    "collapsed": false
   }
  },
  {
   "cell_type": "code",
   "execution_count": 29,
   "outputs": [],
   "source": [
    "# %%time\n",
    "# global_means, icustay_means = calculate_impute_values(vitals_train)\n",
    "#\n",
    "# vitals_train_imputed2, vitals_dev_imputed2, vitals_test_imputed2 = [\n",
    "#     hybrid_imputer(df, global_means, icustay_means) for df in (vitals_train, vitals_dev, vitals_test)\n",
    "# ]\n",
    "# for df in vitals_train_imputed2, vitals_dev_imputed2, vitals_test_imputed2: assert not df.isnull().any().any()"
   ],
   "metadata": {
    "collapsed": false,
    "ExecuteTime": {
     "end_time": "2023-10-26T19:57:16.891963500Z",
     "start_time": "2023-10-26T19:57:16.704406400Z"
    }
   }
  },
  {
   "cell_type": "code",
   "execution_count": 30,
   "outputs": [],
   "source": [
    "# # Define keys and corresponding variable names\n",
    "# vitals_train_imputed2.to_csv('../data/processed_hybrid/vitals_train_hybrid.csv')\n",
    "# vitals_dev_imputed2.to_csv('../data/processed_hybrid/vitals_dev_hybrid.csv')\n",
    "# vitals_test_imputed2.to_csv('../data/processed_hybrid/vitals_test_hybrid.csv')"
   ],
   "metadata": {
    "collapsed": false,
    "ExecuteTime": {
     "end_time": "2023-10-26T19:57:17.079549100Z",
     "start_time": "2023-10-26T19:57:16.891963500Z"
    }
   }
  },
  {
   "cell_type": "markdown",
   "source": [
    "#### Data Standardization"
   ],
   "metadata": {
    "collapsed": false
   }
  },
  {
   "cell_type": "code",
   "execution_count": 31,
   "outputs": [],
   "source": [
    "def standardize_gru(vitals_train, vitals_dev, vitals_test):\n",
    "    idx = pd.IndexSlice\n",
    "    X_train, X_dev, X_test = vitals_train.copy(), vitals_dev.copy(), vitals_test.copy()\n",
    "\n",
    "    # Min-Max Scaling\n",
    "    train_min = X_train.loc[:, idx[:, 'mean']].min()\n",
    "    train_max = X_train.loc[:, idx[:, 'mean']].max()\n",
    "    for df in [X_train, X_dev, X_test]:\n",
    "        df.loc[:, idx[:, 'mean']] = minmax_scaling(df.loc[:, idx[:, 'mean']], train_min, train_max)\n",
    "\n",
    "    # Standardization\n",
    "    X_train.loc[:, idx[:, 'time_since_measured']] = np.where(X_train.loc[:, idx[:, 'time_since_measured']] == 100, 0,\n",
    "                                                             X_train.loc[:, idx[:, 'time_since_measured']])\n",
    "    train_mean = X_train.loc[:, idx[:, 'time_since_measured']].mean()\n",
    "    train_std = X_train.loc[:, idx[:, 'time_since_measured']].std()\n",
    "    for df in [X_train, X_dev, X_test]:\n",
    "        df.loc[:, idx[:, 'time_since_measured']] = standardize_time_since_measured(\n",
    "            df.loc[:, idx[:, 'time_since_measured']], train_mean, train_std)\n",
    "\n",
    "    return X_train, X_dev, X_test"
   ],
   "metadata": {
    "collapsed": false,
    "ExecuteTime": {
     "end_time": "2023-10-26T19:57:17.287843100Z",
     "start_time": "2023-10-26T19:57:17.079549100Z"
    }
   }
  },
  {
   "cell_type": "code",
   "execution_count": 32,
   "outputs": [],
   "source": [
    "vitals_train_std, vitals_dev_std, vitals_test_std = standardize_gru(vitals_train_imputed, vitals_dev_imputed, vitals_test_imputed)"
   ],
   "metadata": {
    "collapsed": false,
    "ExecuteTime": {
     "end_time": "2023-10-26T19:59:13.974469600Z",
     "start_time": "2023-10-26T19:57:17.287843100Z"
    }
   }
  },
  {
   "cell_type": "code",
   "execution_count": 33,
   "outputs": [],
   "source": [
    "# log the datasets\n",
    "save_to_pickle(vitals_train_std, os.path.join(LOG_DATA_DIR, f'vitals_train_gru_std.pkl'))\n",
    "save_to_pickle(vitals_dev_std, os.path.join(LOG_DATA_DIR, f'vitals_dev_gru_std.pkl'))\n",
    "save_to_pickle(vitals_test_std, os.path.join(LOG_DATA_DIR, f'vitals_test_gru_std.pkl'))"
   ],
   "metadata": {
    "collapsed": false,
    "ExecuteTime": {
     "end_time": "2023-10-26T19:59:19.775013400Z",
     "start_time": "2023-10-26T19:59:13.974469600Z"
    }
   }
  },
  {
   "cell_type": "code",
   "execution_count": 34,
   "outputs": [],
   "source": [
    "highly_corr_drop = ['dnr', 'fullcode', 'cmo', 'cmo_last']\n",
    "patients_train.drop(columns=highly_corr_drop, inplace=True)\n",
    "patients_dev.drop(columns=highly_corr_drop, inplace=True)\n",
    "patients_test.drop(columns=highly_corr_drop, inplace=True)"
   ],
   "metadata": {
    "collapsed": false,
    "ExecuteTime": {
     "end_time": "2023-10-26T19:59:19.982342200Z",
     "start_time": "2023-10-26T19:59:19.775013400Z"
    }
   }
  },
  {
   "cell_type": "code",
   "execution_count": 35,
   "outputs": [],
   "source": [
    "vitals_to_drop = ['alanine aminotransferase', 'co2', 'co2 (etco2, pco2, etc.)', 'blood urea nitrogen', 'cardiac output thermodilution', 'chloride', 'cholesterol ldl', 'hematocrit', 'red blood cell count', 'lactic acid', 'mean corpuscular volume', 'phosphorous', 'positive end-expiratory pressure', 'potassium serum', 'prothrombin time pt', 'tidal volume set']"
   ],
   "metadata": {
    "collapsed": false,
    "ExecuteTime": {
     "end_time": "2023-10-26T19:59:20.185490500Z",
     "start_time": "2023-10-26T19:59:19.982342200Z"
    }
   }
  },
  {
   "cell_type": "code",
   "execution_count": 38,
   "outputs": [],
   "source": [
    "vitals_train_std.drop(columns=vitals_to_drop, level=0, inplace=True)\n",
    "vitals_dev_std.drop(columns=vitals_to_drop, level=0, inplace=True)\n",
    "vitals_test_std.drop(columns=vitals_to_drop, level=0, inplace=True)"
   ],
   "metadata": {
    "collapsed": false,
    "ExecuteTime": {
     "end_time": "2023-10-26T20:00:13.288420Z",
     "start_time": "2023-10-26T20:00:12.468831500Z"
    }
   }
  },
  {
   "cell_type": "markdown",
   "source": [
    "### Create Feature Matrix"
   ],
   "metadata": {
    "collapsed": false
   }
  },
  {
   "cell_type": "code",
   "execution_count": 75,
   "outputs": [],
   "source": [
    "# X_train_merged = create_feature_matrix(patients_train, vitals_train_std, interv_train)\n",
    "# X_dev_merged = create_feature_matrix(patients_dev, vitals_dev_std, interv_dev)\n",
    "# X_test_merged = create_feature_matrix(patients_test, vitals_test_std, interv_test)\n",
    "# blind_display(X_train_merged, X_dev_merged, X_test_merged, blinded=BLINDED)"
   ],
   "metadata": {
    "collapsed": false,
    "ExecuteTime": {
     "end_time": "2023-10-26T21:03:38.110218100Z",
     "start_time": "2023-10-26T21:03:37.905225900Z"
    }
   }
  },
  {
   "cell_type": "markdown",
   "source": [
    "### Store Processed Data"
   ],
   "metadata": {
    "collapsed": false
   }
  },
  {
   "cell_type": "code",
   "execution_count": 76,
   "outputs": [],
   "source": [
    "save_to_pickle(df=vitals_train_std, filename=os.path.join(DATA_DIR, 'Vitals_train_gru.pkl'))\n",
    "save_to_pickle(df=vitals_dev_std, filename=os.path.join(DATA_DIR, 'Vitals_dev_gru.pkl'))\n",
    "save_to_pickle(df=vitals_test_std, filename=os.path.join(DATA_DIR, 'Vitals_test_gru.pkl'))\n",
    "\n",
    "# save_to_pickle(df=Ys_train, filename=os.path.join(DATA_DIR, 'Y_train_gru.pkl'))\n",
    "# save_to_pickle(df=Ys_dev, filename=os.path.join(DATA_DIR, 'Y_dev_gru.pkl'))\n",
    "# save_to_pickle(df=Ys_test, filename=os.path.join(DATA_DIR, 'Y_test_gru.pkl'))"
   ],
   "metadata": {
    "collapsed": false,
    "ExecuteTime": {
     "end_time": "2023-10-26T21:04:43.432978700Z",
     "start_time": "2023-10-26T21:04:36.843071300Z"
    }
   }
  }
 ],
 "metadata": {
  "kernelspec": {
   "display_name": "Python 3",
   "language": "python",
   "name": "python3"
  },
  "language_info": {
   "codemirror_mode": {
    "name": "ipython",
    "version": 2
   },
   "file_extension": ".py",
   "mimetype": "text/x-python",
   "name": "python",
   "nbconvert_exporter": "python",
   "pygments_lexer": "ipython2",
   "version": "2.7.6"
  }
 },
 "nbformat": 4,
 "nbformat_minor": 0
}
