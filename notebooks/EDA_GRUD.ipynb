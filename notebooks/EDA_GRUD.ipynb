{
 "cells": [
  {
   "cell_type": "markdown",
   "source": [
    "# Comprehensive Exploratory Data Analysis: Step by Step"
   ],
   "metadata": {
    "collapsed": false
   }
  },
  {
   "cell_type": "markdown",
   "source": [
    "<a name='1'></a>\n",
    "## 1 - Packages"
   ],
   "metadata": {
    "collapsed": false
   }
  },
  {
   "cell_type": "code",
   "execution_count": 1,
   "outputs": [],
   "source": [
    "import pandas as pd\n",
    "import numpy as np\n",
    "import matplotlib.pyplot as plt\n",
    "import seaborn as sns\n",
    "import h5py\n",
    "\n",
    "import os\n",
    "# import wandb\n",
    "import warnings\n",
    "\n",
    "from config import *\n",
    "from utils.eda_functions import *\n",
    "from src.data_preprocessing.demographics import *\n",
    "from src.data_preprocessing.vitals_labs import *\n",
    "from src.data_preprocessing.split_dataset import *\n",
    "from src.data_imputation.simple_impute import *\n",
    "from src.data_imputation.hybrid_impute import hybrid_imputer\n",
    "from utils.safe_display import blind_display\n",
    "\n",
    "%load_ext autoreload\n",
    "%autoreload 2"
   ],
   "metadata": {
    "collapsed": false,
    "ExecuteTime": {
     "end_time": "2023-11-01T16:05:43.900372300Z",
     "start_time": "2023-11-01T16:05:42.866138500Z"
    }
   }
  },
  {
   "cell_type": "code",
   "execution_count": 2,
   "outputs": [],
   "source": [
    "# Configuration & Settings:\n",
    "\n",
    "# plt.style.use('seaborn-whitegrid')\n",
    "plt.rcParams['figure.figsize'] = (12, 8)\n",
    "\n",
    "warnings.filterwarnings('ignore')\n",
    "# os.environ['WANDB_SILENT'] = 'true'\n",
    "# sns.set_theme(style=\"whitegrid\")\n",
    "# \n",
    "# # Login and initialize a new wandb run\n",
    "# wandb_key = os.environ.get(\"WANDB_API_KEY\")\n",
    "# ! wandb login $wandb_key\n",
    "#\n",
    "# run = wandb.init(\n",
    "#     project='FuzzyMedNet',\n",
    "#     name='patient_eda',\n",
    "#     job_type='eda'\n",
    "# )"
   ],
   "metadata": {
    "collapsed": false,
    "ExecuteTime": {
     "end_time": "2023-11-01T16:05:44.006463900Z",
     "start_time": "2023-11-01T16:05:43.900372300Z"
    }
   }
  },
  {
   "cell_type": "code",
   "execution_count": 3,
   "outputs": [],
   "source": [
    "# Safety flag - when set to True will not display sensitive data\n",
    "BLINDED = False"
   ],
   "metadata": {
    "collapsed": false,
    "ExecuteTime": {
     "end_time": "2023-11-01T16:05:44.131992Z",
     "start_time": "2023-11-01T16:05:44.010355400Z"
    }
   }
  },
  {
   "cell_type": "markdown",
   "source": [
    "<a name='2'></a>\n",
    "## 2 - Data Overview\n",
    "\n",
    "<a name='2-1'></a>\n",
    "### 2.1 - Loading the Data"
   ],
   "metadata": {
    "collapsed": false
   }
  },
  {
   "cell_type": "code",
   "execution_count": 4,
   "outputs": [
    {
     "name": "stdout",
     "output_type": "stream",
     "text": [
      "['codes', 'interventions', 'patients', 'vitals_labs', 'vitals_labs_mean']\n"
     ]
    }
   ],
   "source": [
    "# Open the file in read mode\n",
    "with h5py.File(DATA_FILE_PATH, 'r') as file:\n",
    "    # Print the keys at the root of the file\n",
    "    print(list(file.keys()))\n",
    "\n",
    "patients = pd.read_hdf(DATA_FILE_PATH, 'patients')\n",
    "vitals_labs = pd.read_hdf(DATA_FILE_PATH, 'vitals_labs')\n",
    "vitals_labs_mean = pd.read_hdf(DATA_FILE_PATH, 'vitals_labs_mean')\n",
    "interventions = pd.read_hdf(DATA_FILE_PATH, 'interventions')\n",
    "codes = pd.read_hdf(DATA_FILE_PATH, 'codes')"
   ],
   "metadata": {
    "collapsed": false,
    "ExecuteTime": {
     "end_time": "2023-11-01T16:06:31.777050900Z",
     "start_time": "2023-11-01T16:05:44.135997Z"
    }
   }
  },
  {
   "cell_type": "markdown",
   "source": [
    "<a name='2-2'></a>\n",
    "### 2.2 - Basic Information"
   ],
   "metadata": {
    "collapsed": false
   }
  },
  {
   "cell_type": "code",
   "execution_count": 5,
   "outputs": [],
   "source": [
    "# print(f'patients.shape: {patients.shape}')\n",
    "# print(patients.info())"
   ],
   "metadata": {
    "collapsed": false,
    "ExecuteTime": {
     "end_time": "2023-11-01T16:06:32.439653100Z",
     "start_time": "2023-11-01T16:06:31.720689400Z"
    }
   }
  },
  {
   "cell_type": "code",
   "execution_count": 6,
   "outputs": [],
   "source": [
    "# print(f'vitals_labs_mean.shape: {vitals_labs_mean.shape}')\n",
    "# print(vitals_labs_mean.info())"
   ],
   "metadata": {
    "collapsed": false,
    "ExecuteTime": {
     "end_time": "2023-11-01T16:06:32.439653100Z",
     "start_time": "2023-11-01T16:06:32.001552400Z"
    }
   }
  },
  {
   "cell_type": "code",
   "execution_count": 7,
   "outputs": [],
   "source": [
    "# print(f'interventions.shape: {interventions.shape}')\n",
    "# print(interventions.info())"
   ],
   "metadata": {
    "collapsed": false,
    "ExecuteTime": {
     "end_time": "2023-11-01T16:06:32.439653100Z",
     "start_time": "2023-11-01T16:06:32.111005400Z"
    }
   }
  },
  {
   "cell_type": "code",
   "execution_count": 8,
   "outputs": [],
   "source": [
    "# # Limit vital signs, lab measurements, and interventions to the first 30 hours of admission\n",
    "# vitals_labs = vitals_labs[vitals_labs.index.get_level_values('hours_in') < 30]\n",
    "# vitals_labs_mean = vitals_labs_mean[vitals_labs_mean.index.get_level_values('hours_in') < 30]\n",
    "# interventions = interventions[interventions.index.get_level_values('hours_in') < 30]\n",
    "# blind_display(patients, vitals_labs_mean, interventions, blinded=BLINDED)"
   ],
   "metadata": {
    "collapsed": false,
    "ExecuteTime": {
     "end_time": "2023-11-01T16:06:32.455279800Z",
     "start_time": "2023-11-01T16:06:32.217917700Z"
    }
   }
  },
  {
   "cell_type": "markdown",
   "source": [
    "<a name='3'></a>\n",
    "## 3 - Univariate Analysis\n",
    "\n",
    "<a name='3-1'></a>\n",
    "### 3.1 - Categorical Variables"
   ],
   "metadata": {
    "collapsed": false
   }
  },
  {
   "cell_type": "markdown",
   "source": [
    "<a name='3-1-1'></a>\n",
    "`patients` data"
   ],
   "metadata": {
    "collapsed": false
   }
  },
  {
   "cell_type": "markdown",
   "source": [
    "<a name='3-1-1-1'></a>\n",
    "#### Transforming Static Features"
   ],
   "metadata": {
    "collapsed": false
   }
  },
  {
   "cell_type": "code",
   "execution_count": 9,
   "outputs": [
    {
     "data": {
      "text/plain": "age\n>70      14213\n51-70    12938\n31-50     5489\n<31       1832\nName: count, dtype: int64"
     },
     "execution_count": 9,
     "metadata": {},
     "output_type": "execute_result"
    }
   ],
   "source": [
    "# group age\n",
    "patients['age'] = patients['age'].apply(categorize_age)\n",
    "patients['age'].value_counts(dropna=False)"
   ],
   "metadata": {
    "collapsed": false,
    "ExecuteTime": {
     "end_time": "2023-11-01T16:06:32.549194100Z",
     "start_time": "2023-11-01T16:06:32.333564100Z"
    }
   }
  },
  {
   "cell_type": "code",
   "execution_count": 10,
   "outputs": [
    {
     "data": {
      "text/plain": "ethnicity\nWHITE                                                       24429\nUNKNOWN/NOT SPECIFIED                                        3221\nBLACK/AFRICAN AMERICAN                                       2456\nHISPANIC OR LATINO                                            881\nOTHER                                                         785\nUNABLE TO OBTAIN                                              652\nASIAN                                                         545\nPATIENT DECLINED TO ANSWER                                    351\nASIAN - CHINESE                                               166\nHISPANIC/LATINO - PUERTO RICAN                                124\nBLACK/CAPE VERDEAN                                            122\nWHITE - RUSSIAN                                                99\nMULTI RACE ETHNICITY                                           77\nBLACK/HAITIAN                                                  64\nWHITE - OTHER EUROPEAN                                         59\nHISPANIC/LATINO - DOMINICAN                                    56\nASIAN - ASIAN INDIAN                                           49\nWHITE - BRAZILIAN                                              35\nASIAN - VIETNAMESE                                             33\nPORTUGUESE                                                     32\nBLACK/AFRICAN                                                  25\nHISPANIC/LATINO - GUATEMALAN                                   24\nMIDDLE EASTERN                                                 23\nWHITE - EASTERN EUROPEAN                                       21\nHISPANIC/LATINO - CUBAN                                        16\nAMERICAN INDIAN/ALASKA NATIVE                                  15\nASIAN - FILIPINO                                               13\nHISPANIC/LATINO - SALVADORAN                                   12\nNATIVE HAWAIIAN OR OTHER PACIFIC ISLANDER                      11\nASIAN - KOREAN                                                 10\nASIAN - CAMBODIAN                                              10\nHISPANIC/LATINO - MEXICAN                                       8\nHISPANIC/LATINO - CENTRAL AMERICAN (OTHER)                      7\nCARIBBEAN ISLAND                                                7\nSOUTH AMERICAN                                                  7\nASIAN - OTHER                                                   7\nHISPANIC/LATINO - COLOMBIAN                                     6\nASIAN - JAPANESE                                                6\nHISPANIC/LATINO - HONDURAN                                      3\nASIAN - THAI                                                    3\nAMERICAN INDIAN/ALASKA NATIVE FEDERALLY RECOGNIZED TRIBE        2\nName: count, dtype: int64"
     },
     "execution_count": 10,
     "metadata": {},
     "output_type": "execute_result"
    }
   ],
   "source": [
    "# check ethnicity categories\n",
    "patients['ethnicity'].value_counts(dropna=False)"
   ],
   "metadata": {
    "collapsed": false,
    "ExecuteTime": {
     "end_time": "2023-11-01T16:06:32.752741700Z",
     "start_time": "2023-11-01T16:06:32.502312300Z"
    }
   }
  },
  {
   "cell_type": "code",
   "execution_count": 11,
   "outputs": [
    {
     "data": {
      "text/plain": "ethnicity\nWHITE              24675\nOTHER/UNKNOWN       5086\nBLACK               2667\nHISPANIC            1137\nASIAN                865\nISLANDER              25\nNATIVE AMERICAN       17\nName: count, dtype: int64"
     },
     "execution_count": 11,
     "metadata": {},
     "output_type": "execute_result"
    }
   ],
   "source": [
    "# Regroup similar categories of ethnicities\n",
    "patients['ethnicity'] = patients['ethnicity'].apply(categorize_ethnicity)\n",
    "patients['ethnicity'].value_counts(dropna=False)"
   ],
   "metadata": {
    "collapsed": false,
    "ExecuteTime": {
     "end_time": "2023-11-01T16:06:32.752741700Z",
     "start_time": "2023-11-01T16:06:32.627429600Z"
    }
   }
  },
  {
   "cell_type": "code",
   "execution_count": 12,
   "outputs": [
    {
     "data": {
      "text/plain": "admission_type\nEMERGENCY    28767\nELECTIVE      5705\nName: count, dtype: int64"
     },
     "execution_count": 12,
     "metadata": {},
     "output_type": "execute_result"
    }
   ],
   "source": [
    "# regroup admission types into: EMERGENCY & ELECTIVE\n",
    "patients['admission_type'] = patients['admission_type'].apply(group_admission_type)\n",
    "patients['admission_type'].value_counts(dropna=False)"
   ],
   "metadata": {
    "collapsed": false,
    "ExecuteTime": {
     "end_time": "2023-11-01T16:06:32.863834700Z",
     "start_time": "2023-11-01T16:06:32.739238600Z"
    }
   }
  },
  {
   "cell_type": "markdown",
   "source": [
    "<a name='3-1-2'></a>\n",
    "`interventions` data"
   ],
   "metadata": {
    "collapsed": false
   }
  },
  {
   "cell_type": "markdown",
   "source": [
    "<a name='3-2'></a>\n",
    "### 3.2 - Continuous Variables"
   ],
   "metadata": {
    "collapsed": false
   }
  },
  {
   "cell_type": "markdown",
   "source": [
    "<a name='3-2-1'></a>\n",
    "`patients` data"
   ],
   "metadata": {
    "collapsed": false
   }
  },
  {
   "cell_type": "code",
   "execution_count": 13,
   "outputs": [],
   "source": [
    "# # Calculate length of stay in ICU\n",
    "# patients['icu_stay_length'] = calculate_duration(patients, 'intime', 'outtime', 'h')  # in hours\n",
    "#\n",
    "# # Plot distribution of times\n",
    "# time_columns = ['admittime', 'dischtime', 'intime', 'outtime']\n",
    "# plot_time_analysis(patients, time_columns)"
   ],
   "metadata": {
    "collapsed": false,
    "ExecuteTime": {
     "end_time": "2023-11-01T16:06:32.973243400Z",
     "start_time": "2023-11-01T16:06:32.863834700Z"
    }
   }
  },
  {
   "cell_type": "markdown",
   "source": [
    "<a name='3-2-2'></a>\n",
    "`vitals_labs` data\n",
    "1. **Descriptive Statistics**\n",
    "We'll start by calculating summary statistics for the DataFrame. This will help us understand the central tendency, spread, and shape of the distribution of the dataset.\n",
    "<br></br>\n",
    "2. **Time-Series Plots**\n",
    "For selected vital signs and lab measurements, we'll plot time-series graphs.\n",
    "<br></br>\n",
    "3. **Distribution Plots**\n",
    "We'll visualize the distribution of selected columns to understand their shape, center, and spread."
   ],
   "metadata": {
    "collapsed": false
   }
  },
  {
   "cell_type": "markdown",
   "source": [
    "#### Hourly Measurements Spread across first 30 hours - Vital Signs"
   ],
   "metadata": {
    "collapsed": false
   }
  },
  {
   "cell_type": "code",
   "execution_count": 14,
   "outputs": [],
   "source": [
    "# plot_hourly_counts(df=hourly_vitals_df, features=VITAL_SIGNS)"
   ],
   "metadata": {
    "collapsed": false,
    "ExecuteTime": {
     "end_time": "2023-11-01T16:06:33.090642100Z",
     "start_time": "2023-11-01T16:06:32.973243400Z"
    }
   }
  },
  {
   "cell_type": "markdown",
   "source": [
    "#### Hourly Measurements Spread across first 30 hours - Labs"
   ],
   "metadata": {
    "collapsed": false
   }
  },
  {
   "cell_type": "code",
   "execution_count": 15,
   "outputs": [],
   "source": [
    "# plot_hourly_counts(df=hourly_vitals_df, features=lab_features)"
   ],
   "metadata": {
    "collapsed": false,
    "ExecuteTime": {
     "end_time": "2023-11-01T16:06:33.320841100Z",
     "start_time": "2023-11-01T16:06:33.092643300Z"
    }
   }
  },
  {
   "cell_type": "markdown",
   "source": [
    "<a name='4'></a>\n",
    "## 4 - Data Pre-processing\n",
    "\n",
    "<a name='4-1'></a>\n",
    "### 4.1 - Identifying Missing Data\n",
    "\n",
    "In the preceding examination, it was identified that missing data exists solely within the `vitals_labs` dataframe."
   ],
   "metadata": {
    "collapsed": false
   }
  },
  {
   "cell_type": "markdown",
   "source": [
    "<a name='4-2'></a>\n",
    "### 4.2 - Train/Dev/Test Split\n",
    "\n",
    "When imputing missing values, it's a best practice to calculate the mean (or any other statistic you're using for imputation) from the training set only. Then, use this calculated mean to impute missing values in both the training set and the dev/test sets.\n",
    "This approach helps in preventing data leakage from the dev/test set into the training set.\n",
    "\n",
    "The function `train_test_dev_split` performs the data splitting operation for the project. It takes three dataframes (`patients`, `vitals_labs`, and `interventions`) and returns a dictionary containing the train, dev, and test splits for each dataframe.\n",
    "\n",
    "Steps:\n",
    "**Filter Targets**: Only consider patients with sufficient data for the target variables `mort_hosp` and `mort_icu`.\n",
    "\n",
    "**Extract Static Features**: Remove the target variables and other non-static features from the `patients` dataframe.\n",
    "\n",
    "**Filter Time-Series Data**: Trim the time-series data to only include instances within a specified observation window.\n",
    "\n",
    "**Subject ID Validation**: Check that the subject IDs are consistent across all dataframes.\n",
    "\n",
    "**Random Split**: Randomly shuffle the subject IDs and allocate them into train, dev, and test sets based on predefined fractions.\n",
    "\n",
    "**Dataframe Splits**: Create train, dev, and test dataframes for each of the input dataframes (`patients`, `vitals_labs`, `interventions`), based on the shuffled subject IDs.\n",
    "\n",
    "**Return Data**: A dictionary containing the train, dev, and test splits for each dataframe is returned."
   ],
   "metadata": {
    "collapsed": false
   }
  },
  {
   "cell_type": "markdown",
   "source": [
    "### Encoding full `patient` categorical data before splitting"
   ],
   "metadata": {
    "collapsed": false
   }
  },
  {
   "cell_type": "code",
   "execution_count": 16,
   "outputs": [
    {
     "name": "stdout",
     "output_type": "stream",
     "text": [
      "patients_encoded.shape:  (34472, 30)\n"
     ]
    },
    {
     "data": {
      "text/plain": "                               fullcode_first  dnr_first  fullcode  dnr  \\\nsubject_id hadm_id icustay_id                                             \n3          145834  211552                 1.0        0.0       1.0  1.0   \n4          185777  294638                 1.0        0.0       1.0  0.0   \n6          107064  228232                 1.0        0.0       1.0  0.0   \n9          150750  220597                 1.0        0.0       1.0  0.0   \n11         194540  229441                 1.0        0.0       1.0  0.0   \n\n                               cmo_first  cmo_last  cmo  intime  mort_icu  \\\nsubject_id hadm_id icustay_id                                               \n3          145834  211552            0.0       0.0  0.0      19         0   \n4          185777  294638            0.0       0.0  0.0       0         0   \n6          107064  228232            0.0       0.0  0.0      21         0   \n9          150750  220597            0.0       0.0  0.0      13         1   \n11         194540  229441            0.0       0.0  0.0       6         0   \n\n                               mort_hosp  ...  ethnicity_ISLANDER  \\\nsubject_id hadm_id icustay_id             ...                       \n3          145834  211552              0  ...               False   \n4          185777  294638              0  ...               False   \n6          107064  228232              0  ...               False   \n9          150750  220597              1  ...               False   \n11         194540  229441              0  ...               False   \n\n                               ethnicity_NATIVE AMERICAN  \\\nsubject_id hadm_id icustay_id                              \n3          145834  211552                          False   \n4          185777  294638                          False   \n6          107064  228232                          False   \n9          150750  220597                          False   \n11         194540  229441                          False   \n\n                               ethnicity_OTHER/UNKNOWN  ethnicity_WHITE  \\\nsubject_id hadm_id icustay_id                                             \n3          145834  211552                        False             True   \n4          185777  294638                        False             True   \n6          107064  228232                        False             True   \n9          150750  220597                         True            False   \n11         194540  229441                        False             True   \n\n                               admission_type_EMERGENCY  first_careunit_CCU  \\\nsubject_id hadm_id icustay_id                                                 \n3          145834  211552                          True               False   \n4          185777  294638                          True               False   \n6          107064  228232                         False               False   \n9          150750  220597                          True               False   \n11         194540  229441                          True               False   \n\n                               first_careunit_CSRU  first_careunit_MICU  \\\nsubject_id hadm_id icustay_id                                             \n3          145834  211552                    False                 True   \n4          185777  294638                    False                 True   \n6          107064  228232                    False                False   \n9          150750  220597                    False                 True   \n11         194540  229441                    False                False   \n\n                               first_careunit_SICU  first_careunit_TSICU  \nsubject_id hadm_id icustay_id                                             \n3          145834  211552                    False                 False  \n4          185777  294638                    False                 False  \n6          107064  228232                     True                 False  \n9          150750  220597                    False                 False  \n11         194540  229441                     True                 False  \n\n[5 rows x 30 columns]",
      "text/html": "<div>\n<style scoped>\n    .dataframe tbody tr th:only-of-type {\n        vertical-align: middle;\n    }\n\n    .dataframe tbody tr th {\n        vertical-align: top;\n    }\n\n    .dataframe thead th {\n        text-align: right;\n    }\n</style>\n<table border=\"1\" class=\"dataframe\">\n  <thead>\n    <tr style=\"text-align: right;\">\n      <th></th>\n      <th></th>\n      <th></th>\n      <th>fullcode_first</th>\n      <th>dnr_first</th>\n      <th>fullcode</th>\n      <th>dnr</th>\n      <th>cmo_first</th>\n      <th>cmo_last</th>\n      <th>cmo</th>\n      <th>intime</th>\n      <th>mort_icu</th>\n      <th>mort_hosp</th>\n      <th>...</th>\n      <th>ethnicity_ISLANDER</th>\n      <th>ethnicity_NATIVE AMERICAN</th>\n      <th>ethnicity_OTHER/UNKNOWN</th>\n      <th>ethnicity_WHITE</th>\n      <th>admission_type_EMERGENCY</th>\n      <th>first_careunit_CCU</th>\n      <th>first_careunit_CSRU</th>\n      <th>first_careunit_MICU</th>\n      <th>first_careunit_SICU</th>\n      <th>first_careunit_TSICU</th>\n    </tr>\n    <tr>\n      <th>subject_id</th>\n      <th>hadm_id</th>\n      <th>icustay_id</th>\n      <th></th>\n      <th></th>\n      <th></th>\n      <th></th>\n      <th></th>\n      <th></th>\n      <th></th>\n      <th></th>\n      <th></th>\n      <th></th>\n      <th></th>\n      <th></th>\n      <th></th>\n      <th></th>\n      <th></th>\n      <th></th>\n      <th></th>\n      <th></th>\n      <th></th>\n      <th></th>\n      <th></th>\n    </tr>\n  </thead>\n  <tbody>\n    <tr>\n      <th>3</th>\n      <th>145834</th>\n      <th>211552</th>\n      <td>1.0</td>\n      <td>0.0</td>\n      <td>1.0</td>\n      <td>1.0</td>\n      <td>0.0</td>\n      <td>0.0</td>\n      <td>0.0</td>\n      <td>19</td>\n      <td>0</td>\n      <td>0</td>\n      <td>...</td>\n      <td>False</td>\n      <td>False</td>\n      <td>False</td>\n      <td>True</td>\n      <td>True</td>\n      <td>False</td>\n      <td>False</td>\n      <td>True</td>\n      <td>False</td>\n      <td>False</td>\n    </tr>\n    <tr>\n      <th>4</th>\n      <th>185777</th>\n      <th>294638</th>\n      <td>1.0</td>\n      <td>0.0</td>\n      <td>1.0</td>\n      <td>0.0</td>\n      <td>0.0</td>\n      <td>0.0</td>\n      <td>0.0</td>\n      <td>0</td>\n      <td>0</td>\n      <td>0</td>\n      <td>...</td>\n      <td>False</td>\n      <td>False</td>\n      <td>False</td>\n      <td>True</td>\n      <td>True</td>\n      <td>False</td>\n      <td>False</td>\n      <td>True</td>\n      <td>False</td>\n      <td>False</td>\n    </tr>\n    <tr>\n      <th>6</th>\n      <th>107064</th>\n      <th>228232</th>\n      <td>1.0</td>\n      <td>0.0</td>\n      <td>1.0</td>\n      <td>0.0</td>\n      <td>0.0</td>\n      <td>0.0</td>\n      <td>0.0</td>\n      <td>21</td>\n      <td>0</td>\n      <td>0</td>\n      <td>...</td>\n      <td>False</td>\n      <td>False</td>\n      <td>False</td>\n      <td>True</td>\n      <td>False</td>\n      <td>False</td>\n      <td>False</td>\n      <td>False</td>\n      <td>True</td>\n      <td>False</td>\n    </tr>\n    <tr>\n      <th>9</th>\n      <th>150750</th>\n      <th>220597</th>\n      <td>1.0</td>\n      <td>0.0</td>\n      <td>1.0</td>\n      <td>0.0</td>\n      <td>0.0</td>\n      <td>0.0</td>\n      <td>0.0</td>\n      <td>13</td>\n      <td>1</td>\n      <td>1</td>\n      <td>...</td>\n      <td>False</td>\n      <td>False</td>\n      <td>True</td>\n      <td>False</td>\n      <td>True</td>\n      <td>False</td>\n      <td>False</td>\n      <td>True</td>\n      <td>False</td>\n      <td>False</td>\n    </tr>\n    <tr>\n      <th>11</th>\n      <th>194540</th>\n      <th>229441</th>\n      <td>1.0</td>\n      <td>0.0</td>\n      <td>1.0</td>\n      <td>0.0</td>\n      <td>0.0</td>\n      <td>0.0</td>\n      <td>0.0</td>\n      <td>6</td>\n      <td>0</td>\n      <td>0</td>\n      <td>...</td>\n      <td>False</td>\n      <td>False</td>\n      <td>False</td>\n      <td>True</td>\n      <td>True</td>\n      <td>False</td>\n      <td>False</td>\n      <td>False</td>\n      <td>True</td>\n      <td>False</td>\n    </tr>\n  </tbody>\n</table>\n<p>5 rows × 30 columns</p>\n</div>"
     },
     "metadata": {},
     "output_type": "display_data"
    }
   ],
   "source": [
    "# Drop irrelevant or duplicated columns\n",
    "columns_to_drop = ['admittime', 'dischtime', 'outtime', 'deathtime', 'discharge_location', 'dnr_first_charttime', 'diagnosis_at_admission', 'insurance', 'hospstay_seq', 'hospital_expire_flag', 'los_icu']\n",
    "\n",
    "patients.drop(columns= columns_to_drop, inplace=True)\n",
    "\n",
    "# Select columns to be one-hot encoded\n",
    "categorical_cols = ['gender', 'age', 'ethnicity', 'admission_type', 'first_careunit']\n",
    "\n",
    "patients_encoded = pd.get_dummies(patients, columns=categorical_cols)\n",
    "patients_encoded.drop(columns=['gender_F', 'admission_type_ELECTIVE'], inplace=True)\n",
    "patients_encoded.fillna(0, inplace=True)\n",
    "\n",
    "patients_encoded.loc[:, 'intime'] = patients_encoded['intime'].astype('datetime64[ns]').apply(lambda x : x.hour)\n",
    "\n",
    "blind_display(patients_encoded, blinded=BLINDED)"
   ],
   "metadata": {
    "collapsed": false,
    "ExecuteTime": {
     "end_time": "2023-11-01T16:06:33.952674200Z",
     "start_time": "2023-11-01T16:06:33.234544500Z"
    }
   }
  },
  {
   "cell_type": "code",
   "execution_count": 17,
   "outputs": [],
   "source": [
    "datasets = train_test_dev_split(patients_encoded, vitals_labs, interventions)"
   ],
   "metadata": {
    "collapsed": false,
    "ExecuteTime": {
     "end_time": "2023-11-01T16:06:54.464625700Z",
     "start_time": "2023-11-01T16:06:33.937043700Z"
    }
   }
  },
  {
   "cell_type": "code",
   "execution_count": 18,
   "outputs": [
    {
     "name": "stdout",
     "output_type": "stream",
     "text": [
      "\n",
      "Patients:\n",
      "(11543, 27)\n",
      "(1650, 27)\n",
      "(3299, 27)\n",
      "\n",
      "Vitals:\n",
      "(554064, 312)\n",
      "(79200, 312)\n",
      "(158352, 312)\n",
      "\n",
      "Interv:\n",
      "(554064, 14)\n",
      "(79200, 14)\n",
      "(158352, 14)\n",
      "\n",
      "Ys:\n",
      "(11543, 2)\n",
      "(1650, 2)\n",
      "(3299, 2)\n"
     ]
    }
   ],
   "source": [
    "# Define keys and corresponding variable names\n",
    "keys_varnames = [\n",
    "    ('patients', 'patients_train', 'patients_dev', 'patients_test'),\n",
    "    ('vitals', 'vitals_train', 'vitals_dev', 'vitals_test'),\n",
    "    ('interv', 'interv_train', 'interv_dev', 'interv_test'),\n",
    "    ('Ys', 'Ys_train', 'Ys_dev', 'Ys_test')\n",
    "]\n",
    "\n",
    "# Loop through each key and variable name to extract data and print shapes\n",
    "for key, train_var, dev_var, test_var in keys_varnames:\n",
    "    train_data, dev_data, test_data = datasets[key]\n",
    "    print(f'\\n{key.capitalize()}:')\n",
    "    print(train_data.shape)\n",
    "    print(dev_data.shape)\n",
    "    print(test_data.shape)\n",
    "\n",
    "    # log the datasets\n",
    "    # save_to_pickle(train_data, os.path.join(LOG_DATA_DIR, f'{train_var}_gru_split.pkl'))\n",
    "    # save_to_pickle(dev_data, os.path.join(LOG_DATA_DIR, f'{dev_var}_gru_split.pkl'))\n",
    "    # save_to_pickle(test_data, os.path.join(LOG_DATA_DIR, f'{test_var}_gru_split.pkl'))\n",
    "\n",
    "    # set the variables\n",
    "    globals()[train_var], globals()[dev_var], globals()[test_var] = train_data, dev_data, test_data"
   ],
   "metadata": {
    "collapsed": false,
    "ExecuteTime": {
     "end_time": "2023-11-01T16:06:54.685490400Z",
     "start_time": "2023-11-01T16:06:54.495875600Z"
    }
   }
  },
  {
   "cell_type": "markdown",
   "source": [
    "<a name='4-3'></a>\n",
    "### 4.3 Data Imputation\n",
    "The strategy for handling the missing values in `vitals_labs` is as follows:\n",
    "\n",
    "- Initial imputation employs **forward-filling** to propagate the last valid observation to succeeding `NaN` entries.\n",
    "\n",
    "- Subsequently, any residual missing values within each `icustay_id` group are replaced by the **group's mean**.\n",
    "\n",
    "- Finally, any remaining `NaN`s are filled with **zeros**.\n",
    "\n",
    "- A binary mask is generated to indicate the presence of data.\n",
    "\n",
    "- Time deltas are computed to represent the duration since the last available measurement for each column."
   ],
   "metadata": {
    "collapsed": false
   }
  },
  {
   "cell_type": "markdown",
   "source": [
    "#### Simple Impute"
   ],
   "metadata": {
    "collapsed": false
   }
  },
  {
   "cell_type": "code",
   "execution_count": 30,
   "outputs": [],
   "source": [
    "from src.data_imputation.simple_impute import simple_imputer"
   ],
   "metadata": {
    "collapsed": false,
    "ExecuteTime": {
     "end_time": "2023-11-01T16:12:25.897637100Z",
     "start_time": "2023-11-01T16:12:25.770144Z"
    }
   }
  },
  {
   "cell_type": "code",
   "execution_count": 31,
   "outputs": [
    {
     "ename": "AssertionError",
     "evalue": "",
     "output_type": "error",
     "traceback": [
      "\u001B[1;31m---------------------------------------------------------------------------\u001B[0m",
      "\u001B[1;31mAssertionError\u001B[0m                            Traceback (most recent call last)",
      "File \u001B[1;32m<timed exec>:17\u001B[0m\n",
      "\u001B[1;31mAssertionError\u001B[0m: "
     ]
    }
   ],
   "source": [
    "%%time\n",
    "global_means, icustay_means = calculate_impute_values(vitals_train)\n",
    "\n",
    "vitals_train_imputed, vitals_dev_imputed, vitals_test_imputed = [\n",
    "    simple_imputer(df, global_means, icustay_means) for df in (vitals_train, vitals_dev, vitals_test)\n",
    "]\n",
    "# vitals_train_flat, vitals_dev_flat, vitals_test_flat = [\n",
    "#     df.pivot_table(index=['subject_id', 'hadm_id', 'icustay_id'], columns=['hours_in']) for df in (\n",
    "#         vitals_train_imputed, vitals_dev_imputed, vitals_test_imputed\n",
    "#     )\n",
    "# ]\n",
    "\n",
    "# # log the datasets\n",
    "# save_to_pickle(vitals_train_imputed, os.path.join(LOG_DATA_DIR, f'vitals_train_gru_imputed.pkl'))\n",
    "# save_to_pickle(vitals_dev_imputed, os.path.join(LOG_DATA_DIR, f'vitals_dev_gru_imputed.pkl'))\n",
    "# save_to_pickle(vitals_test_imputed, os.path.join(LOG_DATA_DIR, f'vitals_test_gru_imputed.pkl'))\n",
    "\n",
    "for df in vitals_train_imputed, vitals_dev_imputed, vitals_test_imputed: assert not df.isnull().any().any()"
   ],
   "metadata": {
    "collapsed": false,
    "ExecuteTime": {
     "end_time": "2023-11-01T16:16:13.199626600Z",
     "start_time": "2023-11-01T16:12:31.014110100Z"
    }
   }
  },
  {
   "cell_type": "code",
   "execution_count": 32,
   "outputs": [
    {
     "data": {
      "text/plain": "LEVEL2                                 alanine aminotransferase       \\\nAggregation Function                                       mask mean   \nsubject_id hadm_id icustay_id hours_in                                 \n9          150750  220597     0                             0.0  NaN   \n                              1                             0.0  NaN   \n                              2                             0.0  NaN   \n                              3                             0.0  NaN   \n                              4                             0.0  NaN   \n...                                                         ...  ...   \n99995      137810  229633     43                            0.0  NaN   \n                              44                            0.0  NaN   \n                              45                            0.0  NaN   \n                              46                            0.0  NaN   \n                              47                            0.0  NaN   \n\nLEVEL2                                                     albumin       \\\nAggregation Function                   time_since_measured    mask mean   \nsubject_id hadm_id icustay_id hours_in                                    \n9          150750  220597     0                      100.0     0.0  NaN   \n                              1                      100.0     0.0  NaN   \n                              2                      100.0     0.0  NaN   \n                              3                      100.0     0.0  NaN   \n                              4                      100.0     0.0  NaN   \n...                                                    ...     ...  ...   \n99995      137810  229633     43                      41.0     0.0  NaN   \n                              44                      42.0     0.0  NaN   \n                              45                      43.0     0.0  NaN   \n                              46                      44.0     0.0  NaN   \n                              47                      45.0     0.0  NaN   \n\nLEVEL2                                                     albumin ascites  \\\nAggregation Function                   time_since_measured            mask   \nsubject_id hadm_id icustay_id hours_in                                       \n9          150750  220597     0                      100.0             0.0   \n                              1                      100.0             0.0   \n                              2                      100.0             0.0   \n                              3                      100.0             0.0   \n                              4                      100.0             0.0   \n...                                                    ...             ...   \n99995      137810  229633     43                     267.0             0.0   \n                              44                     268.0             0.0   \n                              45                     269.0             0.0   \n                              46                     270.0             0.0   \n                              47                     271.0             0.0   \n\nLEVEL2                                                           \\\nAggregation Function                   mean time_since_measured   \nsubject_id hadm_id icustay_id hours_in                            \n9          150750  220597     0         NaN               100.0   \n                              1         NaN               100.0   \n                              2         NaN               100.0   \n                              3         NaN               100.0   \n                              4         NaN               100.0   \n...                                     ...                 ...   \n99995      137810  229633     43        NaN              7821.0   \n                              44        NaN              7822.0   \n                              45        NaN              7823.0   \n                              46        NaN              7824.0   \n                              47        NaN              7825.0   \n\nLEVEL2                                 albumin pleural  ...  \\\nAggregation Function                              mask  ...   \nsubject_id hadm_id icustay_id hours_in                  ...   \n9          150750  220597     0                    0.0  ...   \n                              1                    0.0  ...   \n                              2                    0.0  ...   \n                              3                    0.0  ...   \n                              4                    0.0  ...   \n...                                                ...  ...   \n99995      137810  229633     43                   0.0  ...   \n                              44                   0.0  ...   \n                              45                   0.0  ...   \n                              46                   0.0  ...   \n                              47                   0.0  ...   \n\nLEVEL2                                         venous pvo2 weight             \\\nAggregation Function                   time_since_measured   mask       mean   \nsubject_id hadm_id icustay_id hours_in                                         \n9          150750  220597     0                      100.0    0.0        NaN   \n                              1                      100.0    0.0        NaN   \n                              2                      100.0    0.0        NaN   \n                              3                      100.0    0.0        NaN   \n                              4                      100.0    0.0        NaN   \n...                                                    ...    ...        ...   \n99995      137810  229633     43                  214679.0    0.0        NaN   \n                              44                  214680.0    1.0  67.857419   \n                              45                  214681.0    0.0        NaN   \n                              46                  214682.0    0.0        NaN   \n                              47                  214683.0    0.0        NaN   \n\nLEVEL2                                                      \\\nAggregation Function                   time_since_measured   \nsubject_id hadm_id icustay_id hours_in                       \n9          150750  220597     0                      100.0   \n                              1                      100.0   \n                              2                      100.0   \n                              3                      100.0   \n                              4                      100.0   \n...                                                    ...   \n99995      137810  229633     43                       4.0   \n                              44                       0.0   \n                              45                       1.0   \n                              46                       2.0   \n                              47                       3.0   \n\nLEVEL2                                 white blood cell count       \\\nAggregation Function                                     mask mean   \nsubject_id hadm_id icustay_id hours_in                               \n9          150750  220597     0                           1.0  7.5   \n                              1                           0.0  NaN   \n                              2                           0.0  NaN   \n                              3                           0.0  NaN   \n                              4                           0.0  NaN   \n...                                                       ...  ...   \n99995      137810  229633     43                          0.0  NaN   \n                              44                          0.0  NaN   \n                              45                          0.0  NaN   \n                              46                          0.0  NaN   \n                              47                          0.0  NaN   \n\nLEVEL2                                                      \\\nAggregation Function                   time_since_measured   \nsubject_id hadm_id icustay_id hours_in                       \n9          150750  220597     0                        0.0   \n                              1                        1.0   \n                              2                        2.0   \n                              3                        3.0   \n                              4                        4.0   \n...                                                    ...   \n99995      137810  229633     43                       7.0   \n                              44                       8.0   \n                              45                       9.0   \n                              46                      10.0   \n                              47                      11.0   \n\nLEVEL2                                 white blood cell count urine       \\\nAggregation Function                                           mask mean   \nsubject_id hadm_id icustay_id hours_in                                     \n9          150750  220597     0                                 0.0  NaN   \n                              1                                 0.0  NaN   \n                              2                                 0.0  NaN   \n                              3                                 0.0  NaN   \n                              4                                 0.0  NaN   \n...                                                             ...  ...   \n99995      137810  229633     43                                0.0  NaN   \n                              44                                0.0  NaN   \n                              45                                0.0  NaN   \n                              46                                0.0  NaN   \n                              47                                0.0  NaN   \n\nLEVEL2                                                      \nAggregation Function                   time_since_measured  \nsubject_id hadm_id icustay_id hours_in                      \n9          150750  220597     0                      100.0  \n                              1                      100.0  \n                              2                      100.0  \n                              3                      100.0  \n                              4                      100.0  \n...                                                    ...  \n99995      137810  229633     43                      11.0  \n                              44                      12.0  \n                              45                      13.0  \n                              46                      14.0  \n                              47                      15.0  \n\n[554064 rows x 312 columns]",
      "text/html": "<div>\n<style scoped>\n    .dataframe tbody tr th:only-of-type {\n        vertical-align: middle;\n    }\n\n    .dataframe tbody tr th {\n        vertical-align: top;\n    }\n\n    .dataframe thead tr th {\n        text-align: left;\n    }\n\n    .dataframe thead tr:last-of-type th {\n        text-align: right;\n    }\n</style>\n<table border=\"1\" class=\"dataframe\">\n  <thead>\n    <tr>\n      <th></th>\n      <th></th>\n      <th></th>\n      <th>LEVEL2</th>\n      <th colspan=\"3\" halign=\"left\">alanine aminotransferase</th>\n      <th colspan=\"3\" halign=\"left\">albumin</th>\n      <th colspan=\"3\" halign=\"left\">albumin ascites</th>\n      <th>albumin pleural</th>\n      <th>...</th>\n      <th>venous pvo2</th>\n      <th colspan=\"3\" halign=\"left\">weight</th>\n      <th colspan=\"3\" halign=\"left\">white blood cell count</th>\n      <th colspan=\"3\" halign=\"left\">white blood cell count urine</th>\n    </tr>\n    <tr>\n      <th></th>\n      <th></th>\n      <th></th>\n      <th>Aggregation Function</th>\n      <th>mask</th>\n      <th>mean</th>\n      <th>time_since_measured</th>\n      <th>mask</th>\n      <th>mean</th>\n      <th>time_since_measured</th>\n      <th>mask</th>\n      <th>mean</th>\n      <th>time_since_measured</th>\n      <th>mask</th>\n      <th>...</th>\n      <th>time_since_measured</th>\n      <th>mask</th>\n      <th>mean</th>\n      <th>time_since_measured</th>\n      <th>mask</th>\n      <th>mean</th>\n      <th>time_since_measured</th>\n      <th>mask</th>\n      <th>mean</th>\n      <th>time_since_measured</th>\n    </tr>\n    <tr>\n      <th>subject_id</th>\n      <th>hadm_id</th>\n      <th>icustay_id</th>\n      <th>hours_in</th>\n      <th></th>\n      <th></th>\n      <th></th>\n      <th></th>\n      <th></th>\n      <th></th>\n      <th></th>\n      <th></th>\n      <th></th>\n      <th></th>\n      <th></th>\n      <th></th>\n      <th></th>\n      <th></th>\n      <th></th>\n      <th></th>\n      <th></th>\n      <th></th>\n      <th></th>\n      <th></th>\n      <th></th>\n    </tr>\n  </thead>\n  <tbody>\n    <tr>\n      <th rowspan=\"5\" valign=\"top\">9</th>\n      <th rowspan=\"5\" valign=\"top\">150750</th>\n      <th rowspan=\"5\" valign=\"top\">220597</th>\n      <th>0</th>\n      <td>0.0</td>\n      <td>NaN</td>\n      <td>100.0</td>\n      <td>0.0</td>\n      <td>NaN</td>\n      <td>100.0</td>\n      <td>0.0</td>\n      <td>NaN</td>\n      <td>100.0</td>\n      <td>0.0</td>\n      <td>...</td>\n      <td>100.0</td>\n      <td>0.0</td>\n      <td>NaN</td>\n      <td>100.0</td>\n      <td>1.0</td>\n      <td>7.5</td>\n      <td>0.0</td>\n      <td>0.0</td>\n      <td>NaN</td>\n      <td>100.0</td>\n    </tr>\n    <tr>\n      <th>1</th>\n      <td>0.0</td>\n      <td>NaN</td>\n      <td>100.0</td>\n      <td>0.0</td>\n      <td>NaN</td>\n      <td>100.0</td>\n      <td>0.0</td>\n      <td>NaN</td>\n      <td>100.0</td>\n      <td>0.0</td>\n      <td>...</td>\n      <td>100.0</td>\n      <td>0.0</td>\n      <td>NaN</td>\n      <td>100.0</td>\n      <td>0.0</td>\n      <td>NaN</td>\n      <td>1.0</td>\n      <td>0.0</td>\n      <td>NaN</td>\n      <td>100.0</td>\n    </tr>\n    <tr>\n      <th>2</th>\n      <td>0.0</td>\n      <td>NaN</td>\n      <td>100.0</td>\n      <td>0.0</td>\n      <td>NaN</td>\n      <td>100.0</td>\n      <td>0.0</td>\n      <td>NaN</td>\n      <td>100.0</td>\n      <td>0.0</td>\n      <td>...</td>\n      <td>100.0</td>\n      <td>0.0</td>\n      <td>NaN</td>\n      <td>100.0</td>\n      <td>0.0</td>\n      <td>NaN</td>\n      <td>2.0</td>\n      <td>0.0</td>\n      <td>NaN</td>\n      <td>100.0</td>\n    </tr>\n    <tr>\n      <th>3</th>\n      <td>0.0</td>\n      <td>NaN</td>\n      <td>100.0</td>\n      <td>0.0</td>\n      <td>NaN</td>\n      <td>100.0</td>\n      <td>0.0</td>\n      <td>NaN</td>\n      <td>100.0</td>\n      <td>0.0</td>\n      <td>...</td>\n      <td>100.0</td>\n      <td>0.0</td>\n      <td>NaN</td>\n      <td>100.0</td>\n      <td>0.0</td>\n      <td>NaN</td>\n      <td>3.0</td>\n      <td>0.0</td>\n      <td>NaN</td>\n      <td>100.0</td>\n    </tr>\n    <tr>\n      <th>4</th>\n      <td>0.0</td>\n      <td>NaN</td>\n      <td>100.0</td>\n      <td>0.0</td>\n      <td>NaN</td>\n      <td>100.0</td>\n      <td>0.0</td>\n      <td>NaN</td>\n      <td>100.0</td>\n      <td>0.0</td>\n      <td>...</td>\n      <td>100.0</td>\n      <td>0.0</td>\n      <td>NaN</td>\n      <td>100.0</td>\n      <td>0.0</td>\n      <td>NaN</td>\n      <td>4.0</td>\n      <td>0.0</td>\n      <td>NaN</td>\n      <td>100.0</td>\n    </tr>\n    <tr>\n      <th>...</th>\n      <th>...</th>\n      <th>...</th>\n      <th>...</th>\n      <td>...</td>\n      <td>...</td>\n      <td>...</td>\n      <td>...</td>\n      <td>...</td>\n      <td>...</td>\n      <td>...</td>\n      <td>...</td>\n      <td>...</td>\n      <td>...</td>\n      <td>...</td>\n      <td>...</td>\n      <td>...</td>\n      <td>...</td>\n      <td>...</td>\n      <td>...</td>\n      <td>...</td>\n      <td>...</td>\n      <td>...</td>\n      <td>...</td>\n      <td>...</td>\n    </tr>\n    <tr>\n      <th rowspan=\"5\" valign=\"top\">99995</th>\n      <th rowspan=\"5\" valign=\"top\">137810</th>\n      <th rowspan=\"5\" valign=\"top\">229633</th>\n      <th>43</th>\n      <td>0.0</td>\n      <td>NaN</td>\n      <td>41.0</td>\n      <td>0.0</td>\n      <td>NaN</td>\n      <td>267.0</td>\n      <td>0.0</td>\n      <td>NaN</td>\n      <td>7821.0</td>\n      <td>0.0</td>\n      <td>...</td>\n      <td>214679.0</td>\n      <td>0.0</td>\n      <td>NaN</td>\n      <td>4.0</td>\n      <td>0.0</td>\n      <td>NaN</td>\n      <td>7.0</td>\n      <td>0.0</td>\n      <td>NaN</td>\n      <td>11.0</td>\n    </tr>\n    <tr>\n      <th>44</th>\n      <td>0.0</td>\n      <td>NaN</td>\n      <td>42.0</td>\n      <td>0.0</td>\n      <td>NaN</td>\n      <td>268.0</td>\n      <td>0.0</td>\n      <td>NaN</td>\n      <td>7822.0</td>\n      <td>0.0</td>\n      <td>...</td>\n      <td>214680.0</td>\n      <td>1.0</td>\n      <td>67.857419</td>\n      <td>0.0</td>\n      <td>0.0</td>\n      <td>NaN</td>\n      <td>8.0</td>\n      <td>0.0</td>\n      <td>NaN</td>\n      <td>12.0</td>\n    </tr>\n    <tr>\n      <th>45</th>\n      <td>0.0</td>\n      <td>NaN</td>\n      <td>43.0</td>\n      <td>0.0</td>\n      <td>NaN</td>\n      <td>269.0</td>\n      <td>0.0</td>\n      <td>NaN</td>\n      <td>7823.0</td>\n      <td>0.0</td>\n      <td>...</td>\n      <td>214681.0</td>\n      <td>0.0</td>\n      <td>NaN</td>\n      <td>1.0</td>\n      <td>0.0</td>\n      <td>NaN</td>\n      <td>9.0</td>\n      <td>0.0</td>\n      <td>NaN</td>\n      <td>13.0</td>\n    </tr>\n    <tr>\n      <th>46</th>\n      <td>0.0</td>\n      <td>NaN</td>\n      <td>44.0</td>\n      <td>0.0</td>\n      <td>NaN</td>\n      <td>270.0</td>\n      <td>0.0</td>\n      <td>NaN</td>\n      <td>7824.0</td>\n      <td>0.0</td>\n      <td>...</td>\n      <td>214682.0</td>\n      <td>0.0</td>\n      <td>NaN</td>\n      <td>2.0</td>\n      <td>0.0</td>\n      <td>NaN</td>\n      <td>10.0</td>\n      <td>0.0</td>\n      <td>NaN</td>\n      <td>14.0</td>\n    </tr>\n    <tr>\n      <th>47</th>\n      <td>0.0</td>\n      <td>NaN</td>\n      <td>45.0</td>\n      <td>0.0</td>\n      <td>NaN</td>\n      <td>271.0</td>\n      <td>0.0</td>\n      <td>NaN</td>\n      <td>7825.0</td>\n      <td>0.0</td>\n      <td>...</td>\n      <td>214683.0</td>\n      <td>0.0</td>\n      <td>NaN</td>\n      <td>3.0</td>\n      <td>0.0</td>\n      <td>NaN</td>\n      <td>11.0</td>\n      <td>0.0</td>\n      <td>NaN</td>\n      <td>15.0</td>\n    </tr>\n  </tbody>\n</table>\n<p>554064 rows × 312 columns</p>\n</div>"
     },
     "execution_count": 32,
     "metadata": {},
     "output_type": "execute_result"
    }
   ],
   "source": [
    "vitals_train_imputed"
   ],
   "metadata": {
    "collapsed": false,
    "ExecuteTime": {
     "end_time": "2023-11-01T16:18:37.354314900Z",
     "start_time": "2023-11-01T16:18:37.053734600Z"
    }
   }
  },
  {
   "cell_type": "code",
   "execution_count": 20,
   "outputs": [],
   "source": [
    "# vitals_train_imputed = load_from_pickle(os.path.join(DATA_DIR, 'vitals_train.pkl'))\n",
    "# vitals_dev_imputed = load_from_pickle(os.path.join(DATA_DIR, 'vitals_dev.pkl'))\n",
    "# vitals_test_imputed = load_from_pickle(os.path.join(DATA_DIR, 'vitals_test.pkl'))"
   ],
   "metadata": {
    "collapsed": false,
    "ExecuteTime": {
     "end_time": "2023-11-01T16:06:54.908162600Z",
     "start_time": "2023-11-01T16:06:54.794590900Z"
    }
   }
  },
  {
   "cell_type": "markdown",
   "source": [
    "#### Hybrid Impute"
   ],
   "metadata": {
    "collapsed": false
   }
  },
  {
   "cell_type": "code",
   "execution_count": 21,
   "outputs": [],
   "source": [
    "# %%time\n",
    "# global_means, icustay_means = calculate_impute_values(vitals_train)\n",
    "#\n",
    "# vitals_train_imputed2, vitals_dev_imputed2, vitals_test_imputed2 = [\n",
    "#     hybrid_imputer(df, global_means, icustay_means) for df in (vitals_train, vitals_dev, vitals_test)\n",
    "# ]\n",
    "# for df in vitals_train_imputed2, vitals_dev_imputed2, vitals_test_imputed2: assert not df.isnull().any().any()"
   ],
   "metadata": {
    "collapsed": false,
    "ExecuteTime": {
     "end_time": "2023-11-01T16:06:55.023491900Z",
     "start_time": "2023-11-01T16:06:54.908162600Z"
    }
   }
  },
  {
   "cell_type": "code",
   "execution_count": 22,
   "outputs": [],
   "source": [
    "# # Define keys and corresponding variable names\n",
    "# vitals_train_imputed2.to_csv('../data/processed_hybrid/vitals_train_hybrid.csv')\n",
    "# vitals_dev_imputed2.to_csv('../data/processed_hybrid/vitals_dev_hybrid.csv')\n",
    "# vitals_test_imputed2.to_csv('../data/processed_hybrid/vitals_test_hybrid.csv')"
   ],
   "metadata": {
    "collapsed": false,
    "ExecuteTime": {
     "end_time": "2023-11-01T16:06:55.139968600Z",
     "start_time": "2023-11-01T16:06:55.029496800Z"
    }
   }
  },
  {
   "cell_type": "markdown",
   "source": [
    "#### Data Standardization"
   ],
   "metadata": {
    "collapsed": false
   }
  },
  {
   "cell_type": "code",
   "execution_count": 23,
   "outputs": [],
   "source": [
    "def standardize_gru(vitals_train, vitals_dev, vitals_test):\n",
    "    idx = pd.IndexSlice\n",
    "    X_train, X_dev, X_test = vitals_train.copy(), vitals_dev.copy(), vitals_test.copy()\n",
    "\n",
    "    # Min-Max Scaling\n",
    "    train_min = X_train.loc[:, idx[:, 'mean']].min()\n",
    "    train_max = X_train.loc[:, idx[:, 'mean']].max()\n",
    "    for df in [X_train, X_dev, X_test]:\n",
    "        df.loc[:, idx[:, 'mean']] = minmax_scaling(df.loc[:, idx[:, 'mean']], train_min, train_max)\n",
    "\n",
    "    # Standardization\n",
    "    X_train.loc[:, idx[:, 'time_since_measured']] = np.where(X_train.loc[:, idx[:, 'time_since_measured']] == 100, 0,\n",
    "                                                             X_train.loc[:, idx[:, 'time_since_measured']])\n",
    "    train_mean = X_train.loc[:, idx[:, 'time_since_measured']].mean()\n",
    "    train_std = X_train.loc[:, idx[:, 'time_since_measured']].std()\n",
    "    for df in [X_train, X_dev, X_test]:\n",
    "        df.loc[:, idx[:, 'time_since_measured']] = standardize_time_since_measured(\n",
    "            df.loc[:, idx[:, 'time_since_measured']], train_mean, train_std)\n",
    "\n",
    "    return X_train, X_dev, X_test"
   ],
   "metadata": {
    "collapsed": false,
    "ExecuteTime": {
     "end_time": "2023-11-01T16:06:55.258710800Z",
     "start_time": "2023-11-01T16:06:55.139968600Z"
    }
   }
  },
  {
   "cell_type": "code",
   "execution_count": 24,
   "outputs": [],
   "source": [
    "# vitals_train_std, vitals_dev_std, vitals_test_std = standardize_gru(vitals_train_imputed, vitals_dev_imputed, vitals_test_imputed)"
   ],
   "metadata": {
    "collapsed": false,
    "ExecuteTime": {
     "end_time": "2023-11-01T16:06:55.371587800Z",
     "start_time": "2023-11-01T16:06:55.258710800Z"
    }
   }
  },
  {
   "cell_type": "code",
   "execution_count": 25,
   "outputs": [],
   "source": [
    "# # log the datasets\n",
    "# save_to_pickle(vitals_train_std, os.path.join(LOG_DATA_DIR, f'vitals_train_gru_std.pkl'))\n",
    "# save_to_pickle(vitals_dev_std, os.path.join(LOG_DATA_DIR, f'vitals_dev_gru_std.pkl'))\n",
    "# save_to_pickle(vitals_test_std, os.path.join(LOG_DATA_DIR, f'vitals_test_gru_std.pkl'))"
   ],
   "metadata": {
    "collapsed": false,
    "ExecuteTime": {
     "end_time": "2023-11-01T16:06:55.484965900Z",
     "start_time": "2023-11-01T16:06:55.375091300Z"
    }
   }
  },
  {
   "cell_type": "code",
   "execution_count": 26,
   "outputs": [],
   "source": [
    "highly_corr_drop = ['dnr', 'fullcode', 'cmo', 'cmo_last']\n",
    "patients_train.drop(columns=highly_corr_drop, inplace=True)\n",
    "patients_dev.drop(columns=highly_corr_drop, inplace=True)\n",
    "patients_test.drop(columns=highly_corr_drop, inplace=True)"
   ],
   "metadata": {
    "collapsed": false,
    "ExecuteTime": {
     "end_time": "2023-11-01T16:06:55.600333900Z",
     "start_time": "2023-11-01T16:06:55.484965900Z"
    }
   }
  },
  {
   "cell_type": "code",
   "execution_count": 27,
   "outputs": [],
   "source": [
    "vitals_to_drop = ['alanine aminotransferase', 'co2', 'co2 (etco2, pco2, etc.)', 'blood urea nitrogen', 'cardiac output thermodilution', 'chloride', 'cholesterol ldl', 'hematocrit', 'red blood cell count', 'lactic acid', 'mean corpuscular volume', 'phosphorous', 'positive end-expiratory pressure', 'potassium serum', 'prothrombin time pt', 'tidal volume set']"
   ],
   "metadata": {
    "collapsed": false,
    "ExecuteTime": {
     "end_time": "2023-11-01T16:06:55.712149300Z",
     "start_time": "2023-11-01T16:06:55.600333900Z"
    }
   }
  },
  {
   "cell_type": "code",
   "execution_count": 28,
   "outputs": [
    {
     "ename": "NameError",
     "evalue": "name 'vitals_train_std' is not defined",
     "output_type": "error",
     "traceback": [
      "\u001B[1;31m---------------------------------------------------------------------------\u001B[0m",
      "\u001B[1;31mNameError\u001B[0m                                 Traceback (most recent call last)",
      "Cell \u001B[1;32mIn[28], line 1\u001B[0m\n\u001B[1;32m----> 1\u001B[0m vitals_train_std\u001B[38;5;241m.\u001B[39mdrop(columns\u001B[38;5;241m=\u001B[39mvitals_to_drop, level\u001B[38;5;241m=\u001B[39m\u001B[38;5;241m0\u001B[39m, inplace\u001B[38;5;241m=\u001B[39m\u001B[38;5;28;01mTrue\u001B[39;00m)\n\u001B[0;32m      2\u001B[0m vitals_dev_std\u001B[38;5;241m.\u001B[39mdrop(columns\u001B[38;5;241m=\u001B[39mvitals_to_drop, level\u001B[38;5;241m=\u001B[39m\u001B[38;5;241m0\u001B[39m, inplace\u001B[38;5;241m=\u001B[39m\u001B[38;5;28;01mTrue\u001B[39;00m)\n\u001B[0;32m      3\u001B[0m vitals_test_std\u001B[38;5;241m.\u001B[39mdrop(columns\u001B[38;5;241m=\u001B[39mvitals_to_drop, level\u001B[38;5;241m=\u001B[39m\u001B[38;5;241m0\u001B[39m, inplace\u001B[38;5;241m=\u001B[39m\u001B[38;5;28;01mTrue\u001B[39;00m)\n",
      "\u001B[1;31mNameError\u001B[0m: name 'vitals_train_std' is not defined"
     ]
    }
   ],
   "source": [
    "vitals_train_std.drop(columns=vitals_to_drop, level=0, inplace=True)\n",
    "vitals_dev_std.drop(columns=vitals_to_drop, level=0, inplace=True)\n",
    "vitals_test_std.drop(columns=vitals_to_drop, level=0, inplace=True)"
   ],
   "metadata": {
    "collapsed": false,
    "ExecuteTime": {
     "end_time": "2023-11-01T16:06:58.117520200Z",
     "start_time": "2023-11-01T16:06:55.712149300Z"
    }
   }
  },
  {
   "cell_type": "code",
   "execution_count": null,
   "outputs": [],
   "source": [
    "vitals_train_std"
   ],
   "metadata": {
    "collapsed": false,
    "ExecuteTime": {
     "start_time": "2023-11-01T16:06:58.117520200Z"
    }
   }
  },
  {
   "cell_type": "markdown",
   "source": [
    "### Create Feature Matrix"
   ],
   "metadata": {
    "collapsed": false
   }
  },
  {
   "cell_type": "code",
   "execution_count": null,
   "outputs": [],
   "source": [
    "# X_train_merged = create_feature_matrix(patients_train, vitals_train_std, interv_train)\n",
    "# X_dev_merged = create_feature_matrix(patients_dev, vitals_dev_std, interv_dev)\n",
    "# X_test_merged = create_feature_matrix(patients_test, vitals_test_std, interv_test)\n",
    "# blind_display(X_train_merged, X_dev_merged, X_test_merged, blinded=BLINDED)"
   ],
   "metadata": {
    "collapsed": false,
    "ExecuteTime": {
     "start_time": "2023-11-01T16:06:58.117520200Z"
    }
   }
  },
  {
   "cell_type": "markdown",
   "source": [
    "### Store Processed Data"
   ],
   "metadata": {
    "collapsed": false
   }
  },
  {
   "cell_type": "code",
   "execution_count": 29,
   "outputs": [
    {
     "data": {
      "text/plain": "LEVEL2                                 alanine aminotransferase           \\\nAggregation Function                                      count mean std   \nsubject_id hadm_id icustay_id hours_in                                     \n9          150750  220597     0                             0.0  NaN NaN   \n                              1                             0.0  NaN NaN   \n                              2                             0.0  NaN NaN   \n                              3                             0.0  NaN NaN   \n                              4                             0.0  NaN NaN   \n...                                                         ...  ...  ..   \n99995      137810  229633     43                            0.0  NaN NaN   \n                              44                            0.0  NaN NaN   \n                              45                            0.0  NaN NaN   \n                              46                            0.0  NaN NaN   \n                              47                            0.0  NaN NaN   \n\nLEVEL2                                 albumin          albumin ascites       \\\nAggregation Function                     count mean std           count mean   \nsubject_id hadm_id icustay_id hours_in                                         \n9          150750  220597     0            0.0  NaN NaN             0.0  NaN   \n                              1            0.0  NaN NaN             0.0  NaN   \n                              2            0.0  NaN NaN             0.0  NaN   \n                              3            0.0  NaN NaN             0.0  NaN   \n                              4            0.0  NaN NaN             0.0  NaN   \n...                                        ...  ...  ..             ...  ...   \n99995      137810  229633     43           0.0  NaN NaN             0.0  NaN   \n                              44           0.0  NaN NaN             0.0  NaN   \n                              45           0.0  NaN NaN             0.0  NaN   \n                              46           0.0  NaN NaN             0.0  NaN   \n                              47           0.0  NaN NaN             0.0  NaN   \n\nLEVEL2                                     albumin pleural  ...  \\\nAggregation Function                   std           count  ...   \nsubject_id hadm_id icustay_id hours_in                      ...   \n9          150750  220597     0        NaN             0.0  ...   \n                              1        NaN             0.0  ...   \n                              2        NaN             0.0  ...   \n                              3        NaN             0.0  ...   \n                              4        NaN             0.0  ...   \n...                                     ..             ...  ...   \n99995      137810  229633     43       NaN             0.0  ...   \n                              44       NaN             0.0  ...   \n                              45       NaN             0.0  ...   \n                              46       NaN             0.0  ...   \n                              47       NaN             0.0  ...   \n\nLEVEL2                                 white blood cell count  \\\nAggregation Function                                      std   \nsubject_id hadm_id icustay_id hours_in                          \n9          150750  220597     0                           NaN   \n                              1                           NaN   \n                              2                           NaN   \n                              3                           NaN   \n                              4                           NaN   \n...                                                       ...   \n99995      137810  229633     43                          NaN   \n                              44                          NaN   \n                              45                          NaN   \n                              46                          NaN   \n                              47                          NaN   \n\nLEVEL2                                 white blood cell count urine           \\\nAggregation Function                                          count mean std   \nsubject_id hadm_id icustay_id hours_in                                         \n9          150750  220597     0                                 0.0  NaN NaN   \n                              1                                 0.0  NaN NaN   \n                              2                                 0.0  NaN NaN   \n                              3                                 0.0  NaN NaN   \n                              4                                 0.0  NaN NaN   \n...                                                             ...  ...  ..   \n99995      137810  229633     43                                0.0  NaN NaN   \n                              44                                0.0  NaN NaN   \n                              45                                0.0  NaN NaN   \n                              46                                0.0  NaN NaN   \n                              47                                0.0  NaN NaN   \n\nLEVEL2                                    ph            ph urine           \nAggregation Function                   count  mean  std    count mean std  \nsubject_id hadm_id icustay_id hours_in                                     \n9          150750  220597     0          0.0   NaN  NaN      1.0  8.0 NaN  \n                              1          0.0   NaN  NaN      0.0  NaN NaN  \n                              2          0.0   NaN  NaN      0.0  NaN NaN  \n                              3          0.0   NaN  NaN      0.0  NaN NaN  \n                              4          3.0  7.39  0.0      0.0  NaN NaN  \n...                                      ...   ...  ...      ...  ...  ..  \n99995      137810  229633     43         0.0   NaN  NaN      0.0  NaN NaN  \n                              44         0.0   NaN  NaN      0.0  NaN NaN  \n                              45         0.0   NaN  NaN      0.0  NaN NaN  \n                              46         0.0   NaN  NaN      0.0  NaN NaN  \n                              47         0.0   NaN  NaN      0.0  NaN NaN  \n\n[554064 rows x 312 columns]",
      "text/html": "<div>\n<style scoped>\n    .dataframe tbody tr th:only-of-type {\n        vertical-align: middle;\n    }\n\n    .dataframe tbody tr th {\n        vertical-align: top;\n    }\n\n    .dataframe thead tr th {\n        text-align: left;\n    }\n\n    .dataframe thead tr:last-of-type th {\n        text-align: right;\n    }\n</style>\n<table border=\"1\" class=\"dataframe\">\n  <thead>\n    <tr>\n      <th></th>\n      <th></th>\n      <th></th>\n      <th>LEVEL2</th>\n      <th colspan=\"3\" halign=\"left\">alanine aminotransferase</th>\n      <th colspan=\"3\" halign=\"left\">albumin</th>\n      <th colspan=\"3\" halign=\"left\">albumin ascites</th>\n      <th>albumin pleural</th>\n      <th>...</th>\n      <th>white blood cell count</th>\n      <th colspan=\"3\" halign=\"left\">white blood cell count urine</th>\n      <th colspan=\"3\" halign=\"left\">ph</th>\n      <th colspan=\"3\" halign=\"left\">ph urine</th>\n    </tr>\n    <tr>\n      <th></th>\n      <th></th>\n      <th></th>\n      <th>Aggregation Function</th>\n      <th>count</th>\n      <th>mean</th>\n      <th>std</th>\n      <th>count</th>\n      <th>mean</th>\n      <th>std</th>\n      <th>count</th>\n      <th>mean</th>\n      <th>std</th>\n      <th>count</th>\n      <th>...</th>\n      <th>std</th>\n      <th>count</th>\n      <th>mean</th>\n      <th>std</th>\n      <th>count</th>\n      <th>mean</th>\n      <th>std</th>\n      <th>count</th>\n      <th>mean</th>\n      <th>std</th>\n    </tr>\n    <tr>\n      <th>subject_id</th>\n      <th>hadm_id</th>\n      <th>icustay_id</th>\n      <th>hours_in</th>\n      <th></th>\n      <th></th>\n      <th></th>\n      <th></th>\n      <th></th>\n      <th></th>\n      <th></th>\n      <th></th>\n      <th></th>\n      <th></th>\n      <th></th>\n      <th></th>\n      <th></th>\n      <th></th>\n      <th></th>\n      <th></th>\n      <th></th>\n      <th></th>\n      <th></th>\n      <th></th>\n      <th></th>\n    </tr>\n  </thead>\n  <tbody>\n    <tr>\n      <th rowspan=\"5\" valign=\"top\">9</th>\n      <th rowspan=\"5\" valign=\"top\">150750</th>\n      <th rowspan=\"5\" valign=\"top\">220597</th>\n      <th>0</th>\n      <td>0.0</td>\n      <td>NaN</td>\n      <td>NaN</td>\n      <td>0.0</td>\n      <td>NaN</td>\n      <td>NaN</td>\n      <td>0.0</td>\n      <td>NaN</td>\n      <td>NaN</td>\n      <td>0.0</td>\n      <td>...</td>\n      <td>NaN</td>\n      <td>0.0</td>\n      <td>NaN</td>\n      <td>NaN</td>\n      <td>0.0</td>\n      <td>NaN</td>\n      <td>NaN</td>\n      <td>1.0</td>\n      <td>8.0</td>\n      <td>NaN</td>\n    </tr>\n    <tr>\n      <th>1</th>\n      <td>0.0</td>\n      <td>NaN</td>\n      <td>NaN</td>\n      <td>0.0</td>\n      <td>NaN</td>\n      <td>NaN</td>\n      <td>0.0</td>\n      <td>NaN</td>\n      <td>NaN</td>\n      <td>0.0</td>\n      <td>...</td>\n      <td>NaN</td>\n      <td>0.0</td>\n      <td>NaN</td>\n      <td>NaN</td>\n      <td>0.0</td>\n      <td>NaN</td>\n      <td>NaN</td>\n      <td>0.0</td>\n      <td>NaN</td>\n      <td>NaN</td>\n    </tr>\n    <tr>\n      <th>2</th>\n      <td>0.0</td>\n      <td>NaN</td>\n      <td>NaN</td>\n      <td>0.0</td>\n      <td>NaN</td>\n      <td>NaN</td>\n      <td>0.0</td>\n      <td>NaN</td>\n      <td>NaN</td>\n      <td>0.0</td>\n      <td>...</td>\n      <td>NaN</td>\n      <td>0.0</td>\n      <td>NaN</td>\n      <td>NaN</td>\n      <td>0.0</td>\n      <td>NaN</td>\n      <td>NaN</td>\n      <td>0.0</td>\n      <td>NaN</td>\n      <td>NaN</td>\n    </tr>\n    <tr>\n      <th>3</th>\n      <td>0.0</td>\n      <td>NaN</td>\n      <td>NaN</td>\n      <td>0.0</td>\n      <td>NaN</td>\n      <td>NaN</td>\n      <td>0.0</td>\n      <td>NaN</td>\n      <td>NaN</td>\n      <td>0.0</td>\n      <td>...</td>\n      <td>NaN</td>\n      <td>0.0</td>\n      <td>NaN</td>\n      <td>NaN</td>\n      <td>0.0</td>\n      <td>NaN</td>\n      <td>NaN</td>\n      <td>0.0</td>\n      <td>NaN</td>\n      <td>NaN</td>\n    </tr>\n    <tr>\n      <th>4</th>\n      <td>0.0</td>\n      <td>NaN</td>\n      <td>NaN</td>\n      <td>0.0</td>\n      <td>NaN</td>\n      <td>NaN</td>\n      <td>0.0</td>\n      <td>NaN</td>\n      <td>NaN</td>\n      <td>0.0</td>\n      <td>...</td>\n      <td>NaN</td>\n      <td>0.0</td>\n      <td>NaN</td>\n      <td>NaN</td>\n      <td>3.0</td>\n      <td>7.39</td>\n      <td>0.0</td>\n      <td>0.0</td>\n      <td>NaN</td>\n      <td>NaN</td>\n    </tr>\n    <tr>\n      <th>...</th>\n      <th>...</th>\n      <th>...</th>\n      <th>...</th>\n      <td>...</td>\n      <td>...</td>\n      <td>...</td>\n      <td>...</td>\n      <td>...</td>\n      <td>...</td>\n      <td>...</td>\n      <td>...</td>\n      <td>...</td>\n      <td>...</td>\n      <td>...</td>\n      <td>...</td>\n      <td>...</td>\n      <td>...</td>\n      <td>...</td>\n      <td>...</td>\n      <td>...</td>\n      <td>...</td>\n      <td>...</td>\n      <td>...</td>\n      <td>...</td>\n    </tr>\n    <tr>\n      <th rowspan=\"5\" valign=\"top\">99995</th>\n      <th rowspan=\"5\" valign=\"top\">137810</th>\n      <th rowspan=\"5\" valign=\"top\">229633</th>\n      <th>43</th>\n      <td>0.0</td>\n      <td>NaN</td>\n      <td>NaN</td>\n      <td>0.0</td>\n      <td>NaN</td>\n      <td>NaN</td>\n      <td>0.0</td>\n      <td>NaN</td>\n      <td>NaN</td>\n      <td>0.0</td>\n      <td>...</td>\n      <td>NaN</td>\n      <td>0.0</td>\n      <td>NaN</td>\n      <td>NaN</td>\n      <td>0.0</td>\n      <td>NaN</td>\n      <td>NaN</td>\n      <td>0.0</td>\n      <td>NaN</td>\n      <td>NaN</td>\n    </tr>\n    <tr>\n      <th>44</th>\n      <td>0.0</td>\n      <td>NaN</td>\n      <td>NaN</td>\n      <td>0.0</td>\n      <td>NaN</td>\n      <td>NaN</td>\n      <td>0.0</td>\n      <td>NaN</td>\n      <td>NaN</td>\n      <td>0.0</td>\n      <td>...</td>\n      <td>NaN</td>\n      <td>0.0</td>\n      <td>NaN</td>\n      <td>NaN</td>\n      <td>0.0</td>\n      <td>NaN</td>\n      <td>NaN</td>\n      <td>0.0</td>\n      <td>NaN</td>\n      <td>NaN</td>\n    </tr>\n    <tr>\n      <th>45</th>\n      <td>0.0</td>\n      <td>NaN</td>\n      <td>NaN</td>\n      <td>0.0</td>\n      <td>NaN</td>\n      <td>NaN</td>\n      <td>0.0</td>\n      <td>NaN</td>\n      <td>NaN</td>\n      <td>0.0</td>\n      <td>...</td>\n      <td>NaN</td>\n      <td>0.0</td>\n      <td>NaN</td>\n      <td>NaN</td>\n      <td>0.0</td>\n      <td>NaN</td>\n      <td>NaN</td>\n      <td>0.0</td>\n      <td>NaN</td>\n      <td>NaN</td>\n    </tr>\n    <tr>\n      <th>46</th>\n      <td>0.0</td>\n      <td>NaN</td>\n      <td>NaN</td>\n      <td>0.0</td>\n      <td>NaN</td>\n      <td>NaN</td>\n      <td>0.0</td>\n      <td>NaN</td>\n      <td>NaN</td>\n      <td>0.0</td>\n      <td>...</td>\n      <td>NaN</td>\n      <td>0.0</td>\n      <td>NaN</td>\n      <td>NaN</td>\n      <td>0.0</td>\n      <td>NaN</td>\n      <td>NaN</td>\n      <td>0.0</td>\n      <td>NaN</td>\n      <td>NaN</td>\n    </tr>\n    <tr>\n      <th>47</th>\n      <td>0.0</td>\n      <td>NaN</td>\n      <td>NaN</td>\n      <td>0.0</td>\n      <td>NaN</td>\n      <td>NaN</td>\n      <td>0.0</td>\n      <td>NaN</td>\n      <td>NaN</td>\n      <td>0.0</td>\n      <td>...</td>\n      <td>NaN</td>\n      <td>0.0</td>\n      <td>NaN</td>\n      <td>NaN</td>\n      <td>0.0</td>\n      <td>NaN</td>\n      <td>NaN</td>\n      <td>0.0</td>\n      <td>NaN</td>\n      <td>NaN</td>\n    </tr>\n  </tbody>\n</table>\n<p>554064 rows × 312 columns</p>\n</div>"
     },
     "execution_count": 29,
     "metadata": {},
     "output_type": "execute_result"
    }
   ],
   "source": [
    "vitals_train"
   ],
   "metadata": {
    "collapsed": false,
    "ExecuteTime": {
     "end_time": "2023-11-01T16:10:18.068626300Z",
     "start_time": "2023-11-01T16:10:15.970479300Z"
    }
   }
  },
  {
   "cell_type": "code",
   "execution_count": 33,
   "outputs": [],
   "source": [
    "save_to_pickle(df=vitals_train_imputed, filename=os.path.join(DATA_DIR, 'Vitals_train_raw.pkl'))\n",
    "save_to_pickle(df=vitals_dev_imputed, filename=os.path.join(DATA_DIR, 'Vitals_dev_raw.pkl'))\n",
    "save_to_pickle(df=vitals_test_imputed, filename=os.path.join(DATA_DIR, 'Vitals_test_raw.pkl'))\n",
    "\n",
    "# save_to_pickle(df=Ys_train, filename=os.path.join(DATA_DIR, 'Y_train_gru.pkl'))\n",
    "# save_to_pickle(df=Ys_dev, filename=os.path.join(DATA_DIR, 'Y_dev_gru.pkl'))\n",
    "# save_to_pickle(df=Ys_test, filename=os.path.join(DATA_DIR, 'Y_test_gru.pkl'))"
   ],
   "metadata": {
    "collapsed": false,
    "ExecuteTime": {
     "end_time": "2023-11-01T16:19:35.426198600Z",
     "start_time": "2023-11-01T16:19:28.880252900Z"
    }
   }
  }
 ],
 "metadata": {
  "kernelspec": {
   "display_name": "Python 3",
   "language": "python",
   "name": "python3"
  },
  "language_info": {
   "codemirror_mode": {
    "name": "ipython",
    "version": 2
   },
   "file_extension": ".py",
   "mimetype": "text/x-python",
   "name": "python",
   "nbconvert_exporter": "python",
   "pygments_lexer": "ipython2",
   "version": "2.7.6"
  }
 },
 "nbformat": 4,
 "nbformat_minor": 0
}
