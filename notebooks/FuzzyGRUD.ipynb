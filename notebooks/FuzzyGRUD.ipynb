{
 "cells": [
  {
   "cell_type": "code",
   "execution_count": 6,
   "metadata": {
    "colab": {
     "base_uri": "https://localhost:8080/"
    },
    "executionInfo": {
     "elapsed": 369,
     "status": "ok",
     "timestamp": 1703250088651,
     "user": {
      "displayName": "Denada Rama",
      "userId": "10706454551865269350"
     },
     "user_tz": 0
    },
    "id": "fqsb3rSQQHWe",
    "outputId": "dcd42bf1-f278-441d-a870-59b09f1ccbaf"
   },
   "outputs": [
    {
     "name": "stdout",
     "output_type": "stream",
     "text": [
      "The autoreload extension is already loaded. To reload it, use:\n",
      "  %reload_ext autoreload\n"
     ]
    }
   ],
   "source": [
    "import copy, math, os, pickle, time, pandas as pd, numpy as np, scipy.stats as ss\n",
    "\n",
    "from sklearn.metrics import average_precision_score, roc_auc_score, accuracy_score, f1_score\n",
    "\n",
    "import torch, torch.utils.data as utils, torch.nn as nn, torch.nn.functional as F, torch.optim as optim\n",
    "from torch.autograd import Variable\n",
    "from torch.nn.parameter import Parameter\n",
    "\n",
    "from config import (DATA_DIR, )\n",
    "from utils.eda import (load_from_pickle, save_to_pickle, append_results)\n",
    "\n",
    "import warnings\n",
    "warnings.filterwarnings('ignore')\n",
    "\n",
    "%load_ext autoreload\n",
    "%autoreload 2"
   ]
  },
  {
   "cell_type": "code",
   "execution_count": null,
   "outputs": [],
   "source": [
    "from src.models.grud_model import *"
   ],
   "metadata": {
    "collapsed": false
   }
  },
  {
   "cell_type": "code",
   "execution_count": null,
   "metadata": {
    "id": "7MOcg1_6Koht"
   },
   "outputs": [],
   "source": [
    "%%time\n",
    "X_train = load_from_pickle(f'{DATA_DIR}vitals_train.pkl')\n",
    "X_dev = load_from_pickle(f'{DATA_DIR}vitals_dev.pkl')\n",
    "X_test = load_from_pickle(f'{DATA_DIR}vitals_test.pkl')\n",
    "\n",
    "Ys_train = load_from_pickle(f'{DATA_DIR}Ys_train.pkl')\n",
    "Ys_dev = load_from_pickle(f'{DATA_DIR}Ys_dev.pkl')\n",
    "Ys_test = load_from_pickle(f'{DATA_DIR}Ys_test.pkl')"
   ]
  },
  {
   "cell_type": "code",
   "execution_count": null,
   "metadata": {
    "id": "ECI9Q0kpLFTp"
   },
   "outputs": [],
   "source": [
    "GAP_TIME          = 0  # In hours\n",
    "WINDOW_SIZE       = 24 # In hours\n",
    "SEED              = 42\n",
    "ID_COLS           = ['subject_id', 'hadm_id', 'icustay_id']\n",
    "GPU               = '2'\n",
    "EARLY_STOP_FRAC = 0.1\n",
    "\n",
    "# os.environ['CUDA_VISIBLE_DEVICES'] = GPU\n",
    "torch.manual_seed(SEED)\n",
    "np.random.seed(SEED)"
   ]
  },
  {
   "cell_type": "code",
   "execution_count": 82,
   "metadata": {
    "executionInfo": {
     "elapsed": 369,
     "status": "ok",
     "timestamp": 1703263213786,
     "user": {
      "displayName": "Denada Rama",
      "userId": "10706454551865269350"
     },
     "user_tz": 0
    },
    "id": "CnQJ3gE0outt"
   },
   "outputs": [],
   "source": [
    "from itertools import product\n",
    "\n",
    "# Define the parameter grid\n",
    "hidden_sizes = [32, 64, 128, 256]\n",
    "learning_rates = [0.0001, 0.0005, 0.001]\n",
    "batch_sizes = [32, 64, 128, 256, 512]\n",
    "\n",
    "# Placeholder for storing the results\n",
    "GRU_D_hyperparams_list = []\n",
    "\n",
    "# The fixed number of epochs for training\n",
    "num_epochs = 100\n",
    "patience = 10\n",
    "\n",
    "# Iterate over all combinations of hyperparameters\n",
    "for batch_size, hidden_size, learning_rate in product(batch_sizes, hidden_sizes, learning_rates):\n",
    "\n",
    "    GRU_D_hyperparams_list.append({\n",
    "        'hidden_size': int(hidden_size),\n",
    "        'learning_rate': learning_rate,\n",
    "        'batch_size': int(batch_size),\n",
    "        'patience': int(patience),\n",
    "        'num_epochs': int(num_epochs)\n",
    "    })\n",
    "full_results = []"
   ]
  },
  {
   "cell_type": "code",
   "execution_count": 83,
   "metadata": {
    "colab": {
     "base_uri": "https://localhost:8080/"
    },
    "executionInfo": {
     "elapsed": 367,
     "status": "ok",
     "timestamp": 1703263224214,
     "user": {
      "displayName": "Denada Rama",
      "userId": "10706454551865269350"
     },
     "user_tz": 0
    },
    "id": "RtXiojTLLicT",
    "outputId": "9c9913d7-ee86-49d5-8dcc-905defefe667"
   },
   "outputs": [
    {
     "data": {
      "text/plain": [
       "60"
      ]
     },
     "execution_count": 83,
     "metadata": {},
     "output_type": "execute_result"
    }
   ],
   "source": [
    "len(GRU_D_hyperparams_list)"
   ]
  },
  {
   "cell_type": "code",
   "execution_count": null,
   "metadata": {
    "colab": {
     "base_uri": "https://localhost:8080/"
    },
    "executionInfo": {
     "elapsed": 5757089,
     "status": "ok",
     "timestamp": 1702980876763,
     "user": {
      "displayName": "Denada Rama",
      "userId": "10706454551865269350"
     },
     "user_tz": 0
    },
    "id": "BrJ8sNpfLm5L",
    "outputId": "ca01db40-5cf0-4e5a-856c-182b129bdd21"
   },
   "outputs": [],
   "source": [
    "model_name       = 'GRU-D'\n",
    "tasks             = ['mort_hosp']\n",
    "hyperparams_list = GRU_D_hyperparams_list\n",
    "RERUN            = False\n",
    "\n",
    "if model_name not in full_results: full_results[model_name] = {}\n",
    "\n",
    "t = 'mort_hosp'\n",
    "if t not in full_results[model_name]: full_results[model_name][t] = {}\n",
    "n, X_train, X_dev, X_test = ('full_X', X_train, X_dev, X_test)\n",
    "print(\"Running model %s on target %s with representation %s\" % (model_name, t, n))\n",
    "X_mean = np.nanmean(\n",
    "    to_3D_tensor(\n",
    "        X_train.loc[:, pd.IndexSlice[:, 'mean']] *\n",
    "        np.where((X_train.loc[:, pd.IndexSlice[:, 'mask']] == 1).values, 1, np.NaN)\n",
    "    ),\n",
    "    axis=0, keepdims=True\n",
    ").transpose([0, 2, 1])\n",
    "base_params = {'X_mean': X_mean, 'output_last': True, 'input_size': X_mean.shape[2]}\n",
    "\n",
    "best_s, best_hyperparams = -np.Inf, None\n",
    "for i, hyperparams in enumerate(hyperparams_list):\n",
    "    hyperparams_print = \"On sample %d / %d (hyperparams = %s)\\n\" % (i+1, len(hyperparams_list), repr((hyperparams)))\n",
    "    print(hyperparams_print)\n",
    "    append_results(\"training_results.txt\", hyperparams_print)\n",
    "    batch_size = hyperparams['batch_size']\n",
    "\n",
    "    np.random.seed(SEED)\n",
    "    all_train_subjects = list(\n",
    "        np.random.permutation(Ys_train.index.get_level_values('subject_id').values)\n",
    "    )\n",
    "    N_early_stop        = int(len(all_train_subjects) * EARLY_STOP_FRAC)\n",
    "    train_subjects      = all_train_subjects[:-N_early_stop]\n",
    "    early_stop_subjects = all_train_subjects[-N_early_stop:]\n",
    "    X_train_obs         = X_train[X_train.index.get_level_values('subject_id').isin(train_subjects)]\n",
    "    Ys_train_obs        = Ys_train[Ys_train.index.get_level_values('subject_id').isin(train_subjects)]\n",
    "\n",
    "    X_train_early_stop  = X_train[X_train.index.get_level_values('subject_id').isin(early_stop_subjects)]\n",
    "    Ys_train_early_stop = Ys_train[\n",
    "        Ys_train.index.get_level_values('subject_id').isin(early_stop_subjects)\n",
    "    ]\n",
    "\n",
    "    train_dataloader      = prepare_dataloader(X_train_obs, Ys_train_obs[t], batch_size=batch_size)\n",
    "    early_stop_dataloader = prepare_dataloader(\n",
    "        X_train_early_stop, Ys_train_early_stop[t], batch_size=batch_size\n",
    "    )\n",
    "    dev_dataloader        = prepare_dataloader(X_dev, Ys_dev[t], batch_size=batch_size)\n",
    "    test_dataloader       = prepare_dataloader(X_test, Ys_test[t], batch_size=batch_size)\n",
    "\n",
    "    model_hyperparams = copy.copy(base_params)\n",
    "    model_hyperparams.update(\n",
    "        {k: v for k, v in hyperparams.items() if k in ('hidden_size', 'batch_size')}   # removed cell_size\n",
    "    )\n",
    "\n",
    "    model = GRUD(**model_hyperparams)\n",
    "\n",
    "    best_model, _ = Train_Model(\n",
    "        model, train_dataloader, early_stop_dataloader,\n",
    "        **{k: v for k, v in hyperparams.items() if k in (\n",
    "            'num_epochs', 'patience', 'learning_rate', 'batch_size'\n",
    "        )}\n",
    "    )\n",
    "\n",
    "    probabilities_dev, labels_dev = predict_proba(best_model, dev_dataloader)\n",
    "    probabilities_dev = np.concatenate(probabilities_dev)[:, 1]\n",
    "    labels_dev        = np.concatenate(labels_dev)\n",
    "    s = roc_auc_score(labels_dev, probabilities_dev)\n",
    "    if s > best_s:\n",
    "        best_s, best_hyperparams = s, hyperparams\n",
    "        print(\"New Best Score: %.2f @ hyperparams = %s\" % (100*best_s, repr((best_hyperparams))))\n",
    "    append_results(\"training_results.txt\", \"\\n\")"
   ]
  },
  {
   "cell_type": "code",
   "execution_count": null,
   "metadata": {
    "colab": {
     "base_uri": "https://localhost:8080/"
    },
    "executionInfo": {
     "elapsed": 590,
     "status": "ok",
     "timestamp": 1703180842385,
     "user": {
      "displayName": "Denada Rama",
      "userId": "10706454551865269350"
     },
     "user_tz": 0
    },
    "id": "wP3xOJ3jTKUN",
    "outputId": "fd17f675-f674-4133-a3d5-f2ff43dd3585"
   },
   "outputs": [
    {
     "data": {
      "text/plain": [
       "{'hidden_size': 128,\n",
       " 'learning_rate': 0.0005,\n",
       " 'batch_size': 128,\n",
       " 'patience': 10,\n",
       " 'num_epochs': 100}"
      ]
     },
     "execution_count": 7,
     "metadata": {},
     "output_type": "execute_result"
    }
   ],
   "source": [
    "# best hyperparameters after training\n",
    "best_hyperparams = load_from_pickle('best_hyperparams.pkl')\n",
    "best_hyperparams"
   ]
  },
  {
   "cell_type": "code",
   "execution_count": null,
   "metadata": {
    "id": "NUMNcwVQTU05"
   },
   "outputs": [],
   "source": [
    "# Train the final model\n",
    "t = 'mort_hosp'\n",
    "np.random.seed(1)\n",
    "batch_size = best_hyperparams['batch_size']\n",
    "\n",
    "X_train_concat, Ys_train_concat = pd.concat((X_train, X_dev)), pd.concat((Ys_train, Ys_dev))\n",
    "\n",
    "X_mean_concat = np.nanmean(\n",
    "    to_3D_tensor(\n",
    "        X_train_concat.loc[:, pd.IndexSlice[:, 'mean']] *\n",
    "        np.where((X_train_concat.loc[:, pd.IndexSlice[:, 'mask']] == 1).values, 1, np.NaN)\n",
    "    ),\n",
    "    axis=0, keepdims=True\n",
    ").transpose([0, 2, 1])\n",
    "final_base_params = {'X_mean': X_mean_concat, 'output_last': True, 'input_size': X_mean_concat.shape[2]}\n",
    "\n",
    "train_dataloader      = prepare_dataloader(X_train_concat, Ys_train_concat[t], batch_size=batch_size)\n",
    "test_dataloader       = prepare_dataloader(X_test, Ys_test[t], batch_size=batch_size)\n",
    "\n",
    "model_hyperparams = copy.copy(final_base_params)\n",
    "model_hyperparams.update(\n",
    "    {k: v for k, v in best_hyperparams.items() if k in ('hidden_size', 'batch_size')}\n",
    ")"
   ]
  },
  {
   "cell_type": "code",
   "execution_count": null,
   "metadata": {
    "id": "-YtwzJdqemmQ"
   },
   "outputs": [],
   "source": [
    "model = GRUD(**model_hyperparams)\n",
    "trained_model = run_only_final(model, train_dataloader, best_hyperparams)\n",
    "torch.save(trained_model.state_dict(), 'trained_model_org.pth')"
   ]
  },
  {
   "cell_type": "markdown",
   "metadata": {
    "id": "8wW7oXb8Q5U8"
   },
   "source": [
    "### Step 3 - Feature Importance"
   ]
  },
  {
   "cell_type": "markdown",
   "metadata": {
    "id": "vcPK-9JFsfXO"
   },
   "source": [
    "---"
   ]
  },
  {
   "cell_type": "code",
   "execution_count": 9,
   "metadata": {
    "colab": {
     "base_uri": "https://localhost:8080/"
    },
    "executionInfo": {
     "elapsed": 5967,
     "status": "ok",
     "timestamp": 1703250131505,
     "user": {
      "displayName": "Denada Rama",
      "userId": "10706454551865269350"
     },
     "user_tz": 0
    },
    "id": "P0KYxyvwsrJy",
    "outputId": "b8d528e2-b6b4-489f-d958-062bf1be75b2"
   },
   "outputs": [
    {
     "data": {
      "text/plain": [
       "GRUD(\n",
       "  (zl): Linear(in_features=206, out_features=128, bias=True)\n",
       "  (rl): Linear(in_features=206, out_features=128, bias=True)\n",
       "  (hl): Linear(in_features=206, out_features=128, bias=True)\n",
       "  (gamma_x_l): FilterLinear(in_features=39, out_features=39, bias=True)\n",
       "  (gamma_h_l): Linear(in_features=39, out_features=128, bias=True)\n",
       "  (fc): Linear(in_features=128, out_features=2, bias=True)\n",
       "  (bn): BatchNorm1d(2, eps=1e-05, momentum=0.1, affine=True, track_running_stats=True)\n",
       "  (drop): Dropout(p=0.5, inplace=False)\n",
       ")"
      ]
     },
     "execution_count": 9,
     "metadata": {},
     "output_type": "execute_result"
    }
   ],
   "source": [
    "t = 'mort_hosp'\n",
    "np.random.seed(1)\n",
    "batch_size = best_hyperparams['batch_size']\n",
    "\n",
    "X_train_concat, Ys_train_concat = pd.concat((X_train, X_dev)), pd.concat((Ys_train, Ys_dev))\n",
    "\n",
    "X_mean_concat = np.nanmean(\n",
    "    to_3D_tensor(\n",
    "        X_train_concat.loc[:, pd.IndexSlice[:, 'mean']] *\n",
    "        np.where((X_train_concat.loc[:, pd.IndexSlice[:, 'mask']] == 1).values, 1, np.NaN)\n",
    "    ),\n",
    "    axis=0, keepdims=True\n",
    ").transpose([0, 2, 1])\n",
    "final_base_params = {'X_mean': X_mean_concat, 'output_last': True, 'input_size': X_mean_concat.shape[2]}\n",
    "\n",
    "train_dataloader      = prepare_dataloader(X_train_concat, Ys_train_concat[t], batch_size=batch_size)\n",
    "test_dataloader       = prepare_dataloader(X_test, Ys_test[t], batch_size=batch_size)\n",
    "\n",
    "model_hyperparams = copy.copy(final_base_params)\n",
    "model_hyperparams.update(\n",
    "    {k: v for k, v in best_hyperparams.items() if k in ('hidden_size', 'batch_size')}\n",
    ")\n",
    "\n",
    "# Load the trained model's state dictionary\n",
    "model = GRUD(**model_hyperparams)\n",
    "model.load_state_dict(torch.load('trained_model_org.pth'))\n",
    "model.eval()"
   ]
  },
  {
   "cell_type": "code",
   "execution_count": 10,
   "metadata": {
    "executionInfo": {
     "elapsed": 397,
     "status": "ok",
     "timestamp": 1703250139963,
     "user": {
      "displayName": "Denada Rama",
      "userId": "10706454551865269350"
     },
     "user_tz": 0
    },
    "id": "pTpxSb4zsyy6"
   },
   "outputs": [],
   "source": [
    "def process_dataset(X, from_batch=False):\n",
    "    if from_batch:\n",
    "      X = X.numpy()\n",
    "    mask = X[:, np.arange(0, X.shape[1], 3), :]\n",
    "    measurement = X[:, np.arange(1, X.shape[1], 3), :]\n",
    "    time_ = X[:, np.arange(2, X.shape[1], 3), :]\n",
    "\n",
    "    # Transpose to match the model's expected input format\n",
    "    mask = torch.transpose(torch.from_numpy(mask.astype(np.float32)), 1, 2)\n",
    "    measurement = torch.transpose(torch.from_numpy(measurement.astype(np.float32)), 1, 2)\n",
    "    time_ = torch.transpose(torch.from_numpy(time_.astype(np.float32)), 1, 2)\n",
    "\n",
    "    # Prepare the last observed measurement\n",
    "    measurement_last_obsv = measurement.clone()\n",
    "\n",
    "    return measurement, measurement_last_obsv, mask, time_"
   ]
  },
  {
   "cell_type": "code",
   "execution_count": 11,
   "metadata": {
    "executionInfo": {
     "elapsed": 2,
     "status": "ok",
     "timestamp": 1703250146610,
     "user": {
      "displayName": "Denada Rama",
      "userId": "10706454551865269350"
     },
     "user_tz": 0
    },
    "id": "Mfuo05CigCAR"
   },
   "outputs": [],
   "source": [
    "def gradient_shap_attributions(model, train_dataloader):\n",
    "    all_attributions = []\n",
    "\n",
    "    for batch_idx, (X_batch, labels_batch) in enumerate(train_dataloader):\n",
    "        # Process the actual data to match your model's input format\n",
    "        background_data_processed = process_dataset(X_batch, from_batch=True)\n",
    "        inputs = [background_data_processed[0], background_data_processed[1], background_data_processed[2], background_data_processed[3]]\n",
    "\n",
    "        explainer = shap.GradientExplainer(model, inputs)\n",
    "        shap_values = explainer.shap_values(inputs)\n",
    "\n",
    "        all_attributions.append(shap_values)\n",
    "\n",
    "    return all_attributions"
   ]
  },
  {
   "cell_type": "code",
   "execution_count": null,
   "metadata": {
    "id": "cqjidFY8CNVD"
   },
   "outputs": [],
   "source": [
    "# # Info about all_attributions:\n",
    "# len(all_attributions): 109 (number of batches)\n",
    "# len(all_attributions[0]): 2 (number of class labels/predictions)\n",
    "# len(all_attributions[0][0]): 4 (number of inputs in the model: measurement (the measurement imputed), measurement_last_obsv (the last actually measured value), mask (indicator if measurement is measured at this time), time_ (time since it was last measured)\n",
    "# len(all_attributions[0][0][0]): 128 (batch size)\n",
    "# len(all_attributions[0][0][0][0]): 48 (number of hours - first 48 hours of admission)\n",
    "# len(all_attributions[0][0][0][0][0]): 39 (number of features - vital signs)"
   ]
  },
  {
   "cell_type": "code",
   "execution_count": null,
   "metadata": {
    "id": "6P-SfduQSqZv"
   },
   "outputs": [],
   "source": [
    "# Compute attributions for each batch and aggregate\n",
    "all_attributions = gradient_shap_attributions(model, train_dataloader)\n",
    "save_to_pickle(all_attributions, '/content/drive/My Drive/Colab Notebooks/shap_attributions.pkl')"
   ]
  },
  {
   "cell_type": "code",
   "execution_count": null,
   "metadata": {
    "id": "Ak10UBe_3LaW"
   },
   "outputs": [],
   "source": [
    "import shap"
   ]
  },
  {
   "cell_type": "code",
   "execution_count": null,
   "metadata": {
    "colab": {
     "base_uri": "https://localhost:8080/",
     "height": 574
    },
    "executionInfo": {
     "elapsed": 1628,
     "status": "ok",
     "timestamp": 1703241091100,
     "user": {
      "displayName": "Denada Rama",
      "userId": "10706454551865269350"
     },
     "user_tz": 0
    },
    "id": "H7i57Q0L0ZWe",
    "outputId": "d392c454-029e-4b07-b6e7-ea1d019162dd"
   },
   "outputs": [
    {
     "data": {
      "image/png": "[encoded data removed]",
      "text/plain": [
       "<Figure size 800x550 with 1 Axes>"
      ]
     },
     "metadata": {},
     "output_type": "display_data"
    },
    {
     "data": {
      "text/plain": [
       "<Figure size 640x480 with 0 Axes>"
      ]
     },
     "metadata": {},
     "output_type": "display_data"
    }
   ],
   "source": [
    "feature_names = X_train.columns.get_level_values(0).unique().tolist()\n",
    "\n",
    "# all_attributions = load_from_pickle('shap_attributions.pkl')\n",
    "\n",
    "aggregate_shap = [np.mean([batch[i][j] for batch in all_attributions], axis=0) for i in range(2) for j in range(4)]\n",
    "# Example: Averaging SHAP values over time steps for the first input of class 0\n",
    "average_shap_values = np.mean(aggregate_shap[0], axis=1)  # Averaging over time steps\n",
    "\n",
    "# Visualizing feature importance\n",
    "shap.summary_plot(average_shap_values, features=feature_names, plot_type='dot', alpha=0.5, plot_size=[12,8], max_display=10, show=False)\n",
    "plt.savefig('shap_values.png')\n",
    "top_features = ['heart rate', 'pulmonary artery pressure systolic', 'diastolic blood pressure', 'oxygen saturation', 'systolic blood pressure',\n",
    "                'fraction inspired oxygen set', 'mean blood pressure', 'temperature', 'respiratory rate', 'hematocrit']\n",
    "# save_to_pickle(average_shap_values, '/content/drive/My Drive/Colab Notebooks/average_shap_values.pkl')\n",
    "# save_to_pickle(top_features, '/content/drive/My Drive/Colab Notebooks/shap_top_features.pkl')"
   ]
  },
  {
   "cell_type": "code",
   "execution_count": 13,
   "metadata": {
    "executionInfo": {
     "elapsed": 32593,
     "status": "ok",
     "timestamp": 1703250213175,
     "user": {
      "displayName": "Denada Rama",
      "userId": "10706454551865269350"
     },
     "user_tz": 0
    },
    "id": "yHkBj5yb4Hbp"
   },
   "outputs": [],
   "source": [
    "all_attributions = load_from_pickle('shap_attributions.pkl')\n",
    "average_shap_values = load_from_pickle('average_shap_values.pkl')\n",
    "top_features = load_from_pickle('shap_top_features.pkl')"
   ]
  },
  {
   "cell_type": "code",
   "execution_count": null,
   "metadata": {
    "colab": {
     "base_uri": "https://localhost:8080/"
    },
    "executionInfo": {
     "elapsed": 330,
     "status": "ok",
     "timestamp": 1703249619127,
     "user": {
      "displayName": "Denada Rama",
      "userId": "10706454551865269350"
     },
     "user_tz": 0
    },
    "id": "0ZuaUVOAloDx",
    "outputId": "f533abc2-e2de-4e69-af88-f5bd04dcba6b"
   },
   "outputs": [
    {
     "data": {
      "text/plain": [
       "109"
      ]
     },
     "execution_count": 27,
     "metadata": {},
     "output_type": "execute_result"
    }
   ],
   "source": [
    "len(all_attributions)"
   ]
  },
  {
   "cell_type": "code",
   "execution_count": null,
   "metadata": {
    "id": "nXUBWl3ze-WT"
   },
   "outputs": [],
   "source": [
    "import skfuzzy as fuzz"
   ]
  },
  {
   "cell_type": "code",
   "execution_count": 15,
   "metadata": {
    "executionInfo": {
     "elapsed": 3433,
     "status": "ok",
     "timestamp": 1703250247862,
     "user": {
      "displayName": "Denada Rama",
      "userId": "10706454551865269350"
     },
     "user_tz": 0
    },
    "id": "2ilgrMENeC8X"
   },
   "outputs": [],
   "source": [
    "thresholds_df = pd.read_csv('threshold_stats.csv')\n",
    "thresholds_df.drop(columns=['Unnamed: 0'], inplace=True)\n",
    "train_min_df = load_from_pickle('train_min.pkl')\n",
    "train_max_df = load_from_pickle('train_max.pkl')"
   ]
  },
  {
   "cell_type": "code",
   "execution_count": null,
   "metadata": {
    "colab": {
     "base_uri": "https://localhost:8080/"
    },
    "executionInfo": {
     "elapsed": 4037,
     "status": "ok",
     "timestamp": 1703187531001,
     "user": {
      "displayName": "Denada Rama",
      "userId": "10706454551865269350"
     },
     "user_tz": 0
    },
    "id": "rOIdSRkCUP9k",
    "outputId": "b46a87d8-e8db-43f1-a877-d3002ab65fae"
   },
   "outputs": [
    {
     "data": {
      "text/plain": [
       "13952"
      ]
     },
     "execution_count": 49,
     "metadata": {},
     "output_type": "execute_result"
    }
   ],
   "source": [
    "patient_shap_values = aggregate_shap_values(all_attributions)\n",
    "len(patient_shap_values)"
   ]
  },
  {
   "cell_type": "markdown",
   "metadata": {
    "id": "JJN0hNjVXYqw"
   },
   "source": [
    "###  Calculate SHAP Values for Top Features"
   ]
  },
  {
   "cell_type": "code",
   "execution_count": null,
   "metadata": {
    "id": "kue_F3foXf91"
   },
   "outputs": [],
   "source": [
    "# Calculate SHAP values for the test dataset\n",
    "test_shap_values = gradient_shap_attributions(model, test_dataloader)\n",
    "\n",
    "# Aggregate SHAP values per patient\n",
    "test_patient_shap_values = aggregate_shap_values(test_shap_values, batch_size=128)"
   ]
  },
  {
   "cell_type": "code",
   "execution_count": null,
   "metadata": {
    "id": "qrCdxvyXsDxi"
   },
   "outputs": [],
   "source": [
    "save_to_pickle(test_patient_shap_values, '/content/drive/My Drive/Colab Notebooks/test_patient_shap_values.pkl')"
   ]
  },
  {
   "cell_type": "code",
   "execution_count": null,
   "metadata": {
    "colab": {
     "base_uri": "https://localhost:8080/"
    },
    "executionInfo": {
     "elapsed": 991,
     "status": "ok",
     "timestamp": 1702329760087,
     "user": {
      "displayName": "Denada Rama",
      "userId": "10706454551865269350"
     },
     "user_tz": 0
    },
    "id": "V1nrOJw4X5bh",
    "outputId": "4eae80a7-514b-4257-8017-205d38c581f8"
   },
   "outputs": [
    {
     "data": {
      "text/plain": [
       "(3456, 39)"
      ]
     },
     "execution_count": 47,
     "metadata": {},
     "output_type": "execute_result"
    }
   ],
   "source": [
    "X_test_agg = prepare_dataset_for_rules(X_test)\n",
    "X_test_agg = X_test_agg.iloc[:len(test_dataloader)*128, :]\n",
    "X_test_agg.shape"
   ]
  },
  {
   "cell_type": "markdown",
   "metadata": {
    "id": "Ftn-w14j7n_n"
   },
   "source": [
    "---\n"
   ]
  },
  {
   "cell_type": "markdown",
   "metadata": {
    "id": "nGaGBYiD7rEW"
   },
   "source": [
    "## Building the Data Base"
   ]
  },
  {
   "cell_type": "code",
   "execution_count": 16,
   "metadata": {
    "executionInfo": {
     "elapsed": 850,
     "status": "ok",
     "timestamp": 1703250271967,
     "user": {
      "displayName": "Denada Rama",
      "userId": "10706454551865269350"
     },
     "user_tz": 0
    },
    "id": "4FMjji8JN3IX"
   },
   "outputs": [],
   "source": [
    "def prepare_dataset_for_rules(df):\n",
    "  X_agg = df.groupby(level='subject_id').mean()\n",
    "  features = [feature for feature in X_agg.columns.get_level_values(0).unique() if 'mean' in X_agg[feature].columns]\n",
    "  X_agg = X_agg.loc[:, (features, 'mean')]\n",
    "  return X_agg\n",
    "\n",
    "\n",
    "X_agg = prepare_dataset_for_rules(X_train_concat)\n",
    "X_agg = X_agg.iloc[:len(train_dataloader)*128, :]"
   ]
  },
  {
   "cell_type": "code",
   "execution_count": 17,
   "metadata": {
    "executionInfo": {
     "elapsed": 360,
     "status": "ok",
     "timestamp": 1703250274468,
     "user": {
      "displayName": "Denada Rama",
      "userId": "10706454551865269350"
     },
     "user_tz": 0
    },
    "id": "IFKpgrHicCeu"
   },
   "outputs": [],
   "source": [
    "def get_fuzzy_label(value, mf_definitions):\n",
    "    # Assuming mf_definitions is a dictionary of membership functions for a feature\n",
    "    highest_membership = 0\n",
    "    label = None\n",
    "    scaled_universe = np.linspace(0, 1, 1000)\n",
    "    for mf_label, mf_function in mf_definitions.items():\n",
    "        membership_degree = fuzz.interp_membership(scaled_universe, mf_function, value)\n",
    "        if membership_degree >= highest_membership:\n",
    "            highest_membership = membership_degree\n",
    "            label = mf_label  # label is a string like 'Low', 'Medium', 'High'\n",
    "    return label"
   ]
  },
  {
   "cell_type": "code",
   "execution_count": 18,
   "metadata": {
    "executionInfo": {
     "elapsed": 5,
     "status": "ok",
     "timestamp": 1703250277277,
     "user": {
      "displayName": "Denada Rama",
      "userId": "10706454551865269350"
     },
     "user_tz": 0
    },
    "id": "BNkcoaRQY289"
   },
   "outputs": [],
   "source": [
    "def aggregate_shap_values(all_attributions, batch_size=128):\n",
    "  # Reshape and aggregate SHAP values per patient - the average SHAP value for each feature for each patient\n",
    "  patient_shap_values = np.zeros((len(all_attributions) * batch_size, 39))  # Assuming 39 features\n",
    "\n",
    "  for batch_idx, batch in enumerate(all_attributions):\n",
    "      for patient_idx in range(batch_size):  # Batch size\n",
    "          # Aggregate across time steps for each feature\n",
    "          for feature_idx in range(39):\n",
    "              patient_shap_values[batch_idx * batch_size + patient_idx, feature_idx] = np.mean(batch[0][0][patient_idx, :, feature_idx])\n",
    "  return patient_shap_values"
   ]
  },
  {
   "cell_type": "code",
   "execution_count": 19,
   "metadata": {
    "executionInfo": {
     "elapsed": 374,
     "status": "ok",
     "timestamp": 1703250281989,
     "user": {
      "displayName": "Denada Rama",
      "userId": "10706454551865269350"
     },
     "user_tz": 0
    },
    "id": "09Fh60xX7pE-"
   },
   "outputs": [],
   "source": [
    "# Function to apply Min-Max scaling with clipping\n",
    "def minmax_scaling_with_clipping(X, feature_min, feature_max):\n",
    "    return np.clip((X - feature_min) / (feature_max - feature_min), 0, 1)\n",
    "\n",
    "# Create a dictionary to hold the membership function parameters for each feature\n",
    "mf_parameters = {}\n",
    "\n",
    "for index, row in thresholds_df.iterrows():\n",
    "    feature = row['measurement']\n",
    "    normal_min = row['normal min']\n",
    "    normal_high = row['normal high']\n",
    "    valid_low = row['valid low']\n",
    "    valid_high = row['valid high']\n",
    "    train_min = train_min_df[feature][0]\n",
    "    train_max = train_max_df[feature][0]\n",
    "\n",
    "    # Scale the thresholds using the Min-Max scaling factors derived from the training data\n",
    "    scaled_normal_min = minmax_scaling_with_clipping(normal_min, train_min, train_max)\n",
    "    scaled_normal_high = minmax_scaling_with_clipping(normal_high, train_min, train_max)\n",
    "    scaled_valid_low = minmax_scaling_with_clipping(valid_low, train_min, train_max)\n",
    "    scaled_valid_high = minmax_scaling_with_clipping(valid_high, train_min, train_max)\n",
    "\n",
    "    # Store the parameters for the MFs\n",
    "    mf_parameters[feature] = {\n",
    "        'Low': [scaled_valid_low, scaled_valid_low, scaled_normal_min],\n",
    "        'Normal': [scaled_normal_min, (scaled_normal_min + scaled_normal_high) / 2, scaled_normal_high],\n",
    "        'High': [scaled_normal_high, scaled_valid_high, scaled_valid_high]\n",
    "    }"
   ]
  },
  {
   "cell_type": "code",
   "execution_count": null,
   "metadata": {
    "id": "ETXk4h1m744I"
   },
   "outputs": [],
   "source": [
    "# Now, let's define the membership functions using scikit-fuzzy\n",
    "def define_membership_functions(mf_params):\n",
    "    mf_definitions = {}\n",
    "    universe = np.linspace(0, 1, 1000)  # Define a universe of discourse\n",
    "\n",
    "    for feature, params in mf_params.items():\n",
    "        low_params = params['Low']\n",
    "        normal_params = params['Normal']\n",
    "        high_params = params['High']\n",
    "\n",
    "        # Use skfuzzy to create triangular MFs\n",
    "        low_mf = fuzz.trimf(universe, low_params)\n",
    "        normal_mf = fuzz.trimf(universe, normal_params)\n",
    "        high_mf = fuzz.trimf(universe, high_params)\n",
    "\n",
    "        # Store the MFs in a dictionary\n",
    "        mf_definitions[feature] = {\n",
    "            'Low': low_mf,\n",
    "            'Normal': normal_mf,\n",
    "            'High': high_mf\n",
    "        }\n",
    "    return mf_definitions, universe\n",
    "\n",
    "mf_definitions, universe_of_discourse = define_membership_functions(mf_parameters)"
   ]
  },
  {
   "cell_type": "code",
   "execution_count": 37,
   "metadata": {
    "colab": {
     "base_uri": "https://localhost:8080/"
    },
    "executionInfo": {
     "elapsed": 405,
     "status": "ok",
     "timestamp": 1703250792496,
     "user": {
      "displayName": "Denada Rama",
      "userId": "10706454551865269350"
     },
     "user_tz": 0
    },
    "id": "tz80CB5XpxVv",
    "outputId": "b0ca3aa8-c205-4f17-de12-f34cf5c65c27"
   },
   "outputs": [
    {
     "data": {
      "text/plain": [
       "1000"
      ]
     },
     "execution_count": 37,
     "metadata": {},
     "output_type": "execute_result"
    }
   ],
   "source": [
    "len(mf_definitions['heart rate']['Normal'])"
   ]
  },
  {
   "cell_type": "code",
   "execution_count": null,
   "metadata": {
    "id": "grz4LWE0mJCJ"
   },
   "outputs": [],
   "source": [
    "mf_definitions"
   ]
  },
  {
   "cell_type": "code",
   "execution_count": null,
   "metadata": {
    "id": "0grhCsra8T-8"
   },
   "outputs": [],
   "source": [
    "save_to_pickle(mf_parameters, 'mf_parameters.pkl')\n",
    "save_to_pickle(mf_definitions, 'mf_definitions.pkl')\n",
    "save_to_pickle(universe_of_discourse, 'universe_of_discourse.pkl')"
   ]
  },
  {
   "cell_type": "code",
   "execution_count": 21,
   "metadata": {
    "executionInfo": {
     "elapsed": 2423,
     "status": "ok",
     "timestamp": 1703250386409,
     "user": {
      "displayName": "Denada Rama",
      "userId": "10706454551865269350"
     },
     "user_tz": 0
    },
    "id": "1rU67zFdoOFk"
   },
   "outputs": [],
   "source": [
    "mf_definitions = load_from_pickle('mf_definitions.pkl')\n",
    "mf_parameters = load_from_pickle('mf_parameters.pkl')\n",
    "universe_of_discourse = load_from_pickle('universe_of_discourse.pkl')"
   ]
  },
  {
   "cell_type": "code",
   "execution_count": 27,
   "metadata": {
    "colab": {
     "base_uri": "https://localhost:8080/"
    },
    "executionInfo": {
     "elapsed": 359,
     "status": "ok",
     "timestamp": 1703250506428,
     "user": {
      "displayName": "Denada Rama",
      "userId": "10706454551865269350"
     },
     "user_tz": 0
    },
    "id": "FkRsxps9omwG",
    "outputId": "26d54241-f96e-417e-adb4-06b15f80bc62"
   },
   "outputs": [
    {
     "data": {
      "text/plain": [
       "39"
      ]
     },
     "execution_count": 27,
     "metadata": {},
     "output_type": "execute_result"
    }
   ],
   "source": [
    "len(mf_definitions)"
   ]
  },
  {
   "cell_type": "code",
   "execution_count": 54,
   "metadata": {
    "colab": {
     "base_uri": "https://localhost:8080/",
     "height": 410
    },
    "executionInfo": {
     "elapsed": 1135,
     "status": "ok",
     "timestamp": 1703253176600,
     "user": {
      "displayName": "Denada Rama",
      "userId": "10706454551865269350"
     },
     "user_tz": 0
    },
    "id": "Qm681_qSw6la",
    "outputId": "26e2804a-d8e1-47df-e9f1-c46be6e227a7"
   },
   "outputs": [
    {
     "data": {
      "image/png": "[encoded data removed]",
      "text/plain": [
       "<Figure size 800x400 with 1 Axes>"
      ]
     },
     "metadata": {},
     "output_type": "display_data"
    }
   ],
   "source": [
    "import numpy as np\n",
    "import skfuzzy as fuzz\n",
    "import matplotlib.pyplot as plt\n",
    "\n",
    "# Define the universe of discourse\n",
    "universe = np.linspace(0, 1, 1000)\n",
    "\n",
    "# The provided scaled values for 'heart rate'\n",
    "low_params = mf_parameters['heart rate']['Low']\n",
    "normal_params = mf_parameters['heart rate']['Normal']\n",
    "high_params = mf_parameters['heart rate']['High']\n",
    "\n",
    "# Generate the membership functions\n",
    "low_mf = mf_definitions['heart rate']['Low']\n",
    "normal_mf = mf_definitions['heart rate']['Normal']\n",
    "high_mf = mf_definitions['heart rate']['High']\n",
    "\n",
    "# Plot the fuzzy membership functions\n",
    "plt.figure(figsize=(8, 4))\n",
    "\n",
    "plt.plot(universe, low_mf, 'b', linewidth=1.5, label='Low')\n",
    "plt.plot(universe, normal_mf, 'g', linewidth=1.5, label='Normal')\n",
    "plt.plot(universe, high_mf, 'r', linewidth=1.5, label='High')\n",
    "\n",
    "plt.title('Fuzzy Partitioning for Heart Rate')\n",
    "plt.ylabel('Membership degree')\n",
    "plt.xlabel('Scaled Heart Rate Value')\n",
    "plt.ylim(-0.1, 1.1)\n",
    "\n",
    "# Add the labels for 'Low', 'Medium', and 'High'\n",
    "plt.text(0.1, 1.05, 'Low', ha='center', fontsize=10)\n",
    "plt.text(0.5, 1.05, 'Normal', ha='center', fontsize=10)\n",
    "plt.text(0.9, 1.05, 'High', ha='center', fontsize=10)\n",
    "\n",
    "# Add the vertical lines for the universe of discourse boundaries\n",
    "plt.axvline(x=0, color='k', linestyle='--')\n",
    "plt.axvline(x=1, color='k', linestyle='--')\n",
    "\n",
    "# Add the labels for a' and b'\n",
    "plt.text(0, -0.25, \"a'\", ha='center')\n",
    "plt.text(1, -0.25, \"b'\", ha='center')\n",
    "\n",
    "# plt.legend()\n",
    "plt.savefig('fuzzy-heart.png')\n",
    "plt.show()"
   ]
  },
  {
   "cell_type": "markdown",
   "metadata": {
    "id": "w3fqeV0X-Lh0"
   },
   "source": [
    "## Rule Base"
   ]
  },
  {
   "cell_type": "markdown",
   "metadata": {
    "id": "SC2zY0ZT-NTh"
   },
   "source": [
    "### Initial Rule Generation"
   ]
  },
  {
   "cell_type": "code",
   "execution_count": 56,
   "metadata": {
    "executionInfo": {
     "elapsed": 350,
     "status": "ok",
     "timestamp": 1703255914895,
     "user": {
      "displayName": "Denada Rama",
      "userId": "10706454551865269350"
     },
     "user_tz": 0
    },
    "id": "889SjacU-RIY"
   },
   "outputs": [],
   "source": [
    "def generate_initial_rules(X_agg, patient_shap_values, scaled_mf_definitions, Ys, importance_threshold=0.0001, max_antecedents=5):\n",
    "    initial_rules = []\n",
    "\n",
    "    for patient_idx, patient_data in enumerate(X_agg.itertuples()):\n",
    "        patient_shap = patient_shap_values[patient_idx]\n",
    "        important_features = np.argsort(np.abs(patient_shap))[::-1]\n",
    "\n",
    "        # Apply the threshold and limit the number of antecedents\n",
    "        important_features = important_features[np.abs(patient_shap[important_features]) >= importance_threshold]\n",
    "        if len(important_features) > max_antecedents:\n",
    "          important_features = important_features[:max_antecedents]\n",
    "\n",
    "        rule_antecedents = []\n",
    "        for feature_idx in important_features:\n",
    "            feature_name = X_agg.columns[feature_idx][0]  # format: ('vital sign', 'mean')\n",
    "            feature_value = patient_data[feature_idx + 1]  # +1 due to index column in itertuples\n",
    "            fuzzy_label = get_fuzzy_label(feature_value, scaled_mf_definitions[feature_name])\n",
    "            if fuzzy_label:\n",
    "                rule_antecedents.append((feature_name, fuzzy_label, patient_shap[feature_idx]))\n",
    "\n",
    "        class_label = Ys.iloc[patient_idx]['mort_hosp']\n",
    "\n",
    "        if len(rule_antecedents) > 0:\n",
    "            rule = {\n",
    "                'antecedents': rule_antecedents,\n",
    "                'consequent': class_label\n",
    "            }\n",
    "            initial_rules.append(rule)\n",
    "\n",
    "    return initial_rules"
   ]
  },
  {
   "cell_type": "code",
   "execution_count": null,
   "metadata": {
    "id": "kKw_8PGbHWAx"
   },
   "outputs": [],
   "source": [
    "initial_rules = generate_initial_rules(X_agg, patient_shap_values, mf_definitions, Ys_train_concat)\n",
    "save_to_pickle(initial_rules, 'initial_rules.pkl')"
   ]
  },
  {
   "cell_type": "markdown",
   "metadata": {
    "id": "ihMC5_sLIp10"
   },
   "source": [
    "### Resolving Rule Conflicts"
   ]
  },
  {
   "cell_type": "code",
   "execution_count": 59,
   "metadata": {
    "executionInfo": {
     "elapsed": 388,
     "status": "ok",
     "timestamp": 1703255933351,
     "user": {
      "displayName": "Denada Rama",
      "userId": "10706454551865269350"
     },
     "user_tz": 0
    },
    "id": "YUzNkUrVIskx"
   },
   "outputs": [],
   "source": [
    "def calculate_rule_weights(initial_rules):\n",
    "    rule_weights = {}\n",
    "    antecedent_counts = {}\n",
    "\n",
    "    # Count occurrences of each antecedent combination\n",
    "    for rule in initial_rules:\n",
    "        antecedents = tuple(rule['antecedents'])\n",
    "        antecedent_counts[antecedents] = antecedent_counts.get(antecedents, 0) + 1\n",
    "\n",
    "    # Calculate the frequency level for each rule\n",
    "    for rule in initial_rules:\n",
    "        antecedents = tuple(rule['antecedents'])\n",
    "        rule_id = id(rule)  # Unique identifier for the rule\n",
    "        rule_weights[rule_id] = antecedent_counts[antecedents]\n",
    "\n",
    "    return rule_weights\n",
    "\n",
    "rule_weights = calculate_rule_weights(initial_rules)\n"
   ]
  },
  {
   "cell_type": "markdown",
   "metadata": {
    "id": "4Rck6eBnI4w5"
   },
   "source": [
    "### Pruning Redundant Rules"
   ]
  },
  {
   "cell_type": "code",
   "execution_count": 58,
   "metadata": {
    "executionInfo": {
     "elapsed": 1282,
     "status": "ok",
     "timestamp": 1703255927257,
     "user": {
      "displayName": "Denada Rama",
      "userId": "10706454551865269350"
     },
     "user_tz": 0
    },
    "id": "sU0O9cTVdFPL"
   },
   "outputs": [],
   "source": [
    "initial_rules = load_from_pickle('initial_rules.pkl')"
   ]
  },
  {
   "cell_type": "code",
   "execution_count": 68,
   "metadata": {
    "executionInfo": {
     "elapsed": 370,
     "status": "ok",
     "timestamp": 1703256268467,
     "user": {
      "displayName": "Denada Rama",
      "userId": "10706454551865269350"
     },
     "user_tz": 0
    },
    "id": "dfNmpno2hnz8"
   },
   "outputs": [],
   "source": [
    "def are_rules_similar(rule1, rule2, similarity_threshold=0.7):\n",
    "    antecedents1 = set((feature_name, fuzzy_label) for feature_name, fuzzy_label, _ in rule1['antecedents'])\n",
    "    antecedents2 = set((feature_name, fuzzy_label) for feature_name, fuzzy_label, _ in rule2['antecedents'])\n",
    "\n",
    "    common_antecedents = antecedents1.intersection(antecedents2)\n",
    "    similarity_score = len(common_antecedents) / max(len(antecedents1), len(antecedents2))\n",
    "\n",
    "    return similarity_score >= similarity_threshold\n",
    "\n",
    "def group_similar_rules(initial_rules):\n",
    "    rule_groups = []\n",
    "    used_rule_indices = set()\n",
    "\n",
    "    for i, rule in enumerate(initial_rules):\n",
    "        if i in used_rule_indices:\n",
    "            continue\n",
    "\n",
    "        current_group = [rule]\n",
    "        used_rule_indices.add(i)\n",
    "\n",
    "        for j, other_rule in enumerate(initial_rules):\n",
    "            if j not in used_rule_indices and are_rules_similar(rule, other_rule):\n",
    "                current_group.append(other_rule)\n",
    "                used_rule_indices.add(j)\n",
    "\n",
    "        rule_groups.append(current_group)\n",
    "\n",
    "    return rule_groups\n",
    "\n",
    "def prune_rules(rule_groups, threshold_alpha=3):\n",
    "    pruned_rules = []\n",
    "\n",
    "    for group in rule_groups:\n",
    "        if len(group) >= threshold_alpha:\n",
    "            # Keep the rule with the highest total absolute SHAP value\n",
    "            highest_shap_rule = max(group, key=lambda rule: sum(abs(shap_value) for _, _, shap_value in rule['antecedents']))\n",
    "            pruned_rules.append(highest_shap_rule)\n",
    "\n",
    "    return pruned_rules"
   ]
  },
  {
   "cell_type": "code",
   "execution_count": 69,
   "metadata": {
    "executionInfo": {
     "elapsed": 9155,
     "status": "ok",
     "timestamp": 1703256280076,
     "user": {
      "displayName": "Denada Rama",
      "userId": "10706454551865269350"
     },
     "user_tz": 0
    },
    "id": "pkVbyjyPh-fV"
   },
   "outputs": [],
   "source": [
    "# Grouping similar rules\n",
    "rule_groups = group_similar_rules(initial_rules)"
   ]
  },
  {
   "cell_type": "code",
   "execution_count": 71,
   "metadata": {
    "executionInfo": {
     "elapsed": 364,
     "status": "ok",
     "timestamp": 1703256301161,
     "user": {
      "displayName": "Denada Rama",
      "userId": "10706454551865269350"
     },
     "user_tz": 0
    },
    "id": "m8tvOAWwiAUs"
   },
   "outputs": [],
   "source": [
    "# Pruning the rules based on the group size and highest SHAP values\n",
    "pruned_rules = prune_rules(rule_groups)"
   ]
  },
  {
   "cell_type": "code",
   "execution_count": 72,
   "metadata": {
    "colab": {
     "base_uri": "https://localhost:8080/"
    },
    "executionInfo": {
     "elapsed": 4,
     "status": "ok",
     "timestamp": 1703256309657,
     "user": {
      "displayName": "Denada Rama",
      "userId": "10706454551865269350"
     },
     "user_tz": 0
    },
    "id": "DJ4P8Yn8-wC-",
    "outputId": "2ecaeff4-af76-4646-ef0d-48dad539109c"
   },
   "outputs": [
    {
     "data": {
      "text/plain": [
       "447"
      ]
     },
     "execution_count": 72,
     "metadata": {},
     "output_type": "execute_result"
    }
   ],
   "source": [
    "len(pruned_rules)"
   ]
  },
  {
   "cell_type": "code",
   "execution_count": 77,
   "metadata": {
    "colab": {
     "base_uri": "https://localhost:8080/"
    },
    "executionInfo": {
     "elapsed": 374,
     "status": "ok",
     "timestamp": 1703256372192,
     "user": {
      "displayName": "Denada Rama",
      "userId": "10706454551865269350"
     },
     "user_tz": 0
    },
    "id": "KDffSMKf-7e-",
    "outputId": "2a652059-d95c-4b39-99ba-ae284070dcf8"
   },
   "outputs": [
    {
     "data": {
      "text/plain": [
       "{'antecedents': [('pulmonary artery pressure systolic',\n",
       "   'High',\n",
       "   -0.017258388718124),\n",
       "  ('oxygen saturation', 'Low', -0.0035437484998472163),\n",
       "  ('heart rate', 'Normal', -0.0010010479921093204),\n",
       "  ('diastolic blood pressure', 'Low', -0.0008154085502271582),\n",
       "  ('systolic blood pressure', 'Normal', 0.0006887262476584956)],\n",
       " 'consequent': 0.0}"
      ]
     },
     "execution_count": 77,
     "metadata": {},
     "output_type": "execute_result"
    }
   ],
   "source": [
    "pruned_rules[4]"
   ]
  },
  {
   "cell_type": "code",
   "execution_count": null,
   "metadata": {
    "colab": {
     "base_uri": "https://localhost:8080/"
    },
    "executionInfo": {
     "elapsed": 313,
     "status": "ok",
     "timestamp": 1703198642358,
     "user": {
      "displayName": "Denada Rama",
      "userId": "10706454551865269350"
     },
     "user_tz": 0
    },
    "id": "k34IT-LIjAw6",
    "outputId": "2a7c2e37-d22e-40e2-f18b-fd1f6405837b"
   },
   "outputs": [
    {
     "name": "stdout",
     "output_type": "stream",
     "text": [
      "Number of pruned rules: 447\n"
     ]
    }
   ],
   "source": [
    "# Example output\n",
    "print(f\"Number of pruned rules: {len(pruned_rules)}\")"
   ]
  },
  {
   "cell_type": "code",
   "execution_count": null,
   "metadata": {
    "id": "TKNulVY5jRIR"
   },
   "outputs": [],
   "source": [
    "save_to_pickle(rule_groups, 'rule_groups.pkl')\n",
    "save_to_pickle(pruned_rules, 'pruned_rules.pkl')"
   ]
  },
  {
   "cell_type": "markdown",
   "metadata": {
    "id": "V1nePBLaoysB"
   },
   "source": [
    "## Prediction Time: Rule Matching & Confidence"
   ]
  },
  {
   "cell_type": "markdown",
   "metadata": {
    "id": "wvYZOv0CpFTx"
   },
   "source": [
    "### Rule Base Search"
   ]
  },
  {
   "cell_type": "code",
   "execution_count": null,
   "metadata": {
    "id": "AjH26efQo3E1"
   },
   "outputs": [],
   "source": [
    "def find_matching_rules(pruned_rules, patient_data, patient_shap_values, threshold=0.7):\n",
    "    matching_rules = []\n",
    "    patient_important_features = set(feature for feature, value in zip(patient_data.columns, patient_shap_values) if abs(value) >= threshold)\n",
    "\n",
    "    for rule in pruned_rules:\n",
    "        rule_important_features = set(feature for feature, _, _ in rule['antecedents'])\n",
    "        if len(patient_important_features.intersection(rule_important_features)) / len(rule_important_features) >= threshold:\n",
    "            matching_rules.append(rule)\n",
    "\n",
    "    return matching_rules\n"
   ]
  },
  {
   "cell_type": "markdown",
   "metadata": {
    "id": "4vOkhNfQpHWw"
   },
   "source": [
    "### Importance Coefficient Calculation"
   ]
  },
  {
   "cell_type": "code",
   "execution_count": null,
   "metadata": {
    "id": "--VDYZu_pNDg"
   },
   "outputs": [],
   "source": [
    "def calculate_importance_coefficient(rule, patient_shap_values, feature_names):\n",
    "    coefficients = []\n",
    "    for feature_name, fuzzy_label, _ in rule['antecedents']:\n",
    "        if feature_name in feature_names:\n",
    "            feature_index = feature_names.index(feature_name)\n",
    "            patient_importance = abs(patient_shap_values[feature_index])\n",
    "            rule_importance = abs(_)  # SHAP value from rule antecedent\n",
    "            coefficients.append(patient_importance * rule_importance)\n",
    "        else:\n",
    "            coefficients.append(0)\n",
    "\n",
    "    return sum(coefficients)"
   ]
  },
  {
   "cell_type": "markdown",
   "metadata": {
    "id": "5197RtqZpP7p"
   },
   "source": [
    "### Rule Weight Calculation"
   ]
  },
  {
   "cell_type": "code",
   "execution_count": null,
   "metadata": {
    "id": "Qg2df9uhpSDg"
   },
   "outputs": [],
   "source": [
    "def calculate_rule_weights(matching_rules, patient_shap_values, feature_names):\n",
    "    rule_weights = {}\n",
    "    for rule in matching_rules:\n",
    "        rule_weight = calculate_importance_coefficient(rule, patient_shap_values, feature_names)\n",
    "        rule_weights[id(rule)] = rule_weight\n",
    "\n",
    "    return rule_weights"
   ]
  },
  {
   "cell_type": "markdown",
   "metadata": {
    "id": "Bq9Ko6BCpUs1"
   },
   "source": [
    "### Confidence Level Determination"
   ]
  },
  {
   "cell_type": "code",
   "execution_count": null,
   "metadata": {
    "id": "Hj7MNyXkpXWI"
   },
   "outputs": [],
   "source": [
    "def calculate_confidence_level(matching_rules, rule_weights):\n",
    "    total_weight = sum(rule_weights.values())\n",
    "    matching_weight = sum(rule_weights[id(rule)] for rule in matching_rules)\n",
    "\n",
    "    return matching_weight / total_weight if total_weight > 0 else 0\n",
    "\n",
    "# Example usage\n",
    "feature_names = patient_data.columns\n",
    "matching_rules = find_matching_rules(pruned_rules, patient_data, patient_shap_values)\n",
    "rule_weights = calculate_rule_weights(matching_rules, patient_shap_values, feature_names)\n",
    "conf_level = calculate_confidence_level(matching_rules, rule_weights)"
   ]
  },
  {
   "cell_type": "code",
   "execution_count": 78,
   "metadata": {
    "colab": {
     "base_uri": "https://localhost:8080/"
    },
    "executionInfo": {
     "elapsed": 3,
     "status": "ok",
     "timestamp": 1703260151019,
     "user": {
      "displayName": "Denada Rama",
      "userId": "10706454551865269350"
     },
     "user_tz": 0
    },
    "id": "a6fiIXzxN06i",
    "outputId": "91c51ee3-de47-42c9-edad-7ee71b78dcda"
   },
   "outputs": [
    {
     "data": {
      "text/plain": [
       "GRUD(\n",
       "  (zl): Linear(in_features=206, out_features=128, bias=True)\n",
       "  (rl): Linear(in_features=206, out_features=128, bias=True)\n",
       "  (hl): Linear(in_features=206, out_features=128, bias=True)\n",
       "  (gamma_x_l): FilterLinear(in_features=39, out_features=39, bias=True)\n",
       "  (gamma_h_l): Linear(in_features=39, out_features=128, bias=True)\n",
       "  (fc): Linear(in_features=128, out_features=2, bias=True)\n",
       "  (bn): BatchNorm1d(2, eps=1e-05, momentum=0.1, affine=True, track_running_stats=True)\n",
       "  (drop): Dropout(p=0.5, inplace=False)\n",
       ")"
      ]
     },
     "execution_count": 78,
     "metadata": {},
     "output_type": "execute_result"
    }
   ],
   "source": [
    "# Load the trained model's state dictionary\n",
    "model = GRUD(**model_hyperparams)\n",
    "model.load_state_dict(torch.load('trained_model_org.pth'))\n",
    "model.eval()"
   ]
  },
  {
   "cell_type": "code",
   "execution_count": null,
   "metadata": {
    "colab": {
     "background_save": true,
     "base_uri": "https://localhost:8080/"
    },
    "executionInfo": {
     "elapsed": 2453,
     "status": "ok",
     "timestamp": 1703260288242,
     "user": {
      "displayName": "Denada Rama",
      "userId": "10706454551865269350"
     },
     "user_tz": 0
    },
    "id": "ZFaVPLndOLmc"
   },
   "outputs": [],
   "source": [
    "# Evaluate the model on the test set\n",
    "def test_model(model, test_dataloader, batch_size):\n",
    "\n",
    "    model.eval()  # Set the model on evaluation mode\n",
    "    probabilities = []\n",
    "    labels        = []\n",
    "\n",
    "    use_gpu = False\n",
    "\n",
    "    for X_test, labels_test in test_dataloader:\n",
    "        X_test = X_test.numpy()\n",
    "        mask_test        = torch.from_numpy(X_test[:, np.arange(0, X_test.shape[1], 3), :].astype(np.float32))\n",
    "        measurement_test = torch.from_numpy(X_test[:, np.arange(1, X_test.shape[1], 3), :].astype(np.float32))\n",
    "        time_test       = torch.from_numpy(X_test[:, np.arange(2, X_test.shape[1], 3), :].astype(np.float32))\n",
    "\n",
    "        mask_test = torch.transpose(mask_test, 1, 2)\n",
    "        measurement_test = torch.transpose(measurement_test, 1, 2)\n",
    "        time_test = torch.transpose(time_test, 1, 2)\n",
    "        measurement_last_obsv_test = measurement_test\n",
    "\n",
    "        assert measurement_test.size()[0] == batch_size, \"Batch Size doesn't match! %s\" % str(measurement_test.size())\n",
    "\n",
    "        if use_gpu:\n",
    "            convert_to_cuda=lambda x: Variable(x.cuda())\n",
    "            X_test, X_last_obsv_test, Mask_test, Delta_test, labels_test = map(convert_to_cuda, [measurement_test, measurement_last_obsv_test, mask_test, time_test, labels_test])\n",
    "        else:\n",
    "            convert_to_tensor=lambda x: Variable(x)\n",
    "            X_test, X_last_obsv_test, Mask_test, Delta_test, labels_test  = map(convert_to_tensor, [measurement_test, measurement_last_obsv_test, mask_test, time_test, labels_test])\n",
    "\n",
    "        with torch.no_grad():  # No need to track gradients for the test set\n",
    "            prediction_test = model(X_test, X_last_obsv_test, Mask_test, Delta_test)\n",
    "\n",
    "            probabilities.append(prediction_test.detach().cpu().data.numpy())\n",
    "            labels.append(labels_test.detach().cpu().data.numpy())\n",
    "\n",
    "    # Concatenate the probabilities to form a single array\n",
    "    y_score = np.concatenate(probabilities)\n",
    "    # Apply argmax on the probabilities along axis 1 to get the predicted classes\n",
    "    y_pred = np.argmax(y_score, axis=1)\n",
    "\n",
    "    # Concatenate the true labels to form a single array\n",
    "    y_true = np.concatenate(labels)\n",
    "\n",
    "    # Compute metrics\n",
    "    auc   = roc_auc_score(y_true, y_score[:, 1])  # Use the probability of the positive class\n",
    "    auprc = average_precision_score(y_true, y_score[:, 1])\n",
    "    acc   = accuracy_score(y_true, y_pred)\n",
    "    F1    = f1_score(y_true, y_pred)\n",
    "\n",
    "    # Output results\n",
    "    print(\"Final results for model %s on target %s with representation %s\" % ('GRU-D', 'mort_hosp', 'full_X'))\n",
    "    print(auc, auprc, acc, F1)\n",
    "\n",
    "    return auc, auprc, acc, F1\n",
    "\n",
    "auc, auprc, acc, F1 = test_model(model, test_dataloader, batch_size)"
   ]
  },
  {
   "cell_type": "code",
   "execution_count": 80,
   "metadata": {
    "colab": {
     "base_uri": "https://localhost:8080/"
    },
    "executionInfo": {
     "elapsed": 360,
     "status": "ok",
     "timestamp": 1703260270551,
     "user": {
      "displayName": "Denada Rama",
      "userId": "10706454551865269350"
     },
     "user_tz": 0
    },
    "id": "QZfPfTV-OP8K",
    "outputId": "13574334-3c5e-4ddb-9c46-0f0b52953396"
   },
   "outputs": [
    {
     "data": {
      "text/plain": [
       "128"
      ]
     },
     "execution_count": 80,
     "metadata": {},
     "output_type": "execute_result"
    }
   ],
   "source": [
    "batch_size"
   ]
  },
  {
   "cell_type": "markdown",
   "source": [
    "### Predict Outcome for Each Patient in Test Dataset"
   ],
   "metadata": {
    "collapsed": false
   }
  },
  {
   "cell_type": "code",
   "execution_count": null,
   "outputs": [],
   "source": [
    "def predict_outcomes(model, dataloader):\n",
    "    model.eval()  # Set the model to evaluation mode\n",
    "    predictions = []\n",
    "\n",
    "    with torch.no_grad():\n",
    "        for X_batch, _ in dataloader:\n",
    "            # Process the data to match your model's input format\n",
    "            X_processed = process_dataset(X_batch, from_batch=True)\n",
    "            # Predict\n",
    "            batch_predictions = model(X_processed[0], X_processed[1], X_processed[2], X_processed[3])\n",
    "            predictions.append(batch_predictions.cpu().numpy())\n",
    "\n",
    "    # Flatten the batched predictions\n",
    "    return np.concatenate(predictions)"
   ],
   "metadata": {
    "collapsed": false
   }
  },
  {
   "cell_type": "markdown",
   "source": [
    "### Get Rules with Top 5 Features for Each Patient"
   ],
   "metadata": {
    "collapsed": false
   }
  },
  {
   "cell_type": "code",
   "execution_count": null,
   "outputs": [],
   "source": [
    "test_rules_per_patient = get_top_features(X_test_agg, Ys_test, test_patient_shap_values)\n",
    "save_to_pickle(test_rules_per_patient, 'test_rules_per_patient.pkl')"
   ],
   "metadata": {
    "collapsed": false
   }
  },
  {
   "cell_type": "code",
   "execution_count": null,
   "outputs": [],
   "source": [
    "# Predicting outcomes for test dataset\n",
    "test_predictions = predict_outcomes(model, test_dataloader)"
   ],
   "metadata": {
    "collapsed": false
   }
  }
 ],
 "metadata": {
  "colab": {
   "authorship_tag": "ABX9TyPW4ZCIXkchhcU76vcPd74M",
   "machine_shape": "hm",
   "name": "",
   "version": ""
  },
  "kernelspec": {
   "display_name": "Python 3",
   "name": "python3"
  },
  "language_info": {
   "name": "python"
  }
 },
 "nbformat": 4,
 "nbformat_minor": 0
}
