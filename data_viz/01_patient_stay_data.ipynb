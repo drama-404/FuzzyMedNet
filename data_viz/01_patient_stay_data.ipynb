{
 "cells": [
  {
   "cell_type": "code",
   "execution_count": 1,
   "outputs": [],
   "source": [
    "from db_connection import create_connection\n",
    "from db_connection import query_data\n",
    "from db_connection import query_sql_file\n",
    "\n",
    "from preprocessing import process_admissions\n",
    "\n",
    "import pandas as pd\n",
    "import matplotlib.pyplot as plt\n",
    "import numpy as np"
   ],
   "metadata": {
    "collapsed": false
   }
  },
  {
   "cell_type": "code",
   "execution_count": 2,
   "outputs": [],
   "source": [
    "# Connect to the MIMIC-III database\n",
    "con = create_connection()"
   ],
   "metadata": {
    "collapsed": false
   }
  },
  {
   "cell_type": "markdown",
   "source": [
    "# Admissions"
   ],
   "metadata": {
    "collapsed": false
   }
  },
  {
   "cell_type": "code",
   "execution_count": 3,
   "outputs": [
    {
     "name": "stderr",
     "output_type": "stream",
     "text": [
      "C:\\Users\\Perdorues\\Documents\\GitHub\\comp-1252-explain-deep-learning-models-through-fuzzy-logic\\db_connection.py:43: UserWarning: pandas only supports SQLAlchemy connectable (engine/connection) or database string URI or sqlite3 DBAPI2 connection. Other DBAPI2 objects are not tested. Please consider using SQLAlchemy.\n",
      "  result_df = pd.read_sql_query(query, con)\n"
     ]
    },
    {
     "name": "stdout",
     "output_type": "stream",
     "text": [
      "   row_id  subject_id  hadm_id           admittime           dischtime  \\\n",
      "0      21          22   165315 2196-04-09 12:26:00 2196-04-10 15:54:00   \n",
      "1      22          23   152223 2153-09-03 07:15:00 2153-09-08 19:10:00   \n",
      "2      23          23   124321 2157-10-18 19:34:00 2157-10-25 14:00:00   \n",
      "3      24          24   161859 2139-06-06 16:14:00 2139-06-09 12:48:00   \n",
      "4      25          25   129635 2160-11-02 02:06:00 2160-11-05 14:55:00   \n",
      "\n",
      "  deathtime admission_type         admission_location  \\\n",
      "0       NaT      EMERGENCY       EMERGENCY ROOM ADMIT   \n",
      "1       NaT       ELECTIVE  PHYS REFERRAL/NORMAL DELI   \n",
      "2       NaT      EMERGENCY  TRANSFER FROM HOSP/EXTRAM   \n",
      "3       NaT      EMERGENCY  TRANSFER FROM HOSP/EXTRAM   \n",
      "4       NaT      EMERGENCY       EMERGENCY ROOM ADMIT   \n",
      "\n",
      "          discharge_location insurance language           religion  \\\n",
      "0  DISC-TRAN CANCER/CHLDRN H   Private     None       UNOBTAINABLE   \n",
      "1           HOME HEALTH CARE  Medicare     None           CATHOLIC   \n",
      "2           HOME HEALTH CARE  Medicare     ENGL           CATHOLIC   \n",
      "3                       HOME   Private     None  PROTESTANT QUAKER   \n",
      "4                       HOME   Private     None       UNOBTAINABLE   \n",
      "\n",
      "  marital_status ethnicity           edregtime           edouttime  \\\n",
      "0        MARRIED     WHITE 2196-04-09 10:06:00 2196-04-09 13:24:00   \n",
      "1        MARRIED     WHITE                 NaT                 NaT   \n",
      "2        MARRIED     WHITE                 NaT                 NaT   \n",
      "3         SINGLE     WHITE                 NaT                 NaT   \n",
      "4        MARRIED     WHITE 2160-11-02 01:01:00 2160-11-02 04:27:00   \n",
      "\n",
      "                                           diagnosis  hospital_expire_flag  \\\n",
      "0                            BENZODIAZEPINE OVERDOSE                     0   \n",
      "1  CORONARY ARTERY DISEASE\\CORONARY ARTERY BYPASS...                     0   \n",
      "2                                         BRAIN MASS                     0   \n",
      "3                     INTERIOR MYOCARDIAL INFARCTION                     0   \n",
      "4                            ACUTE CORONARY SYNDROME                     0   \n",
      "\n",
      "   has_chartevents_data  \n",
      "0                     1  \n",
      "1                     1  \n",
      "2                     1  \n",
      "3                     1  \n",
      "4                     1  \n"
     ]
    }
   ],
   "source": [
    "query = \\\n",
    "\"\"\"\n",
    "SELECT * FROM admissions;\n",
    "\"\"\"\n",
    "admissions = query_data(query, con)\n",
    "print(admissions.head())"
   ],
   "metadata": {
    "collapsed": false
   }
  },
  {
   "cell_type": "code",
   "execution_count": 4,
   "outputs": [
    {
     "name": "stdout",
     "output_type": "stream",
     "text": [
      "<class 'pandas.core.frame.DataFrame'>\n",
      "RangeIndex: 58976 entries, 0 to 58975\n",
      "Data columns (total 19 columns):\n",
      " #   Column                Non-Null Count  Dtype         \n",
      "---  ------                --------------  -----         \n",
      " 0   row_id                58976 non-null  int64         \n",
      " 1   subject_id            58976 non-null  int64         \n",
      " 2   hadm_id               58976 non-null  int64         \n",
      " 3   admittime             58976 non-null  datetime64[ns]\n",
      " 4   dischtime             58976 non-null  datetime64[ns]\n",
      " 5   deathtime             5854 non-null   datetime64[ns]\n",
      " 6   admission_type        58976 non-null  object        \n",
      " 7   admission_location    58976 non-null  object        \n",
      " 8   discharge_location    58976 non-null  object        \n",
      " 9   insurance             58976 non-null  object        \n",
      " 10  language              33644 non-null  object        \n",
      " 11  religion              58518 non-null  object        \n",
      " 12  marital_status        48848 non-null  object        \n",
      " 13  ethnicity             58976 non-null  object        \n",
      " 14  edregtime             30877 non-null  datetime64[ns]\n",
      " 15  edouttime             30877 non-null  datetime64[ns]\n",
      " 16  diagnosis             58951 non-null  object        \n",
      " 17  hospital_expire_flag  58976 non-null  int64         \n",
      " 18  has_chartevents_data  58976 non-null  int64         \n",
      "dtypes: datetime64[ns](5), int64(5), object(9)\n",
      "memory usage: 8.5+ MB\n",
      "None\n"
     ]
    }
   ],
   "source": [
    "print(admissions.info())"
   ],
   "metadata": {
    "collapsed": false
   }
  },
  {
   "cell_type": "code",
   "execution_count": 5,
   "outputs": [
    {
     "name": "stdout",
     "output_type": "stream",
     "text": [
      "row_id                      0\n",
      "subject_id                  0\n",
      "hadm_id                     0\n",
      "admittime                   0\n",
      "dischtime                   0\n",
      "deathtime               53122\n",
      "admission_type              0\n",
      "admission_location          0\n",
      "discharge_location          0\n",
      "insurance                   0\n",
      "language                25332\n",
      "religion                  458\n",
      "marital_status          10128\n",
      "ethnicity                   0\n",
      "edregtime               28099\n",
      "edouttime               28099\n",
      "diagnosis                  25\n",
      "hospital_expire_flag        0\n",
      "has_chartevents_data        0\n",
      "dtype: int64\n"
     ]
    }
   ],
   "source": [
    "# check null values\n",
    "print(admissions.isnull().sum())"
   ],
   "metadata": {
    "collapsed": false
   }
  },
  {
   "cell_type": "code",
   "execution_count": 6,
   "outputs": [
    {
     "name": "stdout",
     "output_type": "stream",
     "text": [
      "EMERGENCY ROOM ADMIT         22754\n",
      "PHYS REFERRAL/NORMAL DELI    15079\n",
      "CLINIC REFERRAL/PREMATURE    12032\n",
      "TRANSFER FROM HOSP/EXTRAM     8456\n",
      "TRANSFER FROM SKILLED NUR      273\n",
      "** INFO NOT AVAILABLE **       204\n",
      "HMO REFERRAL/SICK              102\n",
      "TRANSFER FROM OTHER HEALT       71\n",
      "TRSF WITHIN THIS FACILITY        5\n",
      "Name: admission_location, dtype: int64\n"
     ]
    }
   ],
   "source": [
    "# check admission locations\n",
    "print(admissions.admission_location.value_counts())"
   ],
   "metadata": {
    "collapsed": false
   }
  },
  {
   "cell_type": "code",
   "execution_count": 7,
   "outputs": [
    {
     "name": "stdout",
     "output_type": "stream",
     "text": [
      "EMERGENCY    42071\n",
      "NEWBORN       7863\n",
      "ELECTIVE      7706\n",
      "URGENT        1336\n",
      "Name: admission_type, dtype: int64\n"
     ]
    }
   ],
   "source": [
    "# check admission type\n",
    "print(admissions.admission_type.value_counts())"
   ],
   "metadata": {
    "collapsed": false
   }
  },
  {
   "cell_type": "code",
   "execution_count": 8,
   "outputs": [
    {
     "name": "stdout",
     "output_type": "stream",
     "text": [
      "EMERGENCY    43407\n",
      "NEWBORN       7863\n",
      "ELECTIVE      7706\n",
      "Name: admission_type, dtype: int64\n"
     ]
    }
   ],
   "source": [
    "admissions = process_admissions.group_admission_type(admissions)\n",
    "print(admissions.admission_type.value_counts())"
   ],
   "metadata": {
    "collapsed": false
   }
  },
  {
   "cell_type": "code",
   "execution_count": 9,
   "outputs": [
    {
     "name": "stdout",
     "output_type": "stream",
     "text": [
      "['WHITE' 'UNKNOWN/NOT SPECIFIED' 'MULTI RACE ETHNICITY'\n",
      " 'BLACK/AFRICAN AMERICAN' 'HISPANIC OR LATINO'\n",
      " 'PATIENT DECLINED TO ANSWER' 'ASIAN' 'OTHER'\n",
      " 'HISPANIC/LATINO - GUATEMALAN' 'ASIAN - VIETNAMESE'\n",
      " 'AMERICAN INDIAN/ALASKA NATIVE' 'WHITE - RUSSIAN'\n",
      " 'HISPANIC/LATINO - PUERTO RICAN' 'ASIAN - CHINESE' 'ASIAN - ASIAN INDIAN'\n",
      " 'BLACK/AFRICAN' 'HISPANIC/LATINO - SALVADORAN'\n",
      " 'HISPANIC/LATINO - DOMINICAN' 'UNABLE TO OBTAIN' 'BLACK/CAPE VERDEAN'\n",
      " 'BLACK/HAITIAN' 'WHITE - OTHER EUROPEAN' 'PORTUGUESE' 'SOUTH AMERICAN'\n",
      " 'WHITE - EASTERN EUROPEAN' 'CARIBBEAN ISLAND' 'ASIAN - FILIPINO'\n",
      " 'ASIAN - CAMBODIAN' 'HISPANIC/LATINO - CENTRAL AMERICAN (OTHER)'\n",
      " 'WHITE - BRAZILIAN' 'ASIAN - KOREAN' 'HISPANIC/LATINO - COLOMBIAN'\n",
      " 'ASIAN - JAPANESE' 'NATIVE HAWAIIAN OR OTHER PACIFIC ISLANDER'\n",
      " 'ASIAN - THAI' 'HISPANIC/LATINO - HONDURAN' 'HISPANIC/LATINO - CUBAN'\n",
      " 'MIDDLE EASTERN' 'ASIAN - OTHER' 'HISPANIC/LATINO - MEXICAN'\n",
      " 'AMERICAN INDIAN/ALASKA NATIVE FEDERALLY RECOGNIZED TRIBE']\n"
     ]
    }
   ],
   "source": [
    "# check demographics\n",
    "print(admissions.ethnicity.unique())"
   ],
   "metadata": {
    "collapsed": false
   }
  },
  {
   "cell_type": "code",
   "execution_count": 10,
   "outputs": [
    {
     "name": "stdout",
     "output_type": "stream",
     "text": [
      "WHITE                   41386\n",
      "OTHER/UNKNOWN            7408\n",
      "BLACK                    5785\n",
      "HISPANIC/LATINO          2128\n",
      "ASIAN                    2050\n",
      "MULTI RACE ETHNICITY      130\n",
      "NATIVE AMERICAN            54\n",
      "ISLANDER                   35\n",
      "Name: ethnicity, dtype: int64\n"
     ]
    }
   ],
   "source": [
    "# grouping similar categories\n",
    "admissions = process_admissions.group_ethnicities(admissions)\n",
    "print(admissions.ethnicity.value_counts())"
   ],
   "metadata": {
    "collapsed": false
   }
  },
  {
   "cell_type": "code",
   "execution_count": 11,
   "outputs": [
    {
     "name": "stdout",
     "output_type": "stream",
     "text": [
      "          Admission Location ELECTIVE EMERGENCY/URGENT NEWBORN\n",
      "0   ** INFO NOT AVAILABLE **     None                5     199\n",
      "1  CLINIC REFERRAL/PREMATURE       25            10002    1987\n",
      "2       EMERGENCY ROOM ADMIT     None            22754    None\n",
      "3          HMO REFERRAL/SICK     None                1     101\n",
      "4  PHYS REFERRAL/NORMAL DELI     7646             1432    5553\n",
      "5  TRANSFER FROM HOSP/EXTRAM       19              849      23\n",
      "6  TRANSFER FROM OTHER HEALT        3                7    None\n",
      "7  TRANSFER FROM SKILLED NUR       13               14    None\n",
      "8  TRSF WITHIN THIS FACILITY     None                5    None\n"
     ]
    },
    {
     "name": "stderr",
     "output_type": "stream",
     "text": [
      "C:\\Users\\Perdorues\\Documents\\GitHub\\comp-1252-explain-deep-learning-models-through-fuzzy-logic\\db_connection.py:43: UserWarning: pandas only supports SQLAlchemy connectable (engine/connection) or database string URI or sqlite3 DBAPI2 connection. Other DBAPI2 objects are not tested. Please consider using SQLAlchemy.\n",
      "  result_df = pd.read_sql_query(query, con)\n",
      "C:\\Users\\Perdorues\\Documents\\GitHub\\comp-1252-explain-deep-learning-models-through-fuzzy-logic\\db_connection.py:43: UserWarning: pandas only supports SQLAlchemy connectable (engine/connection) or database string URI or sqlite3 DBAPI2 connection. Other DBAPI2 objects are not tested. Please consider using SQLAlchemy.\n",
      "  result_df = pd.read_sql_query(query, con)\n",
      "C:\\Users\\Perdorues\\Documents\\GitHub\\comp-1252-explain-deep-learning-models-through-fuzzy-logic\\db_connection.py:43: UserWarning: pandas only supports SQLAlchemy connectable (engine/connection) or database string URI or sqlite3 DBAPI2 connection. Other DBAPI2 objects are not tested. Please consider using SQLAlchemy.\n",
      "  result_df = pd.read_sql_query(query, con)\n"
     ]
    }
   ],
   "source": [
    "cross_tab_script = '../sql_scripts/admissions_cross_tab.sql'\n",
    "query_list = query_sql_file(cross_tab_script, con)\n",
    "\n",
    "admission_locations = query_data(query_list[0], con)\n",
    "admission_types = query_data(query_list[1], con)\n",
    "\n",
    "pivot_table = query_data(query_list[2], con)\n",
    "print(pivot_table)"
   ],
   "metadata": {
    "collapsed": false
   }
  },
  {
   "cell_type": "code",
   "execution_count": 18,
   "outputs": [
    {
     "name": "stdout",
     "output_type": "stream",
     "text": [
      "['BENZODIAZEPINE OVERDOSE'\n",
      " 'CORONARY ARTERY DISEASE\\\\CORONARY ARTERY BYPASS GRAFT/SDA' 'BRAIN MASS'\n",
      " ... 'R/O METASTASIS'\n",
      " 'GASTROPARESIS\\\\PLACEMENT OF G-TUBE **REMOTE WEST**/SDA' 'JOINT EFFUSION']\n"
     ]
    }
   ],
   "source": [
    "# check preliminary diagnosis\n",
    "print(admissions.diagnosis.unique())"
   ],
   "metadata": {
    "collapsed": false,
    "ExecuteTime": {
     "end_time": "2023-07-02T23:28:08.510490500Z",
     "start_time": "2023-07-02T23:28:08.467727800Z"
    }
   }
  },
  {
   "cell_type": "markdown",
   "source": [
    "## DIAGNOSES_ICD"
   ],
   "metadata": {
    "collapsed": false
   }
  },
  {
   "cell_type": "code",
   "execution_count": 20,
   "outputs": [
    {
     "name": "stderr",
     "output_type": "stream",
     "text": [
      "C:\\Users\\Perdorues\\Documents\\GitHub\\comp-1252-explain-deep-learning-models-through-fuzzy-logic\\db_connection.py:43: UserWarning: pandas only supports SQLAlchemy connectable (engine/connection) or database string URI or sqlite3 DBAPI2 connection. Other DBAPI2 objects are not tested. Please consider using SQLAlchemy.\n",
      "  result_df = pd.read_sql_query(query, con)\n"
     ]
    },
    {
     "name": "stdout",
     "output_type": "stream",
     "text": [
      "     icd9_code               short_title  total_admissions\n",
      "0         3897     Deaf, nonspeaking NEC                11\n",
      "1        78864         Urinary hesitancy                 5\n",
      "2        58881  Sec hyperparathyrd-renal               169\n",
      "3        E9444     Adv eff diuretics NEC               123\n",
      "4         8360  Tear med menisc knee-cur                 5\n",
      "...        ...                       ...               ...\n",
      "6836     61802        Cystocele, lateral                 1\n",
      "6837     90222     Injury hepatic artery                 8\n",
      "6838      2707  Straig amin-acid met NEC                 3\n",
      "6839      3453          Grand mal status               248\n",
      "6840      4779     Allergic rhinitis NOS                47\n",
      "\n",
      "[6841 rows x 3 columns]\n"
     ]
    }
   ],
   "source": [
    "query = \\\n",
    "\"\"\"\n",
    "SELECT d1.icd9_code, d2.short_title, COUNT(d1.hadm_id) AS total_admissions\n",
    "\tFROM diagnoses_icd AS d1\n",
    "\tJOIN d_icd_diagnoses AS d2\n",
    "\tON d1.icd9_code = d2.icd9_code\n",
    "\tGROUP BY d1.icd9_code, d2.short_title;\n",
    "\"\"\"\n",
    "diagnoses_counts = query_data(query, con)\n",
    "print(diagnoses_counts)"
   ],
   "metadata": {
    "collapsed": false,
    "ExecuteTime": {
     "end_time": "2023-07-03T00:41:39.724633Z",
     "start_time": "2023-07-03T00:41:39.354693100Z"
    }
   }
  },
  {
   "cell_type": "markdown",
   "source": [
    "# Patients"
   ],
   "metadata": {
    "collapsed": false
   }
  },
  {
   "cell_type": "code",
   "execution_count": 12,
   "outputs": [
    {
     "name": "stderr",
     "output_type": "stream",
     "text": [
      "C:\\Users\\Perdorues\\Documents\\GitHub\\comp-1252-explain-deep-learning-models-through-fuzzy-logic\\db_connection.py:43: UserWarning: pandas only supports SQLAlchemy connectable (engine/connection) or database string URI or sqlite3 DBAPI2 connection. Other DBAPI2 objects are not tested. Please consider using SQLAlchemy.\n",
      "  result_df = pd.read_sql_query(query, con)\n"
     ]
    },
    {
     "name": "stdout",
     "output_type": "stream",
     "text": [
      "   row_id  subject_id gender        dob        dod   dod_hosp dod_ssn  \\\n",
      "0     234         249      F 2075-03-13        NaT        NaT     NaT   \n",
      "1     235         250      F 2164-12-27 2188-11-22 2188-11-22     NaT   \n",
      "2     236         251      M 2090-03-15        NaT        NaT     NaT   \n",
      "3     237         252      M 2078-03-06        NaT        NaT     NaT   \n",
      "4     238         253      F 2089-11-26        NaT        NaT     NaT   \n",
      "\n",
      "   expire_flag  \n",
      "0            0  \n",
      "1            1  \n",
      "2            0  \n",
      "3            0  \n",
      "4            0  \n"
     ]
    }
   ],
   "source": [
    "query = \\\n",
    "\"\"\"\n",
    "SELECT * FROM patients;\n",
    "\"\"\"\n",
    "patients = query_data(query, con)\n",
    "print(patients.head())"
   ],
   "metadata": {
    "collapsed": false
   }
  },
  {
   "cell_type": "code",
   "execution_count": 13,
   "outputs": [
    {
     "name": "stdout",
     "output_type": "stream",
     "text": [
      "<class 'pandas.core.frame.DataFrame'>\n",
      "RangeIndex: 46520 entries, 0 to 46519\n",
      "Data columns (total 8 columns):\n",
      " #   Column       Non-Null Count  Dtype         \n",
      "---  ------       --------------  -----         \n",
      " 0   row_id       46520 non-null  int64         \n",
      " 1   subject_id   46520 non-null  int64         \n",
      " 2   gender       46520 non-null  object        \n",
      " 3   dob          46520 non-null  datetime64[ns]\n",
      " 4   dod          15759 non-null  datetime64[ns]\n",
      " 5   dod_hosp     9974 non-null   datetime64[ns]\n",
      " 6   dod_ssn      13378 non-null  datetime64[ns]\n",
      " 7   expire_flag  46520 non-null  int64         \n",
      "dtypes: datetime64[ns](4), int64(3), object(1)\n",
      "memory usage: 2.8+ MB\n",
      "None\n"
     ]
    }
   ],
   "source": [
    "print(patients.info())"
   ],
   "metadata": {
    "collapsed": false
   }
  },
  {
   "cell_type": "code",
   "execution_count": 14,
   "outputs": [
    {
     "data": {
      "text/plain": "<Figure size 640x480 with 1 Axes>",
      "image/png": "[encoded data removed]"
     },
     "metadata": {},
     "output_type": "display_data"
    }
   ],
   "source": [
    "# Visualizing 'AGE' distribution in 'PATIENTS' table\n",
    "# 'AGE' needs to be calculated based on 'DOB'\n",
    "patients['age'] = (pd.Timestamp('now') - patients['dob']).dt.days // 365.25\n",
    "plt.hist(patients['age'], bins=30, edgecolor='black')\n",
    "plt.xlabel('Age')\n",
    "plt.ylabel('Count')\n",
    "plt.title('Age Distribution')\n",
    "plt.show()"
   ],
   "metadata": {
    "collapsed": false
   }
  }
 ],
 "metadata": {
  "kernelspec": {
   "display_name": "Python 3",
   "language": "python",
   "name": "python3"
  },
  "language_info": {
   "codemirror_mode": {
    "name": "ipython",
    "version": 2
   },
   "file_extension": ".py",
   "mimetype": "text/x-python",
   "name": "python",
   "nbconvert_exporter": "python",
   "pygments_lexer": "ipython2",
   "version": "2.7.6"
  }
 },
 "nbformat": 4,
 "nbformat_minor": 0
}
