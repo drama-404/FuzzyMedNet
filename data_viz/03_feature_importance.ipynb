{
 "cells": [
  {
   "cell_type": "code",
   "execution_count": 1,
   "metadata": {
    "collapsed": true,
    "ExecuteTime": {
     "end_time": "2023-07-12T18:13:06.247180800Z",
     "start_time": "2023-07-12T18:13:05.754804600Z"
    }
   },
   "outputs": [],
   "source": [
    "from preprocessing import apply_feature_importance\n",
    "\n",
    "import pandas as pd\n",
    "import matplotlib.pyplot as plt\n",
    "import seaborn as sns\n",
    "import numpy as np"
   ]
  },
  {
   "cell_type": "code",
   "execution_count": 2,
   "outputs": [],
   "source": [
    "import warnings\n",
    "warnings.filterwarnings('ignore')"
   ],
   "metadata": {
    "collapsed": false,
    "ExecuteTime": {
     "end_time": "2023-07-12T18:13:06.247180800Z",
     "start_time": "2023-07-12T18:13:06.247180800Z"
    }
   }
  },
  {
   "cell_type": "code",
   "execution_count": 3,
   "outputs": [
    {
     "data": {
      "text/plain": "   subject_id  hadm_id admission_type         admission_location ethnicity  \\\n0          22   165315      EMERGENCY       EMERGENCY ROOM ADMIT     WHITE   \n1          23   152223       ELECTIVE  PHYS REFERRAL/NORMAL DELI     WHITE   \n2          23   124321      EMERGENCY                   TRANSFER     WHITE   \n3          24   161859      EMERGENCY                   TRANSFER     WHITE   \n4          25   129635      EMERGENCY       EMERGENCY ROOM ADMIT     WHITE   \n\n   hospital_expire_flag  total_los gender  expire_flag  age_at_admission  ...  \\\n0                     0       1.14      F            0                65  ...   \n1                     0       5.50      M            0                71  ...   \n2                     0       6.77      M            0                75  ...   \n3                     0       2.86      M            0                39  ...   \n4                     0       3.53      M            0                59  ...   \n\n   Diseases Of The Genitourinary System  \\\n0                                     0   \n1                                     1   \n2                                     0   \n3                                     0   \n4                                     0   \n\n  Complications Of Pregnancy Childbirth And The Puerperium  \\\n0                                                  0         \n1                                                  0         \n2                                                  0         \n3                                                  0         \n4                                                  0         \n\n   Diseases Of The Skin And Subcutaneous Tissue  \\\n0                                             0   \n1                                             0   \n2                                             0   \n3                                             0   \n4                                             0   \n\n   Diseases Of The Musculoskeletal System And Connective Tissue  \\\n0                                                  0              \n1                                                  0              \n2                                                  0              \n3                                                  0              \n4                                                  0              \n\n   Congenital Anomalies  \\\n0                     0   \n1                     0   \n2                     0   \n3                     0   \n4                     0   \n\n   Certain Conditions Originating In The Perinatal Period  \\\n0                                                  0        \n1                                                  0        \n2                                                  0        \n3                                                  0        \n4                                                  0        \n\n   Symptoms Signs And Ill-Defined Conditions  Injury And Poisoning  \\\n0                                          0                     1   \n1                                          0                     0   \n2                                          1                     0   \n3                                          0                     0   \n4                                          0                     0   \n\n   Supplementary Classification Of Factors Influencing Health Status And Contact With Health Services  \\\n0                                                  0                                                    \n1                                                  1                                                    \n2                                                  1                                                    \n3                                                  0                                                    \n4                                                  0                                                    \n\n   Supplementary Classification Of External Causes Of Injury And Poisoning  \n0                                                  1                        \n1                                                  0                        \n2                                                  0                        \n3                                                  0                        \n4                                                  0                        \n\n[5 rows x 32 columns]",
      "text/html": "<div>\n<style scoped>\n    .dataframe tbody tr th:only-of-type {\n        vertical-align: middle;\n    }\n\n    .dataframe tbody tr th {\n        vertical-align: top;\n    }\n\n    .dataframe thead th {\n        text-align: right;\n    }\n</style>\n<table border=\"1\" class=\"dataframe\">\n  <thead>\n    <tr style=\"text-align: right;\">\n      <th></th>\n      <th>subject_id</th>\n      <th>hadm_id</th>\n      <th>admission_type</th>\n      <th>admission_location</th>\n      <th>ethnicity</th>\n      <th>hospital_expire_flag</th>\n      <th>total_los</th>\n      <th>gender</th>\n      <th>expire_flag</th>\n      <th>age_at_admission</th>\n      <th>...</th>\n      <th>Diseases Of The Genitourinary System</th>\n      <th>Complications Of Pregnancy Childbirth And The Puerperium</th>\n      <th>Diseases Of The Skin And Subcutaneous Tissue</th>\n      <th>Diseases Of The Musculoskeletal System And Connective Tissue</th>\n      <th>Congenital Anomalies</th>\n      <th>Certain Conditions Originating In The Perinatal Period</th>\n      <th>Symptoms Signs And Ill-Defined Conditions</th>\n      <th>Injury And Poisoning</th>\n      <th>Supplementary Classification Of Factors Influencing Health Status And Contact With Health Services</th>\n      <th>Supplementary Classification Of External Causes Of Injury And Poisoning</th>\n    </tr>\n  </thead>\n  <tbody>\n    <tr>\n      <th>0</th>\n      <td>22</td>\n      <td>165315</td>\n      <td>EMERGENCY</td>\n      <td>EMERGENCY ROOM ADMIT</td>\n      <td>WHITE</td>\n      <td>0</td>\n      <td>1.14</td>\n      <td>F</td>\n      <td>0</td>\n      <td>65</td>\n      <td>...</td>\n      <td>0</td>\n      <td>0</td>\n      <td>0</td>\n      <td>0</td>\n      <td>0</td>\n      <td>0</td>\n      <td>0</td>\n      <td>1</td>\n      <td>0</td>\n      <td>1</td>\n    </tr>\n    <tr>\n      <th>1</th>\n      <td>23</td>\n      <td>152223</td>\n      <td>ELECTIVE</td>\n      <td>PHYS REFERRAL/NORMAL DELI</td>\n      <td>WHITE</td>\n      <td>0</td>\n      <td>5.50</td>\n      <td>M</td>\n      <td>0</td>\n      <td>71</td>\n      <td>...</td>\n      <td>1</td>\n      <td>0</td>\n      <td>0</td>\n      <td>0</td>\n      <td>0</td>\n      <td>0</td>\n      <td>0</td>\n      <td>0</td>\n      <td>1</td>\n      <td>0</td>\n    </tr>\n    <tr>\n      <th>2</th>\n      <td>23</td>\n      <td>124321</td>\n      <td>EMERGENCY</td>\n      <td>TRANSFER</td>\n      <td>WHITE</td>\n      <td>0</td>\n      <td>6.77</td>\n      <td>M</td>\n      <td>0</td>\n      <td>75</td>\n      <td>...</td>\n      <td>0</td>\n      <td>0</td>\n      <td>0</td>\n      <td>0</td>\n      <td>0</td>\n      <td>0</td>\n      <td>1</td>\n      <td>0</td>\n      <td>1</td>\n      <td>0</td>\n    </tr>\n    <tr>\n      <th>3</th>\n      <td>24</td>\n      <td>161859</td>\n      <td>EMERGENCY</td>\n      <td>TRANSFER</td>\n      <td>WHITE</td>\n      <td>0</td>\n      <td>2.86</td>\n      <td>M</td>\n      <td>0</td>\n      <td>39</td>\n      <td>...</td>\n      <td>0</td>\n      <td>0</td>\n      <td>0</td>\n      <td>0</td>\n      <td>0</td>\n      <td>0</td>\n      <td>0</td>\n      <td>0</td>\n      <td>0</td>\n      <td>0</td>\n    </tr>\n    <tr>\n      <th>4</th>\n      <td>25</td>\n      <td>129635</td>\n      <td>EMERGENCY</td>\n      <td>EMERGENCY ROOM ADMIT</td>\n      <td>WHITE</td>\n      <td>0</td>\n      <td>3.53</td>\n      <td>M</td>\n      <td>0</td>\n      <td>59</td>\n      <td>...</td>\n      <td>0</td>\n      <td>0</td>\n      <td>0</td>\n      <td>0</td>\n      <td>0</td>\n      <td>0</td>\n      <td>0</td>\n      <td>0</td>\n      <td>0</td>\n      <td>0</td>\n    </tr>\n  </tbody>\n</table>\n<p>5 rows × 32 columns</p>\n</div>"
     },
     "execution_count": 3,
     "metadata": {},
     "output_type": "execute_result"
    }
   ],
   "source": [
    "df = pd.read_csv('../dataset/patient_stay_data.csv')\n",
    "df.head()"
   ],
   "metadata": {
    "collapsed": false,
    "ExecuteTime": {
     "end_time": "2023-07-12T18:13:06.434694300Z",
     "start_time": "2023-07-12T18:13:06.247180800Z"
    }
   }
  },
  {
   "cell_type": "markdown",
   "source": [
    "### Encode Categorical Features & Clean Numerical Features"
   ],
   "metadata": {
    "collapsed": false
   }
  },
  {
   "cell_type": "code",
   "execution_count": 4,
   "outputs": [
    {
     "data": {
      "text/plain": "   hospital_expire_flag  total_los  gender  age_at_admission  icu_los  \\\n0                     0       1.14       0                65   1.1438   \n1                     0       5.50       1                71   1.2641   \n2                     0       6.77       1                75   1.1862   \n3                     0       2.86       1                39   0.5124   \n4                     0       3.53       1                59   3.5466   \n\n   Infectious And Parasitic Diseases  Neoplasms  \\\n0                                  0          0   \n1                                  0          0   \n2                                  0          1   \n3                                  0          0   \n4                                  0          0   \n\n   Endocrine Nutritional And Metabolic Diseases And Immunity Disorders  \\\n0                                                  0                     \n1                                                  1                     \n2                                                  1                     \n3                                                  1                     \n4                                                  1                     \n\n   Diseases Of The Blood And Blood-Forming Organs  Mental Disorders  ...  \\\n0                                               0                 1  ...   \n1                                               0                 0  ...   \n2                                               0                 0  ...   \n3                                               0                 0  ...   \n4                                               0                 0  ...   \n\n   ethnicity_NATIVE AMERICAN  ethnicity_OTHER/UNKNOWN  ethnicity_WHITE  \\\n0                        0.0                      0.0              1.0   \n1                        0.0                      0.0              1.0   \n2                        0.0                      0.0              1.0   \n3                        0.0                      0.0              1.0   \n4                        0.0                      0.0              1.0   \n\n   first_careunit_CCU  first_careunit_CSRU  first_careunit_MICU  \\\n0                 0.0                  0.0                  1.0   \n1                 0.0                  1.0                  0.0   \n2                 0.0                  0.0                  0.0   \n3                 1.0                  0.0                  0.0   \n4                 1.0                  0.0                  0.0   \n\n   first_careunit_NICU  first_careunit_SICU  first_careunit_TSICU  \\\n0                  0.0                  0.0                   0.0   \n1                  0.0                  0.0                   0.0   \n2                  0.0                  1.0                   0.0   \n3                  0.0                  0.0                   0.0   \n4                  0.0                  0.0                   0.0   \n\n   first_careunit_nan  \n0                 0.0  \n1                 0.0  \n2                 0.0  \n3                 0.0  \n4                 0.0  \n\n[5 rows x 48 columns]",
      "text/html": "<div>\n<style scoped>\n    .dataframe tbody tr th:only-of-type {\n        vertical-align: middle;\n    }\n\n    .dataframe tbody tr th {\n        vertical-align: top;\n    }\n\n    .dataframe thead th {\n        text-align: right;\n    }\n</style>\n<table border=\"1\" class=\"dataframe\">\n  <thead>\n    <tr style=\"text-align: right;\">\n      <th></th>\n      <th>hospital_expire_flag</th>\n      <th>total_los</th>\n      <th>gender</th>\n      <th>age_at_admission</th>\n      <th>icu_los</th>\n      <th>Infectious And Parasitic Diseases</th>\n      <th>Neoplasms</th>\n      <th>Endocrine Nutritional And Metabolic Diseases And Immunity Disorders</th>\n      <th>Diseases Of The Blood And Blood-Forming Organs</th>\n      <th>Mental Disorders</th>\n      <th>...</th>\n      <th>ethnicity_NATIVE AMERICAN</th>\n      <th>ethnicity_OTHER/UNKNOWN</th>\n      <th>ethnicity_WHITE</th>\n      <th>first_careunit_CCU</th>\n      <th>first_careunit_CSRU</th>\n      <th>first_careunit_MICU</th>\n      <th>first_careunit_NICU</th>\n      <th>first_careunit_SICU</th>\n      <th>first_careunit_TSICU</th>\n      <th>first_careunit_nan</th>\n    </tr>\n  </thead>\n  <tbody>\n    <tr>\n      <th>0</th>\n      <td>0</td>\n      <td>1.14</td>\n      <td>0</td>\n      <td>65</td>\n      <td>1.1438</td>\n      <td>0</td>\n      <td>0</td>\n      <td>0</td>\n      <td>0</td>\n      <td>1</td>\n      <td>...</td>\n      <td>0.0</td>\n      <td>0.0</td>\n      <td>1.0</td>\n      <td>0.0</td>\n      <td>0.0</td>\n      <td>1.0</td>\n      <td>0.0</td>\n      <td>0.0</td>\n      <td>0.0</td>\n      <td>0.0</td>\n    </tr>\n    <tr>\n      <th>1</th>\n      <td>0</td>\n      <td>5.50</td>\n      <td>1</td>\n      <td>71</td>\n      <td>1.2641</td>\n      <td>0</td>\n      <td>0</td>\n      <td>1</td>\n      <td>0</td>\n      <td>0</td>\n      <td>...</td>\n      <td>0.0</td>\n      <td>0.0</td>\n      <td>1.0</td>\n      <td>0.0</td>\n      <td>1.0</td>\n      <td>0.0</td>\n      <td>0.0</td>\n      <td>0.0</td>\n      <td>0.0</td>\n      <td>0.0</td>\n    </tr>\n    <tr>\n      <th>2</th>\n      <td>0</td>\n      <td>6.77</td>\n      <td>1</td>\n      <td>75</td>\n      <td>1.1862</td>\n      <td>0</td>\n      <td>1</td>\n      <td>1</td>\n      <td>0</td>\n      <td>0</td>\n      <td>...</td>\n      <td>0.0</td>\n      <td>0.0</td>\n      <td>1.0</td>\n      <td>0.0</td>\n      <td>0.0</td>\n      <td>0.0</td>\n      <td>0.0</td>\n      <td>1.0</td>\n      <td>0.0</td>\n      <td>0.0</td>\n    </tr>\n    <tr>\n      <th>3</th>\n      <td>0</td>\n      <td>2.86</td>\n      <td>1</td>\n      <td>39</td>\n      <td>0.5124</td>\n      <td>0</td>\n      <td>0</td>\n      <td>1</td>\n      <td>0</td>\n      <td>0</td>\n      <td>...</td>\n      <td>0.0</td>\n      <td>0.0</td>\n      <td>1.0</td>\n      <td>1.0</td>\n      <td>0.0</td>\n      <td>0.0</td>\n      <td>0.0</td>\n      <td>0.0</td>\n      <td>0.0</td>\n      <td>0.0</td>\n    </tr>\n    <tr>\n      <th>4</th>\n      <td>0</td>\n      <td>3.53</td>\n      <td>1</td>\n      <td>59</td>\n      <td>3.5466</td>\n      <td>0</td>\n      <td>0</td>\n      <td>1</td>\n      <td>0</td>\n      <td>0</td>\n      <td>...</td>\n      <td>0.0</td>\n      <td>0.0</td>\n      <td>1.0</td>\n      <td>1.0</td>\n      <td>0.0</td>\n      <td>0.0</td>\n      <td>0.0</td>\n      <td>0.0</td>\n      <td>0.0</td>\n      <td>0.0</td>\n    </tr>\n  </tbody>\n</table>\n<p>5 rows × 48 columns</p>\n</div>"
     },
     "execution_count": 4,
     "metadata": {},
     "output_type": "execute_result"
    }
   ],
   "source": [
    "# Encoding Categorical Features\n",
    "binary_features = ['gender']\n",
    "nominal_features = ['admission_type', 'admission_location', 'ethnicity', 'first_careunit']\n",
    "numerical_features = ['total_los', 'icu_los']\n",
    "\n",
    "df = apply_feature_importance.encode_features(df, binary_features=binary_features, nominal_features=nominal_features)\n",
    "\n",
    "# Fill missing values in numerical features\n",
    "for feature in numerical_features:\n",
    "    df[feature].fillna(0, inplace=True)\n",
    "\n",
    "# Drop irrelevant features\n",
    "df.drop(columns=['hadm_id', 'subject_id', 'icustay_id', 'expire_flag'], inplace=True)\n",
    "\n",
    "df.head()"
   ],
   "metadata": {
    "collapsed": false,
    "ExecuteTime": {
     "end_time": "2023-07-12T18:13:06.715934200Z",
     "start_time": "2023-07-12T18:13:06.434694300Z"
    }
   }
  },
  {
   "cell_type": "markdown",
   "source": [
    "### Feature Importance - RandomForestClassifier"
   ],
   "metadata": {
    "collapsed": false
   }
  },
  {
   "cell_type": "code",
   "execution_count": null,
   "outputs": [],
   "source": [
    "np.set_printoptions(precision=3)"
   ],
   "metadata": {
    "collapsed": false
   }
  },
  {
   "cell_type": "code",
   "execution_count": 5,
   "outputs": [
    {
     "name": "stdout",
     "output_type": "stream",
     "text": [
      "Feature: total_los, Importance: 0.21740557354742834\n",
      "Feature: icu_los, Importance: 0.15527937574947354\n",
      "Feature: age_at_admission, Importance: 0.11722867865153333\n",
      "Feature: Diseases Of The Respiratory System, Importance: 0.02543474702415862\n",
      "Feature: gender, Importance: 0.02324890669832837\n",
      "Feature: Infectious And Parasitic Diseases, Importance: 0.023241191720940628\n",
      "Feature: Supplementary Classification Of Factors Influencing Health Status And Contact With Health Services, Importance: 0.021832181087808773\n",
      "Feature: Diseases Of The Genitourinary System, Importance: 0.021618050240802097\n",
      "Feature: Diseases Of The Nervous System And Sense Organs, Importance: 0.021132206583591336\n",
      "Feature: Diseases Of The Digestive System, Importance: 0.02108268413499686\n",
      "Feature: Diseases Of The Blood And Blood-Forming Organs, Importance: 0.02107288105088117\n",
      "Feature: Neoplasms, Importance: 0.020286632207728077\n",
      "Feature: Symptoms Signs And Ill-Defined Conditions, Importance: 0.020199037853928955\n",
      "Feature: Endocrine Nutritional And Metabolic Diseases And Immunity Disorders, Importance: 0.019837720909235825\n",
      "Feature: Injury And Poisoning, Importance: 0.01944926367983121\n",
      "Feature: Supplementary Classification Of External Causes Of Injury And Poisoning, Importance: 0.018875074773709186\n",
      "Feature: Mental Disorders, Importance: 0.018671188560270082\n",
      "Feature: Diseases Of The Musculoskeletal System And Connective Tissue, Importance: 0.01586404461136979\n",
      "Feature: first_careunit_MICU, Importance: 0.015812923492247475\n",
      "Feature: admission_location_EMERGENCY ROOM ADMIT, Importance: 0.01549654809133805\n",
      "Feature: Diseases Of The Skin And Subcutaneous Tissue, Importance: 0.014230604864436268\n",
      "Feature: Diseases Of The Circulatory System, Importance: 0.013853287332084303\n",
      "Feature: ethnicity_WHITE, Importance: 0.01367329390733126\n",
      "Feature: ethnicity_OTHER/UNKNOWN, Importance: 0.012992457889938972\n",
      "Feature: admission_location_TRANSFER, Importance: 0.01255806586374886\n",
      "Feature: admission_location_CLINIC REFERRAL/PREMATURE, Importance: 0.011805589692960796\n",
      "Feature: first_careunit_SICU, Importance: 0.011559013332944925\n",
      "Feature: first_careunit_CCU, Importance: 0.010817461461902503\n",
      "Feature: first_careunit_TSICU, Importance: 0.009134044744864263\n",
      "Feature: admission_location_PHYS REFERRAL/NORMAL DELI, Importance: 0.008865965777715343\n",
      "Feature: first_careunit_CSRU, Importance: 0.007982629224179447\n",
      "Feature: ethnicity_BLACK, Importance: 0.007934411291513786\n",
      "Feature: admission_type_EMERGENCY, Importance: 0.007568191660988415\n",
      "Feature: Congenital Anomalies, Importance: 0.004754997592939175\n",
      "Feature: ethnicity_ASIAN, Importance: 0.00398672247159941\n",
      "Feature: ethnicity_HISPANIC/LATINO, Importance: 0.0039289234727575015\n",
      "Feature: admission_type_ELECTIVE, Importance: 0.003793993580429917\n",
      "Feature: first_careunit_NICU, Importance: 0.0017972894716915867\n",
      "Feature: first_careunit_nan, Importance: 0.0017815103474491374\n",
      "Feature: admission_type_NEWBORN, Importance: 0.001403753144802601\n",
      "Feature: Certain Conditions Originating In The Perinatal Period, Importance: 0.00114767110595269\n",
      "Feature: Complications Of Pregnancy Childbirth And The Puerperium, Importance: 0.0004619934652277621\n",
      "Feature: ethnicity_NATIVE AMERICAN, Importance: 0.0002416988014638636\n",
      "Feature: ethnicity_ISLANDER, Importance: 0.0002414303500209392\n",
      "Feature: ethnicity_MULTI RACE ETHNICITY, Importance: 0.000216076477534672\n",
      "Feature: admission_location_HMO REFERRAL/SICK, Importance: 0.00012847907065912102\n",
      "Feature: admission_location_OTHER, Importance: 7.15329332606482e-05\n"
     ]
    }
   ],
   "source": [
    "# Applying Feature Importance using Random Forest\n",
    "rf_importance, rf_accuracies = apply_feature_importance.get_feature_importance(df=df, classifier='rf')\n",
    "\n",
    "for feature, importance in rf_importance:\n",
    "    print(f\"Feature: {feature}, Importance: {importance}\")"
   ],
   "metadata": {
    "collapsed": false,
    "ExecuteTime": {
     "end_time": "2023-07-12T18:13:14.454227100Z",
     "start_time": "2023-07-12T18:13:06.731582700Z"
    }
   }
  },
  {
   "cell_type": "code",
   "execution_count": 6,
   "outputs": [
    {
     "name": "stdout",
     "output_type": "stream",
     "text": [
      "Accuracy: 0.9129510548971674\n",
      "Precision: 0.8581818181818182\n",
      "Recall: 0.23228346456692914\n",
      "F1 Score: 0.36560805577072036\n",
      "AUC-ROC: 0.613818229155672\n"
     ]
    }
   ],
   "source": [
    "for acc_type, value in rf_accuracies.items():\n",
    "    print(f\"{acc_type}: {value}\")"
   ],
   "metadata": {
    "collapsed": false,
    "ExecuteTime": {
     "end_time": "2023-07-12T18:13:14.532387Z",
     "start_time": "2023-07-12T18:13:14.454227100Z"
    }
   }
  },
  {
   "cell_type": "markdown",
   "source": [
    "### Feature Importance - XBoost Classifier"
   ],
   "metadata": {
    "collapsed": false
   }
  },
  {
   "cell_type": "code",
   "execution_count": 7,
   "outputs": [
    {
     "name": "stdout",
     "output_type": "stream",
     "text": [
      "Feature: admission_type_EMERGENCY, Importance: 0.20254257321357727\n",
      "Feature: Diseases Of The Respiratory System, Importance: 0.11470794677734375\n",
      "Feature: Infectious And Parasitic Diseases, Importance: 0.0537729486823082\n",
      "Feature: Neoplasms, Importance: 0.03196145221590996\n",
      "Feature: Diseases Of The Genitourinary System, Importance: 0.031357865780591965\n",
      "Feature: total_los, Importance: 0.028654171153903008\n",
      "Feature: first_careunit_CSRU, Importance: 0.02651909552514553\n",
      "Feature: Diseases Of The Circulatory System, Importance: 0.02471020258963108\n",
      "Feature: icu_los, Importance: 0.022448962554335594\n",
      "Feature: ethnicity_OTHER/UNKNOWN, Importance: 0.022287027910351753\n",
      "Feature: admission_location_PHYS REFERRAL/NORMAL DELI, Importance: 0.022205017507076263\n",
      "Feature: Injury And Poisoning, Importance: 0.020774589851498604\n",
      "Feature: Symptoms Signs And Ill-Defined Conditions, Importance: 0.020505912601947784\n",
      "Feature: Mental Disorders, Importance: 0.019846592098474503\n",
      "Feature: Supplementary Classification Of External Causes Of Injury And Poisoning, Importance: 0.01949068158864975\n",
      "Feature: first_careunit_TSICU, Importance: 0.019304852932691574\n",
      "Feature: first_careunit_SICU, Importance: 0.01922578550875187\n",
      "Feature: age_at_admission, Importance: 0.019133733585476875\n",
      "Feature: first_careunit_MICU, Importance: 0.01848543807864189\n",
      "Feature: Diseases Of The Digestive System, Importance: 0.017026644200086594\n",
      "Feature: admission_location_CLINIC REFERRAL/PREMATURE, Importance: 0.016647575423121452\n",
      "Feature: Diseases Of The Musculoskeletal System And Connective Tissue, Importance: 0.016541358083486557\n",
      "Feature: admission_location_EMERGENCY ROOM ADMIT, Importance: 0.016178030520677567\n",
      "Feature: first_careunit_CCU, Importance: 0.014777855947613716\n",
      "Feature: Diseases Of The Nervous System And Sense Organs, Importance: 0.014762353152036667\n",
      "Feature: Diseases Of The Blood And Blood-Forming Organs, Importance: 0.0137547692283988\n",
      "Feature: ethnicity_BLACK, Importance: 0.013616703450679779\n",
      "Feature: Diseases Of The Skin And Subcutaneous Tissue, Importance: 0.01286560483276844\n",
      "Feature: admission_location_TRANSFER, Importance: 0.01277153193950653\n",
      "Feature: Certain Conditions Originating In The Perinatal Period, Importance: 0.011923355981707573\n",
      "Feature: first_careunit_nan, Importance: 0.011737490072846413\n",
      "Feature: Endocrine Nutritional And Metabolic Diseases And Immunity Disorders, Importance: 0.011698191985487938\n",
      "Feature: admission_type_ELECTIVE, Importance: 0.011615353636443615\n",
      "Feature: ethnicity_ASIAN, Importance: 0.011146231554448605\n",
      "Feature: Supplementary Classification Of Factors Influencing Health Status And Contact With Health Services, Importance: 0.010676395148038864\n",
      "Feature: ethnicity_WHITE, Importance: 0.009796297177672386\n",
      "Feature: ethnicity_HISPANIC/LATINO, Importance: 0.008913923054933548\n",
      "Feature: gender, Importance: 0.00879301130771637\n",
      "Feature: Congenital Anomalies, Importance: 0.008610113523900509\n",
      "Feature: admission_type_NEWBORN, Importance: 0.006199282594025135\n",
      "Feature: ethnicity_MULTI RACE ETHNICITY, Importance: 0.0020130439661443233\n",
      "Feature: Complications Of Pregnancy Childbirth And The Puerperium, Importance: 0.0\n",
      "Feature: admission_location_HMO REFERRAL/SICK, Importance: 0.0\n",
      "Feature: admission_location_OTHER, Importance: 0.0\n",
      "Feature: ethnicity_ISLANDER, Importance: 0.0\n",
      "Feature: ethnicity_NATIVE AMERICAN, Importance: 0.0\n",
      "Feature: first_careunit_NICU, Importance: 0.0\n"
     ]
    }
   ],
   "source": [
    "xgb_importance, xgb_accuracies = apply_feature_importance.get_feature_importance(df=df, classifier='xgb')\n",
    "\n",
    "for feature, importance in xgb_importance:\n",
    "    print(f\"Feature: {feature}, Importance: {importance}\")"
   ],
   "metadata": {
    "collapsed": false,
    "ExecuteTime": {
     "end_time": "2023-07-12T18:13:17.525853600Z",
     "start_time": "2023-07-12T18:13:14.469869Z"
    }
   }
  },
  {
   "cell_type": "code",
   "execution_count": 8,
   "outputs": [
    {
     "name": "stdout",
     "output_type": "stream",
     "text": [
      "Accuracy: 0.9208694265823457\n",
      "Precision: 0.7448151487826871\n",
      "Recall: 0.406496062992126\n",
      "F1 Score: 0.5259471505889844\n",
      "AUC-ROC: 0.694817885532405\n"
     ]
    }
   ],
   "source": [
    "for acc_type, value in xgb_accuracies.items():\n",
    "    print(f\"{acc_type}: {value}\")"
   ],
   "metadata": {
    "collapsed": false,
    "ExecuteTime": {
     "end_time": "2023-07-12T18:13:17.588352200Z",
     "start_time": "2023-07-12T18:13:17.525853600Z"
    }
   }
  },
  {
   "cell_type": "markdown",
   "source": [
    "### Feature Importance - SelectKBest"
   ],
   "metadata": {
    "collapsed": false
   }
  },
  {
   "cell_type": "code",
   "execution_count": 9,
   "outputs": [],
   "source": [
    "from sklearn.model_selection import train_test_split\n",
    "X = df.drop(columns=['hospital_expire_flag'])\n",
    "y = df['hospital_expire_flag']\n",
    "X_train, X_test, y_train, y_test = train_test_split(X, y, test_size=0.3, random_state=42)"
   ],
   "metadata": {
    "collapsed": false,
    "ExecuteTime": {
     "end_time": "2023-07-12T18:13:17.619628300Z",
     "start_time": "2023-07-12T18:13:17.541480800Z"
    }
   }
  },
  {
   "cell_type": "code",
   "execution_count": 10,
   "outputs": [
    {
     "ename": "ValueError",
     "evalue": "Input X must be non-negative.",
     "output_type": "error",
     "traceback": [
      "\u001B[1;31m---------------------------------------------------------------------------\u001B[0m",
      "\u001B[1;31mValueError\u001B[0m                                Traceback (most recent call last)",
      "Cell \u001B[1;32mIn[10], line 6\u001B[0m\n\u001B[0;32m      2\u001B[0m \u001B[38;5;28;01mfrom\u001B[39;00m \u001B[38;5;21;01msklearn\u001B[39;00m\u001B[38;5;21;01m.\u001B[39;00m\u001B[38;5;21;01mfeature_selection\u001B[39;00m \u001B[38;5;28;01mimport\u001B[39;00m chi2\n\u001B[0;32m      4\u001B[0m kbest \u001B[38;5;241m=\u001B[39m SelectKBest(score_func\u001B[38;5;241m=\u001B[39mchi2, k\u001B[38;5;241m=\u001B[39m\u001B[38;5;241m10\u001B[39m)\n\u001B[1;32m----> 6\u001B[0m fit \u001B[38;5;241m=\u001B[39m \u001B[43mkbest\u001B[49m\u001B[38;5;241;43m.\u001B[39;49m\u001B[43mfit\u001B[49m\u001B[43m(\u001B[49m\u001B[43mX\u001B[49m\u001B[43m,\u001B[49m\u001B[43m \u001B[49m\u001B[43my\u001B[49m\u001B[43m)\u001B[49m\n\u001B[0;32m      8\u001B[0m \u001B[38;5;66;03m# Get the scores associated with each feature\u001B[39;00m\n\u001B[0;32m      9\u001B[0m np\u001B[38;5;241m.\u001B[39mset_printoptions(precision\u001B[38;5;241m=\u001B[39m\u001B[38;5;241m3\u001B[39m)\n",
      "File \u001B[1;32m~\\anaconda3\\lib\\site-packages\\sklearn\\feature_selection\\_univariate_selection.py:472\u001B[0m, in \u001B[0;36m_BaseFilter.fit\u001B[1;34m(self, X, y)\u001B[0m\n\u001B[0;32m    467\u001B[0m X, y \u001B[38;5;241m=\u001B[39m \u001B[38;5;28mself\u001B[39m\u001B[38;5;241m.\u001B[39m_validate_data(\n\u001B[0;32m    468\u001B[0m     X, y, accept_sparse\u001B[38;5;241m=\u001B[39m[\u001B[38;5;124m\"\u001B[39m\u001B[38;5;124mcsr\u001B[39m\u001B[38;5;124m\"\u001B[39m, \u001B[38;5;124m\"\u001B[39m\u001B[38;5;124mcsc\u001B[39m\u001B[38;5;124m\"\u001B[39m], multi_output\u001B[38;5;241m=\u001B[39m\u001B[38;5;28;01mTrue\u001B[39;00m\n\u001B[0;32m    469\u001B[0m )\n\u001B[0;32m    471\u001B[0m \u001B[38;5;28mself\u001B[39m\u001B[38;5;241m.\u001B[39m_check_params(X, y)\n\u001B[1;32m--> 472\u001B[0m score_func_ret \u001B[38;5;241m=\u001B[39m \u001B[38;5;28;43mself\u001B[39;49m\u001B[38;5;241;43m.\u001B[39;49m\u001B[43mscore_func\u001B[49m\u001B[43m(\u001B[49m\u001B[43mX\u001B[49m\u001B[43m,\u001B[49m\u001B[43m \u001B[49m\u001B[43my\u001B[49m\u001B[43m)\u001B[49m\n\u001B[0;32m    473\u001B[0m \u001B[38;5;28;01mif\u001B[39;00m \u001B[38;5;28misinstance\u001B[39m(score_func_ret, (\u001B[38;5;28mlist\u001B[39m, \u001B[38;5;28mtuple\u001B[39m)):\n\u001B[0;32m    474\u001B[0m     \u001B[38;5;28mself\u001B[39m\u001B[38;5;241m.\u001B[39mscores_, \u001B[38;5;28mself\u001B[39m\u001B[38;5;241m.\u001B[39mpvalues_ \u001B[38;5;241m=\u001B[39m score_func_ret\n",
      "File \u001B[1;32m~\\anaconda3\\lib\\site-packages\\sklearn\\feature_selection\\_univariate_selection.py:217\u001B[0m, in \u001B[0;36mchi2\u001B[1;34m(X, y)\u001B[0m\n\u001B[0;32m    215\u001B[0m X \u001B[38;5;241m=\u001B[39m check_array(X, accept_sparse\u001B[38;5;241m=\u001B[39m\u001B[38;5;124m\"\u001B[39m\u001B[38;5;124mcsr\u001B[39m\u001B[38;5;124m\"\u001B[39m, dtype\u001B[38;5;241m=\u001B[39m(np\u001B[38;5;241m.\u001B[39mfloat64, np\u001B[38;5;241m.\u001B[39mfloat32))\n\u001B[0;32m    216\u001B[0m \u001B[38;5;28;01mif\u001B[39;00m np\u001B[38;5;241m.\u001B[39many((X\u001B[38;5;241m.\u001B[39mdata \u001B[38;5;28;01mif\u001B[39;00m issparse(X) \u001B[38;5;28;01melse\u001B[39;00m X) \u001B[38;5;241m<\u001B[39m \u001B[38;5;241m0\u001B[39m):\n\u001B[1;32m--> 217\u001B[0m     \u001B[38;5;28;01mraise\u001B[39;00m \u001B[38;5;167;01mValueError\u001B[39;00m(\u001B[38;5;124m\"\u001B[39m\u001B[38;5;124mInput X must be non-negative.\u001B[39m\u001B[38;5;124m\"\u001B[39m)\n\u001B[0;32m    219\u001B[0m \u001B[38;5;66;03m# Use a sparse representation for Y by default to reduce memory usage when\u001B[39;00m\n\u001B[0;32m    220\u001B[0m \u001B[38;5;66;03m# y has many unique classes.\u001B[39;00m\n\u001B[0;32m    221\u001B[0m Y \u001B[38;5;241m=\u001B[39m LabelBinarizer(sparse_output\u001B[38;5;241m=\u001B[39m\u001B[38;5;28;01mTrue\u001B[39;00m)\u001B[38;5;241m.\u001B[39mfit_transform(y)\n",
      "\u001B[1;31mValueError\u001B[0m: Input X must be non-negative."
     ]
    }
   ],
   "source": [
    "# from sklearn.feature_selection import SelectKBest\n",
    "# from sklearn.feature_selection import chi2\n",
    "#\n",
    "# kbest = SelectKBest(score_func=chi2, k=10)\n",
    "#\n",
    "# fit = kbest.fit(X, y)\n",
    "#\n",
    "# # Get the scores associated with each feature\n",
    "# np.set_printoptions(precision=3)\n",
    "# print(fit.scores_)\n",
    "#\n",
    "# X_new = fit.transform(X)\n",
    "#\n",
    "# mask = kbest.get_support()\n",
    "# new_features = [] # The list of the K best features\n",
    "#\n",
    "# for bool, feature in zip(mask, X.columns):\n",
    "#     if bool:\n",
    "#         new_features.append(feature)\n",
    "# print(new_features)"
   ],
   "metadata": {
    "collapsed": false,
    "ExecuteTime": {
     "end_time": "2023-07-12T18:13:18.537391100Z",
     "start_time": "2023-07-12T18:13:17.619628300Z"
    }
   }
  }
 ],
 "metadata": {
  "kernelspec": {
   "display_name": "Python 3",
   "language": "python",
   "name": "python3"
  },
  "language_info": {
   "codemirror_mode": {
    "name": "ipython",
    "version": 2
   },
   "file_extension": ".py",
   "mimetype": "text/x-python",
   "name": "python",
   "nbconvert_exporter": "python",
   "pygments_lexer": "ipython2",
   "version": "2.7.6"
  }
 },
 "nbformat": 4,
 "nbformat_minor": 0
}
